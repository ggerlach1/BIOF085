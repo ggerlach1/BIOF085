{
 "cells": [
  {
   "cell_type": "markdown",
   "metadata": {
    "id": "O0VH2oGD7iuN"
   },
   "source": [
    "# Pandas\n",
    "\n",
    "## Introduction\n",
    "\n",
    "`pandas` is the Python Data Analysis package. It allows for data ingestion, transformation and cleaning, and creates objects that can then be passed on to analytic packages like `statsmodels` and `scikit-learn` for modeling and packages like `matplotlib`, `seaborn`, and `plotly` for visualization. \n",
    "\n",
    "`pandas` is built on top of numpy, so many numpy functions are commonly used in manipulating `pandas` objects. \n",
    "\n",
    "> `pandas` is a pretty extensive package, and we'll only be able to cover some of its features. For more details, there is free online documentation at [pandas.pydata.org](https://pandas.pydata.org). You can also look at the book [\"Python for Data Analysis (2nd edition)\"](https://www.amazon.com/Python-Data-Analysis-Wrangling-IPython-dp-1491957662/dp/1491957662/) by Wes McKinney, the original developer of the pandas package, for more details.\n",
    "\n",
    "## Starting pandas\n",
    "\n",
    "As with any Python module, you have to \"activate\" `pandas` by using `import`. The \"standard\" alias for `pandas` is `pd`. We will also import `numpy`, since `pandas` uses some `numpy` functions in the workflows. "
   ]
  },
  {
   "cell_type": "code",
   "execution_count": 1,
   "metadata": {
    "executionInfo": {
     "elapsed": 384,
     "status": "ok",
     "timestamp": 1607189378172,
     "user": {
      "displayName": "Gaby Gerlach",
      "photoUrl": "",
      "userId": "11117434220237101401"
     },
     "user_tz": 300
    },
    "id": "n7x8jkM07iuN",
    "lines_to_next_cell": 0,
    "name": "02-python-pandas-2"
   },
   "outputs": [],
   "source": [
    "import numpy as np\n",
    "import pandas as pd"
   ]
  },
  {
   "cell_type": "markdown",
   "metadata": {
    "id": "MD6c1ATU7iuN"
   },
   "source": [
    "## Data import and export\n",
    "\n",
    "Most data sets you will work with are set up in tables, so are rectangular in shape. Think Excel spreadsheets. In `pandas` the structure that will hold this kind of data is a `DataFrame`.  We can read external data into a `DataFrame` using one of many `read_*` functions. We can also write from a `DataFrame` to a variety of formats using `to_*` functions. The most common of these are listed below:\n",
    "\n",
    "| Format type | Description | reader       | writer     |\n",
    "| ----------- | ----------- | ------------ | ---------- |\n",
    "| text        | CSV         | read_csv     | to_csv     |\n",
    "|             | Excel       | read_excel   | to_excel   |\n",
    "| text        | JSON        | read_json    | to_json    |\n",
    "| binary      | Feather     | read_feather | to_feather |\n",
    "| binary      | SAS         | read_sas     |            |\n",
    "| SQL         | SQL         | read_sql     | to_sql     |\n",
    "\n",
    "We'll start by reading in the `mtcars` dataset stored as a CSV file"
   ]
  },
  {
   "cell_type": "markdown",
   "metadata": {
    "id": "15GLb5vs9ovT"
   },
   "source": [
    "**Note:** You will need to have the data located in a file system that is exactly the same as mine for this to work. The `!ls`, which means list, line located bellow can be used to understand where you are located and navigate through your file system to get to where the directory called `data` is located.\n"
   ]
  },
  {
   "cell_type": "code",
   "execution_count": 5,
   "metadata": {},
   "outputs": [
    {
     "name": "stdout",
     "output_type": "stream",
     "text": [
      "00_python_primer.Rmd               08_genomics_project.ipynb\r\n",
      "00_python_primer.ipynb             08_genomics_project_filledin.ipynb\r\n",
      "01_python_tools_ds.Rmd             LICENSE\r\n",
      "01_python_tools_ds.ipynb           README.md\r\n",
      "02_python_pandas.ipynb             \u001b[36mdata\u001b[m\u001b[m\r\n",
      "03_python_vis.ipynb                \u001b[36mdocs\u001b[m\u001b[m\r\n",
      "04_python_stat.ipynb               \u001b[36mgraphs\u001b[m\u001b[m\r\n",
      "05_practice_stats_filled.ipynb     \u001b[36mhomeworks\u001b[m\u001b[m\r\n",
      "05_stats_python_practice.ipynb     \u001b[36mlive_coding\u001b[m\u001b[m\r\n",
      "06_python_learning.ipynb           temporary.csv\r\n",
      "07_python_appl.ipynb               \u001b[36mworkshop_documents\u001b[m\u001b[m\r\n"
     ]
    }
   ],
   "source": [
    "!ls"
   ]
  },
  {
   "cell_type": "code",
   "execution_count": 6,
   "metadata": {
    "colab": {
     "base_uri": "https://localhost:8080/",
     "height": 1000
    },
    "executionInfo": {
     "elapsed": 827,
     "status": "ok",
     "timestamp": 1607189496137,
     "user": {
      "displayName": "Gaby Gerlach",
      "photoUrl": "",
      "userId": "11117434220237101401"
     },
     "user_tz": 300
    },
    "id": "-reSuxZD7iuN",
    "name": "02-python-pandas-3",
    "outputId": "a80e301c-87a5-459a-8375-ed7173bd050e"
   },
   "outputs": [
    {
     "data": {
      "text/html": [
       "<div>\n",
       "<style scoped>\n",
       "    .dataframe tbody tr th:only-of-type {\n",
       "        vertical-align: middle;\n",
       "    }\n",
       "\n",
       "    .dataframe tbody tr th {\n",
       "        vertical-align: top;\n",
       "    }\n",
       "\n",
       "    .dataframe thead th {\n",
       "        text-align: right;\n",
       "    }\n",
       "</style>\n",
       "<table border=\"1\" class=\"dataframe\">\n",
       "  <thead>\n",
       "    <tr style=\"text-align: right;\">\n",
       "      <th></th>\n",
       "      <th>make</th>\n",
       "      <th>mpg</th>\n",
       "      <th>cyl</th>\n",
       "      <th>disp</th>\n",
       "      <th>hp</th>\n",
       "      <th>drat</th>\n",
       "      <th>wt</th>\n",
       "      <th>qsec</th>\n",
       "      <th>vs</th>\n",
       "      <th>am</th>\n",
       "      <th>gear</th>\n",
       "      <th>carb</th>\n",
       "    </tr>\n",
       "  </thead>\n",
       "  <tbody>\n",
       "    <tr>\n",
       "      <th>0</th>\n",
       "      <td>Mazda RX4</td>\n",
       "      <td>21.0</td>\n",
       "      <td>6</td>\n",
       "      <td>160.0</td>\n",
       "      <td>110</td>\n",
       "      <td>3.90</td>\n",
       "      <td>2.620</td>\n",
       "      <td>16.46</td>\n",
       "      <td>0</td>\n",
       "      <td>1</td>\n",
       "      <td>4</td>\n",
       "      <td>4</td>\n",
       "    </tr>\n",
       "    <tr>\n",
       "      <th>1</th>\n",
       "      <td>Mazda RX4 Wag</td>\n",
       "      <td>21.0</td>\n",
       "      <td>6</td>\n",
       "      <td>160.0</td>\n",
       "      <td>110</td>\n",
       "      <td>3.90</td>\n",
       "      <td>2.875</td>\n",
       "      <td>17.02</td>\n",
       "      <td>0</td>\n",
       "      <td>1</td>\n",
       "      <td>4</td>\n",
       "      <td>4</td>\n",
       "    </tr>\n",
       "    <tr>\n",
       "      <th>2</th>\n",
       "      <td>Datsun 710</td>\n",
       "      <td>22.8</td>\n",
       "      <td>4</td>\n",
       "      <td>108.0</td>\n",
       "      <td>93</td>\n",
       "      <td>3.85</td>\n",
       "      <td>2.320</td>\n",
       "      <td>18.61</td>\n",
       "      <td>1</td>\n",
       "      <td>1</td>\n",
       "      <td>4</td>\n",
       "      <td>1</td>\n",
       "    </tr>\n",
       "    <tr>\n",
       "      <th>3</th>\n",
       "      <td>Hornet 4 Drive</td>\n",
       "      <td>21.4</td>\n",
       "      <td>6</td>\n",
       "      <td>258.0</td>\n",
       "      <td>110</td>\n",
       "      <td>3.08</td>\n",
       "      <td>3.215</td>\n",
       "      <td>19.44</td>\n",
       "      <td>1</td>\n",
       "      <td>0</td>\n",
       "      <td>3</td>\n",
       "      <td>1</td>\n",
       "    </tr>\n",
       "    <tr>\n",
       "      <th>4</th>\n",
       "      <td>Hornet Sportabout</td>\n",
       "      <td>18.7</td>\n",
       "      <td>8</td>\n",
       "      <td>360.0</td>\n",
       "      <td>175</td>\n",
       "      <td>3.15</td>\n",
       "      <td>3.440</td>\n",
       "      <td>17.02</td>\n",
       "      <td>0</td>\n",
       "      <td>0</td>\n",
       "      <td>3</td>\n",
       "      <td>2</td>\n",
       "    </tr>\n",
       "    <tr>\n",
       "      <th>5</th>\n",
       "      <td>Valiant</td>\n",
       "      <td>18.1</td>\n",
       "      <td>6</td>\n",
       "      <td>225.0</td>\n",
       "      <td>105</td>\n",
       "      <td>2.76</td>\n",
       "      <td>3.460</td>\n",
       "      <td>20.22</td>\n",
       "      <td>1</td>\n",
       "      <td>0</td>\n",
       "      <td>3</td>\n",
       "      <td>1</td>\n",
       "    </tr>\n",
       "    <tr>\n",
       "      <th>6</th>\n",
       "      <td>Duster 360</td>\n",
       "      <td>14.3</td>\n",
       "      <td>8</td>\n",
       "      <td>360.0</td>\n",
       "      <td>245</td>\n",
       "      <td>3.21</td>\n",
       "      <td>3.570</td>\n",
       "      <td>15.84</td>\n",
       "      <td>0</td>\n",
       "      <td>0</td>\n",
       "      <td>3</td>\n",
       "      <td>4</td>\n",
       "    </tr>\n",
       "    <tr>\n",
       "      <th>7</th>\n",
       "      <td>Merc 240D</td>\n",
       "      <td>24.4</td>\n",
       "      <td>4</td>\n",
       "      <td>146.7</td>\n",
       "      <td>62</td>\n",
       "      <td>3.69</td>\n",
       "      <td>3.190</td>\n",
       "      <td>20.00</td>\n",
       "      <td>1</td>\n",
       "      <td>0</td>\n",
       "      <td>4</td>\n",
       "      <td>2</td>\n",
       "    </tr>\n",
       "    <tr>\n",
       "      <th>8</th>\n",
       "      <td>Merc 230</td>\n",
       "      <td>22.8</td>\n",
       "      <td>4</td>\n",
       "      <td>140.8</td>\n",
       "      <td>95</td>\n",
       "      <td>3.92</td>\n",
       "      <td>3.150</td>\n",
       "      <td>22.90</td>\n",
       "      <td>1</td>\n",
       "      <td>0</td>\n",
       "      <td>4</td>\n",
       "      <td>2</td>\n",
       "    </tr>\n",
       "    <tr>\n",
       "      <th>9</th>\n",
       "      <td>Merc 280</td>\n",
       "      <td>19.2</td>\n",
       "      <td>6</td>\n",
       "      <td>167.6</td>\n",
       "      <td>123</td>\n",
       "      <td>3.92</td>\n",
       "      <td>3.440</td>\n",
       "      <td>18.30</td>\n",
       "      <td>1</td>\n",
       "      <td>0</td>\n",
       "      <td>4</td>\n",
       "      <td>4</td>\n",
       "    </tr>\n",
       "    <tr>\n",
       "      <th>10</th>\n",
       "      <td>Merc 280C</td>\n",
       "      <td>17.8</td>\n",
       "      <td>6</td>\n",
       "      <td>167.6</td>\n",
       "      <td>123</td>\n",
       "      <td>3.92</td>\n",
       "      <td>3.440</td>\n",
       "      <td>18.90</td>\n",
       "      <td>1</td>\n",
       "      <td>0</td>\n",
       "      <td>4</td>\n",
       "      <td>4</td>\n",
       "    </tr>\n",
       "    <tr>\n",
       "      <th>11</th>\n",
       "      <td>Merc 450SE</td>\n",
       "      <td>16.4</td>\n",
       "      <td>8</td>\n",
       "      <td>275.8</td>\n",
       "      <td>180</td>\n",
       "      <td>3.07</td>\n",
       "      <td>4.070</td>\n",
       "      <td>17.40</td>\n",
       "      <td>0</td>\n",
       "      <td>0</td>\n",
       "      <td>3</td>\n",
       "      <td>3</td>\n",
       "    </tr>\n",
       "    <tr>\n",
       "      <th>12</th>\n",
       "      <td>Merc 450SL</td>\n",
       "      <td>17.3</td>\n",
       "      <td>8</td>\n",
       "      <td>275.8</td>\n",
       "      <td>180</td>\n",
       "      <td>3.07</td>\n",
       "      <td>3.730</td>\n",
       "      <td>17.60</td>\n",
       "      <td>0</td>\n",
       "      <td>0</td>\n",
       "      <td>3</td>\n",
       "      <td>3</td>\n",
       "    </tr>\n",
       "    <tr>\n",
       "      <th>13</th>\n",
       "      <td>Merc 450SLC</td>\n",
       "      <td>15.2</td>\n",
       "      <td>8</td>\n",
       "      <td>275.8</td>\n",
       "      <td>180</td>\n",
       "      <td>3.07</td>\n",
       "      <td>3.780</td>\n",
       "      <td>18.00</td>\n",
       "      <td>0</td>\n",
       "      <td>0</td>\n",
       "      <td>3</td>\n",
       "      <td>3</td>\n",
       "    </tr>\n",
       "    <tr>\n",
       "      <th>14</th>\n",
       "      <td>Cadillac Fleetwood</td>\n",
       "      <td>10.4</td>\n",
       "      <td>8</td>\n",
       "      <td>472.0</td>\n",
       "      <td>205</td>\n",
       "      <td>2.93</td>\n",
       "      <td>5.250</td>\n",
       "      <td>17.98</td>\n",
       "      <td>0</td>\n",
       "      <td>0</td>\n",
       "      <td>3</td>\n",
       "      <td>4</td>\n",
       "    </tr>\n",
       "    <tr>\n",
       "      <th>15</th>\n",
       "      <td>Lincoln Continental</td>\n",
       "      <td>10.4</td>\n",
       "      <td>8</td>\n",
       "      <td>460.0</td>\n",
       "      <td>215</td>\n",
       "      <td>3.00</td>\n",
       "      <td>5.424</td>\n",
       "      <td>17.82</td>\n",
       "      <td>0</td>\n",
       "      <td>0</td>\n",
       "      <td>3</td>\n",
       "      <td>4</td>\n",
       "    </tr>\n",
       "    <tr>\n",
       "      <th>16</th>\n",
       "      <td>Chrysler Imperial</td>\n",
       "      <td>14.7</td>\n",
       "      <td>8</td>\n",
       "      <td>440.0</td>\n",
       "      <td>230</td>\n",
       "      <td>3.23</td>\n",
       "      <td>5.345</td>\n",
       "      <td>17.42</td>\n",
       "      <td>0</td>\n",
       "      <td>0</td>\n",
       "      <td>3</td>\n",
       "      <td>4</td>\n",
       "    </tr>\n",
       "    <tr>\n",
       "      <th>17</th>\n",
       "      <td>Fiat 128</td>\n",
       "      <td>32.4</td>\n",
       "      <td>4</td>\n",
       "      <td>78.7</td>\n",
       "      <td>66</td>\n",
       "      <td>4.08</td>\n",
       "      <td>2.200</td>\n",
       "      <td>19.47</td>\n",
       "      <td>1</td>\n",
       "      <td>1</td>\n",
       "      <td>4</td>\n",
       "      <td>1</td>\n",
       "    </tr>\n",
       "    <tr>\n",
       "      <th>18</th>\n",
       "      <td>Honda Civic</td>\n",
       "      <td>30.4</td>\n",
       "      <td>4</td>\n",
       "      <td>75.7</td>\n",
       "      <td>52</td>\n",
       "      <td>4.93</td>\n",
       "      <td>1.615</td>\n",
       "      <td>18.52</td>\n",
       "      <td>1</td>\n",
       "      <td>1</td>\n",
       "      <td>4</td>\n",
       "      <td>2</td>\n",
       "    </tr>\n",
       "    <tr>\n",
       "      <th>19</th>\n",
       "      <td>Toyota Corolla</td>\n",
       "      <td>33.9</td>\n",
       "      <td>4</td>\n",
       "      <td>71.1</td>\n",
       "      <td>65</td>\n",
       "      <td>4.22</td>\n",
       "      <td>1.835</td>\n",
       "      <td>19.90</td>\n",
       "      <td>1</td>\n",
       "      <td>1</td>\n",
       "      <td>4</td>\n",
       "      <td>1</td>\n",
       "    </tr>\n",
       "    <tr>\n",
       "      <th>20</th>\n",
       "      <td>Toyota Corona</td>\n",
       "      <td>21.5</td>\n",
       "      <td>4</td>\n",
       "      <td>120.1</td>\n",
       "      <td>97</td>\n",
       "      <td>3.70</td>\n",
       "      <td>2.465</td>\n",
       "      <td>20.01</td>\n",
       "      <td>1</td>\n",
       "      <td>0</td>\n",
       "      <td>3</td>\n",
       "      <td>1</td>\n",
       "    </tr>\n",
       "    <tr>\n",
       "      <th>21</th>\n",
       "      <td>Dodge Challenger</td>\n",
       "      <td>15.5</td>\n",
       "      <td>8</td>\n",
       "      <td>318.0</td>\n",
       "      <td>150</td>\n",
       "      <td>2.76</td>\n",
       "      <td>3.520</td>\n",
       "      <td>16.87</td>\n",
       "      <td>0</td>\n",
       "      <td>0</td>\n",
       "      <td>3</td>\n",
       "      <td>2</td>\n",
       "    </tr>\n",
       "    <tr>\n",
       "      <th>22</th>\n",
       "      <td>AMC Javelin</td>\n",
       "      <td>15.2</td>\n",
       "      <td>8</td>\n",
       "      <td>304.0</td>\n",
       "      <td>150</td>\n",
       "      <td>3.15</td>\n",
       "      <td>3.435</td>\n",
       "      <td>17.30</td>\n",
       "      <td>0</td>\n",
       "      <td>0</td>\n",
       "      <td>3</td>\n",
       "      <td>2</td>\n",
       "    </tr>\n",
       "    <tr>\n",
       "      <th>23</th>\n",
       "      <td>Camaro Z28</td>\n",
       "      <td>13.3</td>\n",
       "      <td>8</td>\n",
       "      <td>350.0</td>\n",
       "      <td>245</td>\n",
       "      <td>3.73</td>\n",
       "      <td>3.840</td>\n",
       "      <td>15.41</td>\n",
       "      <td>0</td>\n",
       "      <td>0</td>\n",
       "      <td>3</td>\n",
       "      <td>4</td>\n",
       "    </tr>\n",
       "    <tr>\n",
       "      <th>24</th>\n",
       "      <td>Pontiac Firebird</td>\n",
       "      <td>19.2</td>\n",
       "      <td>8</td>\n",
       "      <td>400.0</td>\n",
       "      <td>175</td>\n",
       "      <td>3.08</td>\n",
       "      <td>3.845</td>\n",
       "      <td>17.05</td>\n",
       "      <td>0</td>\n",
       "      <td>0</td>\n",
       "      <td>3</td>\n",
       "      <td>2</td>\n",
       "    </tr>\n",
       "    <tr>\n",
       "      <th>25</th>\n",
       "      <td>Fiat X1-9</td>\n",
       "      <td>27.3</td>\n",
       "      <td>4</td>\n",
       "      <td>79.0</td>\n",
       "      <td>66</td>\n",
       "      <td>4.08</td>\n",
       "      <td>1.935</td>\n",
       "      <td>18.90</td>\n",
       "      <td>1</td>\n",
       "      <td>1</td>\n",
       "      <td>4</td>\n",
       "      <td>1</td>\n",
       "    </tr>\n",
       "    <tr>\n",
       "      <th>26</th>\n",
       "      <td>Porsche 914-2</td>\n",
       "      <td>26.0</td>\n",
       "      <td>4</td>\n",
       "      <td>120.3</td>\n",
       "      <td>91</td>\n",
       "      <td>4.43</td>\n",
       "      <td>2.140</td>\n",
       "      <td>16.70</td>\n",
       "      <td>0</td>\n",
       "      <td>1</td>\n",
       "      <td>5</td>\n",
       "      <td>2</td>\n",
       "    </tr>\n",
       "    <tr>\n",
       "      <th>27</th>\n",
       "      <td>Lotus Europa</td>\n",
       "      <td>30.4</td>\n",
       "      <td>4</td>\n",
       "      <td>95.1</td>\n",
       "      <td>113</td>\n",
       "      <td>3.77</td>\n",
       "      <td>1.513</td>\n",
       "      <td>16.90</td>\n",
       "      <td>1</td>\n",
       "      <td>1</td>\n",
       "      <td>5</td>\n",
       "      <td>2</td>\n",
       "    </tr>\n",
       "    <tr>\n",
       "      <th>28</th>\n",
       "      <td>Ford Pantera L</td>\n",
       "      <td>15.8</td>\n",
       "      <td>8</td>\n",
       "      <td>351.0</td>\n",
       "      <td>264</td>\n",
       "      <td>4.22</td>\n",
       "      <td>3.170</td>\n",
       "      <td>14.50</td>\n",
       "      <td>0</td>\n",
       "      <td>1</td>\n",
       "      <td>5</td>\n",
       "      <td>4</td>\n",
       "    </tr>\n",
       "    <tr>\n",
       "      <th>29</th>\n",
       "      <td>Ferrari Dino</td>\n",
       "      <td>19.7</td>\n",
       "      <td>6</td>\n",
       "      <td>145.0</td>\n",
       "      <td>175</td>\n",
       "      <td>3.62</td>\n",
       "      <td>2.770</td>\n",
       "      <td>15.50</td>\n",
       "      <td>0</td>\n",
       "      <td>1</td>\n",
       "      <td>5</td>\n",
       "      <td>6</td>\n",
       "    </tr>\n",
       "    <tr>\n",
       "      <th>30</th>\n",
       "      <td>Maserati Bora</td>\n",
       "      <td>15.0</td>\n",
       "      <td>8</td>\n",
       "      <td>301.0</td>\n",
       "      <td>335</td>\n",
       "      <td>3.54</td>\n",
       "      <td>3.570</td>\n",
       "      <td>14.60</td>\n",
       "      <td>0</td>\n",
       "      <td>1</td>\n",
       "      <td>5</td>\n",
       "      <td>8</td>\n",
       "    </tr>\n",
       "    <tr>\n",
       "      <th>31</th>\n",
       "      <td>Volvo 142E</td>\n",
       "      <td>21.4</td>\n",
       "      <td>4</td>\n",
       "      <td>121.0</td>\n",
       "      <td>109</td>\n",
       "      <td>4.11</td>\n",
       "      <td>2.780</td>\n",
       "      <td>18.60</td>\n",
       "      <td>1</td>\n",
       "      <td>1</td>\n",
       "      <td>4</td>\n",
       "      <td>2</td>\n",
       "    </tr>\n",
       "  </tbody>\n",
       "</table>\n",
       "</div>"
      ],
      "text/plain": [
       "                   make   mpg  cyl   disp   hp  drat     wt   qsec  vs  am  \\\n",
       "0             Mazda RX4  21.0    6  160.0  110  3.90  2.620  16.46   0   1   \n",
       "1         Mazda RX4 Wag  21.0    6  160.0  110  3.90  2.875  17.02   0   1   \n",
       "2            Datsun 710  22.8    4  108.0   93  3.85  2.320  18.61   1   1   \n",
       "3        Hornet 4 Drive  21.4    6  258.0  110  3.08  3.215  19.44   1   0   \n",
       "4     Hornet Sportabout  18.7    8  360.0  175  3.15  3.440  17.02   0   0   \n",
       "5               Valiant  18.1    6  225.0  105  2.76  3.460  20.22   1   0   \n",
       "6            Duster 360  14.3    8  360.0  245  3.21  3.570  15.84   0   0   \n",
       "7             Merc 240D  24.4    4  146.7   62  3.69  3.190  20.00   1   0   \n",
       "8              Merc 230  22.8    4  140.8   95  3.92  3.150  22.90   1   0   \n",
       "9              Merc 280  19.2    6  167.6  123  3.92  3.440  18.30   1   0   \n",
       "10            Merc 280C  17.8    6  167.6  123  3.92  3.440  18.90   1   0   \n",
       "11           Merc 450SE  16.4    8  275.8  180  3.07  4.070  17.40   0   0   \n",
       "12           Merc 450SL  17.3    8  275.8  180  3.07  3.730  17.60   0   0   \n",
       "13          Merc 450SLC  15.2    8  275.8  180  3.07  3.780  18.00   0   0   \n",
       "14   Cadillac Fleetwood  10.4    8  472.0  205  2.93  5.250  17.98   0   0   \n",
       "15  Lincoln Continental  10.4    8  460.0  215  3.00  5.424  17.82   0   0   \n",
       "16    Chrysler Imperial  14.7    8  440.0  230  3.23  5.345  17.42   0   0   \n",
       "17             Fiat 128  32.4    4   78.7   66  4.08  2.200  19.47   1   1   \n",
       "18          Honda Civic  30.4    4   75.7   52  4.93  1.615  18.52   1   1   \n",
       "19       Toyota Corolla  33.9    4   71.1   65  4.22  1.835  19.90   1   1   \n",
       "20        Toyota Corona  21.5    4  120.1   97  3.70  2.465  20.01   1   0   \n",
       "21     Dodge Challenger  15.5    8  318.0  150  2.76  3.520  16.87   0   0   \n",
       "22          AMC Javelin  15.2    8  304.0  150  3.15  3.435  17.30   0   0   \n",
       "23           Camaro Z28  13.3    8  350.0  245  3.73  3.840  15.41   0   0   \n",
       "24     Pontiac Firebird  19.2    8  400.0  175  3.08  3.845  17.05   0   0   \n",
       "25            Fiat X1-9  27.3    4   79.0   66  4.08  1.935  18.90   1   1   \n",
       "26        Porsche 914-2  26.0    4  120.3   91  4.43  2.140  16.70   0   1   \n",
       "27         Lotus Europa  30.4    4   95.1  113  3.77  1.513  16.90   1   1   \n",
       "28       Ford Pantera L  15.8    8  351.0  264  4.22  3.170  14.50   0   1   \n",
       "29         Ferrari Dino  19.7    6  145.0  175  3.62  2.770  15.50   0   1   \n",
       "30        Maserati Bora  15.0    8  301.0  335  3.54  3.570  14.60   0   1   \n",
       "31           Volvo 142E  21.4    4  121.0  109  4.11  2.780  18.60   1   1   \n",
       "\n",
       "    gear  carb  \n",
       "0      4     4  \n",
       "1      4     4  \n",
       "2      4     1  \n",
       "3      3     1  \n",
       "4      3     2  \n",
       "5      3     1  \n",
       "6      3     4  \n",
       "7      4     2  \n",
       "8      4     2  \n",
       "9      4     4  \n",
       "10     4     4  \n",
       "11     3     3  \n",
       "12     3     3  \n",
       "13     3     3  \n",
       "14     3     4  \n",
       "15     3     4  \n",
       "16     3     4  \n",
       "17     4     1  \n",
       "18     4     2  \n",
       "19     4     1  \n",
       "20     3     1  \n",
       "21     3     2  \n",
       "22     3     2  \n",
       "23     3     4  \n",
       "24     3     2  \n",
       "25     4     1  \n",
       "26     5     2  \n",
       "27     5     2  \n",
       "28     5     4  \n",
       "29     5     6  \n",
       "30     5     8  \n",
       "31     4     2  "
      ]
     },
     "execution_count": 6,
     "metadata": {},
     "output_type": "execute_result"
    }
   ],
   "source": [
    "pd.read_csv('data/mtcars.csv') "
   ]
  },
  {
   "cell_type": "markdown",
   "metadata": {
    "id": "vpuvyolS7iuN"
   },
   "source": [
    "This just prints out the data, but then it's lost. To use this data, we have to give it a name, so it's stored in Python's memory"
   ]
  },
  {
   "cell_type": "code",
   "execution_count": 7,
   "metadata": {
    "executionInfo": {
     "elapsed": 386,
     "status": "ok",
     "timestamp": 1607189513563,
     "user": {
      "displayName": "Gaby Gerlach",
      "photoUrl": "",
      "userId": "11117434220237101401"
     },
     "user_tz": 300
    },
    "id": "qjgvBC4s7iuN",
    "name": "02-python-pandas-4"
   },
   "outputs": [],
   "source": [
    "mtcars = pd.read_csv('data/mtcars.csv')"
   ]
  },
  {
   "cell_type": "markdown",
   "metadata": {
    "id": "39LVNZZv7iuN"
   },
   "source": [
    "> One of the big differences between a spreadsheet program and a programming language from the data science perspective is that you have to load data into the programming language. It's not \"just there\" like Excel. This is a good thing, since it allows the common functionality of the programming language to work across multiple data sets, and also keeps the original data set pristine. Excel users can run into problems and [corrupt their data](https://nature.berkeley.edu/garbelottoat/?p=1488) if they are not careful.\n",
    "\n",
    "If we wanted to write this data set back out into an Excel file, say, we could do"
   ]
  },
  {
   "cell_type": "code",
   "execution_count": 8,
   "metadata": {
    "executionInfo": {
     "elapsed": 889,
     "status": "ok",
     "timestamp": 1607189518114,
     "user": {
      "displayName": "Gaby Gerlach",
      "photoUrl": "",
      "userId": "11117434220237101401"
     },
     "user_tz": 300
    },
    "id": "S1cw2imp7iuN",
    "name": "02-python-pandas-5"
   },
   "outputs": [],
   "source": [
    "mtcars.to_excel('data/mtcars.xlsx')"
   ]
  },
  {
   "cell_type": "markdown",
   "metadata": {
    "id": "sS1H_GQQ7iuN"
   },
   "source": [
    "> You may get an error if you don't have the `openpyxl` package installed. You can easily install it from the Anaconda prompt using `conda install openpyxl` and following the prompts. \n"
   ]
  },
  {
   "cell_type": "markdown",
   "metadata": {
    "id": "T3evxWCf7iuN"
   },
   "source": [
    "## Exploring a data set\n",
    "\n",
    "We would like to get some idea about this data set. There are a bunch of functions linked to the `DataFrame` object that help us in this. First we will use `head` to see the first 8 rows of this data set"
   ]
  },
  {
   "cell_type": "code",
   "execution_count": 9,
   "metadata": {
    "colab": {
     "base_uri": "https://localhost:8080/",
     "height": 300
    },
    "executionInfo": {
     "elapsed": 425,
     "status": "ok",
     "timestamp": 1607189523731,
     "user": {
      "displayName": "Gaby Gerlach",
      "photoUrl": "",
      "userId": "11117434220237101401"
     },
     "user_tz": 300
    },
    "id": "2Xipxsu87iuN",
    "lines_to_next_cell": 0,
    "name": "02-python-pandas-6",
    "outputId": "3d310815-f9d8-4ae2-ea95-799460feb37e"
   },
   "outputs": [
    {
     "data": {
      "text/html": [
       "<div>\n",
       "<style scoped>\n",
       "    .dataframe tbody tr th:only-of-type {\n",
       "        vertical-align: middle;\n",
       "    }\n",
       "\n",
       "    .dataframe tbody tr th {\n",
       "        vertical-align: top;\n",
       "    }\n",
       "\n",
       "    .dataframe thead th {\n",
       "        text-align: right;\n",
       "    }\n",
       "</style>\n",
       "<table border=\"1\" class=\"dataframe\">\n",
       "  <thead>\n",
       "    <tr style=\"text-align: right;\">\n",
       "      <th></th>\n",
       "      <th>make</th>\n",
       "      <th>mpg</th>\n",
       "      <th>cyl</th>\n",
       "      <th>disp</th>\n",
       "      <th>hp</th>\n",
       "      <th>drat</th>\n",
       "      <th>wt</th>\n",
       "      <th>qsec</th>\n",
       "      <th>vs</th>\n",
       "      <th>am</th>\n",
       "      <th>gear</th>\n",
       "      <th>carb</th>\n",
       "    </tr>\n",
       "  </thead>\n",
       "  <tbody>\n",
       "    <tr>\n",
       "      <th>0</th>\n",
       "      <td>Mazda RX4</td>\n",
       "      <td>21.0</td>\n",
       "      <td>6</td>\n",
       "      <td>160.0</td>\n",
       "      <td>110</td>\n",
       "      <td>3.90</td>\n",
       "      <td>2.620</td>\n",
       "      <td>16.46</td>\n",
       "      <td>0</td>\n",
       "      <td>1</td>\n",
       "      <td>4</td>\n",
       "      <td>4</td>\n",
       "    </tr>\n",
       "    <tr>\n",
       "      <th>1</th>\n",
       "      <td>Mazda RX4 Wag</td>\n",
       "      <td>21.0</td>\n",
       "      <td>6</td>\n",
       "      <td>160.0</td>\n",
       "      <td>110</td>\n",
       "      <td>3.90</td>\n",
       "      <td>2.875</td>\n",
       "      <td>17.02</td>\n",
       "      <td>0</td>\n",
       "      <td>1</td>\n",
       "      <td>4</td>\n",
       "      <td>4</td>\n",
       "    </tr>\n",
       "    <tr>\n",
       "      <th>2</th>\n",
       "      <td>Datsun 710</td>\n",
       "      <td>22.8</td>\n",
       "      <td>4</td>\n",
       "      <td>108.0</td>\n",
       "      <td>93</td>\n",
       "      <td>3.85</td>\n",
       "      <td>2.320</td>\n",
       "      <td>18.61</td>\n",
       "      <td>1</td>\n",
       "      <td>1</td>\n",
       "      <td>4</td>\n",
       "      <td>1</td>\n",
       "    </tr>\n",
       "    <tr>\n",
       "      <th>3</th>\n",
       "      <td>Hornet 4 Drive</td>\n",
       "      <td>21.4</td>\n",
       "      <td>6</td>\n",
       "      <td>258.0</td>\n",
       "      <td>110</td>\n",
       "      <td>3.08</td>\n",
       "      <td>3.215</td>\n",
       "      <td>19.44</td>\n",
       "      <td>1</td>\n",
       "      <td>0</td>\n",
       "      <td>3</td>\n",
       "      <td>1</td>\n",
       "    </tr>\n",
       "    <tr>\n",
       "      <th>4</th>\n",
       "      <td>Hornet Sportabout</td>\n",
       "      <td>18.7</td>\n",
       "      <td>8</td>\n",
       "      <td>360.0</td>\n",
       "      <td>175</td>\n",
       "      <td>3.15</td>\n",
       "      <td>3.440</td>\n",
       "      <td>17.02</td>\n",
       "      <td>0</td>\n",
       "      <td>0</td>\n",
       "      <td>3</td>\n",
       "      <td>2</td>\n",
       "    </tr>\n",
       "    <tr>\n",
       "      <th>5</th>\n",
       "      <td>Valiant</td>\n",
       "      <td>18.1</td>\n",
       "      <td>6</td>\n",
       "      <td>225.0</td>\n",
       "      <td>105</td>\n",
       "      <td>2.76</td>\n",
       "      <td>3.460</td>\n",
       "      <td>20.22</td>\n",
       "      <td>1</td>\n",
       "      <td>0</td>\n",
       "      <td>3</td>\n",
       "      <td>1</td>\n",
       "    </tr>\n",
       "    <tr>\n",
       "      <th>6</th>\n",
       "      <td>Duster 360</td>\n",
       "      <td>14.3</td>\n",
       "      <td>8</td>\n",
       "      <td>360.0</td>\n",
       "      <td>245</td>\n",
       "      <td>3.21</td>\n",
       "      <td>3.570</td>\n",
       "      <td>15.84</td>\n",
       "      <td>0</td>\n",
       "      <td>0</td>\n",
       "      <td>3</td>\n",
       "      <td>4</td>\n",
       "    </tr>\n",
       "    <tr>\n",
       "      <th>7</th>\n",
       "      <td>Merc 240D</td>\n",
       "      <td>24.4</td>\n",
       "      <td>4</td>\n",
       "      <td>146.7</td>\n",
       "      <td>62</td>\n",
       "      <td>3.69</td>\n",
       "      <td>3.190</td>\n",
       "      <td>20.00</td>\n",
       "      <td>1</td>\n",
       "      <td>0</td>\n",
       "      <td>4</td>\n",
       "      <td>2</td>\n",
       "    </tr>\n",
       "  </tbody>\n",
       "</table>\n",
       "</div>"
      ],
      "text/plain": [
       "                make   mpg  cyl   disp   hp  drat     wt   qsec  vs  am  gear  \\\n",
       "0          Mazda RX4  21.0    6  160.0  110  3.90  2.620  16.46   0   1     4   \n",
       "1      Mazda RX4 Wag  21.0    6  160.0  110  3.90  2.875  17.02   0   1     4   \n",
       "2         Datsun 710  22.8    4  108.0   93  3.85  2.320  18.61   1   1     4   \n",
       "3     Hornet 4 Drive  21.4    6  258.0  110  3.08  3.215  19.44   1   0     3   \n",
       "4  Hornet Sportabout  18.7    8  360.0  175  3.15  3.440  17.02   0   0     3   \n",
       "5            Valiant  18.1    6  225.0  105  2.76  3.460  20.22   1   0     3   \n",
       "6         Duster 360  14.3    8  360.0  245  3.21  3.570  15.84   0   0     3   \n",
       "7          Merc 240D  24.4    4  146.7   62  3.69  3.190  20.00   1   0     4   \n",
       "\n",
       "   carb  \n",
       "0     4  \n",
       "1     4  \n",
       "2     1  \n",
       "3     1  \n",
       "4     2  \n",
       "5     1  \n",
       "6     4  \n",
       "7     2  "
      ]
     },
     "execution_count": 9,
     "metadata": {},
     "output_type": "execute_result"
    }
   ],
   "source": [
    "mtcars.head(8)"
   ]
  },
  {
   "cell_type": "markdown",
   "metadata": {
    "id": "_RXwId2h7iuN"
   },
   "source": [
    "This is our first look into this data. We notice a few things. Each column has a name, and each row has an *index*, starting at 0. \n",
    "\n",
    "> If you're interested in the last N rows, there is a corresponding `tail` function\n",
    "\n",
    "Let's look at the data types of each of the columns"
   ]
  },
  {
   "cell_type": "code",
   "execution_count": 10,
   "metadata": {
    "colab": {
     "base_uri": "https://localhost:8080/"
    },
    "executionInfo": {
     "elapsed": 653,
     "status": "ok",
     "timestamp": 1607189524418,
     "user": {
      "displayName": "Gaby Gerlach",
      "photoUrl": "",
      "userId": "11117434220237101401"
     },
     "user_tz": 300
    },
    "id": "lY6dbohK7iuN",
    "name": "02-python-pandas-7",
    "outputId": "1ce63722-082b-474c-d63e-df97163a12d4"
   },
   "outputs": [
    {
     "data": {
      "text/plain": [
       "make     object\n",
       "mpg     float64\n",
       "cyl       int64\n",
       "disp    float64\n",
       "hp        int64\n",
       "drat    float64\n",
       "wt      float64\n",
       "qsec    float64\n",
       "vs        int64\n",
       "am        int64\n",
       "gear      int64\n",
       "carb      int64\n",
       "dtype: object"
      ]
     },
     "execution_count": 10,
     "metadata": {},
     "output_type": "execute_result"
    }
   ],
   "source": [
    "mtcars.dtypes"
   ]
  },
  {
   "cell_type": "markdown",
   "metadata": {
    "id": "MmCxfkqP7iuN"
   },
   "source": [
    "This tells us that some of the variables, like `mpg` and `disp`, are floating point (decimal) numbers, several are integers, and `make` is an \"object\". The `dtypes` function borrows from `numpy`, where there isn't really a type for character or categorical variables. So most often, when you see \"object\" in the output of `dtypes`, you think it's a character or categorical variable. \n",
    "\n",
    "We can also look at the data structure in a bit more detail."
   ]
  },
  {
   "cell_type": "code",
   "execution_count": 11,
   "metadata": {
    "colab": {
     "base_uri": "https://localhost:8080/"
    },
    "executionInfo": {
     "elapsed": 464,
     "status": "ok",
     "timestamp": 1607189524620,
     "user": {
      "displayName": "Gaby Gerlach",
      "photoUrl": "",
      "userId": "11117434220237101401"
     },
     "user_tz": 300
    },
    "id": "ju5R10Zq7iuN",
    "name": "02-python-pandas-8",
    "outputId": "265b7143-197d-4afb-d527-6e4ec6d4fdaa"
   },
   "outputs": [
    {
     "name": "stdout",
     "output_type": "stream",
     "text": [
      "<class 'pandas.core.frame.DataFrame'>\n",
      "RangeIndex: 32 entries, 0 to 31\n",
      "Data columns (total 12 columns):\n",
      " #   Column  Non-Null Count  Dtype  \n",
      "---  ------  --------------  -----  \n",
      " 0   make    32 non-null     object \n",
      " 1   mpg     32 non-null     float64\n",
      " 2   cyl     32 non-null     int64  \n",
      " 3   disp    32 non-null     float64\n",
      " 4   hp      32 non-null     int64  \n",
      " 5   drat    32 non-null     float64\n",
      " 6   wt      32 non-null     float64\n",
      " 7   qsec    32 non-null     float64\n",
      " 8   vs      32 non-null     int64  \n",
      " 9   am      32 non-null     int64  \n",
      " 10  gear    32 non-null     int64  \n",
      " 11  carb    32 non-null     int64  \n",
      "dtypes: float64(5), int64(6), object(1)\n",
      "memory usage: 3.1+ KB\n"
     ]
    }
   ],
   "source": [
    "mtcars.info()"
   ]
  },
  {
   "cell_type": "markdown",
   "metadata": {
    "id": "LeELodUY7iuN"
   },
   "source": [
    "This tells us that this is indeed a `DataFrame`, wth 12 columns, each with 32 valid observations. Each row has an index value ranging from 0 to 11. We also get the approximate size of this object in memory.\n",
    "\n",
    "You can also quickly find the number of rows and columns of a data set by using `shape`, which is borrowed from numpy."
   ]
  },
  {
   "cell_type": "code",
   "execution_count": 12,
   "metadata": {
    "colab": {
     "base_uri": "https://localhost:8080/"
    },
    "executionInfo": {
     "elapsed": 331,
     "status": "ok",
     "timestamp": 1607189524932,
     "user": {
      "displayName": "Gaby Gerlach",
      "photoUrl": "",
      "userId": "11117434220237101401"
     },
     "user_tz": 300
    },
    "id": "6O0_zbNw7iuN",
    "name": "02-python-pandas-9",
    "outputId": "6cd59594-9577-4087-80df-4e851eba7a57"
   },
   "outputs": [
    {
     "data": {
      "text/plain": [
       "(32, 12)"
      ]
     },
     "execution_count": 12,
     "metadata": {},
     "output_type": "execute_result"
    }
   ],
   "source": [
    "mtcars.shape"
   ]
  },
  {
   "cell_type": "markdown",
   "metadata": {
    "id": "IMypxzPd7iuN"
   },
   "source": [
    "More generally, we can get a summary of each variable using the `describe` function"
   ]
  },
  {
   "cell_type": "code",
   "execution_count": 13,
   "metadata": {
    "colab": {
     "base_uri": "https://localhost:8080/",
     "height": 300
    },
    "executionInfo": {
     "elapsed": 565,
     "status": "ok",
     "timestamp": 1607189525973,
     "user": {
      "displayName": "Gaby Gerlach",
      "photoUrl": "",
      "userId": "11117434220237101401"
     },
     "user_tz": 300
    },
    "id": "ye0qgQLt7iuN",
    "lines_to_next_cell": 0,
    "name": "02-python-pandas-10",
    "outputId": "5519b894-77db-4932-f821-53e506786740"
   },
   "outputs": [
    {
     "data": {
      "text/html": [
       "<div>\n",
       "<style scoped>\n",
       "    .dataframe tbody tr th:only-of-type {\n",
       "        vertical-align: middle;\n",
       "    }\n",
       "\n",
       "    .dataframe tbody tr th {\n",
       "        vertical-align: top;\n",
       "    }\n",
       "\n",
       "    .dataframe thead th {\n",
       "        text-align: right;\n",
       "    }\n",
       "</style>\n",
       "<table border=\"1\" class=\"dataframe\">\n",
       "  <thead>\n",
       "    <tr style=\"text-align: right;\">\n",
       "      <th></th>\n",
       "      <th>mpg</th>\n",
       "      <th>cyl</th>\n",
       "      <th>disp</th>\n",
       "      <th>hp</th>\n",
       "      <th>drat</th>\n",
       "      <th>wt</th>\n",
       "      <th>qsec</th>\n",
       "      <th>vs</th>\n",
       "      <th>am</th>\n",
       "      <th>gear</th>\n",
       "      <th>carb</th>\n",
       "    </tr>\n",
       "  </thead>\n",
       "  <tbody>\n",
       "    <tr>\n",
       "      <th>count</th>\n",
       "      <td>32.000000</td>\n",
       "      <td>32.000000</td>\n",
       "      <td>32.000000</td>\n",
       "      <td>32.000000</td>\n",
       "      <td>32.000000</td>\n",
       "      <td>32.000000</td>\n",
       "      <td>32.000000</td>\n",
       "      <td>32.000000</td>\n",
       "      <td>32.000000</td>\n",
       "      <td>32.000000</td>\n",
       "      <td>32.0000</td>\n",
       "    </tr>\n",
       "    <tr>\n",
       "      <th>mean</th>\n",
       "      <td>20.090625</td>\n",
       "      <td>6.187500</td>\n",
       "      <td>230.721875</td>\n",
       "      <td>146.687500</td>\n",
       "      <td>3.596563</td>\n",
       "      <td>3.217250</td>\n",
       "      <td>17.848750</td>\n",
       "      <td>0.437500</td>\n",
       "      <td>0.406250</td>\n",
       "      <td>3.687500</td>\n",
       "      <td>2.8125</td>\n",
       "    </tr>\n",
       "    <tr>\n",
       "      <th>std</th>\n",
       "      <td>6.026948</td>\n",
       "      <td>1.785922</td>\n",
       "      <td>123.938694</td>\n",
       "      <td>68.562868</td>\n",
       "      <td>0.534679</td>\n",
       "      <td>0.978457</td>\n",
       "      <td>1.786943</td>\n",
       "      <td>0.504016</td>\n",
       "      <td>0.498991</td>\n",
       "      <td>0.737804</td>\n",
       "      <td>1.6152</td>\n",
       "    </tr>\n",
       "    <tr>\n",
       "      <th>min</th>\n",
       "      <td>10.400000</td>\n",
       "      <td>4.000000</td>\n",
       "      <td>71.100000</td>\n",
       "      <td>52.000000</td>\n",
       "      <td>2.760000</td>\n",
       "      <td>1.513000</td>\n",
       "      <td>14.500000</td>\n",
       "      <td>0.000000</td>\n",
       "      <td>0.000000</td>\n",
       "      <td>3.000000</td>\n",
       "      <td>1.0000</td>\n",
       "    </tr>\n",
       "    <tr>\n",
       "      <th>25%</th>\n",
       "      <td>15.425000</td>\n",
       "      <td>4.000000</td>\n",
       "      <td>120.825000</td>\n",
       "      <td>96.500000</td>\n",
       "      <td>3.080000</td>\n",
       "      <td>2.581250</td>\n",
       "      <td>16.892500</td>\n",
       "      <td>0.000000</td>\n",
       "      <td>0.000000</td>\n",
       "      <td>3.000000</td>\n",
       "      <td>2.0000</td>\n",
       "    </tr>\n",
       "    <tr>\n",
       "      <th>50%</th>\n",
       "      <td>19.200000</td>\n",
       "      <td>6.000000</td>\n",
       "      <td>196.300000</td>\n",
       "      <td>123.000000</td>\n",
       "      <td>3.695000</td>\n",
       "      <td>3.325000</td>\n",
       "      <td>17.710000</td>\n",
       "      <td>0.000000</td>\n",
       "      <td>0.000000</td>\n",
       "      <td>4.000000</td>\n",
       "      <td>2.0000</td>\n",
       "    </tr>\n",
       "    <tr>\n",
       "      <th>75%</th>\n",
       "      <td>22.800000</td>\n",
       "      <td>8.000000</td>\n",
       "      <td>326.000000</td>\n",
       "      <td>180.000000</td>\n",
       "      <td>3.920000</td>\n",
       "      <td>3.610000</td>\n",
       "      <td>18.900000</td>\n",
       "      <td>1.000000</td>\n",
       "      <td>1.000000</td>\n",
       "      <td>4.000000</td>\n",
       "      <td>4.0000</td>\n",
       "    </tr>\n",
       "    <tr>\n",
       "      <th>max</th>\n",
       "      <td>33.900000</td>\n",
       "      <td>8.000000</td>\n",
       "      <td>472.000000</td>\n",
       "      <td>335.000000</td>\n",
       "      <td>4.930000</td>\n",
       "      <td>5.424000</td>\n",
       "      <td>22.900000</td>\n",
       "      <td>1.000000</td>\n",
       "      <td>1.000000</td>\n",
       "      <td>5.000000</td>\n",
       "      <td>8.0000</td>\n",
       "    </tr>\n",
       "  </tbody>\n",
       "</table>\n",
       "</div>"
      ],
      "text/plain": [
       "             mpg        cyl        disp          hp       drat         wt  \\\n",
       "count  32.000000  32.000000   32.000000   32.000000  32.000000  32.000000   \n",
       "mean   20.090625   6.187500  230.721875  146.687500   3.596563   3.217250   \n",
       "std     6.026948   1.785922  123.938694   68.562868   0.534679   0.978457   \n",
       "min    10.400000   4.000000   71.100000   52.000000   2.760000   1.513000   \n",
       "25%    15.425000   4.000000  120.825000   96.500000   3.080000   2.581250   \n",
       "50%    19.200000   6.000000  196.300000  123.000000   3.695000   3.325000   \n",
       "75%    22.800000   8.000000  326.000000  180.000000   3.920000   3.610000   \n",
       "max    33.900000   8.000000  472.000000  335.000000   4.930000   5.424000   \n",
       "\n",
       "            qsec         vs         am       gear     carb  \n",
       "count  32.000000  32.000000  32.000000  32.000000  32.0000  \n",
       "mean   17.848750   0.437500   0.406250   3.687500   2.8125  \n",
       "std     1.786943   0.504016   0.498991   0.737804   1.6152  \n",
       "min    14.500000   0.000000   0.000000   3.000000   1.0000  \n",
       "25%    16.892500   0.000000   0.000000   3.000000   2.0000  \n",
       "50%    17.710000   0.000000   0.000000   4.000000   2.0000  \n",
       "75%    18.900000   1.000000   1.000000   4.000000   4.0000  \n",
       "max    22.900000   1.000000   1.000000   5.000000   8.0000  "
      ]
     },
     "execution_count": 13,
     "metadata": {},
     "output_type": "execute_result"
    }
   ],
   "source": [
    "mtcars.describe()"
   ]
  },
  {
   "cell_type": "markdown",
   "metadata": {
    "id": "S2ieuxEk7iuN"
   },
   "source": [
    "These are usually the first steps in exploring the data."
   ]
  },
  {
   "cell_type": "markdown",
   "metadata": {
    "id": "wuAMxwke7iuN"
   },
   "source": [
    "## Data structures and types\n",
    "\n",
    "pandas has two main data types: `Series` and `DataFrame`. These are analogous to vectors and matrices, in that a `Series` is 1-dimensional while a `DataFrame` is 2-dimensional. \n",
    "\n",
    "### pandas.Series\n",
    "\n",
    "The `Series` object holds data from a single input variable, and is required, much like numpy arrays, to be homogeneous in type. You can create `Series` objects from lists or numpy arrays quite easily"
   ]
  },
  {
   "cell_type": "code",
   "execution_count": 14,
   "metadata": {
    "colab": {
     "base_uri": "https://localhost:8080/"
    },
    "executionInfo": {
     "elapsed": 405,
     "status": "ok",
     "timestamp": 1607189526796,
     "user": {
      "displayName": "Gaby Gerlach",
      "photoUrl": "",
      "userId": "11117434220237101401"
     },
     "user_tz": 300
    },
    "id": "uDQmAdUB7iuN",
    "name": "02-python-pandas-11",
    "outputId": "fb27f769-e4b3-4d7b-9756-7a69ecb078c3"
   },
   "outputs": [
    {
     "data": {
      "text/plain": [
       "0     1.0\n",
       "1     3.0\n",
       "2     5.0\n",
       "3     NaN\n",
       "4     9.0\n",
       "5    13.0\n",
       "dtype: float64"
      ]
     },
     "execution_count": 14,
     "metadata": {},
     "output_type": "execute_result"
    }
   ],
   "source": [
    "s = pd.Series([1,3,5,np.nan, 9, 13])\n",
    "s"
   ]
  },
  {
   "cell_type": "code",
   "execution_count": 15,
   "metadata": {
    "colab": {
     "base_uri": "https://localhost:8080/"
    },
    "executionInfo": {
     "elapsed": 237,
     "status": "ok",
     "timestamp": 1607189526964,
     "user": {
      "displayName": "Gaby Gerlach",
      "photoUrl": "",
      "userId": "11117434220237101401"
     },
     "user_tz": 300
    },
    "id": "8OcKC1Jp7iuN",
    "lines_to_next_cell": 0,
    "name": "02-python-pandas-12",
    "outputId": "ddd2bf46-bc33-4449-9f33-e22592be1fcf"
   },
   "outputs": [
    {
     "data": {
      "text/plain": [
       "0      1\n",
       "1      2\n",
       "2      3\n",
       "3      4\n",
       "4      5\n",
       "5      6\n",
       "6      7\n",
       "7      8\n",
       "8      9\n",
       "9     10\n",
       "10    11\n",
       "11    12\n",
       "12    13\n",
       "13    14\n",
       "14    15\n",
       "15    16\n",
       "16    17\n",
       "17    18\n",
       "18    19\n",
       "dtype: int64"
      ]
     },
     "execution_count": 15,
     "metadata": {},
     "output_type": "execute_result"
    }
   ],
   "source": [
    "s2 = pd.Series(np.arange(1,20))\n",
    "s2"
   ]
  },
  {
   "cell_type": "markdown",
   "metadata": {
    "id": "qOei4Fpm7iuN"
   },
   "source": [
    "You can access elements of a `Series` much like a `dict`"
   ]
  },
  {
   "cell_type": "code",
   "execution_count": 16,
   "metadata": {
    "colab": {
     "base_uri": "https://localhost:8080/"
    },
    "executionInfo": {
     "elapsed": 298,
     "status": "ok",
     "timestamp": 1607189527580,
     "user": {
      "displayName": "Gaby Gerlach",
      "photoUrl": "",
      "userId": "11117434220237101401"
     },
     "user_tz": 300
    },
    "id": "HtnjTRhy7iuN",
    "name": "02-python-pandas-13",
    "outputId": "f051e6e7-3563-4c35-d5ab-b7adfcc488ec"
   },
   "outputs": [
    {
     "data": {
      "text/plain": [
       "5"
      ]
     },
     "execution_count": 16,
     "metadata": {},
     "output_type": "execute_result"
    }
   ],
   "source": [
    "s2[4]"
   ]
  },
  {
   "cell_type": "markdown",
   "metadata": {
    "id": "u95hXZis7iuO"
   },
   "source": [
    "There is no requirement that the index of a `Series` has to be numeric. It can be any kind of scalar object"
   ]
  },
  {
   "cell_type": "code",
   "execution_count": 17,
   "metadata": {
    "colab": {
     "base_uri": "https://localhost:8080/"
    },
    "executionInfo": {
     "elapsed": 311,
     "status": "ok",
     "timestamp": 1607189528089,
     "user": {
      "displayName": "Gaby Gerlach",
      "photoUrl": "",
      "userId": "11117434220237101401"
     },
     "user_tz": 300
    },
    "id": "eUNh4pze7iuO",
    "name": "02-python-pandas-14",
    "outputId": "7dd01693-7bfe-4a7a-80a8-126b2deb4e04"
   },
   "outputs": [
    {
     "data": {
      "text/plain": [
       "a    0.495129\n",
       "b   -0.123514\n",
       "c    0.779712\n",
       "d   -1.216104\n",
       "e    0.910280\n",
       "dtype: float64"
      ]
     },
     "execution_count": 17,
     "metadata": {},
     "output_type": "execute_result"
    }
   ],
   "source": [
    "s3 = pd.Series(np.random.normal(0,1, (5,)), index = ['a','b','c','d','e'])\n",
    "s3"
   ]
  },
  {
   "cell_type": "code",
   "execution_count": 18,
   "metadata": {
    "colab": {
     "base_uri": "https://localhost:8080/"
    },
    "executionInfo": {
     "elapsed": 849,
     "status": "ok",
     "timestamp": 1607189528895,
     "user": {
      "displayName": "Gaby Gerlach",
      "photoUrl": "",
      "userId": "11117434220237101401"
     },
     "user_tz": 300
    },
    "id": "JtTj7Yyl7iuO",
    "name": "02-python-pandas-15",
    "outputId": "b4fd714d-ae0e-466e-e6dc-d0727b2d8b27"
   },
   "outputs": [
    {
     "data": {
      "text/plain": [
       "-1.216103950445352"
      ]
     },
     "execution_count": 18,
     "metadata": {},
     "output_type": "execute_result"
    }
   ],
   "source": [
    "s3['d']"
   ]
  },
  {
   "cell_type": "code",
   "execution_count": 19,
   "metadata": {
    "colab": {
     "base_uri": "https://localhost:8080/"
    },
    "executionInfo": {
     "elapsed": 762,
     "status": "ok",
     "timestamp": 1607189529083,
     "user": {
      "displayName": "Gaby Gerlach",
      "photoUrl": "",
      "userId": "11117434220237101401"
     },
     "user_tz": 300
    },
    "id": "RH82Zjrt7iuO",
    "name": "02-python-pandas-16",
    "outputId": "31575ac4-165d-4423-91d0-076a5e31cac3"
   },
   "outputs": [
    {
     "data": {
      "text/plain": [
       "a    0.495129\n",
       "b   -0.123514\n",
       "c    0.779712\n",
       "d   -1.216104\n",
       "dtype: float64"
      ]
     },
     "execution_count": 19,
     "metadata": {},
     "output_type": "execute_result"
    }
   ],
   "source": [
    "s3['a':'d']"
   ]
  },
  {
   "cell_type": "markdown",
   "metadata": {
    "id": "6iVRU-3A7iuO"
   },
   "source": [
    "Well, slicing worked, but it gave us something different than expected. It gave us both the start **and** end of the slice, which is unlike what we've encountered so far!! \n",
    "\n",
    "It turns out that in `pandas`, slicing by index actually does this. It is a discrepancy from `numpy` and Python in general that we have to be careful about. "
   ]
  },
  {
   "cell_type": "markdown",
   "metadata": {
    "id": "7WuCZW8f7iuO"
   },
   "source": [
    "You can extract the actual values into a numpy array"
   ]
  },
  {
   "cell_type": "code",
   "execution_count": 20,
   "metadata": {
    "colab": {
     "base_uri": "https://localhost:8080/"
    },
    "executionInfo": {
     "elapsed": 412,
     "status": "ok",
     "timestamp": 1607189529679,
     "user": {
      "displayName": "Gaby Gerlach",
      "photoUrl": "",
      "userId": "11117434220237101401"
     },
     "user_tz": 300
    },
    "id": "288xodHC7iuO",
    "name": "02-python-pandas-17",
    "outputId": "5cd4eda7-6e49-4f68-ea86-4901ea20f320"
   },
   "outputs": [
    {
     "data": {
      "text/plain": [
       "array([ 0.49512917, -0.1235141 ,  0.77971247, -1.21610395,  0.91027988])"
      ]
     },
     "execution_count": 20,
     "metadata": {},
     "output_type": "execute_result"
    }
   ],
   "source": [
    "s3.to_numpy()"
   ]
  },
  {
   "cell_type": "markdown",
   "metadata": {
    "id": "0j1Qe78A7iuO"
   },
   "source": [
    "In fact, you'll see that much of `pandas`' structures are build on top of `numpy` arrays. This is a good thing, since you can take advantage of the powerful numpy functions that are built for fast, efficient scientific computing. "
   ]
  },
  {
   "cell_type": "markdown",
   "metadata": {
    "id": "I_sc-saB7iuO"
   },
   "source": [
    "Making the point about slicing again, "
   ]
  },
  {
   "cell_type": "code",
   "execution_count": 21,
   "metadata": {
    "colab": {
     "base_uri": "https://localhost:8080/"
    },
    "executionInfo": {
     "elapsed": 496,
     "status": "ok",
     "timestamp": 1607189530612,
     "user": {
      "displayName": "Gaby Gerlach",
      "photoUrl": "",
      "userId": "11117434220237101401"
     },
     "user_tz": 300
    },
    "id": "Fs9dPoA47iuO",
    "name": "02-python-pandas-18",
    "outputId": "62bb1ff8-baf0-4fdf-95f0-fb3914457542"
   },
   "outputs": [
    {
     "data": {
      "text/plain": [
       "array([ 0.49512917, -0.1235141 ,  0.77971247])"
      ]
     },
     "execution_count": 21,
     "metadata": {},
     "output_type": "execute_result"
    }
   ],
   "source": [
    "s3.to_numpy()[0:3]"
   ]
  },
  {
   "cell_type": "markdown",
   "metadata": {
    "id": "idEGrOWr7iuO"
   },
   "source": [
    "This is different from index-based slicing done earlier."
   ]
  },
  {
   "cell_type": "markdown",
   "metadata": {
    "id": "ZAehBgZi7iuO"
   },
   "source": [
    "### pandas.DataFrame\n",
    "\n",
    "The `DataFrame` object holds a rectangular data set. Each column of a `DataFrame` is a `Series` object. This means that each column of a `DataFrame` must be comprised of data of the same type, but different columns can hold data of different types. This structure is extremely useful in practical data science. The invention of this structure was, in my opinion, transformative in making Python an effective data science tool."
   ]
  },
  {
   "cell_type": "markdown",
   "metadata": {
    "id": "U_KhDQmf7iuO"
   },
   "source": [
    "#### Creating a DataFrame\n",
    "\n",
    "The `DataFrame` can be created by importing data, as we saw in the previous section. It can also be created by a few methods within Python.\n",
    "\n",
    "First, it can be created from a 2-dimensional `numpy` array."
   ]
  },
  {
   "cell_type": "code",
   "execution_count": 22,
   "metadata": {
    "colab": {
     "base_uri": "https://localhost:8080/",
     "height": 175
    },
    "executionInfo": {
     "elapsed": 574,
     "status": "ok",
     "timestamp": 1607189717994,
     "user": {
      "displayName": "Gaby Gerlach",
      "photoUrl": "",
      "userId": "11117434220237101401"
     },
     "user_tz": 300
    },
    "id": "E0aCFaw_7iuO",
    "name": "02-python-pandas-19",
    "outputId": "c709622c-c485-4685-9732-fce133b999f2"
   },
   "outputs": [
    {
     "data": {
      "text/html": [
       "<div>\n",
       "<style scoped>\n",
       "    .dataframe tbody tr th:only-of-type {\n",
       "        vertical-align: middle;\n",
       "    }\n",
       "\n",
       "    .dataframe tbody tr th {\n",
       "        vertical-align: top;\n",
       "    }\n",
       "\n",
       "    .dataframe thead th {\n",
       "        text-align: right;\n",
       "    }\n",
       "</style>\n",
       "<table border=\"1\" class=\"dataframe\">\n",
       "  <thead>\n",
       "    <tr style=\"text-align: right;\">\n",
       "      <th></th>\n",
       "      <th>0</th>\n",
       "      <th>1</th>\n",
       "      <th>2</th>\n",
       "      <th>3</th>\n",
       "      <th>4</th>\n",
       "    </tr>\n",
       "  </thead>\n",
       "  <tbody>\n",
       "    <tr>\n",
       "      <th>0</th>\n",
       "      <td>0.228273</td>\n",
       "      <td>1.026890</td>\n",
       "      <td>-0.839585</td>\n",
       "      <td>-0.591182</td>\n",
       "      <td>-0.956888</td>\n",
       "    </tr>\n",
       "    <tr>\n",
       "      <th>1</th>\n",
       "      <td>-0.222326</td>\n",
       "      <td>-0.619915</td>\n",
       "      <td>1.837905</td>\n",
       "      <td>-2.053231</td>\n",
       "      <td>0.868583</td>\n",
       "    </tr>\n",
       "    <tr>\n",
       "      <th>2</th>\n",
       "      <td>-0.920734</td>\n",
       "      <td>-0.232312</td>\n",
       "      <td>2.152957</td>\n",
       "      <td>-1.334661</td>\n",
       "      <td>0.076380</td>\n",
       "    </tr>\n",
       "    <tr>\n",
       "      <th>3</th>\n",
       "      <td>-1.246089</td>\n",
       "      <td>1.202272</td>\n",
       "      <td>-1.049942</td>\n",
       "      <td>1.056610</td>\n",
       "      <td>-0.419678</td>\n",
       "    </tr>\n",
       "  </tbody>\n",
       "</table>\n",
       "</div>"
      ],
      "text/plain": [
       "          0         1         2         3         4\n",
       "0  0.228273  1.026890 -0.839585 -0.591182 -0.956888\n",
       "1 -0.222326 -0.619915  1.837905 -2.053231  0.868583\n",
       "2 -0.920734 -0.232312  2.152957 -1.334661  0.076380\n",
       "3 -1.246089  1.202272 -1.049942  1.056610 -0.419678"
      ]
     },
     "execution_count": 22,
     "metadata": {},
     "output_type": "execute_result"
    }
   ],
   "source": [
    "rng = np.random.RandomState(25)\n",
    "d1 = pd.DataFrame(rng.normal(0,1, (4,5)))\n",
    "d1"
   ]
  },
  {
   "cell_type": "markdown",
   "metadata": {
    "id": "H-v2GR5T7iuO"
   },
   "source": [
    "You will notice that it creates default column names, that are merely the column number, starting from 0. We can also create the column names and row index (similar to the `Series` index we saw earlier) directly during creation."
   ]
  },
  {
   "cell_type": "code",
   "execution_count": 23,
   "metadata": {
    "colab": {
     "base_uri": "https://localhost:8080/",
     "height": 175
    },
    "executionInfo": {
     "elapsed": 458,
     "status": "ok",
     "timestamp": 1607189718406,
     "user": {
      "displayName": "Gaby Gerlach",
      "photoUrl": "",
      "userId": "11117434220237101401"
     },
     "user_tz": 300
    },
    "id": "jLTuDace7iuO",
    "name": "02-python-pandas-20",
    "outputId": "17b895fc-2bdf-4f96-f143-3eaa3178cf17"
   },
   "outputs": [
    {
     "data": {
      "text/html": [
       "<div>\n",
       "<style scoped>\n",
       "    .dataframe tbody tr th:only-of-type {\n",
       "        vertical-align: middle;\n",
       "    }\n",
       "\n",
       "    .dataframe tbody tr th {\n",
       "        vertical-align: top;\n",
       "    }\n",
       "\n",
       "    .dataframe thead th {\n",
       "        text-align: right;\n",
       "    }\n",
       "</style>\n",
       "<table border=\"1\" class=\"dataframe\">\n",
       "  <thead>\n",
       "    <tr style=\"text-align: right;\">\n",
       "      <th></th>\n",
       "      <th>A</th>\n",
       "      <th>B</th>\n",
       "      <th>C</th>\n",
       "      <th>D</th>\n",
       "      <th>E</th>\n",
       "    </tr>\n",
       "  </thead>\n",
       "  <tbody>\n",
       "    <tr>\n",
       "      <th>a</th>\n",
       "      <td>2.294842</td>\n",
       "      <td>-2.594487</td>\n",
       "      <td>2.822756</td>\n",
       "      <td>0.680889</td>\n",
       "      <td>-1.577693</td>\n",
       "    </tr>\n",
       "    <tr>\n",
       "      <th>b</th>\n",
       "      <td>-1.976254</td>\n",
       "      <td>0.533340</td>\n",
       "      <td>-0.290870</td>\n",
       "      <td>-0.513520</td>\n",
       "      <td>1.982626</td>\n",
       "    </tr>\n",
       "    <tr>\n",
       "      <th>c</th>\n",
       "      <td>0.226001</td>\n",
       "      <td>-1.839905</td>\n",
       "      <td>1.607671</td>\n",
       "      <td>0.388292</td>\n",
       "      <td>0.399732</td>\n",
       "    </tr>\n",
       "    <tr>\n",
       "      <th>d</th>\n",
       "      <td>0.405477</td>\n",
       "      <td>0.217002</td>\n",
       "      <td>-0.633439</td>\n",
       "      <td>0.246622</td>\n",
       "      <td>-1.939546</td>\n",
       "    </tr>\n",
       "  </tbody>\n",
       "</table>\n",
       "</div>"
      ],
      "text/plain": [
       "          A         B         C         D         E\n",
       "a  2.294842 -2.594487  2.822756  0.680889 -1.577693\n",
       "b -1.976254  0.533340 -0.290870 -0.513520  1.982626\n",
       "c  0.226001 -1.839905  1.607671  0.388292  0.399732\n",
       "d  0.405477  0.217002 -0.633439  0.246622 -1.939546"
      ]
     },
     "execution_count": 23,
     "metadata": {},
     "output_type": "execute_result"
    }
   ],
   "source": [
    "d2 = pd.DataFrame(rng.normal(0,1, (4, 5)), \n",
    "                  columns = ['A','B','C','D','E'], \n",
    "                  index = ['a','b','c','d'])\n",
    "d2"
   ]
  },
  {
   "cell_type": "markdown",
   "metadata": {
    "id": "7WLZgW-h7iuO"
   },
   "source": [
    "> We could also create a `DataFrame` from a list of lists, as long as things line up, just as we showed for `numpy` arrays. However, to me, other ways, including the `dict` method below, make more sense."
   ]
  },
  {
   "cell_type": "markdown",
   "metadata": {
    "id": "f8kROFMZ7iuO"
   },
   "source": [
    "We can change the column names (which can be extracted and replaced with the `columns` attribute) and the index values (using the `index` attribute)."
   ]
  },
  {
   "cell_type": "code",
   "execution_count": 24,
   "metadata": {
    "colab": {
     "base_uri": "https://localhost:8080/"
    },
    "executionInfo": {
     "elapsed": 473,
     "status": "ok",
     "timestamp": 1607189719193,
     "user": {
      "displayName": "Gaby Gerlach",
      "photoUrl": "",
      "userId": "11117434220237101401"
     },
     "user_tz": 300
    },
    "id": "kxefJt-77iuO",
    "name": "02-python-pandas-21",
    "outputId": "52b74782-6389-4ef6-e8fd-54ee8b48a828"
   },
   "outputs": [
    {
     "data": {
      "text/plain": [
       "Index(['A', 'B', 'C', 'D', 'E'], dtype='object')"
      ]
     },
     "execution_count": 24,
     "metadata": {},
     "output_type": "execute_result"
    }
   ],
   "source": [
    "d2.columns"
   ]
  },
  {
   "cell_type": "code",
   "execution_count": 25,
   "metadata": {
    "colab": {
     "base_uri": "https://localhost:8080/",
     "height": 175
    },
    "executionInfo": {
     "elapsed": 464,
     "status": "ok",
     "timestamp": 1607189719414,
     "user": {
      "displayName": "Gaby Gerlach",
      "photoUrl": "",
      "userId": "11117434220237101401"
     },
     "user_tz": 300
    },
    "id": "zaqKPymB7iuO",
    "name": "02-python-pandas-22",
    "outputId": "2e836658-29f4-4ecd-d4ab-9ef2e23ac4fa"
   },
   "outputs": [
    {
     "data": {
      "text/html": [
       "<div>\n",
       "<style scoped>\n",
       "    .dataframe tbody tr th:only-of-type {\n",
       "        vertical-align: middle;\n",
       "    }\n",
       "\n",
       "    .dataframe tbody tr th {\n",
       "        vertical-align: top;\n",
       "    }\n",
       "\n",
       "    .dataframe thead th {\n",
       "        text-align: right;\n",
       "    }\n",
       "</style>\n",
       "<table border=\"1\" class=\"dataframe\">\n",
       "  <thead>\n",
       "    <tr style=\"text-align: right;\">\n",
       "      <th></th>\n",
       "      <th>V1</th>\n",
       "      <th>V2</th>\n",
       "      <th>V3</th>\n",
       "      <th>V4</th>\n",
       "      <th>V5</th>\n",
       "    </tr>\n",
       "  </thead>\n",
       "  <tbody>\n",
       "    <tr>\n",
       "      <th>a</th>\n",
       "      <td>2.294842</td>\n",
       "      <td>-2.594487</td>\n",
       "      <td>2.822756</td>\n",
       "      <td>0.680889</td>\n",
       "      <td>-1.577693</td>\n",
       "    </tr>\n",
       "    <tr>\n",
       "      <th>b</th>\n",
       "      <td>-1.976254</td>\n",
       "      <td>0.533340</td>\n",
       "      <td>-0.290870</td>\n",
       "      <td>-0.513520</td>\n",
       "      <td>1.982626</td>\n",
       "    </tr>\n",
       "    <tr>\n",
       "      <th>c</th>\n",
       "      <td>0.226001</td>\n",
       "      <td>-1.839905</td>\n",
       "      <td>1.607671</td>\n",
       "      <td>0.388292</td>\n",
       "      <td>0.399732</td>\n",
       "    </tr>\n",
       "    <tr>\n",
       "      <th>d</th>\n",
       "      <td>0.405477</td>\n",
       "      <td>0.217002</td>\n",
       "      <td>-0.633439</td>\n",
       "      <td>0.246622</td>\n",
       "      <td>-1.939546</td>\n",
       "    </tr>\n",
       "  </tbody>\n",
       "</table>\n",
       "</div>"
      ],
      "text/plain": [
       "         V1        V2        V3        V4        V5\n",
       "a  2.294842 -2.594487  2.822756  0.680889 -1.577693\n",
       "b -1.976254  0.533340 -0.290870 -0.513520  1.982626\n",
       "c  0.226001 -1.839905  1.607671  0.388292  0.399732\n",
       "d  0.405477  0.217002 -0.633439  0.246622 -1.939546"
      ]
     },
     "execution_count": 25,
     "metadata": {},
     "output_type": "execute_result"
    }
   ],
   "source": [
    "d2.columns = pd.Index(['V'+str(i) for i in range(1,6)]) # Index creates the right objects for both column names and row names, which can be extracted and changed with the `index` attribute\n",
    "d2"
   ]
  },
  {
   "cell_type": "markdown",
   "metadata": {
    "id": "XXm1nq6k7iuO"
   },
   "source": [
    "**Exercise:** Can you explain what I did in the list comprehension above? The key points are understanding `str` and how I constructed the `range`."
   ]
  },
  {
   "cell_type": "code",
   "execution_count": 26,
   "metadata": {
    "colab": {
     "base_uri": "https://localhost:8080/",
     "height": 175
    },
    "executionInfo": {
     "elapsed": 366,
     "status": "ok",
     "timestamp": 1607189719813,
     "user": {
      "displayName": "Gaby Gerlach",
      "photoUrl": "",
      "userId": "11117434220237101401"
     },
     "user_tz": 300
    },
    "id": "JUTwgoBY7iuO",
    "name": "02-python-pandas-23",
    "outputId": "16d57819-c274-403a-a84b-1b2406361fd5"
   },
   "outputs": [
    {
     "data": {
      "text/html": [
       "<div>\n",
       "<style scoped>\n",
       "    .dataframe tbody tr th:only-of-type {\n",
       "        vertical-align: middle;\n",
       "    }\n",
       "\n",
       "    .dataframe tbody tr th {\n",
       "        vertical-align: top;\n",
       "    }\n",
       "\n",
       "    .dataframe thead th {\n",
       "        text-align: right;\n",
       "    }\n",
       "</style>\n",
       "<table border=\"1\" class=\"dataframe\">\n",
       "  <thead>\n",
       "    <tr style=\"text-align: right;\">\n",
       "      <th></th>\n",
       "      <th>V1</th>\n",
       "      <th>V2</th>\n",
       "      <th>V3</th>\n",
       "      <th>V4</th>\n",
       "      <th>V5</th>\n",
       "    </tr>\n",
       "  </thead>\n",
       "  <tbody>\n",
       "    <tr>\n",
       "      <th>o1</th>\n",
       "      <td>2.294842</td>\n",
       "      <td>-2.594487</td>\n",
       "      <td>2.822756</td>\n",
       "      <td>0.680889</td>\n",
       "      <td>-1.577693</td>\n",
       "    </tr>\n",
       "    <tr>\n",
       "      <th>o2</th>\n",
       "      <td>-1.976254</td>\n",
       "      <td>0.533340</td>\n",
       "      <td>-0.290870</td>\n",
       "      <td>-0.513520</td>\n",
       "      <td>1.982626</td>\n",
       "    </tr>\n",
       "    <tr>\n",
       "      <th>o3</th>\n",
       "      <td>0.226001</td>\n",
       "      <td>-1.839905</td>\n",
       "      <td>1.607671</td>\n",
       "      <td>0.388292</td>\n",
       "      <td>0.399732</td>\n",
       "    </tr>\n",
       "    <tr>\n",
       "      <th>o4</th>\n",
       "      <td>0.405477</td>\n",
       "      <td>0.217002</td>\n",
       "      <td>-0.633439</td>\n",
       "      <td>0.246622</td>\n",
       "      <td>-1.939546</td>\n",
       "    </tr>\n",
       "  </tbody>\n",
       "</table>\n",
       "</div>"
      ],
      "text/plain": [
       "          V1        V2        V3        V4        V5\n",
       "o1  2.294842 -2.594487  2.822756  0.680889 -1.577693\n",
       "o2 -1.976254  0.533340 -0.290870 -0.513520  1.982626\n",
       "o3  0.226001 -1.839905  1.607671  0.388292  0.399732\n",
       "o4  0.405477  0.217002 -0.633439  0.246622 -1.939546"
      ]
     },
     "execution_count": 26,
     "metadata": {},
     "output_type": "execute_result"
    }
   ],
   "source": [
    "d2.index = ['o1','o2','o3','o4']\n",
    "d2"
   ]
  },
  {
   "cell_type": "markdown",
   "metadata": {
    "id": "m7NsWUT77iuO"
   },
   "source": [
    "You can also extract data from a homogeneous `DataFrame` to a `numpy` array"
   ]
  },
  {
   "cell_type": "code",
   "execution_count": 27,
   "metadata": {
    "colab": {
     "base_uri": "https://localhost:8080/"
    },
    "executionInfo": {
     "elapsed": 377,
     "status": "ok",
     "timestamp": 1607189720374,
     "user": {
      "displayName": "Gaby Gerlach",
      "photoUrl": "",
      "userId": "11117434220237101401"
     },
     "user_tz": 300
    },
    "id": "oKRtm2o_7iuO",
    "name": "02-python-pandas-24",
    "outputId": "5d875825-b27b-4653-900e-aa08c1c7c17f"
   },
   "outputs": [
    {
     "data": {
      "text/plain": [
       "array([[ 0.22827309,  1.0268903 , -0.83958485, -0.59118152, -0.9568883 ],\n",
       "       [-0.22232569, -0.61991511,  1.83790458, -2.05323076,  0.86858305],\n",
       "       [-0.92073444, -0.23231186,  2.1529569 , -1.33466147,  0.07637965],\n",
       "       [-1.24608928,  1.20227231, -1.04994158,  1.05661011, -0.41967767]])"
      ]
     },
     "execution_count": 27,
     "metadata": {},
     "output_type": "execute_result"
    }
   ],
   "source": [
    "d1.to_numpy()"
   ]
  },
  {
   "cell_type": "markdown",
   "metadata": {
    "id": "00zM5vw07iuO"
   },
   "source": [
    "> It turns out that you can use `to_numpy` for a non-homogeneous `DataFrame` as well. `numpy` just makes it homogeneous by assigning each column the data type `object`. This also limits what you can do in `numpy` with the array and may require changing data types using the [`astype` function](https://numpy.org/devdocs/reference/generated/numpy.ndarray.astype.html). There is some more detail about the `object` data type in the Python Tools for Data Science ([notebook](01_python_tools_ds.ipynb#object), [PDF](01_python_tools_ds.pdf)) document."
   ]
  },
  {
   "cell_type": "markdown",
   "metadata": {
    "id": "SyX9gMxK7iuO"
   },
   "source": [
    "The other easy way to create a `DataFrame` is from a `dict` object, where each component object is either a list or a numpy array, and is homogeneous in type. One exception is if a component is of size 1; then it is repeated to meet the needs of the `DataFrame`'s dimensions"
   ]
  },
  {
   "cell_type": "code",
   "execution_count": 28,
   "metadata": {
    "colab": {
     "base_uri": "https://localhost:8080/",
     "height": 206
    },
    "executionInfo": {
     "elapsed": 637,
     "status": "ok",
     "timestamp": 1607189721656,
     "user": {
      "displayName": "Gaby Gerlach",
      "photoUrl": "",
      "userId": "11117434220237101401"
     },
     "user_tz": 300
    },
    "id": "F2oYyy6G7iuO",
    "name": "02-python-pandas-25",
    "outputId": "cdb52a99-d06e-4460-9597-c8fa07ac5938"
   },
   "outputs": [
    {
     "data": {
      "text/html": [
       "<div>\n",
       "<style scoped>\n",
       "    .dataframe tbody tr th:only-of-type {\n",
       "        vertical-align: middle;\n",
       "    }\n",
       "\n",
       "    .dataframe tbody tr th {\n",
       "        vertical-align: top;\n",
       "    }\n",
       "\n",
       "    .dataframe thead th {\n",
       "        text-align: right;\n",
       "    }\n",
       "</style>\n",
       "<table border=\"1\" class=\"dataframe\">\n",
       "  <thead>\n",
       "    <tr style=\"text-align: right;\">\n",
       "      <th></th>\n",
       "      <th>A</th>\n",
       "      <th>B</th>\n",
       "      <th>C</th>\n",
       "      <th>D</th>\n",
       "      <th>E</th>\n",
       "      <th>F</th>\n",
       "    </tr>\n",
       "  </thead>\n",
       "  <tbody>\n",
       "    <tr>\n",
       "      <th>0</th>\n",
       "      <td>3.0</td>\n",
       "      <td>0.958092</td>\n",
       "      <td>2020-05-12</td>\n",
       "      <td>6</td>\n",
       "      <td>yes</td>\n",
       "      <td>NIH</td>\n",
       "    </tr>\n",
       "    <tr>\n",
       "      <th>1</th>\n",
       "      <td>3.0</td>\n",
       "      <td>0.883201</td>\n",
       "      <td>2020-05-12</td>\n",
       "      <td>6</td>\n",
       "      <td>no</td>\n",
       "      <td>NIH</td>\n",
       "    </tr>\n",
       "    <tr>\n",
       "      <th>2</th>\n",
       "      <td>3.0</td>\n",
       "      <td>0.295432</td>\n",
       "      <td>2020-05-12</td>\n",
       "      <td>6</td>\n",
       "      <td>no</td>\n",
       "      <td>NIH</td>\n",
       "    </tr>\n",
       "    <tr>\n",
       "      <th>3</th>\n",
       "      <td>3.0</td>\n",
       "      <td>0.512376</td>\n",
       "      <td>2020-05-12</td>\n",
       "      <td>6</td>\n",
       "      <td>yes</td>\n",
       "      <td>NIH</td>\n",
       "    </tr>\n",
       "    <tr>\n",
       "      <th>4</th>\n",
       "      <td>3.0</td>\n",
       "      <td>0.088702</td>\n",
       "      <td>2020-05-12</td>\n",
       "      <td>6</td>\n",
       "      <td>no</td>\n",
       "      <td>NIH</td>\n",
       "    </tr>\n",
       "  </tbody>\n",
       "</table>\n",
       "</div>"
      ],
      "text/plain": [
       "     A         B          C  D    E    F\n",
       "0  3.0  0.958092 2020-05-12  6  yes  NIH\n",
       "1  3.0  0.883201 2020-05-12  6   no  NIH\n",
       "2  3.0  0.295432 2020-05-12  6   no  NIH\n",
       "3  3.0  0.512376 2020-05-12  6  yes  NIH\n",
       "4  3.0  0.088702 2020-05-12  6   no  NIH"
      ]
     },
     "execution_count": 28,
     "metadata": {},
     "output_type": "execute_result"
    }
   ],
   "source": [
    "df = pd.DataFrame({\n",
    "    'A':3.,\n",
    "    'B':rng.random_sample(5),\n",
    "    'C': pd.Timestamp('20200512'),\n",
    "    'D': np.array([6] * 5),\n",
    "    'E': pd.Categorical(['yes','no','no','yes','no']),\n",
    "    'F': 'NIH'})\n",
    "df"
   ]
  },
  {
   "cell_type": "code",
   "execution_count": 29,
   "metadata": {
    "colab": {
     "base_uri": "https://localhost:8080/"
    },
    "executionInfo": {
     "elapsed": 659,
     "status": "ok",
     "timestamp": 1607189721928,
     "user": {
      "displayName": "Gaby Gerlach",
      "photoUrl": "",
      "userId": "11117434220237101401"
     },
     "user_tz": 300
    },
    "id": "Eqg306c67iuO",
    "name": "02-python-pandas-26",
    "outputId": "c2352cbb-210c-4861-c13f-cefa70b2349e"
   },
   "outputs": [
    {
     "name": "stdout",
     "output_type": "stream",
     "text": [
      "<class 'pandas.core.frame.DataFrame'>\n",
      "RangeIndex: 5 entries, 0 to 4\n",
      "Data columns (total 6 columns):\n",
      " #   Column  Non-Null Count  Dtype         \n",
      "---  ------  --------------  -----         \n",
      " 0   A       5 non-null      float64       \n",
      " 1   B       5 non-null      float64       \n",
      " 2   C       5 non-null      datetime64[ns]\n",
      " 3   D       5 non-null      int64         \n",
      " 4   E       5 non-null      category      \n",
      " 5   F       5 non-null      object        \n",
      "dtypes: category(1), datetime64[ns](1), float64(2), int64(1), object(1)\n",
      "memory usage: 429.0+ bytes\n"
     ]
    }
   ],
   "source": [
    "df.info()"
   ]
  },
  {
   "cell_type": "markdown",
   "metadata": {
    "id": "ROynTfp07iuO"
   },
   "source": [
    "We note that C is a date object, E is a category object, and F is a text/string object. pandas has excellent time series capabilities (having origins in FinTech), and the `TimeStamp` function creates datetime objects which can be queried and manipulated in Python. We'll describe category data in the next section."
   ]
  },
  {
   "cell_type": "markdown",
   "metadata": {
    "id": "JyhZvJy07iuO"
   },
   "source": [
    "You can also create a `DataFrame` where each column is composed of composite objects, like lists and dicts, as well. This might have limited value in some settings, but may be useful in others. In particular, this allows capabilities like the [*list-column* construct in R tibbles](https://jennybc.github.io/purrr-tutorial/ls13_list-columns.html). For example, "
   ]
  },
  {
   "cell_type": "code",
   "execution_count": 30,
   "metadata": {
    "colab": {
     "base_uri": "https://localhost:8080/",
     "height": 143
    },
    "executionInfo": {
     "elapsed": 413,
     "status": "ok",
     "timestamp": 1607189722510,
     "user": {
      "displayName": "Gaby Gerlach",
      "photoUrl": "",
      "userId": "11117434220237101401"
     },
     "user_tz": 300
    },
    "id": "_u7Zm4BU7iuO",
    "name": "02-python-pandas-27",
    "outputId": "eb3a5cab-c243-4922-f393-a5ed946c75b7"
   },
   "outputs": [
    {
     "data": {
      "text/html": [
       "<div>\n",
       "<style scoped>\n",
       "    .dataframe tbody tr th:only-of-type {\n",
       "        vertical-align: middle;\n",
       "    }\n",
       "\n",
       "    .dataframe tbody tr th {\n",
       "        vertical-align: top;\n",
       "    }\n",
       "\n",
       "    .dataframe thead th {\n",
       "        text-align: right;\n",
       "    }\n",
       "</style>\n",
       "<table border=\"1\" class=\"dataframe\">\n",
       "  <thead>\n",
       "    <tr style=\"text-align: right;\">\n",
       "      <th></th>\n",
       "      <th>list</th>\n",
       "      <th>tuple</th>\n",
       "      <th>set</th>\n",
       "      <th>dicts</th>\n",
       "    </tr>\n",
       "  </thead>\n",
       "  <tbody>\n",
       "    <tr>\n",
       "      <th>0</th>\n",
       "      <td>[1, 2]</td>\n",
       "      <td>(a, b)</td>\n",
       "      <td>{A, C, B}</td>\n",
       "      <td>{'A': [1, 2, 3]}</td>\n",
       "    </tr>\n",
       "    <tr>\n",
       "      <th>1</th>\n",
       "      <td>[3, 4]</td>\n",
       "      <td>(c, d)</td>\n",
       "      <td>{E, D}</td>\n",
       "      <td>{'B': [5, 6, 8]}</td>\n",
       "    </tr>\n",
       "    <tr>\n",
       "      <th>2</th>\n",
       "      <td>[5, 6]</td>\n",
       "      <td>(e, f)</td>\n",
       "      <td>{F}</td>\n",
       "      <td>{'C': [3, 9]}</td>\n",
       "    </tr>\n",
       "  </tbody>\n",
       "</table>\n",
       "</div>"
      ],
      "text/plain": [
       "     list   tuple        set             dicts\n",
       "0  [1, 2]  (a, b)  {A, C, B}  {'A': [1, 2, 3]}\n",
       "1  [3, 4]  (c, d)     {E, D}  {'B': [5, 6, 8]}\n",
       "2  [5, 6]  (e, f)        {F}     {'C': [3, 9]}"
      ]
     },
     "execution_count": 30,
     "metadata": {},
     "output_type": "execute_result"
    }
   ],
   "source": [
    "pd.DataFrame({'list' :[[1,2],[3,4],[5,6]],\n",
    "             'tuple' : [('a','b'), ('c','d'), ('e','f')],\n",
    "              'set' : [{'A','B','C'}, {'D','E'}, {'F'}], \n",
    "            'dicts' : [{'A': [1,2,3]}, {'B':[5,6,8]}, {'C': [3,9]}]})"
   ]
  },
  {
   "cell_type": "markdown",
   "metadata": {
    "id": "Bhx5Ninf7iuO"
   },
   "source": [
    "#### Working with a DataFrame\n",
    "\n",
    "You can extract particular columns of a `DataFrame` by name"
   ]
  },
  {
   "cell_type": "code",
   "execution_count": 31,
   "metadata": {
    "colab": {
     "base_uri": "https://localhost:8080/"
    },
    "executionInfo": {
     "elapsed": 408,
     "status": "ok",
     "timestamp": 1607189723162,
     "user": {
      "displayName": "Gaby Gerlach",
      "photoUrl": "",
      "userId": "11117434220237101401"
     },
     "user_tz": 300
    },
    "id": "xEa8dY8w7iuO",
    "name": "02-python-pandas-28",
    "outputId": "afa45466-7752-4854-e270-8ab5caf79d0e"
   },
   "outputs": [
    {
     "data": {
      "text/plain": [
       "0    yes\n",
       "1     no\n",
       "2     no\n",
       "3    yes\n",
       "4     no\n",
       "Name: E, dtype: category\n",
       "Categories (2, object): [no, yes]"
      ]
     },
     "execution_count": 31,
     "metadata": {},
     "output_type": "execute_result"
    }
   ],
   "source": [
    "df['E']"
   ]
  },
  {
   "cell_type": "code",
   "execution_count": 32,
   "metadata": {
    "colab": {
     "base_uri": "https://localhost:8080/"
    },
    "executionInfo": {
     "elapsed": 361,
     "status": "ok",
     "timestamp": 1607189723492,
     "user": {
      "displayName": "Gaby Gerlach",
      "photoUrl": "",
      "userId": "11117434220237101401"
     },
     "user_tz": 300
    },
    "id": "-ojuc9Km7iuO",
    "name": "02-python-pandas-29",
    "outputId": "f9ec3384-0524-461f-a0db-ef1c8100ddd0"
   },
   "outputs": [
    {
     "data": {
      "text/plain": [
       "0    0.958092\n",
       "1    0.883201\n",
       "2    0.295432\n",
       "3    0.512376\n",
       "4    0.088702\n",
       "Name: B, dtype: float64"
      ]
     },
     "execution_count": 32,
     "metadata": {},
     "output_type": "execute_result"
    }
   ],
   "source": [
    "df['B']"
   ]
  },
  {
   "cell_type": "markdown",
   "metadata": {
    "id": "-nBrwVQR7iuO"
   },
   "source": [
    "> There is also a shortcut for accessing single columns, using Python's dot (`.`) notation. Just note that this notation does not work for all column names. Columns which have spaces in the name or dashes (`-`) cannot be read with this method. For example `B-1 ` would not be possible like this."
   ]
  },
  {
   "cell_type": "code",
   "execution_count": 33,
   "metadata": {
    "colab": {
     "base_uri": "https://localhost:8080/"
    },
    "executionInfo": {
     "elapsed": 456,
     "status": "ok",
     "timestamp": 1607189724190,
     "user": {
      "displayName": "Gaby Gerlach",
      "photoUrl": "",
      "userId": "11117434220237101401"
     },
     "user_tz": 300
    },
    "id": "vrtsMzES7iuO",
    "name": "02-python-pandas-30",
    "outputId": "0727aeb4-a972-4a6d-bc4f-051f92f0f260"
   },
   "outputs": [
    {
     "data": {
      "text/plain": [
       "0    0.958092\n",
       "1    0.883201\n",
       "2    0.295432\n",
       "3    0.512376\n",
       "4    0.088702\n",
       "Name: B, dtype: float64"
      ]
     },
     "execution_count": 33,
     "metadata": {},
     "output_type": "execute_result"
    }
   ],
   "source": [
    "df.B"
   ]
  },
  {
   "cell_type": "markdown",
   "metadata": {
    "id": "txdawus-7iuO"
   },
   "source": [
    "> This notation can be more convenient if we need to perform operations on a single column. If we want to extract multiple columns, this notation will not work. Also, if we want to create new columns or replace existing columns, we need to use the array notation with the column name in quotes. "
   ]
  },
  {
   "cell_type": "markdown",
   "metadata": {
    "id": "G3PQYSmx7iuO"
   },
   "source": [
    "Let's look at slicing a `DataFrame`\n",
    "\n",
    "#### Extracting rows and columns\n",
    "\n",
    "There are two extractor functions in `pandas`:\n",
    "\n",
    "+ `loc` extracts by label (index label, column label, slice of labels, etc.\n",
    "+ `iloc` extracts by index (integers, slice objects, etc.\n"
   ]
  },
  {
   "cell_type": "code",
   "execution_count": 34,
   "metadata": {
    "colab": {
     "base_uri": "https://localhost:8080/",
     "height": 206
    },
    "executionInfo": {
     "elapsed": 309,
     "status": "ok",
     "timestamp": 1607189725019,
     "user": {
      "displayName": "Gaby Gerlach",
      "photoUrl": "",
      "userId": "11117434220237101401"
     },
     "user_tz": 300
    },
    "id": "bbYu1VH07iuO",
    "name": "02-python-pandas-31",
    "outputId": "66bef075-d8d4-4dc0-ad27-f3832a6269ce"
   },
   "outputs": [
    {
     "data": {
      "text/html": [
       "<div>\n",
       "<style scoped>\n",
       "    .dataframe tbody tr th:only-of-type {\n",
       "        vertical-align: middle;\n",
       "    }\n",
       "\n",
       "    .dataframe tbody tr th {\n",
       "        vertical-align: top;\n",
       "    }\n",
       "\n",
       "    .dataframe thead th {\n",
       "        text-align: right;\n",
       "    }\n",
       "</style>\n",
       "<table border=\"1\" class=\"dataframe\">\n",
       "  <thead>\n",
       "    <tr style=\"text-align: right;\">\n",
       "      <th></th>\n",
       "      <th>one</th>\n",
       "      <th>two</th>\n",
       "      <th>three</th>\n",
       "      <th>four</th>\n",
       "    </tr>\n",
       "  </thead>\n",
       "  <tbody>\n",
       "    <tr>\n",
       "      <th>a</th>\n",
       "      <td>5</td>\n",
       "      <td>3</td>\n",
       "      <td>2</td>\n",
       "      <td>8</td>\n",
       "    </tr>\n",
       "    <tr>\n",
       "      <th>b</th>\n",
       "      <td>9</td>\n",
       "      <td>3</td>\n",
       "      <td>0</td>\n",
       "      <td>5</td>\n",
       "    </tr>\n",
       "    <tr>\n",
       "      <th>c</th>\n",
       "      <td>8</td>\n",
       "      <td>4</td>\n",
       "      <td>3</td>\n",
       "      <td>3</td>\n",
       "    </tr>\n",
       "    <tr>\n",
       "      <th>d</th>\n",
       "      <td>5</td>\n",
       "      <td>2</td>\n",
       "      <td>7</td>\n",
       "      <td>1</td>\n",
       "    </tr>\n",
       "    <tr>\n",
       "      <th>e</th>\n",
       "      <td>6</td>\n",
       "      <td>7</td>\n",
       "      <td>8</td>\n",
       "      <td>7</td>\n",
       "    </tr>\n",
       "  </tbody>\n",
       "</table>\n",
       "</div>"
      ],
      "text/plain": [
       "   one  two  three  four\n",
       "a    5    3      2     8\n",
       "b    9    3      0     5\n",
       "c    8    4      3     3\n",
       "d    5    2      7     1\n",
       "e    6    7      8     7"
      ]
     },
     "execution_count": 34,
     "metadata": {},
     "output_type": "execute_result"
    }
   ],
   "source": [
    "df2 = pd.DataFrame(rng.randint(0,10, (5,4)), \n",
    "                  index = ['a','b','c','d','e'],\n",
    "                  columns = ['one','two','three','four'])\n",
    "df2"
   ]
  },
  {
   "cell_type": "markdown",
   "metadata": {
    "id": "hmbWjpT17iuO"
   },
   "source": [
    "First, let's see what naively slicing this `DataFrame` does."
   ]
  },
  {
   "cell_type": "code",
   "execution_count": 35,
   "metadata": {
    "colab": {
     "base_uri": "https://localhost:8080/"
    },
    "executionInfo": {
     "elapsed": 293,
     "status": "ok",
     "timestamp": 1607189725558,
     "user": {
      "displayName": "Gaby Gerlach",
      "photoUrl": "",
      "userId": "11117434220237101401"
     },
     "user_tz": 300
    },
    "id": "aCEaXSAY7iuO",
    "name": "02-python-pandas-32",
    "outputId": "b3d50d67-ca12-4ad2-ba8e-e63d98fcaa75"
   },
   "outputs": [
    {
     "data": {
      "text/plain": [
       "a    5\n",
       "b    9\n",
       "c    8\n",
       "d    5\n",
       "e    6\n",
       "Name: one, dtype: int64"
      ]
     },
     "execution_count": 35,
     "metadata": {},
     "output_type": "execute_result"
    }
   ],
   "source": [
    "df2['one']"
   ]
  },
  {
   "cell_type": "markdown",
   "metadata": {
    "id": "756Y98oB7iuO"
   },
   "source": [
    "Ok, that works. It grabs one column from the dataset. How about the dot notation?"
   ]
  },
  {
   "cell_type": "code",
   "execution_count": 36,
   "metadata": {
    "colab": {
     "base_uri": "https://localhost:8080/"
    },
    "executionInfo": {
     "elapsed": 540,
     "status": "ok",
     "timestamp": 1607189726335,
     "user": {
      "displayName": "Gaby Gerlach",
      "photoUrl": "",
      "userId": "11117434220237101401"
     },
     "user_tz": 300
    },
    "id": "1YpTX0vs7iuO",
    "name": "02-python-pandas-33",
    "outputId": "35e343d6-45cc-4edc-b853-a51c42ed8f50"
   },
   "outputs": [
    {
     "data": {
      "text/plain": [
       "a    5\n",
       "b    9\n",
       "c    8\n",
       "d    5\n",
       "e    6\n",
       "Name: one, dtype: int64"
      ]
     },
     "execution_count": 36,
     "metadata": {},
     "output_type": "execute_result"
    }
   ],
   "source": [
    "df2.one"
   ]
  },
  {
   "cell_type": "markdown",
   "metadata": {
    "id": "SlWBowVO7iuO"
   },
   "source": [
    "Let's see what this produces."
   ]
  },
  {
   "cell_type": "code",
   "execution_count": 37,
   "metadata": {
    "colab": {
     "base_uri": "https://localhost:8080/"
    },
    "executionInfo": {
     "elapsed": 328,
     "status": "ok",
     "timestamp": 1607189726642,
     "user": {
      "displayName": "Gaby Gerlach",
      "photoUrl": "",
      "userId": "11117434220237101401"
     },
     "user_tz": 300
    },
    "id": "bYGIhDkZ7iuO",
    "name": "02-python-pandas-34",
    "outputId": "11c116ca-1949-4c66-88e5-4944fe744b01"
   },
   "outputs": [
    {
     "data": {
      "text/plain": [
       "pandas.core.series.Series"
      ]
     },
     "execution_count": 37,
     "metadata": {},
     "output_type": "execute_result"
    }
   ],
   "source": [
    "type(df2.one)"
   ]
  },
  {
   "cell_type": "markdown",
   "metadata": {
    "id": "2FfQccbV7iuO"
   },
   "source": [
    "So this is a series, so we can potentially do slicing of this series."
   ]
  },
  {
   "cell_type": "code",
   "execution_count": 38,
   "metadata": {
    "colab": {
     "base_uri": "https://localhost:8080/"
    },
    "executionInfo": {
     "elapsed": 378,
     "status": "ok",
     "timestamp": 1607189727359,
     "user": {
      "displayName": "Gaby Gerlach",
      "photoUrl": "",
      "userId": "11117434220237101401"
     },
     "user_tz": 300
    },
    "id": "z9yFGw107iuO",
    "name": "02-python-pandas-35",
    "outputId": "078bde4d-f9b2-41a4-d486-7eb01b31c31b"
   },
   "outputs": [
    {
     "data": {
      "text/plain": [
       "9"
      ]
     },
     "execution_count": 38,
     "metadata": {},
     "output_type": "execute_result"
    }
   ],
   "source": [
    "df2.one['b']"
   ]
  },
  {
   "cell_type": "code",
   "execution_count": 39,
   "metadata": {
    "colab": {
     "base_uri": "https://localhost:8080/"
    },
    "executionInfo": {
     "elapsed": 297,
     "status": "ok",
     "timestamp": 1607189727542,
     "user": {
      "displayName": "Gaby Gerlach",
      "photoUrl": "",
      "userId": "11117434220237101401"
     },
     "user_tz": 300
    },
    "id": "L8ziIfkw7iuO",
    "name": "02-python-pandas-36",
    "outputId": "9290ca63-384d-40c5-f4e1-9e24444ca256"
   },
   "outputs": [
    {
     "data": {
      "text/plain": [
       "b    9\n",
       "c    8\n",
       "d    5\n",
       "Name: one, dtype: int64"
      ]
     },
     "execution_count": 39,
     "metadata": {},
     "output_type": "execute_result"
    }
   ],
   "source": [
    "df2.one['b':'d']"
   ]
  },
  {
   "cell_type": "code",
   "execution_count": 40,
   "metadata": {
    "colab": {
     "base_uri": "https://localhost:8080/"
    },
    "executionInfo": {
     "elapsed": 343,
     "status": "ok",
     "timestamp": 1607189727857,
     "user": {
      "displayName": "Gaby Gerlach",
      "photoUrl": "",
      "userId": "11117434220237101401"
     },
     "user_tz": 300
    },
    "id": "ePN4JeA37iuO",
    "name": "02-python-pandas-37",
    "outputId": "6e419abb-40ef-4119-a526-97498792f68e"
   },
   "outputs": [
    {
     "data": {
      "text/plain": [
       "a    5\n",
       "b    9\n",
       "c    8\n",
       "Name: one, dtype: int64"
      ]
     },
     "execution_count": 40,
     "metadata": {},
     "output_type": "execute_result"
    }
   ],
   "source": [
    "df2.one[:3]"
   ]
  },
  {
   "cell_type": "markdown",
   "metadata": {
    "id": "-f_hsBTP7iuO"
   },
   "source": [
    "Ok, so we have all the `Series` slicing available. The problem here is in semantics, in that we are grabbing one column and then slicing the rows. That doesn't quite work with our sense that a `DataFrame` is a rectangle with rows and columns, and we tend to think of rows, then columns. \n",
    "\n",
    "Let's see if we can do column slicing with this. "
   ]
  },
  {
   "cell_type": "code",
   "execution_count": 41,
   "metadata": {
    "colab": {
     "base_uri": "https://localhost:8080/",
     "height": 206
    },
    "executionInfo": {
     "elapsed": 550,
     "status": "ok",
     "timestamp": 1607189728625,
     "user": {
      "displayName": "Gaby Gerlach",
      "photoUrl": "",
      "userId": "11117434220237101401"
     },
     "user_tz": 300
    },
    "id": "khQLBlci7iuO",
    "name": "02-python-pandas-38",
    "outputId": "21ba35af-bf19-44e3-c706-9c77c231648f"
   },
   "outputs": [
    {
     "data": {
      "text/html": [
       "<div>\n",
       "<style scoped>\n",
       "    .dataframe tbody tr th:only-of-type {\n",
       "        vertical-align: middle;\n",
       "    }\n",
       "\n",
       "    .dataframe tbody tr th {\n",
       "        vertical-align: top;\n",
       "    }\n",
       "\n",
       "    .dataframe thead th {\n",
       "        text-align: right;\n",
       "    }\n",
       "</style>\n",
       "<table border=\"1\" class=\"dataframe\">\n",
       "  <thead>\n",
       "    <tr style=\"text-align: right;\">\n",
       "      <th></th>\n",
       "      <th>one</th>\n",
       "      <th>two</th>\n",
       "      <th>three</th>\n",
       "      <th>four</th>\n",
       "    </tr>\n",
       "  </thead>\n",
       "  <tbody>\n",
       "    <tr>\n",
       "      <th>a</th>\n",
       "      <td>5</td>\n",
       "      <td>3</td>\n",
       "      <td>2</td>\n",
       "      <td>8</td>\n",
       "    </tr>\n",
       "    <tr>\n",
       "      <th>b</th>\n",
       "      <td>9</td>\n",
       "      <td>3</td>\n",
       "      <td>0</td>\n",
       "      <td>5</td>\n",
       "    </tr>\n",
       "    <tr>\n",
       "      <th>c</th>\n",
       "      <td>8</td>\n",
       "      <td>4</td>\n",
       "      <td>3</td>\n",
       "      <td>3</td>\n",
       "    </tr>\n",
       "    <tr>\n",
       "      <th>d</th>\n",
       "      <td>5</td>\n",
       "      <td>2</td>\n",
       "      <td>7</td>\n",
       "      <td>1</td>\n",
       "    </tr>\n",
       "    <tr>\n",
       "      <th>e</th>\n",
       "      <td>6</td>\n",
       "      <td>7</td>\n",
       "      <td>8</td>\n",
       "      <td>7</td>\n",
       "    </tr>\n",
       "  </tbody>\n",
       "</table>\n",
       "</div>"
      ],
      "text/plain": [
       "   one  two  three  four\n",
       "a    5    3      2     8\n",
       "b    9    3      0     5\n",
       "c    8    4      3     3\n",
       "d    5    2      7     1\n",
       "e    6    7      8     7"
      ]
     },
     "execution_count": 41,
     "metadata": {},
     "output_type": "execute_result"
    }
   ],
   "source": [
    "df2[:'two']"
   ]
  },
  {
   "cell_type": "markdown",
   "metadata": {
    "id": "AmEz-P8J7iuO"
   },
   "source": [
    "That's not what we want, of course. It's giving back the entire data frame. We'll come back to this."
   ]
  },
  {
   "cell_type": "code",
   "execution_count": 42,
   "metadata": {
    "colab": {
     "base_uri": "https://localhost:8080/",
     "height": 206
    },
    "executionInfo": {
     "elapsed": 449,
     "status": "ok",
     "timestamp": 1607189728962,
     "user": {
      "displayName": "Gaby Gerlach",
      "photoUrl": "",
      "userId": "11117434220237101401"
     },
     "user_tz": 300
    },
    "id": "SLMxLpc67iuO",
    "name": "02-python-pandas-39",
    "outputId": "d4db5ba9-5499-44ef-e11b-673f68b885cf"
   },
   "outputs": [
    {
     "data": {
      "text/html": [
       "<div>\n",
       "<style scoped>\n",
       "    .dataframe tbody tr th:only-of-type {\n",
       "        vertical-align: middle;\n",
       "    }\n",
       "\n",
       "    .dataframe tbody tr th {\n",
       "        vertical-align: top;\n",
       "    }\n",
       "\n",
       "    .dataframe thead th {\n",
       "        text-align: right;\n",
       "    }\n",
       "</style>\n",
       "<table border=\"1\" class=\"dataframe\">\n",
       "  <thead>\n",
       "    <tr style=\"text-align: right;\">\n",
       "      <th></th>\n",
       "      <th>one</th>\n",
       "      <th>three</th>\n",
       "    </tr>\n",
       "  </thead>\n",
       "  <tbody>\n",
       "    <tr>\n",
       "      <th>a</th>\n",
       "      <td>5</td>\n",
       "      <td>2</td>\n",
       "    </tr>\n",
       "    <tr>\n",
       "      <th>b</th>\n",
       "      <td>9</td>\n",
       "      <td>0</td>\n",
       "    </tr>\n",
       "    <tr>\n",
       "      <th>c</th>\n",
       "      <td>8</td>\n",
       "      <td>3</td>\n",
       "    </tr>\n",
       "    <tr>\n",
       "      <th>d</th>\n",
       "      <td>5</td>\n",
       "      <td>7</td>\n",
       "    </tr>\n",
       "    <tr>\n",
       "      <th>e</th>\n",
       "      <td>6</td>\n",
       "      <td>8</td>\n",
       "    </tr>\n",
       "  </tbody>\n",
       "</table>\n",
       "</div>"
      ],
      "text/plain": [
       "   one  three\n",
       "a    5      2\n",
       "b    9      0\n",
       "c    8      3\n",
       "d    5      7\n",
       "e    6      8"
      ]
     },
     "execution_count": 42,
     "metadata": {},
     "output_type": "execute_result"
    }
   ],
   "source": [
    "df2[['one','three']]"
   ]
  },
  {
   "cell_type": "markdown",
   "metadata": {
    "id": "CKYuU_Rw7iuO"
   },
   "source": [
    "That works correctly though. We can give a list of column names. Ok. \n",
    "\n",
    "How about row slices?"
   ]
  },
  {
   "cell_type": "code",
   "execution_count": 43,
   "metadata": {
    "colab": {
     "base_uri": "https://localhost:8080/",
     "height": 143
    },
    "executionInfo": {
     "elapsed": 461,
     "status": "ok",
     "timestamp": 1607189729413,
     "user": {
      "displayName": "Gaby Gerlach",
      "photoUrl": "",
      "userId": "11117434220237101401"
     },
     "user_tz": 300
    },
    "id": "EtddJfNW7iuO",
    "name": "02-python-pandas-40",
    "outputId": "6de874d1-d2ab-45fa-eb6c-88f12c95a52f"
   },
   "outputs": [
    {
     "data": {
      "text/html": [
       "<div>\n",
       "<style scoped>\n",
       "    .dataframe tbody tr th:only-of-type {\n",
       "        vertical-align: middle;\n",
       "    }\n",
       "\n",
       "    .dataframe tbody tr th {\n",
       "        vertical-align: top;\n",
       "    }\n",
       "\n",
       "    .dataframe thead th {\n",
       "        text-align: right;\n",
       "    }\n",
       "</style>\n",
       "<table border=\"1\" class=\"dataframe\">\n",
       "  <thead>\n",
       "    <tr style=\"text-align: right;\">\n",
       "      <th></th>\n",
       "      <th>one</th>\n",
       "      <th>two</th>\n",
       "      <th>three</th>\n",
       "      <th>four</th>\n",
       "    </tr>\n",
       "  </thead>\n",
       "  <tbody>\n",
       "    <tr>\n",
       "      <th>a</th>\n",
       "      <td>5</td>\n",
       "      <td>3</td>\n",
       "      <td>2</td>\n",
       "      <td>8</td>\n",
       "    </tr>\n",
       "    <tr>\n",
       "      <th>b</th>\n",
       "      <td>9</td>\n",
       "      <td>3</td>\n",
       "      <td>0</td>\n",
       "      <td>5</td>\n",
       "    </tr>\n",
       "    <tr>\n",
       "      <th>c</th>\n",
       "      <td>8</td>\n",
       "      <td>4</td>\n",
       "      <td>3</td>\n",
       "      <td>3</td>\n",
       "    </tr>\n",
       "  </tbody>\n",
       "</table>\n",
       "</div>"
      ],
      "text/plain": [
       "   one  two  three  four\n",
       "a    5    3      2     8\n",
       "b    9    3      0     5\n",
       "c    8    4      3     3"
      ]
     },
     "execution_count": 43,
     "metadata": {},
     "output_type": "execute_result"
    }
   ],
   "source": [
    "#df2['a'] # Doesn't work\n",
    "df2['a':'c'] "
   ]
  },
  {
   "cell_type": "markdown",
   "metadata": {
    "id": "5-emBYox7iuO"
   },
   "source": [
    "Ok, that works. It slices rows, but includes the largest index, like a `Series` but unlike `numpy` arrays. "
   ]
  },
  {
   "cell_type": "code",
   "execution_count": 44,
   "metadata": {
    "colab": {
     "base_uri": "https://localhost:8080/",
     "height": 112
    },
    "executionInfo": {
     "elapsed": 555,
     "status": "ok",
     "timestamp": 1607189729939,
     "user": {
      "displayName": "Gaby Gerlach",
      "photoUrl": "",
      "userId": "11117434220237101401"
     },
     "user_tz": 300
    },
    "id": "fO4MjGp97iuO",
    "name": "02-python-pandas-41",
    "outputId": "11718cac-c5b5-4e47-b156-5451ae660ecc"
   },
   "outputs": [
    {
     "data": {
      "text/html": [
       "<div>\n",
       "<style scoped>\n",
       "    .dataframe tbody tr th:only-of-type {\n",
       "        vertical-align: middle;\n",
       "    }\n",
       "\n",
       "    .dataframe tbody tr th {\n",
       "        vertical-align: top;\n",
       "    }\n",
       "\n",
       "    .dataframe thead th {\n",
       "        text-align: right;\n",
       "    }\n",
       "</style>\n",
       "<table border=\"1\" class=\"dataframe\">\n",
       "  <thead>\n",
       "    <tr style=\"text-align: right;\">\n",
       "      <th></th>\n",
       "      <th>one</th>\n",
       "      <th>two</th>\n",
       "      <th>three</th>\n",
       "      <th>four</th>\n",
       "    </tr>\n",
       "  </thead>\n",
       "  <tbody>\n",
       "    <tr>\n",
       "      <th>a</th>\n",
       "      <td>5</td>\n",
       "      <td>3</td>\n",
       "      <td>2</td>\n",
       "      <td>8</td>\n",
       "    </tr>\n",
       "    <tr>\n",
       "      <th>b</th>\n",
       "      <td>9</td>\n",
       "      <td>3</td>\n",
       "      <td>0</td>\n",
       "      <td>5</td>\n",
       "    </tr>\n",
       "  </tbody>\n",
       "</table>\n",
       "</div>"
      ],
      "text/plain": [
       "   one  two  three  four\n",
       "a    5    3      2     8\n",
       "b    9    3      0     5"
      ]
     },
     "execution_count": 44,
     "metadata": {},
     "output_type": "execute_result"
    }
   ],
   "source": [
    "df2[0:2]"
   ]
  },
  {
   "cell_type": "markdown",
   "metadata": {
    "id": "w9bU6xYM7iuO"
   },
   "source": [
    "Slices by location work too, but use the `numpy` slicing rules. "
   ]
  },
  {
   "cell_type": "markdown",
   "metadata": {
    "id": "X6liTBkj7iuO"
   },
   "source": [
    "This entire extraction method becomes confusing. Let's simplify things for this, and then move on to more consistent ways to extract elements of a `DataFrame`. Let's agree on two things. If we're going the direct extraction route, \n",
    "\n",
    "1. We will extract single columns of a `DataFrame` with `[]` or `.`, i.e., `df2['one']` or `df2.one`\n",
    "1. We will extract slices of rows of a `DataFrame` using location only, i.e., `df2[:3]`. \n",
    "\n",
    "For everything else, we'll use two functions, `loc` and `iloc`.\n",
    "\n",
    "+ `loc` extracts elements like a matrix, using index and columns\n",
    "+ `iloc` extracts elements like a matrix, using location"
   ]
  },
  {
   "cell_type": "code",
   "execution_count": 45,
   "metadata": {
    "colab": {
     "base_uri": "https://localhost:8080/",
     "height": 206
    },
    "executionInfo": {
     "elapsed": 451,
     "status": "ok",
     "timestamp": 1607189730426,
     "user": {
      "displayName": "Gaby Gerlach",
      "photoUrl": "",
      "userId": "11117434220237101401"
     },
     "user_tz": 300
    },
    "id": "KU0HTiUK7iuO",
    "name": "02-python-pandas-42",
    "outputId": "2bf8a5dd-11d1-4b20-f697-4da3de44cc6f"
   },
   "outputs": [
    {
     "data": {
      "text/html": [
       "<div>\n",
       "<style scoped>\n",
       "    .dataframe tbody tr th:only-of-type {\n",
       "        vertical-align: middle;\n",
       "    }\n",
       "\n",
       "    .dataframe tbody tr th {\n",
       "        vertical-align: top;\n",
       "    }\n",
       "\n",
       "    .dataframe thead th {\n",
       "        text-align: right;\n",
       "    }\n",
       "</style>\n",
       "<table border=\"1\" class=\"dataframe\">\n",
       "  <thead>\n",
       "    <tr style=\"text-align: right;\">\n",
       "      <th></th>\n",
       "      <th>one</th>\n",
       "      <th>two</th>\n",
       "      <th>three</th>\n",
       "    </tr>\n",
       "  </thead>\n",
       "  <tbody>\n",
       "    <tr>\n",
       "      <th>a</th>\n",
       "      <td>5</td>\n",
       "      <td>3</td>\n",
       "      <td>2</td>\n",
       "    </tr>\n",
       "    <tr>\n",
       "      <th>b</th>\n",
       "      <td>9</td>\n",
       "      <td>3</td>\n",
       "      <td>0</td>\n",
       "    </tr>\n",
       "    <tr>\n",
       "      <th>c</th>\n",
       "      <td>8</td>\n",
       "      <td>4</td>\n",
       "      <td>3</td>\n",
       "    </tr>\n",
       "    <tr>\n",
       "      <th>d</th>\n",
       "      <td>5</td>\n",
       "      <td>2</td>\n",
       "      <td>7</td>\n",
       "    </tr>\n",
       "    <tr>\n",
       "      <th>e</th>\n",
       "      <td>6</td>\n",
       "      <td>7</td>\n",
       "      <td>8</td>\n",
       "    </tr>\n",
       "  </tbody>\n",
       "</table>\n",
       "</div>"
      ],
      "text/plain": [
       "   one  two  three\n",
       "a    5    3      2\n",
       "b    9    3      0\n",
       "c    8    4      3\n",
       "d    5    2      7\n",
       "e    6    7      8"
      ]
     },
     "execution_count": 45,
     "metadata": {},
     "output_type": "execute_result"
    }
   ],
   "source": [
    "df2.loc[:,'one':'three']"
   ]
  },
  {
   "cell_type": "code",
   "execution_count": 46,
   "metadata": {
    "colab": {
     "base_uri": "https://localhost:8080/",
     "height": 175
    },
    "executionInfo": {
     "elapsed": 346,
     "status": "ok",
     "timestamp": 1607189731168,
     "user": {
      "displayName": "Gaby Gerlach",
      "photoUrl": "",
      "userId": "11117434220237101401"
     },
     "user_tz": 300
    },
    "id": "H9TWj9j97iuO",
    "name": "02-python-pandas-43",
    "outputId": "45ff3ade-fa5d-47aa-e908-c67c8edda23d"
   },
   "outputs": [
    {
     "data": {
      "text/html": [
       "<div>\n",
       "<style scoped>\n",
       "    .dataframe tbody tr th:only-of-type {\n",
       "        vertical-align: middle;\n",
       "    }\n",
       "\n",
       "    .dataframe tbody tr th {\n",
       "        vertical-align: top;\n",
       "    }\n",
       "\n",
       "    .dataframe thead th {\n",
       "        text-align: right;\n",
       "    }\n",
       "</style>\n",
       "<table border=\"1\" class=\"dataframe\">\n",
       "  <thead>\n",
       "    <tr style=\"text-align: right;\">\n",
       "      <th></th>\n",
       "      <th>one</th>\n",
       "      <th>two</th>\n",
       "      <th>three</th>\n",
       "      <th>four</th>\n",
       "    </tr>\n",
       "  </thead>\n",
       "  <tbody>\n",
       "    <tr>\n",
       "      <th>a</th>\n",
       "      <td>5</td>\n",
       "      <td>3</td>\n",
       "      <td>2</td>\n",
       "      <td>8</td>\n",
       "    </tr>\n",
       "    <tr>\n",
       "      <th>b</th>\n",
       "      <td>9</td>\n",
       "      <td>3</td>\n",
       "      <td>0</td>\n",
       "      <td>5</td>\n",
       "    </tr>\n",
       "    <tr>\n",
       "      <th>c</th>\n",
       "      <td>8</td>\n",
       "      <td>4</td>\n",
       "      <td>3</td>\n",
       "      <td>3</td>\n",
       "    </tr>\n",
       "    <tr>\n",
       "      <th>d</th>\n",
       "      <td>5</td>\n",
       "      <td>2</td>\n",
       "      <td>7</td>\n",
       "      <td>1</td>\n",
       "    </tr>\n",
       "  </tbody>\n",
       "</table>\n",
       "</div>"
      ],
      "text/plain": [
       "   one  two  three  four\n",
       "a    5    3      2     8\n",
       "b    9    3      0     5\n",
       "c    8    4      3     3\n",
       "d    5    2      7     1"
      ]
     },
     "execution_count": 46,
     "metadata": {},
     "output_type": "execute_result"
    }
   ],
   "source": [
    "df2.loc['a':'d',:]"
   ]
  },
  {
   "cell_type": "code",
   "execution_count": 47,
   "metadata": {
    "colab": {
     "base_uri": "https://localhost:8080/"
    },
    "executionInfo": {
     "elapsed": 497,
     "status": "ok",
     "timestamp": 1607189731543,
     "user": {
      "displayName": "Gaby Gerlach",
      "photoUrl": "",
      "userId": "11117434220237101401"
     },
     "user_tz": 300
    },
    "id": "Y8ZrjpZM7iuO",
    "name": "02-python-pandas-44",
    "outputId": "52c39696-3957-4b97-c986-b80b12535c7a"
   },
   "outputs": [
    {
     "data": {
      "text/plain": [
       "0"
      ]
     },
     "execution_count": 47,
     "metadata": {},
     "output_type": "execute_result"
    }
   ],
   "source": [
    "df2.loc['b', 'three']"
   ]
  },
  {
   "cell_type": "markdown",
   "metadata": {
    "id": "2sWcNsWM7iuO"
   },
   "source": [
    "So `loc` works just like a matrix, but with `pandas` slicing rules (include largest index)"
   ]
  },
  {
   "cell_type": "code",
   "execution_count": 48,
   "metadata": {
    "colab": {
     "base_uri": "https://localhost:8080/",
     "height": 206
    },
    "executionInfo": {
     "elapsed": 364,
     "status": "ok",
     "timestamp": 1607189731874,
     "user": {
      "displayName": "Gaby Gerlach",
      "photoUrl": "",
      "userId": "11117434220237101401"
     },
     "user_tz": 300
    },
    "id": "RphGhiEJ7iuO",
    "name": "02-python-pandas-45",
    "outputId": "28dd8877-e59e-45b3-ae10-fb5791474803"
   },
   "outputs": [
    {
     "data": {
      "text/html": [
       "<div>\n",
       "<style scoped>\n",
       "    .dataframe tbody tr th:only-of-type {\n",
       "        vertical-align: middle;\n",
       "    }\n",
       "\n",
       "    .dataframe tbody tr th {\n",
       "        vertical-align: top;\n",
       "    }\n",
       "\n",
       "    .dataframe thead th {\n",
       "        text-align: right;\n",
       "    }\n",
       "</style>\n",
       "<table border=\"1\" class=\"dataframe\">\n",
       "  <thead>\n",
       "    <tr style=\"text-align: right;\">\n",
       "      <th></th>\n",
       "      <th>two</th>\n",
       "      <th>three</th>\n",
       "      <th>four</th>\n",
       "    </tr>\n",
       "  </thead>\n",
       "  <tbody>\n",
       "    <tr>\n",
       "      <th>a</th>\n",
       "      <td>3</td>\n",
       "      <td>2</td>\n",
       "      <td>8</td>\n",
       "    </tr>\n",
       "    <tr>\n",
       "      <th>b</th>\n",
       "      <td>3</td>\n",
       "      <td>0</td>\n",
       "      <td>5</td>\n",
       "    </tr>\n",
       "    <tr>\n",
       "      <th>c</th>\n",
       "      <td>4</td>\n",
       "      <td>3</td>\n",
       "      <td>3</td>\n",
       "    </tr>\n",
       "    <tr>\n",
       "      <th>d</th>\n",
       "      <td>2</td>\n",
       "      <td>7</td>\n",
       "      <td>1</td>\n",
       "    </tr>\n",
       "    <tr>\n",
       "      <th>e</th>\n",
       "      <td>7</td>\n",
       "      <td>8</td>\n",
       "      <td>7</td>\n",
       "    </tr>\n",
       "  </tbody>\n",
       "</table>\n",
       "</div>"
      ],
      "text/plain": [
       "   two  three  four\n",
       "a    3      2     8\n",
       "b    3      0     5\n",
       "c    4      3     3\n",
       "d    2      7     1\n",
       "e    7      8     7"
      ]
     },
     "execution_count": 48,
     "metadata": {},
     "output_type": "execute_result"
    }
   ],
   "source": [
    "df2.iloc[:,1:4]"
   ]
  },
  {
   "cell_type": "code",
   "execution_count": 49,
   "metadata": {
    "colab": {
     "base_uri": "https://localhost:8080/",
     "height": 112
    },
    "executionInfo": {
     "elapsed": 429,
     "status": "ok",
     "timestamp": 1607189732165,
     "user": {
      "displayName": "Gaby Gerlach",
      "photoUrl": "",
      "userId": "11117434220237101401"
     },
     "user_tz": 300
    },
    "id": "dzxkWtcB7iuO",
    "name": "02-python-pandas-46",
    "outputId": "eace85b0-f084-4ab3-d424-e0d8617cf81b"
   },
   "outputs": [
    {
     "data": {
      "text/html": [
       "<div>\n",
       "<style scoped>\n",
       "    .dataframe tbody tr th:only-of-type {\n",
       "        vertical-align: middle;\n",
       "    }\n",
       "\n",
       "    .dataframe tbody tr th {\n",
       "        vertical-align: top;\n",
       "    }\n",
       "\n",
       "    .dataframe thead th {\n",
       "        text-align: right;\n",
       "    }\n",
       "</style>\n",
       "<table border=\"1\" class=\"dataframe\">\n",
       "  <thead>\n",
       "    <tr style=\"text-align: right;\">\n",
       "      <th></th>\n",
       "      <th>one</th>\n",
       "      <th>two</th>\n",
       "      <th>three</th>\n",
       "      <th>four</th>\n",
       "    </tr>\n",
       "  </thead>\n",
       "  <tbody>\n",
       "    <tr>\n",
       "      <th>b</th>\n",
       "      <td>9</td>\n",
       "      <td>3</td>\n",
       "      <td>0</td>\n",
       "      <td>5</td>\n",
       "    </tr>\n",
       "    <tr>\n",
       "      <th>c</th>\n",
       "      <td>8</td>\n",
       "      <td>4</td>\n",
       "      <td>3</td>\n",
       "      <td>3</td>\n",
       "    </tr>\n",
       "  </tbody>\n",
       "</table>\n",
       "</div>"
      ],
      "text/plain": [
       "   one  two  three  four\n",
       "b    9    3      0     5\n",
       "c    8    4      3     3"
      ]
     },
     "execution_count": 49,
     "metadata": {},
     "output_type": "execute_result"
    }
   ],
   "source": [
    "df2.iloc[1:3,:]"
   ]
  },
  {
   "cell_type": "code",
   "execution_count": 50,
   "metadata": {
    "colab": {
     "base_uri": "https://localhost:8080/",
     "height": 112
    },
    "executionInfo": {
     "elapsed": 489,
     "status": "ok",
     "timestamp": 1607189732462,
     "user": {
      "displayName": "Gaby Gerlach",
      "photoUrl": "",
      "userId": "11117434220237101401"
     },
     "user_tz": 300
    },
    "id": "aMBcKlAq7iuO",
    "name": "02-python-pandas-47",
    "outputId": "8ac40a5e-6a76-4668-d876-71cb061be5e3"
   },
   "outputs": [
    {
     "data": {
      "text/html": [
       "<div>\n",
       "<style scoped>\n",
       "    .dataframe tbody tr th:only-of-type {\n",
       "        vertical-align: middle;\n",
       "    }\n",
       "\n",
       "    .dataframe tbody tr th {\n",
       "        vertical-align: top;\n",
       "    }\n",
       "\n",
       "    .dataframe thead th {\n",
       "        text-align: right;\n",
       "    }\n",
       "</style>\n",
       "<table border=\"1\" class=\"dataframe\">\n",
       "  <thead>\n",
       "    <tr style=\"text-align: right;\">\n",
       "      <th></th>\n",
       "      <th>two</th>\n",
       "      <th>three</th>\n",
       "      <th>four</th>\n",
       "    </tr>\n",
       "  </thead>\n",
       "  <tbody>\n",
       "    <tr>\n",
       "      <th>b</th>\n",
       "      <td>3</td>\n",
       "      <td>0</td>\n",
       "      <td>5</td>\n",
       "    </tr>\n",
       "    <tr>\n",
       "      <th>c</th>\n",
       "      <td>4</td>\n",
       "      <td>3</td>\n",
       "      <td>3</td>\n",
       "    </tr>\n",
       "  </tbody>\n",
       "</table>\n",
       "</div>"
      ],
      "text/plain": [
       "   two  three  four\n",
       "b    3      0     5\n",
       "c    4      3     3"
      ]
     },
     "execution_count": 50,
     "metadata": {},
     "output_type": "execute_result"
    }
   ],
   "source": [
    "df2.iloc[1:3, 1:4]"
   ]
  },
  {
   "cell_type": "markdown",
   "metadata": {
    "id": "dwFSg_Yu7iuO"
   },
   "source": [
    "`iloc` slices like a matrix, but uses `numpy` slicing conventions (does **not** include highest index)\n",
    "\n",
    "If we want to extract a single element from a dataset, there are two functions available, `iat` and `at`, with behavior corresponding to `iloc` and `loc`, respectively."
   ]
  },
  {
   "cell_type": "code",
   "execution_count": 51,
   "metadata": {
    "colab": {
     "base_uri": "https://localhost:8080/"
    },
    "executionInfo": {
     "elapsed": 841,
     "status": "ok",
     "timestamp": 1607189733381,
     "user": {
      "displayName": "Gaby Gerlach",
      "photoUrl": "",
      "userId": "11117434220237101401"
     },
     "user_tz": 300
    },
    "id": "mVrpuMPg7iuO",
    "outputId": "6027a578-99b8-467d-858f-f485688c724e"
   },
   "outputs": [
    {
     "data": {
      "text/plain": [
       "3"
      ]
     },
     "execution_count": 51,
     "metadata": {},
     "output_type": "execute_result"
    }
   ],
   "source": [
    "df2.iat[2,3]"
   ]
  },
  {
   "cell_type": "code",
   "execution_count": 52,
   "metadata": {
    "colab": {
     "base_uri": "https://localhost:8080/"
    },
    "executionInfo": {
     "elapsed": 564,
     "status": "ok",
     "timestamp": 1607189733382,
     "user": {
      "displayName": "Gaby Gerlach",
      "photoUrl": "",
      "userId": "11117434220237101401"
     },
     "user_tz": 300
    },
    "id": "w77YO2I57iuO",
    "lines_to_next_cell": 2,
    "outputId": "56613b75-eeb7-4497-f13d-5bdedafa4b3a"
   },
   "outputs": [
    {
     "data": {
      "text/plain": [
       "0"
      ]
     },
     "execution_count": 52,
     "metadata": {},
     "output_type": "execute_result"
    }
   ],
   "source": [
    "df2.at['b','three']"
   ]
  },
  {
   "cell_type": "markdown",
   "metadata": {
    "id": "NrW8vGID7iuO"
   },
   "source": [
    "#### Boolean selection\n",
    "\n",
    "We can also use tests to extract data from a `DataFrame`. For example, we can extract only rows where column labeled `one` is greater than 3. "
   ]
  },
  {
   "cell_type": "code",
   "execution_count": 53,
   "metadata": {
    "colab": {
     "base_uri": "https://localhost:8080/",
     "height": 206
    },
    "executionInfo": {
     "elapsed": 340,
     "status": "ok",
     "timestamp": 1607189733585,
     "user": {
      "displayName": "Gaby Gerlach",
      "photoUrl": "",
      "userId": "11117434220237101401"
     },
     "user_tz": 300
    },
    "id": "aSdPEKE77iuO",
    "name": "02-python-pandas-48",
    "outputId": "3923ece6-e15e-4782-c9dd-12d2abcc5977"
   },
   "outputs": [
    {
     "data": {
      "text/html": [
       "<div>\n",
       "<style scoped>\n",
       "    .dataframe tbody tr th:only-of-type {\n",
       "        vertical-align: middle;\n",
       "    }\n",
       "\n",
       "    .dataframe tbody tr th {\n",
       "        vertical-align: top;\n",
       "    }\n",
       "\n",
       "    .dataframe thead th {\n",
       "        text-align: right;\n",
       "    }\n",
       "</style>\n",
       "<table border=\"1\" class=\"dataframe\">\n",
       "  <thead>\n",
       "    <tr style=\"text-align: right;\">\n",
       "      <th></th>\n",
       "      <th>one</th>\n",
       "      <th>two</th>\n",
       "      <th>three</th>\n",
       "      <th>four</th>\n",
       "    </tr>\n",
       "  </thead>\n",
       "  <tbody>\n",
       "    <tr>\n",
       "      <th>a</th>\n",
       "      <td>5</td>\n",
       "      <td>3</td>\n",
       "      <td>2</td>\n",
       "      <td>8</td>\n",
       "    </tr>\n",
       "    <tr>\n",
       "      <th>b</th>\n",
       "      <td>9</td>\n",
       "      <td>3</td>\n",
       "      <td>0</td>\n",
       "      <td>5</td>\n",
       "    </tr>\n",
       "    <tr>\n",
       "      <th>c</th>\n",
       "      <td>8</td>\n",
       "      <td>4</td>\n",
       "      <td>3</td>\n",
       "      <td>3</td>\n",
       "    </tr>\n",
       "    <tr>\n",
       "      <th>d</th>\n",
       "      <td>5</td>\n",
       "      <td>2</td>\n",
       "      <td>7</td>\n",
       "      <td>1</td>\n",
       "    </tr>\n",
       "    <tr>\n",
       "      <th>e</th>\n",
       "      <td>6</td>\n",
       "      <td>7</td>\n",
       "      <td>8</td>\n",
       "      <td>7</td>\n",
       "    </tr>\n",
       "  </tbody>\n",
       "</table>\n",
       "</div>"
      ],
      "text/plain": [
       "   one  two  three  four\n",
       "a    5    3      2     8\n",
       "b    9    3      0     5\n",
       "c    8    4      3     3\n",
       "d    5    2      7     1\n",
       "e    6    7      8     7"
      ]
     },
     "execution_count": 53,
     "metadata": {},
     "output_type": "execute_result"
    }
   ],
   "source": [
    "df2[df2.one > 3]"
   ]
  },
  {
   "cell_type": "markdown",
   "metadata": {
    "id": "PbG5C8Y57iuP"
   },
   "source": [
    "We can also do composite tests. Here we ask for rows where `one` is greater than 3 and `three` is less than 9"
   ]
  },
  {
   "cell_type": "code",
   "execution_count": 54,
   "metadata": {
    "colab": {
     "base_uri": "https://localhost:8080/",
     "height": 206
    },
    "executionInfo": {
     "elapsed": 245,
     "status": "ok",
     "timestamp": 1607189734193,
     "user": {
      "displayName": "Gaby Gerlach",
      "photoUrl": "",
      "userId": "11117434220237101401"
     },
     "user_tz": 300
    },
    "id": "PajSpyXB7iuP",
    "name": "02-python-pandas-49",
    "outputId": "1e009de3-0893-482a-acee-faf3f5a8613b"
   },
   "outputs": [
    {
     "data": {
      "text/html": [
       "<div>\n",
       "<style scoped>\n",
       "    .dataframe tbody tr th:only-of-type {\n",
       "        vertical-align: middle;\n",
       "    }\n",
       "\n",
       "    .dataframe tbody tr th {\n",
       "        vertical-align: top;\n",
       "    }\n",
       "\n",
       "    .dataframe thead th {\n",
       "        text-align: right;\n",
       "    }\n",
       "</style>\n",
       "<table border=\"1\" class=\"dataframe\">\n",
       "  <thead>\n",
       "    <tr style=\"text-align: right;\">\n",
       "      <th></th>\n",
       "      <th>one</th>\n",
       "      <th>two</th>\n",
       "      <th>three</th>\n",
       "      <th>four</th>\n",
       "    </tr>\n",
       "  </thead>\n",
       "  <tbody>\n",
       "    <tr>\n",
       "      <th>a</th>\n",
       "      <td>5</td>\n",
       "      <td>3</td>\n",
       "      <td>2</td>\n",
       "      <td>8</td>\n",
       "    </tr>\n",
       "    <tr>\n",
       "      <th>b</th>\n",
       "      <td>9</td>\n",
       "      <td>3</td>\n",
       "      <td>0</td>\n",
       "      <td>5</td>\n",
       "    </tr>\n",
       "    <tr>\n",
       "      <th>c</th>\n",
       "      <td>8</td>\n",
       "      <td>4</td>\n",
       "      <td>3</td>\n",
       "      <td>3</td>\n",
       "    </tr>\n",
       "    <tr>\n",
       "      <th>d</th>\n",
       "      <td>5</td>\n",
       "      <td>2</td>\n",
       "      <td>7</td>\n",
       "      <td>1</td>\n",
       "    </tr>\n",
       "    <tr>\n",
       "      <th>e</th>\n",
       "      <td>6</td>\n",
       "      <td>7</td>\n",
       "      <td>8</td>\n",
       "      <td>7</td>\n",
       "    </tr>\n",
       "  </tbody>\n",
       "</table>\n",
       "</div>"
      ],
      "text/plain": [
       "   one  two  three  four\n",
       "a    5    3      2     8\n",
       "b    9    3      0     5\n",
       "c    8    4      3     3\n",
       "d    5    2      7     1\n",
       "e    6    7      8     7"
      ]
     },
     "execution_count": 54,
     "metadata": {},
     "output_type": "execute_result"
    }
   ],
   "source": [
    "df2[(df2.one > 3) & (df2.three < 9)]"
   ]
  },
  {
   "cell_type": "markdown",
   "metadata": {
    "id": "HRbbOc_27iuP"
   },
   "source": [
    "#### `query` (this section will not be covered in its entirety during the lecture)\n",
    "\n",
    "`DataFrame`'s have a `query` method allowing selection using a Python expression"
   ]
  },
  {
   "cell_type": "code",
   "execution_count": 55,
   "metadata": {
    "colab": {
     "base_uri": "https://localhost:8080/",
     "height": 363
    },
    "executionInfo": {
     "elapsed": 420,
     "status": "ok",
     "timestamp": 1607189734961,
     "user": {
      "displayName": "Gaby Gerlach",
      "photoUrl": "",
      "userId": "11117434220237101401"
     },
     "user_tz": 300
    },
    "id": "NZr9SrbJ7iuP",
    "name": "02-python-pandas-50",
    "outputId": "2e60aa3f-141d-4afc-ca2a-9be2aebe18c4"
   },
   "outputs": [
    {
     "data": {
      "text/html": [
       "<div>\n",
       "<style scoped>\n",
       "    .dataframe tbody tr th:only-of-type {\n",
       "        vertical-align: middle;\n",
       "    }\n",
       "\n",
       "    .dataframe tbody tr th {\n",
       "        vertical-align: top;\n",
       "    }\n",
       "\n",
       "    .dataframe thead th {\n",
       "        text-align: right;\n",
       "    }\n",
       "</style>\n",
       "<table border=\"1\" class=\"dataframe\">\n",
       "  <thead>\n",
       "    <tr style=\"text-align: right;\">\n",
       "      <th></th>\n",
       "      <th>a</th>\n",
       "      <th>b</th>\n",
       "      <th>c</th>\n",
       "    </tr>\n",
       "  </thead>\n",
       "  <tbody>\n",
       "    <tr>\n",
       "      <th>0</th>\n",
       "      <td>0.815508</td>\n",
       "      <td>0.028886</td>\n",
       "      <td>0.785901</td>\n",
       "    </tr>\n",
       "    <tr>\n",
       "      <th>1</th>\n",
       "      <td>0.300541</td>\n",
       "      <td>0.338317</td>\n",
       "      <td>0.641448</td>\n",
       "    </tr>\n",
       "    <tr>\n",
       "      <th>2</th>\n",
       "      <td>0.505391</td>\n",
       "      <td>0.112547</td>\n",
       "      <td>0.185908</td>\n",
       "    </tr>\n",
       "    <tr>\n",
       "      <th>3</th>\n",
       "      <td>0.400225</td>\n",
       "      <td>0.931705</td>\n",
       "      <td>0.094609</td>\n",
       "    </tr>\n",
       "    <tr>\n",
       "      <th>4</th>\n",
       "      <td>0.981477</td>\n",
       "      <td>0.008321</td>\n",
       "      <td>0.880875</td>\n",
       "    </tr>\n",
       "    <tr>\n",
       "      <th>5</th>\n",
       "      <td>0.876385</td>\n",
       "      <td>0.144667</td>\n",
       "      <td>0.768066</td>\n",
       "    </tr>\n",
       "    <tr>\n",
       "      <th>6</th>\n",
       "      <td>0.000640</td>\n",
       "      <td>0.269403</td>\n",
       "      <td>0.649907</td>\n",
       "    </tr>\n",
       "    <tr>\n",
       "      <th>7</th>\n",
       "      <td>0.250573</td>\n",
       "      <td>0.479758</td>\n",
       "      <td>0.654926</td>\n",
       "    </tr>\n",
       "    <tr>\n",
       "      <th>8</th>\n",
       "      <td>0.358420</td>\n",
       "      <td>0.624067</td>\n",
       "      <td>0.374675</td>\n",
       "    </tr>\n",
       "    <tr>\n",
       "      <th>9</th>\n",
       "      <td>0.686182</td>\n",
       "      <td>0.661075</td>\n",
       "      <td>0.398815</td>\n",
       "    </tr>\n",
       "  </tbody>\n",
       "</table>\n",
       "</div>"
      ],
      "text/plain": [
       "          a         b         c\n",
       "0  0.815508  0.028886  0.785901\n",
       "1  0.300541  0.338317  0.641448\n",
       "2  0.505391  0.112547  0.185908\n",
       "3  0.400225  0.931705  0.094609\n",
       "4  0.981477  0.008321  0.880875\n",
       "5  0.876385  0.144667  0.768066\n",
       "6  0.000640  0.269403  0.649907\n",
       "7  0.250573  0.479758  0.654926\n",
       "8  0.358420  0.624067  0.374675\n",
       "9  0.686182  0.661075  0.398815"
      ]
     },
     "execution_count": 55,
     "metadata": {},
     "output_type": "execute_result"
    }
   ],
   "source": [
    "n = 10\n",
    "df = pd.DataFrame(np.random.rand(n, 3), columns = list('abc'))\n",
    "df"
   ]
  },
  {
   "cell_type": "code",
   "execution_count": 56,
   "metadata": {
    "colab": {
     "base_uri": "https://localhost:8080/",
     "height": 112
    },
    "executionInfo": {
     "elapsed": 313,
     "status": "ok",
     "timestamp": 1607189735244,
     "user": {
      "displayName": "Gaby Gerlach",
      "photoUrl": "",
      "userId": "11117434220237101401"
     },
     "user_tz": 300
    },
    "id": "GUeIQrDd7iuP",
    "name": "02-python-pandas-51",
    "outputId": "3b354faf-7f6c-4fb2-cf4e-f98937541b08"
   },
   "outputs": [
    {
     "data": {
      "text/html": [
       "<div>\n",
       "<style scoped>\n",
       "    .dataframe tbody tr th:only-of-type {\n",
       "        vertical-align: middle;\n",
       "    }\n",
       "\n",
       "    .dataframe tbody tr th {\n",
       "        vertical-align: top;\n",
       "    }\n",
       "\n",
       "    .dataframe thead th {\n",
       "        text-align: right;\n",
       "    }\n",
       "</style>\n",
       "<table border=\"1\" class=\"dataframe\">\n",
       "  <thead>\n",
       "    <tr style=\"text-align: right;\">\n",
       "      <th></th>\n",
       "      <th>a</th>\n",
       "      <th>b</th>\n",
       "      <th>c</th>\n",
       "    </tr>\n",
       "  </thead>\n",
       "  <tbody>\n",
       "    <tr>\n",
       "      <th>1</th>\n",
       "      <td>0.300541</td>\n",
       "      <td>0.338317</td>\n",
       "      <td>0.641448</td>\n",
       "    </tr>\n",
       "    <tr>\n",
       "      <th>6</th>\n",
       "      <td>0.000640</td>\n",
       "      <td>0.269403</td>\n",
       "      <td>0.649907</td>\n",
       "    </tr>\n",
       "    <tr>\n",
       "      <th>7</th>\n",
       "      <td>0.250573</td>\n",
       "      <td>0.479758</td>\n",
       "      <td>0.654926</td>\n",
       "    </tr>\n",
       "  </tbody>\n",
       "</table>\n",
       "</div>"
      ],
      "text/plain": [
       "          a         b         c\n",
       "1  0.300541  0.338317  0.641448\n",
       "6  0.000640  0.269403  0.649907\n",
       "7  0.250573  0.479758  0.654926"
      ]
     },
     "execution_count": 56,
     "metadata": {},
     "output_type": "execute_result"
    }
   ],
   "source": [
    "df[(df.a < df.b) & (df.b < df.c)]"
   ]
  },
  {
   "cell_type": "markdown",
   "metadata": {
    "id": "c_LWB7LG7iuP"
   },
   "source": [
    "We can equivalently write this query as "
   ]
  },
  {
   "cell_type": "code",
   "execution_count": 57,
   "metadata": {
    "colab": {
     "base_uri": "https://localhost:8080/",
     "height": 112
    },
    "executionInfo": {
     "elapsed": 547,
     "status": "ok",
     "timestamp": 1607189736059,
     "user": {
      "displayName": "Gaby Gerlach",
      "photoUrl": "",
      "userId": "11117434220237101401"
     },
     "user_tz": 300
    },
    "id": "tZYc8MkM7iuP",
    "lines_to_next_cell": 2,
    "name": "02-python-pandas-52",
    "outputId": "839f6647-7141-4f49-bc66-2bc2b9d1f1cf"
   },
   "outputs": [
    {
     "data": {
      "text/html": [
       "<div>\n",
       "<style scoped>\n",
       "    .dataframe tbody tr th:only-of-type {\n",
       "        vertical-align: middle;\n",
       "    }\n",
       "\n",
       "    .dataframe tbody tr th {\n",
       "        vertical-align: top;\n",
       "    }\n",
       "\n",
       "    .dataframe thead th {\n",
       "        text-align: right;\n",
       "    }\n",
       "</style>\n",
       "<table border=\"1\" class=\"dataframe\">\n",
       "  <thead>\n",
       "    <tr style=\"text-align: right;\">\n",
       "      <th></th>\n",
       "      <th>a</th>\n",
       "      <th>b</th>\n",
       "      <th>c</th>\n",
       "    </tr>\n",
       "  </thead>\n",
       "  <tbody>\n",
       "    <tr>\n",
       "      <th>1</th>\n",
       "      <td>0.300541</td>\n",
       "      <td>0.338317</td>\n",
       "      <td>0.641448</td>\n",
       "    </tr>\n",
       "    <tr>\n",
       "      <th>6</th>\n",
       "      <td>0.000640</td>\n",
       "      <td>0.269403</td>\n",
       "      <td>0.649907</td>\n",
       "    </tr>\n",
       "    <tr>\n",
       "      <th>7</th>\n",
       "      <td>0.250573</td>\n",
       "      <td>0.479758</td>\n",
       "      <td>0.654926</td>\n",
       "    </tr>\n",
       "  </tbody>\n",
       "</table>\n",
       "</div>"
      ],
      "text/plain": [
       "          a         b         c\n",
       "1  0.300541  0.338317  0.641448\n",
       "6  0.000640  0.269403  0.649907\n",
       "7  0.250573  0.479758  0.654926"
      ]
     },
     "execution_count": 57,
     "metadata": {},
     "output_type": "execute_result"
    }
   ],
   "source": [
    "df.query('(a < b) & (b < c)')"
   ]
  },
  {
   "cell_type": "markdown",
   "metadata": {
    "id": "cAU7fNjS7iuP"
   },
   "source": [
    "#### Replacing values in a DataFrame\n",
    "\n",
    "We can replace values within a DataFrame either by position or using a query. "
   ]
  },
  {
   "cell_type": "code",
   "execution_count": 58,
   "metadata": {
    "colab": {
     "base_uri": "https://localhost:8080/",
     "height": 206
    },
    "executionInfo": {
     "elapsed": 348,
     "status": "ok",
     "timestamp": 1607189736727,
     "user": {
      "displayName": "Gaby Gerlach",
      "photoUrl": "",
      "userId": "11117434220237101401"
     },
     "user_tz": 300
    },
    "id": "pk8RximU7iuP",
    "outputId": "59e95af8-ccea-40f2-c4e3-7695478d264f"
   },
   "outputs": [
    {
     "data": {
      "text/html": [
       "<div>\n",
       "<style scoped>\n",
       "    .dataframe tbody tr th:only-of-type {\n",
       "        vertical-align: middle;\n",
       "    }\n",
       "\n",
       "    .dataframe tbody tr th {\n",
       "        vertical-align: top;\n",
       "    }\n",
       "\n",
       "    .dataframe thead th {\n",
       "        text-align: right;\n",
       "    }\n",
       "</style>\n",
       "<table border=\"1\" class=\"dataframe\">\n",
       "  <thead>\n",
       "    <tr style=\"text-align: right;\">\n",
       "      <th></th>\n",
       "      <th>one</th>\n",
       "      <th>two</th>\n",
       "      <th>three</th>\n",
       "      <th>four</th>\n",
       "    </tr>\n",
       "  </thead>\n",
       "  <tbody>\n",
       "    <tr>\n",
       "      <th>a</th>\n",
       "      <td>5</td>\n",
       "      <td>3</td>\n",
       "      <td>2</td>\n",
       "      <td>8</td>\n",
       "    </tr>\n",
       "    <tr>\n",
       "      <th>b</th>\n",
       "      <td>9</td>\n",
       "      <td>3</td>\n",
       "      <td>0</td>\n",
       "      <td>5</td>\n",
       "    </tr>\n",
       "    <tr>\n",
       "      <th>c</th>\n",
       "      <td>8</td>\n",
       "      <td>4</td>\n",
       "      <td>3</td>\n",
       "      <td>3</td>\n",
       "    </tr>\n",
       "    <tr>\n",
       "      <th>d</th>\n",
       "      <td>5</td>\n",
       "      <td>2</td>\n",
       "      <td>7</td>\n",
       "      <td>1</td>\n",
       "    </tr>\n",
       "    <tr>\n",
       "      <th>e</th>\n",
       "      <td>6</td>\n",
       "      <td>7</td>\n",
       "      <td>8</td>\n",
       "      <td>7</td>\n",
       "    </tr>\n",
       "  </tbody>\n",
       "</table>\n",
       "</div>"
      ],
      "text/plain": [
       "   one  two  three  four\n",
       "a    5    3      2     8\n",
       "b    9    3      0     5\n",
       "c    8    4      3     3\n",
       "d    5    2      7     1\n",
       "e    6    7      8     7"
      ]
     },
     "execution_count": 58,
     "metadata": {},
     "output_type": "execute_result"
    }
   ],
   "source": [
    "df2"
   ]
  },
  {
   "cell_type": "code",
   "execution_count": 59,
   "metadata": {
    "colab": {
     "base_uri": "https://localhost:8080/",
     "height": 206
    },
    "executionInfo": {
     "elapsed": 620,
     "status": "ok",
     "timestamp": 1607189737290,
     "user": {
      "displayName": "Gaby Gerlach",
      "photoUrl": "",
      "userId": "11117434220237101401"
     },
     "user_tz": 300
    },
    "id": "PSk7ZwIZ7iuP",
    "outputId": "dc16a289-b5c6-4374-b3cc-00d5b2704026"
   },
   "outputs": [
    {
     "data": {
      "text/html": [
       "<div>\n",
       "<style scoped>\n",
       "    .dataframe tbody tr th:only-of-type {\n",
       "        vertical-align: middle;\n",
       "    }\n",
       "\n",
       "    .dataframe tbody tr th {\n",
       "        vertical-align: top;\n",
       "    }\n",
       "\n",
       "    .dataframe thead th {\n",
       "        text-align: right;\n",
       "    }\n",
       "</style>\n",
       "<table border=\"1\" class=\"dataframe\">\n",
       "  <thead>\n",
       "    <tr style=\"text-align: right;\">\n",
       "      <th></th>\n",
       "      <th>one</th>\n",
       "      <th>two</th>\n",
       "      <th>three</th>\n",
       "      <th>four</th>\n",
       "    </tr>\n",
       "  </thead>\n",
       "  <tbody>\n",
       "    <tr>\n",
       "      <th>a</th>\n",
       "      <td>2</td>\n",
       "      <td>3</td>\n",
       "      <td>2</td>\n",
       "      <td>8</td>\n",
       "    </tr>\n",
       "    <tr>\n",
       "      <th>b</th>\n",
       "      <td>5</td>\n",
       "      <td>3</td>\n",
       "      <td>0</td>\n",
       "      <td>5</td>\n",
       "    </tr>\n",
       "    <tr>\n",
       "      <th>c</th>\n",
       "      <td>2</td>\n",
       "      <td>4</td>\n",
       "      <td>3</td>\n",
       "      <td>3</td>\n",
       "    </tr>\n",
       "    <tr>\n",
       "      <th>d</th>\n",
       "      <td>5</td>\n",
       "      <td>2</td>\n",
       "      <td>7</td>\n",
       "      <td>1</td>\n",
       "    </tr>\n",
       "    <tr>\n",
       "      <th>e</th>\n",
       "      <td>2</td>\n",
       "      <td>7</td>\n",
       "      <td>8</td>\n",
       "      <td>7</td>\n",
       "    </tr>\n",
       "  </tbody>\n",
       "</table>\n",
       "</div>"
      ],
      "text/plain": [
       "   one  two  three  four\n",
       "a    2    3      2     8\n",
       "b    5    3      0     5\n",
       "c    2    4      3     3\n",
       "d    5    2      7     1\n",
       "e    2    7      8     7"
      ]
     },
     "execution_count": 59,
     "metadata": {},
     "output_type": "execute_result"
    }
   ],
   "source": [
    "df2['one'] = [2,5,2,5,2]\n",
    "df2"
   ]
  },
  {
   "cell_type": "code",
   "execution_count": 60,
   "metadata": {
    "colab": {
     "base_uri": "https://localhost:8080/",
     "height": 206
    },
    "executionInfo": {
     "elapsed": 547,
     "status": "ok",
     "timestamp": 1607189737542,
     "user": {
      "displayName": "Gaby Gerlach",
      "photoUrl": "",
      "userId": "11117434220237101401"
     },
     "user_tz": 300
    },
    "id": "0L9yTrOk7iuP",
    "outputId": "dd85a2fe-1608-4302-8a72-7e295cdb56c0"
   },
   "outputs": [
    {
     "data": {
      "text/html": [
       "<div>\n",
       "<style scoped>\n",
       "    .dataframe tbody tr th:only-of-type {\n",
       "        vertical-align: middle;\n",
       "    }\n",
       "\n",
       "    .dataframe tbody tr th {\n",
       "        vertical-align: top;\n",
       "    }\n",
       "\n",
       "    .dataframe thead th {\n",
       "        text-align: right;\n",
       "    }\n",
       "</style>\n",
       "<table border=\"1\" class=\"dataframe\">\n",
       "  <thead>\n",
       "    <tr style=\"text-align: right;\">\n",
       "      <th></th>\n",
       "      <th>one</th>\n",
       "      <th>two</th>\n",
       "      <th>three</th>\n",
       "      <th>four</th>\n",
       "    </tr>\n",
       "  </thead>\n",
       "  <tbody>\n",
       "    <tr>\n",
       "      <th>a</th>\n",
       "      <td>2</td>\n",
       "      <td>3</td>\n",
       "      <td>2</td>\n",
       "      <td>8</td>\n",
       "    </tr>\n",
       "    <tr>\n",
       "      <th>b</th>\n",
       "      <td>5</td>\n",
       "      <td>3</td>\n",
       "      <td>0</td>\n",
       "      <td>5</td>\n",
       "    </tr>\n",
       "    <tr>\n",
       "      <th>c</th>\n",
       "      <td>2</td>\n",
       "      <td>4</td>\n",
       "      <td>3</td>\n",
       "      <td>-9</td>\n",
       "    </tr>\n",
       "    <tr>\n",
       "      <th>d</th>\n",
       "      <td>5</td>\n",
       "      <td>2</td>\n",
       "      <td>7</td>\n",
       "      <td>1</td>\n",
       "    </tr>\n",
       "    <tr>\n",
       "      <th>e</th>\n",
       "      <td>2</td>\n",
       "      <td>7</td>\n",
       "      <td>8</td>\n",
       "      <td>7</td>\n",
       "    </tr>\n",
       "  </tbody>\n",
       "</table>\n",
       "</div>"
      ],
      "text/plain": [
       "   one  two  three  four\n",
       "a    2    3      2     8\n",
       "b    5    3      0     5\n",
       "c    2    4      3    -9\n",
       "d    5    2      7     1\n",
       "e    2    7      8     7"
      ]
     },
     "execution_count": 60,
     "metadata": {},
     "output_type": "execute_result"
    }
   ],
   "source": [
    "df2.iat[2,3] = -9 # missing value\n",
    "df2"
   ]
  },
  {
   "cell_type": "markdown",
   "metadata": {
    "id": "u5bI2oPf7iuP"
   },
   "source": [
    "Let's now replace values using `replace` which is more flexible. "
   ]
  },
  {
   "cell_type": "code",
   "execution_count": 61,
   "metadata": {
    "colab": {
     "base_uri": "https://localhost:8080/",
     "height": 206
    },
    "executionInfo": {
     "elapsed": 742,
     "status": "ok",
     "timestamp": 1607189738105,
     "user": {
      "displayName": "Gaby Gerlach",
      "photoUrl": "",
      "userId": "11117434220237101401"
     },
     "user_tz": 300
    },
    "id": "l5TEAvQk7iuP",
    "outputId": "2334a6b0-4757-42fb-cc68-3f448a9a7988"
   },
   "outputs": [
    {
     "data": {
      "text/html": [
       "<div>\n",
       "<style scoped>\n",
       "    .dataframe tbody tr th:only-of-type {\n",
       "        vertical-align: middle;\n",
       "    }\n",
       "\n",
       "    .dataframe tbody tr th {\n",
       "        vertical-align: top;\n",
       "    }\n",
       "\n",
       "    .dataframe thead th {\n",
       "        text-align: right;\n",
       "    }\n",
       "</style>\n",
       "<table border=\"1\" class=\"dataframe\">\n",
       "  <thead>\n",
       "    <tr style=\"text-align: right;\">\n",
       "      <th></th>\n",
       "      <th>one</th>\n",
       "      <th>two</th>\n",
       "      <th>three</th>\n",
       "      <th>four</th>\n",
       "    </tr>\n",
       "  </thead>\n",
       "  <tbody>\n",
       "    <tr>\n",
       "      <th>a</th>\n",
       "      <td>2</td>\n",
       "      <td>3</td>\n",
       "      <td>2</td>\n",
       "      <td>8</td>\n",
       "    </tr>\n",
       "    <tr>\n",
       "      <th>b</th>\n",
       "      <td>5</td>\n",
       "      <td>3</td>\n",
       "      <td>-9</td>\n",
       "      <td>5</td>\n",
       "    </tr>\n",
       "    <tr>\n",
       "      <th>c</th>\n",
       "      <td>2</td>\n",
       "      <td>4</td>\n",
       "      <td>3</td>\n",
       "      <td>-9</td>\n",
       "    </tr>\n",
       "    <tr>\n",
       "      <th>d</th>\n",
       "      <td>5</td>\n",
       "      <td>2</td>\n",
       "      <td>7</td>\n",
       "      <td>1</td>\n",
       "    </tr>\n",
       "    <tr>\n",
       "      <th>e</th>\n",
       "      <td>2</td>\n",
       "      <td>7</td>\n",
       "      <td>8</td>\n",
       "      <td>7</td>\n",
       "    </tr>\n",
       "  </tbody>\n",
       "</table>\n",
       "</div>"
      ],
      "text/plain": [
       "   one  two  three  four\n",
       "a    2    3      2     8\n",
       "b    5    3     -9     5\n",
       "c    2    4      3    -9\n",
       "d    5    2      7     1\n",
       "e    2    7      8     7"
      ]
     },
     "execution_count": 61,
     "metadata": {},
     "output_type": "execute_result"
    }
   ],
   "source": [
    "df2.replace(0, -9) # replace 0 with -9"
   ]
  },
  {
   "cell_type": "code",
   "execution_count": 62,
   "metadata": {
    "colab": {
     "base_uri": "https://localhost:8080/",
     "height": 206
    },
    "executionInfo": {
     "elapsed": 494,
     "status": "ok",
     "timestamp": 1607189738106,
     "user": {
      "displayName": "Gaby Gerlach",
      "photoUrl": "",
      "userId": "11117434220237101401"
     },
     "user_tz": 300
    },
    "id": "hIUMF8d37iuP",
    "outputId": "b367742b-88c5-4ce8-faf3-561735df7958"
   },
   "outputs": [
    {
     "data": {
      "text/html": [
       "<div>\n",
       "<style scoped>\n",
       "    .dataframe tbody tr th:only-of-type {\n",
       "        vertical-align: middle;\n",
       "    }\n",
       "\n",
       "    .dataframe tbody tr th {\n",
       "        vertical-align: top;\n",
       "    }\n",
       "\n",
       "    .dataframe thead th {\n",
       "        text-align: right;\n",
       "    }\n",
       "</style>\n",
       "<table border=\"1\" class=\"dataframe\">\n",
       "  <thead>\n",
       "    <tr style=\"text-align: right;\">\n",
       "      <th></th>\n",
       "      <th>one</th>\n",
       "      <th>two</th>\n",
       "      <th>three</th>\n",
       "      <th>four</th>\n",
       "    </tr>\n",
       "  </thead>\n",
       "  <tbody>\n",
       "    <tr>\n",
       "      <th>a</th>\n",
       "      <td>2.5</td>\n",
       "      <td>3.0</td>\n",
       "      <td>2.5</td>\n",
       "      <td>6.5</td>\n",
       "    </tr>\n",
       "    <tr>\n",
       "      <th>b</th>\n",
       "      <td>5.0</td>\n",
       "      <td>3.0</td>\n",
       "      <td>0.0</td>\n",
       "      <td>5.0</td>\n",
       "    </tr>\n",
       "    <tr>\n",
       "      <th>c</th>\n",
       "      <td>2.5</td>\n",
       "      <td>4.0</td>\n",
       "      <td>3.0</td>\n",
       "      <td>-9.0</td>\n",
       "    </tr>\n",
       "    <tr>\n",
       "      <th>d</th>\n",
       "      <td>5.0</td>\n",
       "      <td>2.5</td>\n",
       "      <td>7.0</td>\n",
       "      <td>1.0</td>\n",
       "    </tr>\n",
       "    <tr>\n",
       "      <th>e</th>\n",
       "      <td>2.5</td>\n",
       "      <td>7.0</td>\n",
       "      <td>6.5</td>\n",
       "      <td>7.0</td>\n",
       "    </tr>\n",
       "  </tbody>\n",
       "</table>\n",
       "</div>"
      ],
      "text/plain": [
       "   one  two  three  four\n",
       "a  2.5  3.0    2.5   6.5\n",
       "b  5.0  3.0    0.0   5.0\n",
       "c  2.5  4.0    3.0  -9.0\n",
       "d  5.0  2.5    7.0   1.0\n",
       "e  2.5  7.0    6.5   7.0"
      ]
     },
     "execution_count": 62,
     "metadata": {},
     "output_type": "execute_result"
    }
   ],
   "source": [
    "df2.replace({2: 2.5, 8: 6.5}) # multiple replacements"
   ]
  },
  {
   "cell_type": "code",
   "execution_count": 63,
   "metadata": {
    "colab": {
     "base_uri": "https://localhost:8080/",
     "height": 206
    },
    "executionInfo": {
     "elapsed": 464,
     "status": "ok",
     "timestamp": 1607189738345,
     "user": {
      "displayName": "Gaby Gerlach",
      "photoUrl": "",
      "userId": "11117434220237101401"
     },
     "user_tz": 300
    },
    "id": "VOXrQesi7iuP",
    "outputId": "5088f39e-437e-4bc4-a382-46996911b44b"
   },
   "outputs": [
    {
     "data": {
      "text/html": [
       "<div>\n",
       "<style scoped>\n",
       "    .dataframe tbody tr th:only-of-type {\n",
       "        vertical-align: middle;\n",
       "    }\n",
       "\n",
       "    .dataframe tbody tr th {\n",
       "        vertical-align: top;\n",
       "    }\n",
       "\n",
       "    .dataframe thead th {\n",
       "        text-align: right;\n",
       "    }\n",
       "</style>\n",
       "<table border=\"1\" class=\"dataframe\">\n",
       "  <thead>\n",
       "    <tr style=\"text-align: right;\">\n",
       "      <th></th>\n",
       "      <th>one</th>\n",
       "      <th>two</th>\n",
       "      <th>three</th>\n",
       "      <th>four</th>\n",
       "    </tr>\n",
       "  </thead>\n",
       "  <tbody>\n",
       "    <tr>\n",
       "      <th>a</th>\n",
       "      <td>2</td>\n",
       "      <td>3</td>\n",
       "      <td>2</td>\n",
       "      <td>8</td>\n",
       "    </tr>\n",
       "    <tr>\n",
       "      <th>b</th>\n",
       "      <td>500</td>\n",
       "      <td>3</td>\n",
       "      <td>-9</td>\n",
       "      <td>5</td>\n",
       "    </tr>\n",
       "    <tr>\n",
       "      <th>c</th>\n",
       "      <td>2</td>\n",
       "      <td>4</td>\n",
       "      <td>3</td>\n",
       "      <td>-9</td>\n",
       "    </tr>\n",
       "    <tr>\n",
       "      <th>d</th>\n",
       "      <td>500</td>\n",
       "      <td>2</td>\n",
       "      <td>7</td>\n",
       "      <td>1</td>\n",
       "    </tr>\n",
       "    <tr>\n",
       "      <th>e</th>\n",
       "      <td>2</td>\n",
       "      <td>7</td>\n",
       "      <td>800</td>\n",
       "      <td>7</td>\n",
       "    </tr>\n",
       "  </tbody>\n",
       "</table>\n",
       "</div>"
      ],
      "text/plain": [
       "   one  two  three  four\n",
       "a    2    3      2     8\n",
       "b  500    3     -9     5\n",
       "c    2    4      3    -9\n",
       "d  500    2      7     1\n",
       "e    2    7    800     7"
      ]
     },
     "execution_count": 63,
     "metadata": {},
     "output_type": "execute_result"
    }
   ],
   "source": [
    "df2.replace({'one': {5: 500}, 'three': {0: -9, 8: 800}}) \n",
    "# different replacements in different columns"
   ]
  },
  {
   "cell_type": "markdown",
   "metadata": {
    "id": "MkIPLh387iuP"
   },
   "source": [
    "See more examples in the [documentation](https://pandas.pydata.org/pandas-docs/stable/reference/api/pandas.DataFrame.replace.html?highlight=replace#pandas.DataFrame.replace)"
   ]
  },
  {
   "cell_type": "markdown",
   "metadata": {
    "id": "kQ06ZKZP7iuP"
   },
   "source": [
    "### Categorical data\n",
    "\n",
    "`pandas` provides a `Categorical` function and a `category` object type to Python. This type is analogous to the `factor` data type in R. It is meant to address categorical or discrete variables, where we need to use them in analyses. Categorical variables typically take on a small number of unique values, like gender, blood type, country of origin, race, etc. \n",
    "\n",
    "You can create categorical `Series` in a couple of ways:"
   ]
  },
  {
   "cell_type": "code",
   "execution_count": 64,
   "metadata": {
    "executionInfo": {
     "elapsed": 357,
     "status": "ok",
     "timestamp": 1607189739488,
     "user": {
      "displayName": "Gaby Gerlach",
      "photoUrl": "",
      "userId": "11117434220237101401"
     },
     "user_tz": 300
    },
    "id": "-dMU2ppq7iuP",
    "name": "02-python-pandas-53"
   },
   "outputs": [],
   "source": [
    "s = pd.Series(['a','b','c'], dtype='category')"
   ]
  },
  {
   "cell_type": "code",
   "execution_count": 65,
   "metadata": {
    "colab": {
     "base_uri": "https://localhost:8080/"
    },
    "executionInfo": {
     "elapsed": 390,
     "status": "ok",
     "timestamp": 1607189739854,
     "user": {
      "displayName": "Gaby Gerlach",
      "photoUrl": "",
      "userId": "11117434220237101401"
     },
     "user_tz": 300
    },
    "id": "8MzzD9Tg7iuP",
    "name": "02-python-pandas-54",
    "outputId": "d6bc7f14-c461-40ea-e216-ff055d0f7104"
   },
   "outputs": [
    {
     "data": {
      "text/plain": [
       "0    NIH\n",
       "1    NIH\n",
       "2    NIH\n",
       "3    NIH\n",
       "4    NIH\n",
       "Name: F, dtype: category\n",
       "Categories (1, object): [NIH]"
      ]
     },
     "execution_count": 65,
     "metadata": {},
     "output_type": "execute_result"
    }
   ],
   "source": [
    "df = pd.DataFrame({\n",
    "    'A':3.,\n",
    "    'B':rng.random_sample(5),\n",
    "    'C': pd.Timestamp('20200512'),\n",
    "    'D': np.array([6] * 5),\n",
    "    'E': pd.Categorical(['yes','no','no','yes','no']),\n",
    "    'F': 'NIH'})\n",
    "df['F'].astype('category')"
   ]
  },
  {
   "cell_type": "markdown",
   "metadata": {
    "id": "TgjzGCPr7iuP"
   },
   "source": [
    "You can also create `DataFrame`'s where each column is categorical"
   ]
  },
  {
   "cell_type": "code",
   "execution_count": 66,
   "metadata": {
    "colab": {
     "base_uri": "https://localhost:8080/"
    },
    "executionInfo": {
     "elapsed": 659,
     "status": "ok",
     "timestamp": 1607189740807,
     "user": {
      "displayName": "Gaby Gerlach",
      "photoUrl": "",
      "userId": "11117434220237101401"
     },
     "user_tz": 300
    },
    "id": "E36cKmXc7iuP",
    "name": "02-python-pandas-55",
    "outputId": "6903850d-bf1c-43ec-ce3f-e5c17e8494a7"
   },
   "outputs": [
    {
     "data": {
      "text/plain": [
       "A    category\n",
       "B    category\n",
       "dtype: object"
      ]
     },
     "execution_count": 66,
     "metadata": {},
     "output_type": "execute_result"
    }
   ],
   "source": [
    "df = pd.DataFrame({'A': list('abcd'), 'B': list('bdca')})\n",
    "df_cat = df.astype('category')\n",
    "df_cat.dtypes"
   ]
  },
  {
   "cell_type": "markdown",
   "metadata": {
    "id": "3blDH_qz7iuP"
   },
   "source": [
    "You can explore categorical data in a variety of ways"
   ]
  },
  {
   "cell_type": "code",
   "execution_count": 67,
   "metadata": {
    "colab": {
     "base_uri": "https://localhost:8080/"
    },
    "executionInfo": {
     "elapsed": 411,
     "status": "ok",
     "timestamp": 1607189741069,
     "user": {
      "displayName": "Gaby Gerlach",
      "photoUrl": "",
      "userId": "11117434220237101401"
     },
     "user_tz": 300
    },
    "id": "R5X4GAYK7iuP",
    "name": "02-python-pandas-56",
    "outputId": "22310b3b-c453-49fb-e4e5-cbe0d5d35712"
   },
   "outputs": [
    {
     "data": {
      "text/plain": [
       "count     4\n",
       "unique    4\n",
       "top       d\n",
       "freq      1\n",
       "Name: A, dtype: object"
      ]
     },
     "execution_count": 67,
     "metadata": {},
     "output_type": "execute_result"
    }
   ],
   "source": [
    "df_cat['A'].describe()"
   ]
  },
  {
   "cell_type": "code",
   "execution_count": 68,
   "metadata": {
    "colab": {
     "base_uri": "https://localhost:8080/"
    },
    "executionInfo": {
     "elapsed": 362,
     "status": "ok",
     "timestamp": 1607189741276,
     "user": {
      "displayName": "Gaby Gerlach",
      "photoUrl": "",
      "userId": "11117434220237101401"
     },
     "user_tz": 300
    },
    "id": "VU8yY9EM7iuP",
    "name": "02-python-pandas-57",
    "outputId": "f3cc93e1-7539-49d0-ec6a-8acf0cd7c814"
   },
   "outputs": [
    {
     "data": {
      "text/plain": [
       "a    1\n",
       "b    1\n",
       "c    1\n",
       "d    1\n",
       "Name: A, dtype: int64"
      ]
     },
     "execution_count": 68,
     "metadata": {},
     "output_type": "execute_result"
    }
   ],
   "source": [
    "df['A'].value_counts()"
   ]
  },
  {
   "cell_type": "markdown",
   "metadata": {
    "id": "FnkVj3X17iuP"
   },
   "source": [
    "One issue with categories is that, if a particular level of a category is not seen before, it can create an error. So you can pre-specify the categories you expect"
   ]
  },
  {
   "cell_type": "code",
   "execution_count": 69,
   "metadata": {
    "colab": {
     "base_uri": "https://localhost:8080/"
    },
    "executionInfo": {
     "elapsed": 482,
     "status": "ok",
     "timestamp": 1607189741844,
     "user": {
      "displayName": "Gaby Gerlach",
      "photoUrl": "",
      "userId": "11117434220237101401"
     },
     "user_tz": 300
    },
    "id": "Fau8q4on7iuQ",
    "name": "02-python-pandas-58",
    "outputId": "8912d808-74f8-482d-9b84-a8c17b4330a2"
   },
   "outputs": [
    {
     "data": {
      "text/plain": [
       "b    2\n",
       "a    2\n",
       "d    0\n",
       "c    0\n",
       "Name: B, dtype: int64"
      ]
     },
     "execution_count": 69,
     "metadata": {},
     "output_type": "execute_result"
    }
   ],
   "source": [
    "df_cat['B'] = pd.Categorical(list('aabb'), categories = ['a','b','c','d'])\n",
    "df_cat['B'].value_counts()"
   ]
  },
  {
   "cell_type": "markdown",
   "metadata": {
    "id": "ov7opk5j7iuQ"
   },
   "source": [
    "#### Re-organizing categories\n",
    "\n",
    "In categorical data, there is often the concept of a \"first\" or \"reference\" category, and an ordering of categories. This tends to be important in both visualization as well as in regression modeling. Both aspects of a category can be addressed using the `reorder_categories` function.\n",
    "\n",
    "In our earlier example, we can see that the `A` variable has 4 categories, with the \"first\" category being \"a\"."
   ]
  },
  {
   "cell_type": "code",
   "execution_count": 70,
   "metadata": {
    "colab": {
     "base_uri": "https://localhost:8080/"
    },
    "executionInfo": {
     "elapsed": 350,
     "status": "ok",
     "timestamp": 1607189742162,
     "user": {
      "displayName": "Gaby Gerlach",
      "photoUrl": "",
      "userId": "11117434220237101401"
     },
     "user_tz": 300
    },
    "id": "omdX8d9R7iuQ",
    "outputId": "818d2520-375e-4c5b-9355-75f117805776"
   },
   "outputs": [
    {
     "data": {
      "text/plain": [
       "0    a\n",
       "1    b\n",
       "2    c\n",
       "3    d\n",
       "Name: A, dtype: category\n",
       "Categories (4, object): [a, b, c, d]"
      ]
     },
     "execution_count": 70,
     "metadata": {},
     "output_type": "execute_result"
    }
   ],
   "source": [
    "df_cat.A"
   ]
  },
  {
   "cell_type": "markdown",
   "metadata": {
    "id": "LnbzKiyt7iuQ"
   },
   "source": [
    "Suppose we want to change this ordering to the reverse ordering, where\n",
    "\"d\" is the \"first\" category, and then it goes in reverse order. "
   ]
  },
  {
   "cell_type": "code",
   "execution_count": 71,
   "metadata": {
    "colab": {
     "base_uri": "https://localhost:8080/"
    },
    "executionInfo": {
     "elapsed": 848,
     "status": "ok",
     "timestamp": 1607189743099,
     "user": {
      "displayName": "Gaby Gerlach",
      "photoUrl": "",
      "userId": "11117434220237101401"
     },
     "user_tz": 300
    },
    "id": "BujpTwSo7iuQ",
    "outputId": "8a1257b4-0cb8-486d-cd77-5a38000702a3"
   },
   "outputs": [
    {
     "data": {
      "text/plain": [
       "0    a\n",
       "1    b\n",
       "2    c\n",
       "3    d\n",
       "Name: A, dtype: category\n",
       "Categories (4, object): [d, c, b, a]"
      ]
     },
     "execution_count": 71,
     "metadata": {},
     "output_type": "execute_result"
    }
   ],
   "source": [
    "df_cat['A'] = df_cat.A.cat.reorder_categories(['d','c','b','a'])\n",
    "df_cat.A"
   ]
  },
  {
   "cell_type": "markdown",
   "metadata": {
    "id": "eMOegnsN7iuQ"
   },
   "source": [
    "### Missing data (will not be covered in its entirety)\n",
    "\n",
    "Both `numpy` and `pandas` allow for missing values, which are a reality in data science. The missing values are coded as `np.nan`. Let's create some data and force some missing values"
   ]
  },
  {
   "cell_type": "code",
   "execution_count": 72,
   "metadata": {
    "colab": {
     "base_uri": "https://localhost:8080/",
     "height": 206
    },
    "executionInfo": {
     "elapsed": 417,
     "status": "ok",
     "timestamp": 1607189743100,
     "user": {
      "displayName": "Gaby Gerlach",
      "photoUrl": "",
      "userId": "11117434220237101401"
     },
     "user_tz": 300
    },
    "id": "McMrXSun7iuQ",
    "name": "02-python-pandas-59",
    "outputId": "6a4d78cf-0fd8-47e1-faea-978dbb8f22a5"
   },
   "outputs": [
    {
     "data": {
      "text/html": [
       "<div>\n",
       "<style scoped>\n",
       "    .dataframe tbody tr th:only-of-type {\n",
       "        vertical-align: middle;\n",
       "    }\n",
       "\n",
       "    .dataframe tbody tr th {\n",
       "        vertical-align: top;\n",
       "    }\n",
       "\n",
       "    .dataframe thead th {\n",
       "        text-align: right;\n",
       "    }\n",
       "</style>\n",
       "<table border=\"1\" class=\"dataframe\">\n",
       "  <thead>\n",
       "    <tr style=\"text-align: right;\">\n",
       "      <th></th>\n",
       "      <th>one</th>\n",
       "      <th>two</th>\n",
       "      <th>three</th>\n",
       "      <th>four</th>\n",
       "      <th>five</th>\n",
       "    </tr>\n",
       "  </thead>\n",
       "  <tbody>\n",
       "    <tr>\n",
       "      <th>a</th>\n",
       "      <td>-0.461526</td>\n",
       "      <td>0.100114</td>\n",
       "      <td>1.203480</td>\n",
       "      <td>20</td>\n",
       "      <td>False</td>\n",
       "    </tr>\n",
       "    <tr>\n",
       "      <th>c</th>\n",
       "      <td>0.895374</td>\n",
       "      <td>0.411451</td>\n",
       "      <td>-0.090356</td>\n",
       "      <td>20</td>\n",
       "      <td>True</td>\n",
       "    </tr>\n",
       "    <tr>\n",
       "      <th>e</th>\n",
       "      <td>0.411101</td>\n",
       "      <td>1.047826</td>\n",
       "      <td>-1.688879</td>\n",
       "      <td>20</td>\n",
       "      <td>True</td>\n",
       "    </tr>\n",
       "    <tr>\n",
       "      <th>f</th>\n",
       "      <td>1.083412</td>\n",
       "      <td>-1.034765</td>\n",
       "      <td>0.002112</td>\n",
       "      <td>20</td>\n",
       "      <td>True</td>\n",
       "    </tr>\n",
       "    <tr>\n",
       "      <th>g</th>\n",
       "      <td>1.974888</td>\n",
       "      <td>0.255597</td>\n",
       "      <td>-0.949174</td>\n",
       "      <td>20</td>\n",
       "      <td>True</td>\n",
       "    </tr>\n",
       "  </tbody>\n",
       "</table>\n",
       "</div>"
      ],
      "text/plain": [
       "        one       two     three  four   five\n",
       "a -0.461526  0.100114  1.203480    20  False\n",
       "c  0.895374  0.411451 -0.090356    20   True\n",
       "e  0.411101  1.047826 -1.688879    20   True\n",
       "f  1.083412 -1.034765  0.002112    20   True\n",
       "g  1.974888  0.255597 -0.949174    20   True"
      ]
     },
     "execution_count": 72,
     "metadata": {},
     "output_type": "execute_result"
    }
   ],
   "source": [
    "df = pd.DataFrame(np.random.randn(5, 3), index = ['a','c','e', 'f','g'], columns = ['one','two','three']) # pre-specify index and column names\n",
    "df['four'] = 20 # add a column named \"four\", which will all be 20\n",
    "df['five'] = df['one'] > 0\n",
    "df"
   ]
  },
  {
   "cell_type": "code",
   "execution_count": 73,
   "metadata": {
    "colab": {
     "base_uri": "https://localhost:8080/",
     "height": 190
    },
    "executionInfo": {
     "elapsed": 613,
     "status": "ok",
     "timestamp": 1607189743496,
     "user": {
      "displayName": "Gaby Gerlach",
      "photoUrl": "",
      "userId": "11117434220237101401"
     },
     "user_tz": 300
    },
    "id": "2Vw4Ibi77iuQ",
    "name": "02-python-pandas-60",
    "outputId": "43efd041-2fe7-445d-f4b4-1352c2ea2550"
   },
   "outputs": [
    {
     "data": {
      "text/html": [
       "<style  type=\"text/css\" >\n",
       "    #T_54cdad92_3a44_11eb_bc0c_3e22fba9dbb9row1_col0 {\n",
       "            background-color: yellow;\n",
       "        }    #T_54cdad92_3a44_11eb_bc0c_3e22fba9dbb9row1_col1 {\n",
       "            background-color: yellow;\n",
       "        }    #T_54cdad92_3a44_11eb_bc0c_3e22fba9dbb9row1_col2 {\n",
       "            background-color: yellow;\n",
       "        }    #T_54cdad92_3a44_11eb_bc0c_3e22fba9dbb9row1_col3 {\n",
       "            background-color: yellow;\n",
       "        }    #T_54cdad92_3a44_11eb_bc0c_3e22fba9dbb9row1_col4 {\n",
       "            background-color: yellow;\n",
       "        }    #T_54cdad92_3a44_11eb_bc0c_3e22fba9dbb9row3_col0 {\n",
       "            background-color: yellow;\n",
       "        }    #T_54cdad92_3a44_11eb_bc0c_3e22fba9dbb9row3_col1 {\n",
       "            background-color: yellow;\n",
       "        }    #T_54cdad92_3a44_11eb_bc0c_3e22fba9dbb9row3_col2 {\n",
       "            background-color: yellow;\n",
       "        }    #T_54cdad92_3a44_11eb_bc0c_3e22fba9dbb9row3_col3 {\n",
       "            background-color: yellow;\n",
       "        }    #T_54cdad92_3a44_11eb_bc0c_3e22fba9dbb9row3_col4 {\n",
       "            background-color: yellow;\n",
       "        }</style><table id=\"T_54cdad92_3a44_11eb_bc0c_3e22fba9dbb9\" ><thead>    <tr>        <th class=\"blank level0\" ></th>        <th class=\"col_heading level0 col0\" >one</th>        <th class=\"col_heading level0 col1\" >two</th>        <th class=\"col_heading level0 col2\" >three</th>        <th class=\"col_heading level0 col3\" >four</th>        <th class=\"col_heading level0 col4\" >five</th>    </tr></thead><tbody>\n",
       "                <tr>\n",
       "                        <th id=\"T_54cdad92_3a44_11eb_bc0c_3e22fba9dbb9level0_row0\" class=\"row_heading level0 row0\" >a</th>\n",
       "                        <td id=\"T_54cdad92_3a44_11eb_bc0c_3e22fba9dbb9row0_col0\" class=\"data row0 col0\" >-0.461526</td>\n",
       "                        <td id=\"T_54cdad92_3a44_11eb_bc0c_3e22fba9dbb9row0_col1\" class=\"data row0 col1\" >0.100114</td>\n",
       "                        <td id=\"T_54cdad92_3a44_11eb_bc0c_3e22fba9dbb9row0_col2\" class=\"data row0 col2\" >1.203480</td>\n",
       "                        <td id=\"T_54cdad92_3a44_11eb_bc0c_3e22fba9dbb9row0_col3\" class=\"data row0 col3\" >20.000000</td>\n",
       "                        <td id=\"T_54cdad92_3a44_11eb_bc0c_3e22fba9dbb9row0_col4\" class=\"data row0 col4\" >False</td>\n",
       "            </tr>\n",
       "            <tr>\n",
       "                        <th id=\"T_54cdad92_3a44_11eb_bc0c_3e22fba9dbb9level0_row1\" class=\"row_heading level0 row1\" >b</th>\n",
       "                        <td id=\"T_54cdad92_3a44_11eb_bc0c_3e22fba9dbb9row1_col0\" class=\"data row1 col0\" >nan</td>\n",
       "                        <td id=\"T_54cdad92_3a44_11eb_bc0c_3e22fba9dbb9row1_col1\" class=\"data row1 col1\" >nan</td>\n",
       "                        <td id=\"T_54cdad92_3a44_11eb_bc0c_3e22fba9dbb9row1_col2\" class=\"data row1 col2\" >nan</td>\n",
       "                        <td id=\"T_54cdad92_3a44_11eb_bc0c_3e22fba9dbb9row1_col3\" class=\"data row1 col3\" >nan</td>\n",
       "                        <td id=\"T_54cdad92_3a44_11eb_bc0c_3e22fba9dbb9row1_col4\" class=\"data row1 col4\" >nan</td>\n",
       "            </tr>\n",
       "            <tr>\n",
       "                        <th id=\"T_54cdad92_3a44_11eb_bc0c_3e22fba9dbb9level0_row2\" class=\"row_heading level0 row2\" >c</th>\n",
       "                        <td id=\"T_54cdad92_3a44_11eb_bc0c_3e22fba9dbb9row2_col0\" class=\"data row2 col0\" >0.895374</td>\n",
       "                        <td id=\"T_54cdad92_3a44_11eb_bc0c_3e22fba9dbb9row2_col1\" class=\"data row2 col1\" >0.411451</td>\n",
       "                        <td id=\"T_54cdad92_3a44_11eb_bc0c_3e22fba9dbb9row2_col2\" class=\"data row2 col2\" >-0.090356</td>\n",
       "                        <td id=\"T_54cdad92_3a44_11eb_bc0c_3e22fba9dbb9row2_col3\" class=\"data row2 col3\" >20.000000</td>\n",
       "                        <td id=\"T_54cdad92_3a44_11eb_bc0c_3e22fba9dbb9row2_col4\" class=\"data row2 col4\" >True</td>\n",
       "            </tr>\n",
       "            <tr>\n",
       "                        <th id=\"T_54cdad92_3a44_11eb_bc0c_3e22fba9dbb9level0_row3\" class=\"row_heading level0 row3\" >d</th>\n",
       "                        <td id=\"T_54cdad92_3a44_11eb_bc0c_3e22fba9dbb9row3_col0\" class=\"data row3 col0\" >nan</td>\n",
       "                        <td id=\"T_54cdad92_3a44_11eb_bc0c_3e22fba9dbb9row3_col1\" class=\"data row3 col1\" >nan</td>\n",
       "                        <td id=\"T_54cdad92_3a44_11eb_bc0c_3e22fba9dbb9row3_col2\" class=\"data row3 col2\" >nan</td>\n",
       "                        <td id=\"T_54cdad92_3a44_11eb_bc0c_3e22fba9dbb9row3_col3\" class=\"data row3 col3\" >nan</td>\n",
       "                        <td id=\"T_54cdad92_3a44_11eb_bc0c_3e22fba9dbb9row3_col4\" class=\"data row3 col4\" >nan</td>\n",
       "            </tr>\n",
       "            <tr>\n",
       "                        <th id=\"T_54cdad92_3a44_11eb_bc0c_3e22fba9dbb9level0_row4\" class=\"row_heading level0 row4\" >e</th>\n",
       "                        <td id=\"T_54cdad92_3a44_11eb_bc0c_3e22fba9dbb9row4_col0\" class=\"data row4 col0\" >0.411101</td>\n",
       "                        <td id=\"T_54cdad92_3a44_11eb_bc0c_3e22fba9dbb9row4_col1\" class=\"data row4 col1\" >1.047826</td>\n",
       "                        <td id=\"T_54cdad92_3a44_11eb_bc0c_3e22fba9dbb9row4_col2\" class=\"data row4 col2\" >-1.688879</td>\n",
       "                        <td id=\"T_54cdad92_3a44_11eb_bc0c_3e22fba9dbb9row4_col3\" class=\"data row4 col3\" >20.000000</td>\n",
       "                        <td id=\"T_54cdad92_3a44_11eb_bc0c_3e22fba9dbb9row4_col4\" class=\"data row4 col4\" >True</td>\n",
       "            </tr>\n",
       "            <tr>\n",
       "                        <th id=\"T_54cdad92_3a44_11eb_bc0c_3e22fba9dbb9level0_row5\" class=\"row_heading level0 row5\" >f</th>\n",
       "                        <td id=\"T_54cdad92_3a44_11eb_bc0c_3e22fba9dbb9row5_col0\" class=\"data row5 col0\" >1.083412</td>\n",
       "                        <td id=\"T_54cdad92_3a44_11eb_bc0c_3e22fba9dbb9row5_col1\" class=\"data row5 col1\" >-1.034765</td>\n",
       "                        <td id=\"T_54cdad92_3a44_11eb_bc0c_3e22fba9dbb9row5_col2\" class=\"data row5 col2\" >0.002112</td>\n",
       "                        <td id=\"T_54cdad92_3a44_11eb_bc0c_3e22fba9dbb9row5_col3\" class=\"data row5 col3\" >20.000000</td>\n",
       "                        <td id=\"T_54cdad92_3a44_11eb_bc0c_3e22fba9dbb9row5_col4\" class=\"data row5 col4\" >True</td>\n",
       "            </tr>\n",
       "            <tr>\n",
       "                        <th id=\"T_54cdad92_3a44_11eb_bc0c_3e22fba9dbb9level0_row6\" class=\"row_heading level0 row6\" >g</th>\n",
       "                        <td id=\"T_54cdad92_3a44_11eb_bc0c_3e22fba9dbb9row6_col0\" class=\"data row6 col0\" >1.974888</td>\n",
       "                        <td id=\"T_54cdad92_3a44_11eb_bc0c_3e22fba9dbb9row6_col1\" class=\"data row6 col1\" >0.255597</td>\n",
       "                        <td id=\"T_54cdad92_3a44_11eb_bc0c_3e22fba9dbb9row6_col2\" class=\"data row6 col2\" >-0.949174</td>\n",
       "                        <td id=\"T_54cdad92_3a44_11eb_bc0c_3e22fba9dbb9row6_col3\" class=\"data row6 col3\" >20.000000</td>\n",
       "                        <td id=\"T_54cdad92_3a44_11eb_bc0c_3e22fba9dbb9row6_col4\" class=\"data row6 col4\" >True</td>\n",
       "            </tr>\n",
       "    </tbody></table>"
      ],
      "text/plain": [
       "<pandas.io.formats.style.Styler at 0x7feba82e1310>"
      ]
     },
     "execution_count": 73,
     "metadata": {},
     "output_type": "execute_result"
    }
   ],
   "source": [
    "df2 = df.reindex(['a','b','c','d','e','f','g'])\n",
    "df2.style.applymap(lambda x: 'background-color:yellow', subset = pd.IndexSlice[['b','d'],:])"
   ]
  },
  {
   "cell_type": "markdown",
   "metadata": {
    "id": "fxohxkxJ7iuQ"
   },
   "source": [
    "The code above is creating new blank rows based on the new index values, some of which are present in the existing data and some of which are missing.\n",
    "\n",
    "We can create *masks* of the data indicating where missing values reside in a data set."
   ]
  },
  {
   "cell_type": "code",
   "execution_count": 74,
   "metadata": {
    "colab": {
     "base_uri": "https://localhost:8080/",
     "height": 269
    },
    "executionInfo": {
     "elapsed": 472,
     "status": "ok",
     "timestamp": 1607189743932,
     "user": {
      "displayName": "Gaby Gerlach",
      "photoUrl": "",
      "userId": "11117434220237101401"
     },
     "user_tz": 300
    },
    "id": "A5xKmj2x7iuQ",
    "name": "02-python-pandas-61",
    "outputId": "842203e3-4038-4fdc-9557-e136a59bde6d"
   },
   "outputs": [
    {
     "data": {
      "text/html": [
       "<div>\n",
       "<style scoped>\n",
       "    .dataframe tbody tr th:only-of-type {\n",
       "        vertical-align: middle;\n",
       "    }\n",
       "\n",
       "    .dataframe tbody tr th {\n",
       "        vertical-align: top;\n",
       "    }\n",
       "\n",
       "    .dataframe thead th {\n",
       "        text-align: right;\n",
       "    }\n",
       "</style>\n",
       "<table border=\"1\" class=\"dataframe\">\n",
       "  <thead>\n",
       "    <tr style=\"text-align: right;\">\n",
       "      <th></th>\n",
       "      <th>one</th>\n",
       "      <th>two</th>\n",
       "      <th>three</th>\n",
       "      <th>four</th>\n",
       "      <th>five</th>\n",
       "    </tr>\n",
       "  </thead>\n",
       "  <tbody>\n",
       "    <tr>\n",
       "      <th>a</th>\n",
       "      <td>False</td>\n",
       "      <td>False</td>\n",
       "      <td>False</td>\n",
       "      <td>False</td>\n",
       "      <td>False</td>\n",
       "    </tr>\n",
       "    <tr>\n",
       "      <th>b</th>\n",
       "      <td>True</td>\n",
       "      <td>True</td>\n",
       "      <td>True</td>\n",
       "      <td>True</td>\n",
       "      <td>True</td>\n",
       "    </tr>\n",
       "    <tr>\n",
       "      <th>c</th>\n",
       "      <td>False</td>\n",
       "      <td>False</td>\n",
       "      <td>False</td>\n",
       "      <td>False</td>\n",
       "      <td>False</td>\n",
       "    </tr>\n",
       "    <tr>\n",
       "      <th>d</th>\n",
       "      <td>True</td>\n",
       "      <td>True</td>\n",
       "      <td>True</td>\n",
       "      <td>True</td>\n",
       "      <td>True</td>\n",
       "    </tr>\n",
       "    <tr>\n",
       "      <th>e</th>\n",
       "      <td>False</td>\n",
       "      <td>False</td>\n",
       "      <td>False</td>\n",
       "      <td>False</td>\n",
       "      <td>False</td>\n",
       "    </tr>\n",
       "    <tr>\n",
       "      <th>f</th>\n",
       "      <td>False</td>\n",
       "      <td>False</td>\n",
       "      <td>False</td>\n",
       "      <td>False</td>\n",
       "      <td>False</td>\n",
       "    </tr>\n",
       "    <tr>\n",
       "      <th>g</th>\n",
       "      <td>False</td>\n",
       "      <td>False</td>\n",
       "      <td>False</td>\n",
       "      <td>False</td>\n",
       "      <td>False</td>\n",
       "    </tr>\n",
       "  </tbody>\n",
       "</table>\n",
       "</div>"
      ],
      "text/plain": [
       "     one    two  three   four   five\n",
       "a  False  False  False  False  False\n",
       "b   True   True   True   True   True\n",
       "c  False  False  False  False  False\n",
       "d   True   True   True   True   True\n",
       "e  False  False  False  False  False\n",
       "f  False  False  False  False  False\n",
       "g  False  False  False  False  False"
      ]
     },
     "execution_count": 74,
     "metadata": {},
     "output_type": "execute_result"
    }
   ],
   "source": [
    "df2.isna()"
   ]
  },
  {
   "cell_type": "code",
   "execution_count": 75,
   "metadata": {
    "colab": {
     "base_uri": "https://localhost:8080/"
    },
    "executionInfo": {
     "elapsed": 721,
     "status": "ok",
     "timestamp": 1607189744304,
     "user": {
      "displayName": "Gaby Gerlach",
      "photoUrl": "",
      "userId": "11117434220237101401"
     },
     "user_tz": 300
    },
    "id": "Fd1-LpqG7iuQ",
    "name": "02-python-pandas-62",
    "outputId": "7f6813f8-6f3e-4471-8db8-a0601e3e8755"
   },
   "outputs": [
    {
     "data": {
      "text/plain": [
       "a     True\n",
       "b    False\n",
       "c     True\n",
       "d    False\n",
       "e     True\n",
       "f     True\n",
       "g     True\n",
       "Name: one, dtype: bool"
      ]
     },
     "execution_count": 75,
     "metadata": {},
     "output_type": "execute_result"
    }
   ],
   "source": [
    "df2['one'].notna()"
   ]
  },
  {
   "cell_type": "markdown",
   "metadata": {
    "id": "WArS4StG7iuQ"
   },
   "source": [
    "We can obtain complete data by dropping any row that has any missing value. This is called *complete case analysis*, and you should be very careful using it. It is *only* valid if we belive that the missingness is missing at random, and not related to some characteristic of the data or the data gathering process. "
   ]
  },
  {
   "cell_type": "code",
   "execution_count": 76,
   "metadata": {
    "colab": {
     "base_uri": "https://localhost:8080/",
     "height": 206
    },
    "executionInfo": {
     "elapsed": 539,
     "status": "ok",
     "timestamp": 1607189744558,
     "user": {
      "displayName": "Gaby Gerlach",
      "photoUrl": "",
      "userId": "11117434220237101401"
     },
     "user_tz": 300
    },
    "id": "QxsgDKsg7iuQ",
    "name": "02-python-pandas-63",
    "outputId": "3cdc7211-65cd-4f5c-cea0-4c393d94a1f7"
   },
   "outputs": [
    {
     "data": {
      "text/html": [
       "<div>\n",
       "<style scoped>\n",
       "    .dataframe tbody tr th:only-of-type {\n",
       "        vertical-align: middle;\n",
       "    }\n",
       "\n",
       "    .dataframe tbody tr th {\n",
       "        vertical-align: top;\n",
       "    }\n",
       "\n",
       "    .dataframe thead th {\n",
       "        text-align: right;\n",
       "    }\n",
       "</style>\n",
       "<table border=\"1\" class=\"dataframe\">\n",
       "  <thead>\n",
       "    <tr style=\"text-align: right;\">\n",
       "      <th></th>\n",
       "      <th>one</th>\n",
       "      <th>two</th>\n",
       "      <th>three</th>\n",
       "      <th>four</th>\n",
       "      <th>five</th>\n",
       "    </tr>\n",
       "  </thead>\n",
       "  <tbody>\n",
       "    <tr>\n",
       "      <th>a</th>\n",
       "      <td>-0.461526</td>\n",
       "      <td>0.100114</td>\n",
       "      <td>1.203480</td>\n",
       "      <td>20.0</td>\n",
       "      <td>False</td>\n",
       "    </tr>\n",
       "    <tr>\n",
       "      <th>c</th>\n",
       "      <td>0.895374</td>\n",
       "      <td>0.411451</td>\n",
       "      <td>-0.090356</td>\n",
       "      <td>20.0</td>\n",
       "      <td>True</td>\n",
       "    </tr>\n",
       "    <tr>\n",
       "      <th>e</th>\n",
       "      <td>0.411101</td>\n",
       "      <td>1.047826</td>\n",
       "      <td>-1.688879</td>\n",
       "      <td>20.0</td>\n",
       "      <td>True</td>\n",
       "    </tr>\n",
       "    <tr>\n",
       "      <th>f</th>\n",
       "      <td>1.083412</td>\n",
       "      <td>-1.034765</td>\n",
       "      <td>0.002112</td>\n",
       "      <td>20.0</td>\n",
       "      <td>True</td>\n",
       "    </tr>\n",
       "    <tr>\n",
       "      <th>g</th>\n",
       "      <td>1.974888</td>\n",
       "      <td>0.255597</td>\n",
       "      <td>-0.949174</td>\n",
       "      <td>20.0</td>\n",
       "      <td>True</td>\n",
       "    </tr>\n",
       "  </tbody>\n",
       "</table>\n",
       "</div>"
      ],
      "text/plain": [
       "        one       two     three  four   five\n",
       "a -0.461526  0.100114  1.203480  20.0  False\n",
       "c  0.895374  0.411451 -0.090356  20.0   True\n",
       "e  0.411101  1.047826 -1.688879  20.0   True\n",
       "f  1.083412 -1.034765  0.002112  20.0   True\n",
       "g  1.974888  0.255597 -0.949174  20.0   True"
      ]
     },
     "execution_count": 76,
     "metadata": {},
     "output_type": "execute_result"
    }
   ],
   "source": [
    "df2.dropna(how='any')"
   ]
  },
  {
   "cell_type": "markdown",
   "metadata": {
    "id": "HXVYdJS-7iuQ"
   },
   "source": [
    "You can also fill in, or *impute*, missing values. This can be done using a single value.."
   ]
  },
  {
   "cell_type": "code",
   "execution_count": 77,
   "metadata": {
    "colab": {
     "base_uri": "https://localhost:8080/",
     "height": 190
    },
    "executionInfo": {
     "elapsed": 372,
     "status": "ok",
     "timestamp": 1607189744910,
     "user": {
      "displayName": "Gaby Gerlach",
      "photoUrl": "",
      "userId": "11117434220237101401"
     },
     "user_tz": 300
    },
    "id": "cyPO9BkU7iuQ",
    "name": "02-python-pandas-64",
    "outputId": "02ab6607-12e2-4178-adc2-c47986811273"
   },
   "outputs": [
    {
     "data": {
      "text/html": [
       "<style  type=\"text/css\" >\n",
       "    #T_56a1db16_3a44_11eb_bc0c_3e22fba9dbb9row1_col0 {\n",
       "            background-color: yellow;\n",
       "        }    #T_56a1db16_3a44_11eb_bc0c_3e22fba9dbb9row1_col1 {\n",
       "            background-color: yellow;\n",
       "        }    #T_56a1db16_3a44_11eb_bc0c_3e22fba9dbb9row1_col2 {\n",
       "            background-color: yellow;\n",
       "        }    #T_56a1db16_3a44_11eb_bc0c_3e22fba9dbb9row1_col3 {\n",
       "            background-color: yellow;\n",
       "        }    #T_56a1db16_3a44_11eb_bc0c_3e22fba9dbb9row1_col4 {\n",
       "            background-color: yellow;\n",
       "        }    #T_56a1db16_3a44_11eb_bc0c_3e22fba9dbb9row3_col0 {\n",
       "            background-color: yellow;\n",
       "        }    #T_56a1db16_3a44_11eb_bc0c_3e22fba9dbb9row3_col1 {\n",
       "            background-color: yellow;\n",
       "        }    #T_56a1db16_3a44_11eb_bc0c_3e22fba9dbb9row3_col2 {\n",
       "            background-color: yellow;\n",
       "        }    #T_56a1db16_3a44_11eb_bc0c_3e22fba9dbb9row3_col3 {\n",
       "            background-color: yellow;\n",
       "        }    #T_56a1db16_3a44_11eb_bc0c_3e22fba9dbb9row3_col4 {\n",
       "            background-color: yellow;\n",
       "        }</style><table id=\"T_56a1db16_3a44_11eb_bc0c_3e22fba9dbb9\" ><thead>    <tr>        <th class=\"blank level0\" ></th>        <th class=\"col_heading level0 col0\" >one</th>        <th class=\"col_heading level0 col1\" >two</th>        <th class=\"col_heading level0 col2\" >three</th>        <th class=\"col_heading level0 col3\" >four</th>        <th class=\"col_heading level0 col4\" >five</th>    </tr></thead><tbody>\n",
       "                <tr>\n",
       "                        <th id=\"T_56a1db16_3a44_11eb_bc0c_3e22fba9dbb9level0_row0\" class=\"row_heading level0 row0\" >a</th>\n",
       "                        <td id=\"T_56a1db16_3a44_11eb_bc0c_3e22fba9dbb9row0_col0\" class=\"data row0 col0\" >-0.461526</td>\n",
       "                        <td id=\"T_56a1db16_3a44_11eb_bc0c_3e22fba9dbb9row0_col1\" class=\"data row0 col1\" >0.100114</td>\n",
       "                        <td id=\"T_56a1db16_3a44_11eb_bc0c_3e22fba9dbb9row0_col2\" class=\"data row0 col2\" >1.203480</td>\n",
       "                        <td id=\"T_56a1db16_3a44_11eb_bc0c_3e22fba9dbb9row0_col3\" class=\"data row0 col3\" >20.000000</td>\n",
       "                        <td id=\"T_56a1db16_3a44_11eb_bc0c_3e22fba9dbb9row0_col4\" class=\"data row0 col4\" >False</td>\n",
       "            </tr>\n",
       "            <tr>\n",
       "                        <th id=\"T_56a1db16_3a44_11eb_bc0c_3e22fba9dbb9level0_row1\" class=\"row_heading level0 row1\" >b</th>\n",
       "                        <td id=\"T_56a1db16_3a44_11eb_bc0c_3e22fba9dbb9row1_col0\" class=\"data row1 col0\" >5.000000</td>\n",
       "                        <td id=\"T_56a1db16_3a44_11eb_bc0c_3e22fba9dbb9row1_col1\" class=\"data row1 col1\" >5.000000</td>\n",
       "                        <td id=\"T_56a1db16_3a44_11eb_bc0c_3e22fba9dbb9row1_col2\" class=\"data row1 col2\" >5.000000</td>\n",
       "                        <td id=\"T_56a1db16_3a44_11eb_bc0c_3e22fba9dbb9row1_col3\" class=\"data row1 col3\" >5.000000</td>\n",
       "                        <td id=\"T_56a1db16_3a44_11eb_bc0c_3e22fba9dbb9row1_col4\" class=\"data row1 col4\" >5</td>\n",
       "            </tr>\n",
       "            <tr>\n",
       "                        <th id=\"T_56a1db16_3a44_11eb_bc0c_3e22fba9dbb9level0_row2\" class=\"row_heading level0 row2\" >c</th>\n",
       "                        <td id=\"T_56a1db16_3a44_11eb_bc0c_3e22fba9dbb9row2_col0\" class=\"data row2 col0\" >0.895374</td>\n",
       "                        <td id=\"T_56a1db16_3a44_11eb_bc0c_3e22fba9dbb9row2_col1\" class=\"data row2 col1\" >0.411451</td>\n",
       "                        <td id=\"T_56a1db16_3a44_11eb_bc0c_3e22fba9dbb9row2_col2\" class=\"data row2 col2\" >-0.090356</td>\n",
       "                        <td id=\"T_56a1db16_3a44_11eb_bc0c_3e22fba9dbb9row2_col3\" class=\"data row2 col3\" >20.000000</td>\n",
       "                        <td id=\"T_56a1db16_3a44_11eb_bc0c_3e22fba9dbb9row2_col4\" class=\"data row2 col4\" >True</td>\n",
       "            </tr>\n",
       "            <tr>\n",
       "                        <th id=\"T_56a1db16_3a44_11eb_bc0c_3e22fba9dbb9level0_row3\" class=\"row_heading level0 row3\" >d</th>\n",
       "                        <td id=\"T_56a1db16_3a44_11eb_bc0c_3e22fba9dbb9row3_col0\" class=\"data row3 col0\" >5.000000</td>\n",
       "                        <td id=\"T_56a1db16_3a44_11eb_bc0c_3e22fba9dbb9row3_col1\" class=\"data row3 col1\" >5.000000</td>\n",
       "                        <td id=\"T_56a1db16_3a44_11eb_bc0c_3e22fba9dbb9row3_col2\" class=\"data row3 col2\" >5.000000</td>\n",
       "                        <td id=\"T_56a1db16_3a44_11eb_bc0c_3e22fba9dbb9row3_col3\" class=\"data row3 col3\" >5.000000</td>\n",
       "                        <td id=\"T_56a1db16_3a44_11eb_bc0c_3e22fba9dbb9row3_col4\" class=\"data row3 col4\" >5</td>\n",
       "            </tr>\n",
       "            <tr>\n",
       "                        <th id=\"T_56a1db16_3a44_11eb_bc0c_3e22fba9dbb9level0_row4\" class=\"row_heading level0 row4\" >e</th>\n",
       "                        <td id=\"T_56a1db16_3a44_11eb_bc0c_3e22fba9dbb9row4_col0\" class=\"data row4 col0\" >0.411101</td>\n",
       "                        <td id=\"T_56a1db16_3a44_11eb_bc0c_3e22fba9dbb9row4_col1\" class=\"data row4 col1\" >1.047826</td>\n",
       "                        <td id=\"T_56a1db16_3a44_11eb_bc0c_3e22fba9dbb9row4_col2\" class=\"data row4 col2\" >-1.688879</td>\n",
       "                        <td id=\"T_56a1db16_3a44_11eb_bc0c_3e22fba9dbb9row4_col3\" class=\"data row4 col3\" >20.000000</td>\n",
       "                        <td id=\"T_56a1db16_3a44_11eb_bc0c_3e22fba9dbb9row4_col4\" class=\"data row4 col4\" >True</td>\n",
       "            </tr>\n",
       "            <tr>\n",
       "                        <th id=\"T_56a1db16_3a44_11eb_bc0c_3e22fba9dbb9level0_row5\" class=\"row_heading level0 row5\" >f</th>\n",
       "                        <td id=\"T_56a1db16_3a44_11eb_bc0c_3e22fba9dbb9row5_col0\" class=\"data row5 col0\" >1.083412</td>\n",
       "                        <td id=\"T_56a1db16_3a44_11eb_bc0c_3e22fba9dbb9row5_col1\" class=\"data row5 col1\" >-1.034765</td>\n",
       "                        <td id=\"T_56a1db16_3a44_11eb_bc0c_3e22fba9dbb9row5_col2\" class=\"data row5 col2\" >0.002112</td>\n",
       "                        <td id=\"T_56a1db16_3a44_11eb_bc0c_3e22fba9dbb9row5_col3\" class=\"data row5 col3\" >20.000000</td>\n",
       "                        <td id=\"T_56a1db16_3a44_11eb_bc0c_3e22fba9dbb9row5_col4\" class=\"data row5 col4\" >True</td>\n",
       "            </tr>\n",
       "            <tr>\n",
       "                        <th id=\"T_56a1db16_3a44_11eb_bc0c_3e22fba9dbb9level0_row6\" class=\"row_heading level0 row6\" >g</th>\n",
       "                        <td id=\"T_56a1db16_3a44_11eb_bc0c_3e22fba9dbb9row6_col0\" class=\"data row6 col0\" >1.974888</td>\n",
       "                        <td id=\"T_56a1db16_3a44_11eb_bc0c_3e22fba9dbb9row6_col1\" class=\"data row6 col1\" >0.255597</td>\n",
       "                        <td id=\"T_56a1db16_3a44_11eb_bc0c_3e22fba9dbb9row6_col2\" class=\"data row6 col2\" >-0.949174</td>\n",
       "                        <td id=\"T_56a1db16_3a44_11eb_bc0c_3e22fba9dbb9row6_col3\" class=\"data row6 col3\" >20.000000</td>\n",
       "                        <td id=\"T_56a1db16_3a44_11eb_bc0c_3e22fba9dbb9row6_col4\" class=\"data row6 col4\" >True</td>\n",
       "            </tr>\n",
       "    </tbody></table>"
      ],
      "text/plain": [
       "<pandas.io.formats.style.Styler at 0x7feba8e3b290>"
      ]
     },
     "execution_count": 77,
     "metadata": {},
     "output_type": "execute_result"
    }
   ],
   "source": [
    "out1 = df2.fillna(value = 5)\n",
    "\n",
    "out1.style.applymap(lambda x: 'background-color:yellow', subset = pd.IndexSlice[['b','d'],:])"
   ]
  },
  {
   "cell_type": "markdown",
   "metadata": {
    "id": "ksk6nDg97iuQ"
   },
   "source": [
    "or a computed value like a column mean"
   ]
  },
  {
   "cell_type": "code",
   "execution_count": 78,
   "metadata": {
    "colab": {
     "base_uri": "https://localhost:8080/",
     "height": 190
    },
    "executionInfo": {
     "elapsed": 449,
     "status": "ok",
     "timestamp": 1607189745677,
     "user": {
      "displayName": "Gaby Gerlach",
      "photoUrl": "",
      "userId": "11117434220237101401"
     },
     "user_tz": 300
    },
    "id": "im1ugpBX7iuQ",
    "name": "02-python-pandas-65",
    "outputId": "5aefc838-6117-467f-c964-dacb16195892"
   },
   "outputs": [
    {
     "data": {
      "text/html": [
       "<style  type=\"text/css\" >\n",
       "    #T_5b3a050e_3a44_11eb_bc0c_3e22fba9dbb9row1_col0 {\n",
       "            background-color: yellow;\n",
       "        }    #T_5b3a050e_3a44_11eb_bc0c_3e22fba9dbb9row1_col1 {\n",
       "            background-color: yellow;\n",
       "        }    #T_5b3a050e_3a44_11eb_bc0c_3e22fba9dbb9row1_col2 {\n",
       "            background-color: yellow;\n",
       "        }    #T_5b3a050e_3a44_11eb_bc0c_3e22fba9dbb9row1_col3 {\n",
       "            background-color: yellow;\n",
       "        }    #T_5b3a050e_3a44_11eb_bc0c_3e22fba9dbb9row3_col0 {\n",
       "            background-color: yellow;\n",
       "        }    #T_5b3a050e_3a44_11eb_bc0c_3e22fba9dbb9row3_col1 {\n",
       "            background-color: yellow;\n",
       "        }    #T_5b3a050e_3a44_11eb_bc0c_3e22fba9dbb9row3_col2 {\n",
       "            background-color: yellow;\n",
       "        }    #T_5b3a050e_3a44_11eb_bc0c_3e22fba9dbb9row3_col3 {\n",
       "            background-color: yellow;\n",
       "        }</style><table id=\"T_5b3a050e_3a44_11eb_bc0c_3e22fba9dbb9\" ><thead>    <tr>        <th class=\"blank level0\" ></th>        <th class=\"col_heading level0 col0\" >one</th>        <th class=\"col_heading level0 col1\" >two</th>        <th class=\"col_heading level0 col2\" >three</th>        <th class=\"col_heading level0 col3\" >four</th>    </tr></thead><tbody>\n",
       "                <tr>\n",
       "                        <th id=\"T_5b3a050e_3a44_11eb_bc0c_3e22fba9dbb9level0_row0\" class=\"row_heading level0 row0\" >a</th>\n",
       "                        <td id=\"T_5b3a050e_3a44_11eb_bc0c_3e22fba9dbb9row0_col0\" class=\"data row0 col0\" >-0.461526</td>\n",
       "                        <td id=\"T_5b3a050e_3a44_11eb_bc0c_3e22fba9dbb9row0_col1\" class=\"data row0 col1\" >0.100114</td>\n",
       "                        <td id=\"T_5b3a050e_3a44_11eb_bc0c_3e22fba9dbb9row0_col2\" class=\"data row0 col2\" >1.203480</td>\n",
       "                        <td id=\"T_5b3a050e_3a44_11eb_bc0c_3e22fba9dbb9row0_col3\" class=\"data row0 col3\" >20.000000</td>\n",
       "            </tr>\n",
       "            <tr>\n",
       "                        <th id=\"T_5b3a050e_3a44_11eb_bc0c_3e22fba9dbb9level0_row1\" class=\"row_heading level0 row1\" >b</th>\n",
       "                        <td id=\"T_5b3a050e_3a44_11eb_bc0c_3e22fba9dbb9row1_col0\" class=\"data row1 col0\" >0.780650</td>\n",
       "                        <td id=\"T_5b3a050e_3a44_11eb_bc0c_3e22fba9dbb9row1_col1\" class=\"data row1 col1\" >0.156044</td>\n",
       "                        <td id=\"T_5b3a050e_3a44_11eb_bc0c_3e22fba9dbb9row1_col2\" class=\"data row1 col2\" >-0.304563</td>\n",
       "                        <td id=\"T_5b3a050e_3a44_11eb_bc0c_3e22fba9dbb9row1_col3\" class=\"data row1 col3\" >20.000000</td>\n",
       "            </tr>\n",
       "            <tr>\n",
       "                        <th id=\"T_5b3a050e_3a44_11eb_bc0c_3e22fba9dbb9level0_row2\" class=\"row_heading level0 row2\" >c</th>\n",
       "                        <td id=\"T_5b3a050e_3a44_11eb_bc0c_3e22fba9dbb9row2_col0\" class=\"data row2 col0\" >0.895374</td>\n",
       "                        <td id=\"T_5b3a050e_3a44_11eb_bc0c_3e22fba9dbb9row2_col1\" class=\"data row2 col1\" >0.411451</td>\n",
       "                        <td id=\"T_5b3a050e_3a44_11eb_bc0c_3e22fba9dbb9row2_col2\" class=\"data row2 col2\" >-0.090356</td>\n",
       "                        <td id=\"T_5b3a050e_3a44_11eb_bc0c_3e22fba9dbb9row2_col3\" class=\"data row2 col3\" >20.000000</td>\n",
       "            </tr>\n",
       "            <tr>\n",
       "                        <th id=\"T_5b3a050e_3a44_11eb_bc0c_3e22fba9dbb9level0_row3\" class=\"row_heading level0 row3\" >d</th>\n",
       "                        <td id=\"T_5b3a050e_3a44_11eb_bc0c_3e22fba9dbb9row3_col0\" class=\"data row3 col0\" >0.780650</td>\n",
       "                        <td id=\"T_5b3a050e_3a44_11eb_bc0c_3e22fba9dbb9row3_col1\" class=\"data row3 col1\" >0.156044</td>\n",
       "                        <td id=\"T_5b3a050e_3a44_11eb_bc0c_3e22fba9dbb9row3_col2\" class=\"data row3 col2\" >-0.304563</td>\n",
       "                        <td id=\"T_5b3a050e_3a44_11eb_bc0c_3e22fba9dbb9row3_col3\" class=\"data row3 col3\" >20.000000</td>\n",
       "            </tr>\n",
       "            <tr>\n",
       "                        <th id=\"T_5b3a050e_3a44_11eb_bc0c_3e22fba9dbb9level0_row4\" class=\"row_heading level0 row4\" >e</th>\n",
       "                        <td id=\"T_5b3a050e_3a44_11eb_bc0c_3e22fba9dbb9row4_col0\" class=\"data row4 col0\" >0.411101</td>\n",
       "                        <td id=\"T_5b3a050e_3a44_11eb_bc0c_3e22fba9dbb9row4_col1\" class=\"data row4 col1\" >1.047826</td>\n",
       "                        <td id=\"T_5b3a050e_3a44_11eb_bc0c_3e22fba9dbb9row4_col2\" class=\"data row4 col2\" >-1.688879</td>\n",
       "                        <td id=\"T_5b3a050e_3a44_11eb_bc0c_3e22fba9dbb9row4_col3\" class=\"data row4 col3\" >20.000000</td>\n",
       "            </tr>\n",
       "            <tr>\n",
       "                        <th id=\"T_5b3a050e_3a44_11eb_bc0c_3e22fba9dbb9level0_row5\" class=\"row_heading level0 row5\" >f</th>\n",
       "                        <td id=\"T_5b3a050e_3a44_11eb_bc0c_3e22fba9dbb9row5_col0\" class=\"data row5 col0\" >1.083412</td>\n",
       "                        <td id=\"T_5b3a050e_3a44_11eb_bc0c_3e22fba9dbb9row5_col1\" class=\"data row5 col1\" >-1.034765</td>\n",
       "                        <td id=\"T_5b3a050e_3a44_11eb_bc0c_3e22fba9dbb9row5_col2\" class=\"data row5 col2\" >0.002112</td>\n",
       "                        <td id=\"T_5b3a050e_3a44_11eb_bc0c_3e22fba9dbb9row5_col3\" class=\"data row5 col3\" >20.000000</td>\n",
       "            </tr>\n",
       "            <tr>\n",
       "                        <th id=\"T_5b3a050e_3a44_11eb_bc0c_3e22fba9dbb9level0_row6\" class=\"row_heading level0 row6\" >g</th>\n",
       "                        <td id=\"T_5b3a050e_3a44_11eb_bc0c_3e22fba9dbb9row6_col0\" class=\"data row6 col0\" >1.974888</td>\n",
       "                        <td id=\"T_5b3a050e_3a44_11eb_bc0c_3e22fba9dbb9row6_col1\" class=\"data row6 col1\" >0.255597</td>\n",
       "                        <td id=\"T_5b3a050e_3a44_11eb_bc0c_3e22fba9dbb9row6_col2\" class=\"data row6 col2\" >-0.949174</td>\n",
       "                        <td id=\"T_5b3a050e_3a44_11eb_bc0c_3e22fba9dbb9row6_col3\" class=\"data row6 col3\" >20.000000</td>\n",
       "            </tr>\n",
       "    </tbody></table>"
      ],
      "text/plain": [
       "<pandas.io.formats.style.Styler at 0x7feba82dd110>"
      ]
     },
     "execution_count": 78,
     "metadata": {},
     "output_type": "execute_result"
    }
   ],
   "source": [
    "df3 = df2.copy()\n",
    "df3 = df3.select_dtypes(exclude=[object])   # remove non-numeric columns\n",
    "out2 = df3.fillna(df3.mean())  # df3.mean() computes column-wise means\n",
    "\n",
    "out2.style.applymap(lambda x: 'background-color:yellow', subset = pd.IndexSlice[['b','d'],:])"
   ]
  },
  {
   "cell_type": "markdown",
   "metadata": {
    "id": "QsGlcTuk7iuQ"
   },
   "source": [
    "You can also impute based on the principle of *last value carried forward* which is common in time series. This means that the missing value is imputed with the previous recorded value. "
   ]
  },
  {
   "cell_type": "code",
   "execution_count": 79,
   "metadata": {
    "colab": {
     "base_uri": "https://localhost:8080/",
     "height": 190
    },
    "executionInfo": {
     "elapsed": 585,
     "status": "ok",
     "timestamp": 1607189746188,
     "user": {
      "displayName": "Gaby Gerlach",
      "photoUrl": "",
      "userId": "11117434220237101401"
     },
     "user_tz": 300
    },
    "id": "9zhEsmzH7iuQ",
    "name": "02-python-pandas-66",
    "outputId": "65eeafc0-0be5-4fdc-f961-448402eeb85c"
   },
   "outputs": [
    {
     "data": {
      "text/html": [
       "<style  type=\"text/css\" >\n",
       "    #T_5b879c60_3a44_11eb_bc0c_3e22fba9dbb9row1_col0 {\n",
       "            background-color: yellow;\n",
       "        }    #T_5b879c60_3a44_11eb_bc0c_3e22fba9dbb9row1_col1 {\n",
       "            background-color: yellow;\n",
       "        }    #T_5b879c60_3a44_11eb_bc0c_3e22fba9dbb9row1_col2 {\n",
       "            background-color: yellow;\n",
       "        }    #T_5b879c60_3a44_11eb_bc0c_3e22fba9dbb9row1_col3 {\n",
       "            background-color: yellow;\n",
       "        }    #T_5b879c60_3a44_11eb_bc0c_3e22fba9dbb9row1_col4 {\n",
       "            background-color: yellow;\n",
       "        }    #T_5b879c60_3a44_11eb_bc0c_3e22fba9dbb9row3_col0 {\n",
       "            background-color: yellow;\n",
       "        }    #T_5b879c60_3a44_11eb_bc0c_3e22fba9dbb9row3_col1 {\n",
       "            background-color: yellow;\n",
       "        }    #T_5b879c60_3a44_11eb_bc0c_3e22fba9dbb9row3_col2 {\n",
       "            background-color: yellow;\n",
       "        }    #T_5b879c60_3a44_11eb_bc0c_3e22fba9dbb9row3_col3 {\n",
       "            background-color: yellow;\n",
       "        }    #T_5b879c60_3a44_11eb_bc0c_3e22fba9dbb9row3_col4 {\n",
       "            background-color: yellow;\n",
       "        }</style><table id=\"T_5b879c60_3a44_11eb_bc0c_3e22fba9dbb9\" ><thead>    <tr>        <th class=\"blank level0\" ></th>        <th class=\"col_heading level0 col0\" >one</th>        <th class=\"col_heading level0 col1\" >two</th>        <th class=\"col_heading level0 col2\" >three</th>        <th class=\"col_heading level0 col3\" >four</th>        <th class=\"col_heading level0 col4\" >five</th>    </tr></thead><tbody>\n",
       "                <tr>\n",
       "                        <th id=\"T_5b879c60_3a44_11eb_bc0c_3e22fba9dbb9level0_row0\" class=\"row_heading level0 row0\" >a</th>\n",
       "                        <td id=\"T_5b879c60_3a44_11eb_bc0c_3e22fba9dbb9row0_col0\" class=\"data row0 col0\" >-0.461526</td>\n",
       "                        <td id=\"T_5b879c60_3a44_11eb_bc0c_3e22fba9dbb9row0_col1\" class=\"data row0 col1\" >0.100114</td>\n",
       "                        <td id=\"T_5b879c60_3a44_11eb_bc0c_3e22fba9dbb9row0_col2\" class=\"data row0 col2\" >1.203480</td>\n",
       "                        <td id=\"T_5b879c60_3a44_11eb_bc0c_3e22fba9dbb9row0_col3\" class=\"data row0 col3\" >20.000000</td>\n",
       "                        <td id=\"T_5b879c60_3a44_11eb_bc0c_3e22fba9dbb9row0_col4\" class=\"data row0 col4\" >False</td>\n",
       "            </tr>\n",
       "            <tr>\n",
       "                        <th id=\"T_5b879c60_3a44_11eb_bc0c_3e22fba9dbb9level0_row1\" class=\"row_heading level0 row1\" >b</th>\n",
       "                        <td id=\"T_5b879c60_3a44_11eb_bc0c_3e22fba9dbb9row1_col0\" class=\"data row1 col0\" >-0.461526</td>\n",
       "                        <td id=\"T_5b879c60_3a44_11eb_bc0c_3e22fba9dbb9row1_col1\" class=\"data row1 col1\" >0.100114</td>\n",
       "                        <td id=\"T_5b879c60_3a44_11eb_bc0c_3e22fba9dbb9row1_col2\" class=\"data row1 col2\" >1.203480</td>\n",
       "                        <td id=\"T_5b879c60_3a44_11eb_bc0c_3e22fba9dbb9row1_col3\" class=\"data row1 col3\" >20.000000</td>\n",
       "                        <td id=\"T_5b879c60_3a44_11eb_bc0c_3e22fba9dbb9row1_col4\" class=\"data row1 col4\" >False</td>\n",
       "            </tr>\n",
       "            <tr>\n",
       "                        <th id=\"T_5b879c60_3a44_11eb_bc0c_3e22fba9dbb9level0_row2\" class=\"row_heading level0 row2\" >c</th>\n",
       "                        <td id=\"T_5b879c60_3a44_11eb_bc0c_3e22fba9dbb9row2_col0\" class=\"data row2 col0\" >0.895374</td>\n",
       "                        <td id=\"T_5b879c60_3a44_11eb_bc0c_3e22fba9dbb9row2_col1\" class=\"data row2 col1\" >0.411451</td>\n",
       "                        <td id=\"T_5b879c60_3a44_11eb_bc0c_3e22fba9dbb9row2_col2\" class=\"data row2 col2\" >-0.090356</td>\n",
       "                        <td id=\"T_5b879c60_3a44_11eb_bc0c_3e22fba9dbb9row2_col3\" class=\"data row2 col3\" >20.000000</td>\n",
       "                        <td id=\"T_5b879c60_3a44_11eb_bc0c_3e22fba9dbb9row2_col4\" class=\"data row2 col4\" >True</td>\n",
       "            </tr>\n",
       "            <tr>\n",
       "                        <th id=\"T_5b879c60_3a44_11eb_bc0c_3e22fba9dbb9level0_row3\" class=\"row_heading level0 row3\" >d</th>\n",
       "                        <td id=\"T_5b879c60_3a44_11eb_bc0c_3e22fba9dbb9row3_col0\" class=\"data row3 col0\" >0.895374</td>\n",
       "                        <td id=\"T_5b879c60_3a44_11eb_bc0c_3e22fba9dbb9row3_col1\" class=\"data row3 col1\" >0.411451</td>\n",
       "                        <td id=\"T_5b879c60_3a44_11eb_bc0c_3e22fba9dbb9row3_col2\" class=\"data row3 col2\" >-0.090356</td>\n",
       "                        <td id=\"T_5b879c60_3a44_11eb_bc0c_3e22fba9dbb9row3_col3\" class=\"data row3 col3\" >20.000000</td>\n",
       "                        <td id=\"T_5b879c60_3a44_11eb_bc0c_3e22fba9dbb9row3_col4\" class=\"data row3 col4\" >True</td>\n",
       "            </tr>\n",
       "            <tr>\n",
       "                        <th id=\"T_5b879c60_3a44_11eb_bc0c_3e22fba9dbb9level0_row4\" class=\"row_heading level0 row4\" >e</th>\n",
       "                        <td id=\"T_5b879c60_3a44_11eb_bc0c_3e22fba9dbb9row4_col0\" class=\"data row4 col0\" >0.411101</td>\n",
       "                        <td id=\"T_5b879c60_3a44_11eb_bc0c_3e22fba9dbb9row4_col1\" class=\"data row4 col1\" >1.047826</td>\n",
       "                        <td id=\"T_5b879c60_3a44_11eb_bc0c_3e22fba9dbb9row4_col2\" class=\"data row4 col2\" >-1.688879</td>\n",
       "                        <td id=\"T_5b879c60_3a44_11eb_bc0c_3e22fba9dbb9row4_col3\" class=\"data row4 col3\" >20.000000</td>\n",
       "                        <td id=\"T_5b879c60_3a44_11eb_bc0c_3e22fba9dbb9row4_col4\" class=\"data row4 col4\" >True</td>\n",
       "            </tr>\n",
       "            <tr>\n",
       "                        <th id=\"T_5b879c60_3a44_11eb_bc0c_3e22fba9dbb9level0_row5\" class=\"row_heading level0 row5\" >f</th>\n",
       "                        <td id=\"T_5b879c60_3a44_11eb_bc0c_3e22fba9dbb9row5_col0\" class=\"data row5 col0\" >1.083412</td>\n",
       "                        <td id=\"T_5b879c60_3a44_11eb_bc0c_3e22fba9dbb9row5_col1\" class=\"data row5 col1\" >-1.034765</td>\n",
       "                        <td id=\"T_5b879c60_3a44_11eb_bc0c_3e22fba9dbb9row5_col2\" class=\"data row5 col2\" >0.002112</td>\n",
       "                        <td id=\"T_5b879c60_3a44_11eb_bc0c_3e22fba9dbb9row5_col3\" class=\"data row5 col3\" >20.000000</td>\n",
       "                        <td id=\"T_5b879c60_3a44_11eb_bc0c_3e22fba9dbb9row5_col4\" class=\"data row5 col4\" >True</td>\n",
       "            </tr>\n",
       "            <tr>\n",
       "                        <th id=\"T_5b879c60_3a44_11eb_bc0c_3e22fba9dbb9level0_row6\" class=\"row_heading level0 row6\" >g</th>\n",
       "                        <td id=\"T_5b879c60_3a44_11eb_bc0c_3e22fba9dbb9row6_col0\" class=\"data row6 col0\" >1.974888</td>\n",
       "                        <td id=\"T_5b879c60_3a44_11eb_bc0c_3e22fba9dbb9row6_col1\" class=\"data row6 col1\" >0.255597</td>\n",
       "                        <td id=\"T_5b879c60_3a44_11eb_bc0c_3e22fba9dbb9row6_col2\" class=\"data row6 col2\" >-0.949174</td>\n",
       "                        <td id=\"T_5b879c60_3a44_11eb_bc0c_3e22fba9dbb9row6_col3\" class=\"data row6 col3\" >20.000000</td>\n",
       "                        <td id=\"T_5b879c60_3a44_11eb_bc0c_3e22fba9dbb9row6_col4\" class=\"data row6 col4\" >True</td>\n",
       "            </tr>\n",
       "    </tbody></table>"
      ],
      "text/plain": [
       "<pandas.io.formats.style.Styler at 0x7feba9382390>"
      ]
     },
     "execution_count": 79,
     "metadata": {},
     "output_type": "execute_result"
    }
   ],
   "source": [
    "out3 = df2.fillna(method = 'ffill') # Fill forward\n",
    "\n",
    "out3.style.applymap(lambda x: 'background-color:yellow', subset = pd.IndexSlice[['b','d'],:])"
   ]
  },
  {
   "cell_type": "code",
   "execution_count": 80,
   "metadata": {
    "colab": {
     "base_uri": "https://localhost:8080/",
     "height": 190
    },
    "executionInfo": {
     "elapsed": 773,
     "status": "ok",
     "timestamp": 1607189746651,
     "user": {
      "displayName": "Gaby Gerlach",
      "photoUrl": "",
      "userId": "11117434220237101401"
     },
     "user_tz": 300
    },
    "id": "hNoqWV557iuQ",
    "name": "02-python-pandas-67",
    "outputId": "06265355-a940-450b-b67b-b1752852c418"
   },
   "outputs": [
    {
     "data": {
      "text/html": [
       "<style  type=\"text/css\" >\n",
       "    #T_5bad3952_3a44_11eb_bc0c_3e22fba9dbb9row1_col0 {\n",
       "            background-color: yellow;\n",
       "        }    #T_5bad3952_3a44_11eb_bc0c_3e22fba9dbb9row1_col1 {\n",
       "            background-color: yellow;\n",
       "        }    #T_5bad3952_3a44_11eb_bc0c_3e22fba9dbb9row1_col2 {\n",
       "            background-color: yellow;\n",
       "        }    #T_5bad3952_3a44_11eb_bc0c_3e22fba9dbb9row1_col3 {\n",
       "            background-color: yellow;\n",
       "        }    #T_5bad3952_3a44_11eb_bc0c_3e22fba9dbb9row1_col4 {\n",
       "            background-color: yellow;\n",
       "        }    #T_5bad3952_3a44_11eb_bc0c_3e22fba9dbb9row3_col0 {\n",
       "            background-color: yellow;\n",
       "        }    #T_5bad3952_3a44_11eb_bc0c_3e22fba9dbb9row3_col1 {\n",
       "            background-color: yellow;\n",
       "        }    #T_5bad3952_3a44_11eb_bc0c_3e22fba9dbb9row3_col2 {\n",
       "            background-color: yellow;\n",
       "        }    #T_5bad3952_3a44_11eb_bc0c_3e22fba9dbb9row3_col3 {\n",
       "            background-color: yellow;\n",
       "        }    #T_5bad3952_3a44_11eb_bc0c_3e22fba9dbb9row3_col4 {\n",
       "            background-color: yellow;\n",
       "        }</style><table id=\"T_5bad3952_3a44_11eb_bc0c_3e22fba9dbb9\" ><thead>    <tr>        <th class=\"blank level0\" ></th>        <th class=\"col_heading level0 col0\" >one</th>        <th class=\"col_heading level0 col1\" >two</th>        <th class=\"col_heading level0 col2\" >three</th>        <th class=\"col_heading level0 col3\" >four</th>        <th class=\"col_heading level0 col4\" >five</th>    </tr></thead><tbody>\n",
       "                <tr>\n",
       "                        <th id=\"T_5bad3952_3a44_11eb_bc0c_3e22fba9dbb9level0_row0\" class=\"row_heading level0 row0\" >a</th>\n",
       "                        <td id=\"T_5bad3952_3a44_11eb_bc0c_3e22fba9dbb9row0_col0\" class=\"data row0 col0\" >-0.461526</td>\n",
       "                        <td id=\"T_5bad3952_3a44_11eb_bc0c_3e22fba9dbb9row0_col1\" class=\"data row0 col1\" >0.100114</td>\n",
       "                        <td id=\"T_5bad3952_3a44_11eb_bc0c_3e22fba9dbb9row0_col2\" class=\"data row0 col2\" >1.203480</td>\n",
       "                        <td id=\"T_5bad3952_3a44_11eb_bc0c_3e22fba9dbb9row0_col3\" class=\"data row0 col3\" >20.000000</td>\n",
       "                        <td id=\"T_5bad3952_3a44_11eb_bc0c_3e22fba9dbb9row0_col4\" class=\"data row0 col4\" >False</td>\n",
       "            </tr>\n",
       "            <tr>\n",
       "                        <th id=\"T_5bad3952_3a44_11eb_bc0c_3e22fba9dbb9level0_row1\" class=\"row_heading level0 row1\" >b</th>\n",
       "                        <td id=\"T_5bad3952_3a44_11eb_bc0c_3e22fba9dbb9row1_col0\" class=\"data row1 col0\" >0.895374</td>\n",
       "                        <td id=\"T_5bad3952_3a44_11eb_bc0c_3e22fba9dbb9row1_col1\" class=\"data row1 col1\" >0.411451</td>\n",
       "                        <td id=\"T_5bad3952_3a44_11eb_bc0c_3e22fba9dbb9row1_col2\" class=\"data row1 col2\" >-0.090356</td>\n",
       "                        <td id=\"T_5bad3952_3a44_11eb_bc0c_3e22fba9dbb9row1_col3\" class=\"data row1 col3\" >20.000000</td>\n",
       "                        <td id=\"T_5bad3952_3a44_11eb_bc0c_3e22fba9dbb9row1_col4\" class=\"data row1 col4\" >True</td>\n",
       "            </tr>\n",
       "            <tr>\n",
       "                        <th id=\"T_5bad3952_3a44_11eb_bc0c_3e22fba9dbb9level0_row2\" class=\"row_heading level0 row2\" >c</th>\n",
       "                        <td id=\"T_5bad3952_3a44_11eb_bc0c_3e22fba9dbb9row2_col0\" class=\"data row2 col0\" >0.895374</td>\n",
       "                        <td id=\"T_5bad3952_3a44_11eb_bc0c_3e22fba9dbb9row2_col1\" class=\"data row2 col1\" >0.411451</td>\n",
       "                        <td id=\"T_5bad3952_3a44_11eb_bc0c_3e22fba9dbb9row2_col2\" class=\"data row2 col2\" >-0.090356</td>\n",
       "                        <td id=\"T_5bad3952_3a44_11eb_bc0c_3e22fba9dbb9row2_col3\" class=\"data row2 col3\" >20.000000</td>\n",
       "                        <td id=\"T_5bad3952_3a44_11eb_bc0c_3e22fba9dbb9row2_col4\" class=\"data row2 col4\" >True</td>\n",
       "            </tr>\n",
       "            <tr>\n",
       "                        <th id=\"T_5bad3952_3a44_11eb_bc0c_3e22fba9dbb9level0_row3\" class=\"row_heading level0 row3\" >d</th>\n",
       "                        <td id=\"T_5bad3952_3a44_11eb_bc0c_3e22fba9dbb9row3_col0\" class=\"data row3 col0\" >0.411101</td>\n",
       "                        <td id=\"T_5bad3952_3a44_11eb_bc0c_3e22fba9dbb9row3_col1\" class=\"data row3 col1\" >1.047826</td>\n",
       "                        <td id=\"T_5bad3952_3a44_11eb_bc0c_3e22fba9dbb9row3_col2\" class=\"data row3 col2\" >-1.688879</td>\n",
       "                        <td id=\"T_5bad3952_3a44_11eb_bc0c_3e22fba9dbb9row3_col3\" class=\"data row3 col3\" >20.000000</td>\n",
       "                        <td id=\"T_5bad3952_3a44_11eb_bc0c_3e22fba9dbb9row3_col4\" class=\"data row3 col4\" >True</td>\n",
       "            </tr>\n",
       "            <tr>\n",
       "                        <th id=\"T_5bad3952_3a44_11eb_bc0c_3e22fba9dbb9level0_row4\" class=\"row_heading level0 row4\" >e</th>\n",
       "                        <td id=\"T_5bad3952_3a44_11eb_bc0c_3e22fba9dbb9row4_col0\" class=\"data row4 col0\" >0.411101</td>\n",
       "                        <td id=\"T_5bad3952_3a44_11eb_bc0c_3e22fba9dbb9row4_col1\" class=\"data row4 col1\" >1.047826</td>\n",
       "                        <td id=\"T_5bad3952_3a44_11eb_bc0c_3e22fba9dbb9row4_col2\" class=\"data row4 col2\" >-1.688879</td>\n",
       "                        <td id=\"T_5bad3952_3a44_11eb_bc0c_3e22fba9dbb9row4_col3\" class=\"data row4 col3\" >20.000000</td>\n",
       "                        <td id=\"T_5bad3952_3a44_11eb_bc0c_3e22fba9dbb9row4_col4\" class=\"data row4 col4\" >True</td>\n",
       "            </tr>\n",
       "            <tr>\n",
       "                        <th id=\"T_5bad3952_3a44_11eb_bc0c_3e22fba9dbb9level0_row5\" class=\"row_heading level0 row5\" >f</th>\n",
       "                        <td id=\"T_5bad3952_3a44_11eb_bc0c_3e22fba9dbb9row5_col0\" class=\"data row5 col0\" >1.083412</td>\n",
       "                        <td id=\"T_5bad3952_3a44_11eb_bc0c_3e22fba9dbb9row5_col1\" class=\"data row5 col1\" >-1.034765</td>\n",
       "                        <td id=\"T_5bad3952_3a44_11eb_bc0c_3e22fba9dbb9row5_col2\" class=\"data row5 col2\" >0.002112</td>\n",
       "                        <td id=\"T_5bad3952_3a44_11eb_bc0c_3e22fba9dbb9row5_col3\" class=\"data row5 col3\" >20.000000</td>\n",
       "                        <td id=\"T_5bad3952_3a44_11eb_bc0c_3e22fba9dbb9row5_col4\" class=\"data row5 col4\" >True</td>\n",
       "            </tr>\n",
       "            <tr>\n",
       "                        <th id=\"T_5bad3952_3a44_11eb_bc0c_3e22fba9dbb9level0_row6\" class=\"row_heading level0 row6\" >g</th>\n",
       "                        <td id=\"T_5bad3952_3a44_11eb_bc0c_3e22fba9dbb9row6_col0\" class=\"data row6 col0\" >1.974888</td>\n",
       "                        <td id=\"T_5bad3952_3a44_11eb_bc0c_3e22fba9dbb9row6_col1\" class=\"data row6 col1\" >0.255597</td>\n",
       "                        <td id=\"T_5bad3952_3a44_11eb_bc0c_3e22fba9dbb9row6_col2\" class=\"data row6 col2\" >-0.949174</td>\n",
       "                        <td id=\"T_5bad3952_3a44_11eb_bc0c_3e22fba9dbb9row6_col3\" class=\"data row6 col3\" >20.000000</td>\n",
       "                        <td id=\"T_5bad3952_3a44_11eb_bc0c_3e22fba9dbb9row6_col4\" class=\"data row6 col4\" >True</td>\n",
       "            </tr>\n",
       "    </tbody></table>"
      ],
      "text/plain": [
       "<pandas.io.formats.style.Styler at 0x7feba9398e10>"
      ]
     },
     "execution_count": 80,
     "metadata": {},
     "output_type": "execute_result"
    }
   ],
   "source": [
    "out4 = df2.fillna(method = 'bfill') # Fill backward\n",
    "\n",
    "out4.style.applymap(lambda x: 'background-color:yellow', subset = pd.IndexSlice[['b','d'],:])"
   ]
  },
  {
   "cell_type": "markdown",
   "metadata": {},
   "source": [
    "## End live coding portion \n",
    "\n",
    "The rest of this material is covered during the Asyncronous section, but the information is also here for your future use"
   ]
  },
  {
   "cell_type": "markdown",
   "metadata": {
    "id": "eR3j2ErS7iuQ"
   },
   "source": [
    "## Data transformation\n",
    "\n",
    "### Arithmetic operations\n",
    "\n",
    "If you have a `Series` or `DataFrame` that is all numeric, you can add or multiply single numbers to all the elements together."
   ]
  },
  {
   "cell_type": "code",
   "execution_count": 81,
   "metadata": {
    "colab": {
     "base_uri": "https://localhost:8080/"
    },
    "executionInfo": {
     "elapsed": 790,
     "status": "ok",
     "timestamp": 1607189747025,
     "user": {
      "displayName": "Gaby Gerlach",
      "photoUrl": "",
      "userId": "11117434220237101401"
     },
     "user_tz": 300
    },
    "id": "ocagG3yu7iuQ",
    "name": "02-python-pandas-68",
    "outputId": "5a4a6a33-3349-42da-b1f5-f6430e1e69e3"
   },
   "outputs": [
    {
     "name": "stdout",
     "output_type": "stream",
     "text": [
      "          0         1         2         3         4\n",
      "0  0.670003  0.252635  0.440303  1.015211  2.682897\n",
      "1 -0.255074 -1.039442  0.586182 -0.160948 -1.552889\n",
      "2 -0.609655  0.540724  1.277570 -0.583918 -0.260800\n",
      "3  2.814046  0.303757  0.170083  0.090630  0.568430\n"
     ]
    }
   ],
   "source": [
    "A = pd.DataFrame(np.random.randn(4,5))\n",
    "print(A)"
   ]
  },
  {
   "cell_type": "code",
   "execution_count": 82,
   "metadata": {
    "colab": {
     "base_uri": "https://localhost:8080/"
    },
    "executionInfo": {
     "elapsed": 494,
     "status": "ok",
     "timestamp": 1607189747025,
     "user": {
      "displayName": "Gaby Gerlach",
      "photoUrl": "",
      "userId": "11117434220237101401"
     },
     "user_tz": 300
    },
    "id": "3WZmnJeN7iuQ",
    "name": "02-python-pandas-69",
    "outputId": "119f2b09-60cf-4ad7-e1f8-bc1a683bd796"
   },
   "outputs": [
    {
     "name": "stdout",
     "output_type": "stream",
     "text": [
      "          0         1         2         3         4\n",
      "0  6.670003  6.252635  6.440303  7.015211  8.682897\n",
      "1  5.744926  4.960558  6.586182  5.839052  4.447111\n",
      "2  5.390345  6.540724  7.277570  5.416082  5.739200\n",
      "3  8.814046  6.303757  6.170083  6.090630  6.568430\n"
     ]
    }
   ],
   "source": [
    "print(A + 6)"
   ]
  },
  {
   "cell_type": "code",
   "execution_count": 83,
   "metadata": {
    "colab": {
     "base_uri": "https://localhost:8080/"
    },
    "executionInfo": {
     "elapsed": 539,
     "status": "ok",
     "timestamp": 1607189747278,
     "user": {
      "displayName": "Gaby Gerlach",
      "photoUrl": "",
      "userId": "11117434220237101401"
     },
     "user_tz": 300
    },
    "id": "DCPskZrd7iuQ",
    "name": "02-python-pandas-70",
    "outputId": "f66cf5a0-56f4-4b24-da02-2224e71c9014"
   },
   "outputs": [
    {
     "name": "stdout",
     "output_type": "stream",
     "text": [
      "           0          1          2          3          4\n",
      "0  -6.700033  -2.526347  -4.403026 -10.152107 -26.828973\n",
      "1   2.550739  10.394422  -5.861815   1.609480  15.528886\n",
      "2   6.096548  -5.407241 -12.775704   5.839178   2.608003\n",
      "3 -28.140456  -3.037571  -1.700833  -0.906296  -5.684301\n"
     ]
    }
   ],
   "source": [
    "print(A * -10)"
   ]
  },
  {
   "cell_type": "markdown",
   "metadata": {
    "id": "dcuT5Kmu7iuQ"
   },
   "source": [
    "If you have two compatible (same dimension) numeric `DataFrame`s, you can add, subtract, multiply and divide elementwise"
   ]
  },
  {
   "cell_type": "code",
   "execution_count": 84,
   "metadata": {
    "colab": {
     "base_uri": "https://localhost:8080/"
    },
    "executionInfo": {
     "elapsed": 388,
     "status": "ok",
     "timestamp": 1607189747628,
     "user": {
      "displayName": "Gaby Gerlach",
      "photoUrl": "",
      "userId": "11117434220237101401"
     },
     "user_tz": 300
    },
    "id": "gLyHlPg27iuQ",
    "name": "02-python-pandas-71",
    "outputId": "cdb8fdb5-d623-483d-c2c4-2a43a3aa4602"
   },
   "outputs": [
    {
     "name": "stdout",
     "output_type": "stream",
     "text": [
      "          0         1         2         3         4\n",
      "0  4.168630  3.687596  3.975981  5.392280  7.763671\n",
      "1  3.658142  1.958768  5.279375  5.128594  0.011606\n",
      "2  1.991331  5.950211  8.031543  2.998088  5.140077\n",
      "3  7.058083  5.038382  2.142168  3.489493  5.321225\n"
     ]
    }
   ],
   "source": [
    "B = pd.DataFrame(np.random.randn(4,5) + 4)\n",
    "print(A + B)"
   ]
  },
  {
   "cell_type": "code",
   "execution_count": 85,
   "metadata": {
    "colab": {
     "base_uri": "https://localhost:8080/"
    },
    "executionInfo": {
     "elapsed": 355,
     "status": "ok",
     "timestamp": 1607189747819,
     "user": {
      "displayName": "Gaby Gerlach",
      "photoUrl": "",
      "userId": "11117434220237101401"
     },
     "user_tz": 300
    },
    "id": "jEexxA-z7iuQ",
    "name": "02-python-pandas-72",
    "outputId": "af4a7d01-a0ab-4e76-c4dc-db6a7f12aaae"
   },
   "outputs": [
    {
     "name": "stdout",
     "output_type": "stream",
     "text": [
      "           0         1         2         3          4\n",
      "0   2.344091  0.867790  1.556768  4.443648  13.631194\n",
      "1  -0.998160 -3.116466  2.751063 -0.851341  -2.429485\n",
      "2  -1.585703  2.925040  8.628675 -2.091597  -1.408551\n",
      "3  11.942915  1.438176  0.335419  0.308038   2.701632\n"
     ]
    }
   ],
   "source": [
    "print(A * B)"
   ]
  },
  {
   "cell_type": "markdown",
   "metadata": {
    "id": "QkbJOGzS7iuQ"
   },
   "source": [
    "If you have a `Series` with the same number of elements as the number of columns of a `DataFrame`, you can do arithmetic operations, with each element of the `Series` acting upon each column of the `DataFrame`"
   ]
  },
  {
   "cell_type": "code",
   "execution_count": 86,
   "metadata": {
    "colab": {
     "base_uri": "https://localhost:8080/"
    },
    "executionInfo": {
     "elapsed": 301,
     "status": "ok",
     "timestamp": 1607189748206,
     "user": {
      "displayName": "Gaby Gerlach",
      "photoUrl": "",
      "userId": "11117434220237101401"
     },
     "user_tz": 300
    },
    "id": "OC4r9-cx7iuQ",
    "name": "02-python-pandas-73",
    "outputId": "4d1ff62d-65cd-4634-82d5-397c47a70242"
   },
   "outputs": [
    {
     "name": "stdout",
     "output_type": "stream",
     "text": [
      "          0         1         2         3         4\n",
      "0  1.670003  2.252635  3.440303  5.015211  7.682897\n",
      "1  0.744926  0.960558  3.586182  3.839052  3.447111\n",
      "2  0.390345  2.540724  4.277570  3.416082  4.739200\n",
      "3  3.814046  2.303757  3.170083  4.090630  5.568430\n"
     ]
    }
   ],
   "source": [
    "c = pd.Series([1,2,3,4,5])\n",
    "print(A + c)"
   ]
  },
  {
   "cell_type": "code",
   "execution_count": 87,
   "metadata": {
    "colab": {
     "base_uri": "https://localhost:8080/"
    },
    "executionInfo": {
     "elapsed": 359,
     "status": "ok",
     "timestamp": 1607189748533,
     "user": {
      "displayName": "Gaby Gerlach",
      "photoUrl": "",
      "userId": "11117434220237101401"
     },
     "user_tz": 300
    },
    "id": "20BN3API7iuQ",
    "lines_to_next_cell": 0,
    "name": "02-python-pandas-74",
    "outputId": "c6295bd2-a086-49a2-e07e-08a6ace7b20c"
   },
   "outputs": [
    {
     "name": "stdout",
     "output_type": "stream",
     "text": [
      "          0         1         2         3          4\n",
      "0  0.670003  0.505269  1.320908  4.060843  13.414487\n",
      "1 -0.255074 -2.078884  1.758545 -0.643792  -7.764443\n",
      "2 -0.609655  1.081448  3.832711 -2.335671  -1.304001\n",
      "3  2.814046  0.607514  0.510250  0.362519   2.842150\n"
     ]
    }
   ],
   "source": [
    "print(A * c)"
   ]
  },
  {
   "cell_type": "markdown",
   "metadata": {
    "id": "u-lLbHog7iuR"
   },
   "source": [
    "This idea can be used to standardize a dataset, i.e. make each column have mean 0 and standard deviation 1."
   ]
  },
  {
   "cell_type": "code",
   "execution_count": 88,
   "metadata": {
    "colab": {
     "base_uri": "https://localhost:8080/",
     "height": 175
    },
    "executionInfo": {
     "elapsed": 696,
     "status": "ok",
     "timestamp": 1607189749457,
     "user": {
      "displayName": "Gaby Gerlach",
      "photoUrl": "",
      "userId": "11117434220237101401"
     },
     "user_tz": 300
    },
    "id": "Hnnyb98_7iuR",
    "name": "02-python-pandas-75",
    "outputId": "7806408e-0e7a-432b-dab0-a046838ebea4"
   },
   "outputs": [
    {
     "data": {
      "text/html": [
       "<div>\n",
       "<style scoped>\n",
       "    .dataframe tbody tr th:only-of-type {\n",
       "        vertical-align: middle;\n",
       "    }\n",
       "\n",
       "    .dataframe tbody tr th {\n",
       "        vertical-align: top;\n",
       "    }\n",
       "\n",
       "    .dataframe thead th {\n",
       "        text-align: right;\n",
       "    }\n",
       "</style>\n",
       "<table border=\"1\" class=\"dataframe\">\n",
       "  <thead>\n",
       "    <tr style=\"text-align: right;\">\n",
       "      <th></th>\n",
       "      <th>0</th>\n",
       "      <th>1</th>\n",
       "      <th>2</th>\n",
       "      <th>3</th>\n",
       "      <th>4</th>\n",
       "    </tr>\n",
       "  </thead>\n",
       "  <tbody>\n",
       "    <tr>\n",
       "      <th>0</th>\n",
       "      <td>0.009870</td>\n",
       "      <td>0.333779</td>\n",
       "      <td>-0.377639</td>\n",
       "      <td>1.367184</td>\n",
       "      <td>1.306800</td>\n",
       "    </tr>\n",
       "    <tr>\n",
       "      <th>1</th>\n",
       "      <td>-0.591909</td>\n",
       "      <td>-1.476625</td>\n",
       "      <td>-0.068550</td>\n",
       "      <td>-0.371284</td>\n",
       "      <td>-1.075535</td>\n",
       "    </tr>\n",
       "    <tr>\n",
       "      <th>2</th>\n",
       "      <td>-0.822570</td>\n",
       "      <td>0.737437</td>\n",
       "      <td>1.396369</td>\n",
       "      <td>-0.996471</td>\n",
       "      <td>-0.348825</td>\n",
       "    </tr>\n",
       "    <tr>\n",
       "      <th>3</th>\n",
       "      <td>1.404608</td>\n",
       "      <td>0.405409</td>\n",
       "      <td>-0.950181</td>\n",
       "      <td>0.000571</td>\n",
       "      <td>0.117559</td>\n",
       "    </tr>\n",
       "  </tbody>\n",
       "</table>\n",
       "</div>"
      ],
      "text/plain": [
       "          0         1         2         3         4\n",
       "0  0.009870  0.333779 -0.377639  1.367184  1.306800\n",
       "1 -0.591909 -1.476625 -0.068550 -0.371284 -1.075535\n",
       "2 -0.822570  0.737437  1.396369 -0.996471 -0.348825\n",
       "3  1.404608  0.405409 -0.950181  0.000571  0.117559"
      ]
     },
     "execution_count": 88,
     "metadata": {},
     "output_type": "execute_result"
    }
   ],
   "source": [
    "means = A.mean(axis=0)\n",
    "stds = A.std(axis = 0)\n",
    "\n",
    "(A - means)/stds"
   ]
  },
  {
   "cell_type": "markdown",
   "metadata": {
    "id": "3HQ3keyj7iuR"
   },
   "source": [
    "### Concatenation of data sets\n",
    "\n",
    "Let's create some example data sets"
   ]
  },
  {
   "cell_type": "code",
   "execution_count": 89,
   "metadata": {
    "executionInfo": {
     "elapsed": 303,
     "status": "ok",
     "timestamp": 1607189749986,
     "user": {
      "displayName": "Gaby Gerlach",
      "photoUrl": "",
      "userId": "11117434220237101401"
     },
     "user_tz": 300
    },
    "id": "uHsgkc1f7iuR",
    "name": "02-python-pandas-76"
   },
   "outputs": [],
   "source": [
    "df1 = pd.DataFrame({'A': ['a'+str(i) for i in range(4)],\n",
    "    'B': ['b'+str(i) for i in range(4)],\n",
    "    'C': ['c'+str(i) for i in range(4)],\n",
    "    'D': ['d'+str(i) for i in range(4)]})\n",
    "\n",
    "df2 =  pd.DataFrame({'A': ['a'+str(i) for i in range(4,8)],\n",
    "    'B': ['b'+str(i) for i in range(4,8)],\n",
    "    'C': ['c'+str(i) for i in range(4,8)],\n",
    "    'D': ['d'+str(i) for i in range(4,8)]})\n",
    "df3 =  pd.DataFrame({'A': ['a'+str(i) for i in range(8,12)],\n",
    "    'B': ['b'+str(i) for i in range(8,12)],\n",
    "    'C': ['c'+str(i) for i in range(8,12)],\n",
    "    'D': ['d'+str(i) for i in range(8,12)]})"
   ]
  },
  {
   "cell_type": "markdown",
   "metadata": {
    "id": "uDmjVBV37iuR"
   },
   "source": [
    "We can concatenate these `DataFrame` objects by row"
   ]
  },
  {
   "cell_type": "code",
   "execution_count": 90,
   "metadata": {
    "colab": {
     "base_uri": "https://localhost:8080/"
    },
    "executionInfo": {
     "elapsed": 524,
     "status": "ok",
     "timestamp": 1607189750671,
     "user": {
      "displayName": "Gaby Gerlach",
      "photoUrl": "",
      "userId": "11117434220237101401"
     },
     "user_tz": 300
    },
    "id": "uqfbkxZZ7iuR",
    "name": "02-python-pandas-77",
    "outputId": "6c629de2-3d55-4cb2-f325-444ee8f0abe9"
   },
   "outputs": [
    {
     "name": "stdout",
     "output_type": "stream",
     "text": [
      "     A    B    C    D\n",
      "0   a0   b0   c0   d0\n",
      "1   a1   b1   c1   d1\n",
      "2   a2   b2   c2   d2\n",
      "3   a3   b3   c3   d3\n",
      "0   a4   b4   c4   d4\n",
      "1   a5   b5   c5   d5\n",
      "2   a6   b6   c6   d6\n",
      "3   a7   b7   c7   d7\n",
      "0   a8   b8   c8   d8\n",
      "1   a9   b9   c9   d9\n",
      "2  a10  b10  c10  d10\n",
      "3  a11  b11  c11  d11\n"
     ]
    }
   ],
   "source": [
    "row_concatenate = pd.concat([df1, df2, df3])\n",
    "print(row_concatenate)"
   ]
  },
  {
   "cell_type": "markdown",
   "metadata": {
    "id": "KZ3ee2y97iuR"
   },
   "source": [
    "This stacks the dataframes together. They are literally stacked, as is evidenced by the index values being repeated. "
   ]
  },
  {
   "cell_type": "markdown",
   "metadata": {
    "id": "FKbpbXTu7iuR"
   },
   "source": [
    "This same exercise can be done by the `append` function"
   ]
  },
  {
   "cell_type": "code",
   "execution_count": 91,
   "metadata": {
    "colab": {
     "base_uri": "https://localhost:8080/",
     "height": 426
    },
    "executionInfo": {
     "elapsed": 456,
     "status": "ok",
     "timestamp": 1607189751555,
     "user": {
      "displayName": "Gaby Gerlach",
      "photoUrl": "",
      "userId": "11117434220237101401"
     },
     "user_tz": 300
    },
    "id": "PYu3lCqO7iuR",
    "name": "02-python-pandas-78",
    "outputId": "019ef847-ea77-4ceb-eac9-47947edcd8c2"
   },
   "outputs": [
    {
     "data": {
      "text/html": [
       "<div>\n",
       "<style scoped>\n",
       "    .dataframe tbody tr th:only-of-type {\n",
       "        vertical-align: middle;\n",
       "    }\n",
       "\n",
       "    .dataframe tbody tr th {\n",
       "        vertical-align: top;\n",
       "    }\n",
       "\n",
       "    .dataframe thead th {\n",
       "        text-align: right;\n",
       "    }\n",
       "</style>\n",
       "<table border=\"1\" class=\"dataframe\">\n",
       "  <thead>\n",
       "    <tr style=\"text-align: right;\">\n",
       "      <th></th>\n",
       "      <th>A</th>\n",
       "      <th>B</th>\n",
       "      <th>C</th>\n",
       "      <th>D</th>\n",
       "    </tr>\n",
       "  </thead>\n",
       "  <tbody>\n",
       "    <tr>\n",
       "      <th>0</th>\n",
       "      <td>a0</td>\n",
       "      <td>b0</td>\n",
       "      <td>c0</td>\n",
       "      <td>d0</td>\n",
       "    </tr>\n",
       "    <tr>\n",
       "      <th>1</th>\n",
       "      <td>a1</td>\n",
       "      <td>b1</td>\n",
       "      <td>c1</td>\n",
       "      <td>d1</td>\n",
       "    </tr>\n",
       "    <tr>\n",
       "      <th>2</th>\n",
       "      <td>a2</td>\n",
       "      <td>b2</td>\n",
       "      <td>c2</td>\n",
       "      <td>d2</td>\n",
       "    </tr>\n",
       "    <tr>\n",
       "      <th>3</th>\n",
       "      <td>a3</td>\n",
       "      <td>b3</td>\n",
       "      <td>c3</td>\n",
       "      <td>d3</td>\n",
       "    </tr>\n",
       "    <tr>\n",
       "      <th>0</th>\n",
       "      <td>a4</td>\n",
       "      <td>b4</td>\n",
       "      <td>c4</td>\n",
       "      <td>d4</td>\n",
       "    </tr>\n",
       "    <tr>\n",
       "      <th>1</th>\n",
       "      <td>a5</td>\n",
       "      <td>b5</td>\n",
       "      <td>c5</td>\n",
       "      <td>d5</td>\n",
       "    </tr>\n",
       "    <tr>\n",
       "      <th>2</th>\n",
       "      <td>a6</td>\n",
       "      <td>b6</td>\n",
       "      <td>c6</td>\n",
       "      <td>d6</td>\n",
       "    </tr>\n",
       "    <tr>\n",
       "      <th>3</th>\n",
       "      <td>a7</td>\n",
       "      <td>b7</td>\n",
       "      <td>c7</td>\n",
       "      <td>d7</td>\n",
       "    </tr>\n",
       "    <tr>\n",
       "      <th>0</th>\n",
       "      <td>a8</td>\n",
       "      <td>b8</td>\n",
       "      <td>c8</td>\n",
       "      <td>d8</td>\n",
       "    </tr>\n",
       "    <tr>\n",
       "      <th>1</th>\n",
       "      <td>a9</td>\n",
       "      <td>b9</td>\n",
       "      <td>c9</td>\n",
       "      <td>d9</td>\n",
       "    </tr>\n",
       "    <tr>\n",
       "      <th>2</th>\n",
       "      <td>a10</td>\n",
       "      <td>b10</td>\n",
       "      <td>c10</td>\n",
       "      <td>d10</td>\n",
       "    </tr>\n",
       "    <tr>\n",
       "      <th>3</th>\n",
       "      <td>a11</td>\n",
       "      <td>b11</td>\n",
       "      <td>c11</td>\n",
       "      <td>d11</td>\n",
       "    </tr>\n",
       "  </tbody>\n",
       "</table>\n",
       "</div>"
      ],
      "text/plain": [
       "     A    B    C    D\n",
       "0   a0   b0   c0   d0\n",
       "1   a1   b1   c1   d1\n",
       "2   a2   b2   c2   d2\n",
       "3   a3   b3   c3   d3\n",
       "0   a4   b4   c4   d4\n",
       "1   a5   b5   c5   d5\n",
       "2   a6   b6   c6   d6\n",
       "3   a7   b7   c7   d7\n",
       "0   a8   b8   c8   d8\n",
       "1   a9   b9   c9   d9\n",
       "2  a10  b10  c10  d10\n",
       "3  a11  b11  c11  d11"
      ]
     },
     "execution_count": 91,
     "metadata": {},
     "output_type": "execute_result"
    }
   ],
   "source": [
    "df1.append(df2).append(df3)"
   ]
  },
  {
   "cell_type": "markdown",
   "metadata": {
    "id": "cEwDHjnb7iuR"
   },
   "source": [
    "Suppose we want to append a new row to `df1`. Lets create a new row."
   ]
  },
  {
   "cell_type": "code",
   "execution_count": 92,
   "metadata": {
    "colab": {
     "base_uri": "https://localhost:8080/",
     "height": 300
    },
    "executionInfo": {
     "elapsed": 581,
     "status": "ok",
     "timestamp": 1607189752218,
     "user": {
      "displayName": "Gaby Gerlach",
      "photoUrl": "",
      "userId": "11117434220237101401"
     },
     "user_tz": 300
    },
    "id": "IF1Hu_zv7iuR",
    "name": "02-python-pandas-79",
    "outputId": "8cc51f4a-4676-4e52-a66c-a74c8c49114a"
   },
   "outputs": [
    {
     "data": {
      "text/html": [
       "<div>\n",
       "<style scoped>\n",
       "    .dataframe tbody tr th:only-of-type {\n",
       "        vertical-align: middle;\n",
       "    }\n",
       "\n",
       "    .dataframe tbody tr th {\n",
       "        vertical-align: top;\n",
       "    }\n",
       "\n",
       "    .dataframe thead th {\n",
       "        text-align: right;\n",
       "    }\n",
       "</style>\n",
       "<table border=\"1\" class=\"dataframe\">\n",
       "  <thead>\n",
       "    <tr style=\"text-align: right;\">\n",
       "      <th></th>\n",
       "      <th>A</th>\n",
       "      <th>B</th>\n",
       "      <th>C</th>\n",
       "      <th>D</th>\n",
       "      <th>0</th>\n",
       "    </tr>\n",
       "  </thead>\n",
       "  <tbody>\n",
       "    <tr>\n",
       "      <th>0</th>\n",
       "      <td>a0</td>\n",
       "      <td>b0</td>\n",
       "      <td>c0</td>\n",
       "      <td>d0</td>\n",
       "      <td>NaN</td>\n",
       "    </tr>\n",
       "    <tr>\n",
       "      <th>1</th>\n",
       "      <td>a1</td>\n",
       "      <td>b1</td>\n",
       "      <td>c1</td>\n",
       "      <td>d1</td>\n",
       "      <td>NaN</td>\n",
       "    </tr>\n",
       "    <tr>\n",
       "      <th>2</th>\n",
       "      <td>a2</td>\n",
       "      <td>b2</td>\n",
       "      <td>c2</td>\n",
       "      <td>d2</td>\n",
       "      <td>NaN</td>\n",
       "    </tr>\n",
       "    <tr>\n",
       "      <th>3</th>\n",
       "      <td>a3</td>\n",
       "      <td>b3</td>\n",
       "      <td>c3</td>\n",
       "      <td>d3</td>\n",
       "      <td>NaN</td>\n",
       "    </tr>\n",
       "    <tr>\n",
       "      <th>0</th>\n",
       "      <td>NaN</td>\n",
       "      <td>NaN</td>\n",
       "      <td>NaN</td>\n",
       "      <td>NaN</td>\n",
       "      <td>n1</td>\n",
       "    </tr>\n",
       "    <tr>\n",
       "      <th>1</th>\n",
       "      <td>NaN</td>\n",
       "      <td>NaN</td>\n",
       "      <td>NaN</td>\n",
       "      <td>NaN</td>\n",
       "      <td>n2</td>\n",
       "    </tr>\n",
       "    <tr>\n",
       "      <th>2</th>\n",
       "      <td>NaN</td>\n",
       "      <td>NaN</td>\n",
       "      <td>NaN</td>\n",
       "      <td>NaN</td>\n",
       "      <td>n3</td>\n",
       "    </tr>\n",
       "    <tr>\n",
       "      <th>3</th>\n",
       "      <td>NaN</td>\n",
       "      <td>NaN</td>\n",
       "      <td>NaN</td>\n",
       "      <td>NaN</td>\n",
       "      <td>n4</td>\n",
       "    </tr>\n",
       "  </tbody>\n",
       "</table>\n",
       "</div>"
      ],
      "text/plain": [
       "     A    B    C    D    0\n",
       "0   a0   b0   c0   d0  NaN\n",
       "1   a1   b1   c1   d1  NaN\n",
       "2   a2   b2   c2   d2  NaN\n",
       "3   a3   b3   c3   d3  NaN\n",
       "0  NaN  NaN  NaN  NaN   n1\n",
       "1  NaN  NaN  NaN  NaN   n2\n",
       "2  NaN  NaN  NaN  NaN   n3\n",
       "3  NaN  NaN  NaN  NaN   n4"
      ]
     },
     "execution_count": 92,
     "metadata": {},
     "output_type": "execute_result"
    }
   ],
   "source": [
    "new_row = pd.Series(['n1','n2','n3','n4'])\n",
    "pd.concat([df1, new_row])"
   ]
  },
  {
   "cell_type": "markdown",
   "metadata": {
    "id": "4pumlOQp7iuR"
   },
   "source": [
    "That's a lot of missing values. The issue is that the we don't have column names in the `new_row`, and the indices are the same, so pandas tries to append it my making a new column. The solution is to make it a `DataFrame`."
   ]
  },
  {
   "cell_type": "code",
   "execution_count": 93,
   "metadata": {
    "colab": {
     "base_uri": "https://localhost:8080/"
    },
    "executionInfo": {
     "elapsed": 412,
     "status": "ok",
     "timestamp": 1607189752504,
     "user": {
      "displayName": "Gaby Gerlach",
      "photoUrl": "",
      "userId": "11117434220237101401"
     },
     "user_tz": 300
    },
    "id": "hy1ZVDvl7iuR",
    "name": "02-python-pandas-80",
    "outputId": "905018b8-3ff5-459f-8f4c-76ad205dbbd1"
   },
   "outputs": [
    {
     "name": "stdout",
     "output_type": "stream",
     "text": [
      "    A   B   C   D\n",
      "0  n1  n2  n3  n4\n"
     ]
    }
   ],
   "source": [
    "new_row = pd.DataFrame([['n1','n2','n3','n4']], columns = ['A','B','C','D'])\n",
    "print(new_row)"
   ]
  },
  {
   "cell_type": "code",
   "execution_count": 94,
   "metadata": {
    "colab": {
     "base_uri": "https://localhost:8080/",
     "height": 206
    },
    "executionInfo": {
     "elapsed": 339,
     "status": "ok",
     "timestamp": 1607189752888,
     "user": {
      "displayName": "Gaby Gerlach",
      "photoUrl": "",
      "userId": "11117434220237101401"
     },
     "user_tz": 300
    },
    "id": "unLa8Hie7iuR",
    "name": "02-python-pandas-81",
    "outputId": "2de08285-f660-41cc-9d0c-1ae15c4bd9df"
   },
   "outputs": [
    {
     "data": {
      "text/html": [
       "<div>\n",
       "<style scoped>\n",
       "    .dataframe tbody tr th:only-of-type {\n",
       "        vertical-align: middle;\n",
       "    }\n",
       "\n",
       "    .dataframe tbody tr th {\n",
       "        vertical-align: top;\n",
       "    }\n",
       "\n",
       "    .dataframe thead th {\n",
       "        text-align: right;\n",
       "    }\n",
       "</style>\n",
       "<table border=\"1\" class=\"dataframe\">\n",
       "  <thead>\n",
       "    <tr style=\"text-align: right;\">\n",
       "      <th></th>\n",
       "      <th>A</th>\n",
       "      <th>B</th>\n",
       "      <th>C</th>\n",
       "      <th>D</th>\n",
       "    </tr>\n",
       "  </thead>\n",
       "  <tbody>\n",
       "    <tr>\n",
       "      <th>0</th>\n",
       "      <td>a0</td>\n",
       "      <td>b0</td>\n",
       "      <td>c0</td>\n",
       "      <td>d0</td>\n",
       "    </tr>\n",
       "    <tr>\n",
       "      <th>1</th>\n",
       "      <td>a1</td>\n",
       "      <td>b1</td>\n",
       "      <td>c1</td>\n",
       "      <td>d1</td>\n",
       "    </tr>\n",
       "    <tr>\n",
       "      <th>2</th>\n",
       "      <td>a2</td>\n",
       "      <td>b2</td>\n",
       "      <td>c2</td>\n",
       "      <td>d2</td>\n",
       "    </tr>\n",
       "    <tr>\n",
       "      <th>3</th>\n",
       "      <td>a3</td>\n",
       "      <td>b3</td>\n",
       "      <td>c3</td>\n",
       "      <td>d3</td>\n",
       "    </tr>\n",
       "    <tr>\n",
       "      <th>0</th>\n",
       "      <td>n1</td>\n",
       "      <td>n2</td>\n",
       "      <td>n3</td>\n",
       "      <td>n4</td>\n",
       "    </tr>\n",
       "  </tbody>\n",
       "</table>\n",
       "</div>"
      ],
      "text/plain": [
       "    A   B   C   D\n",
       "0  a0  b0  c0  d0\n",
       "1  a1  b1  c1  d1\n",
       "2  a2  b2  c2  d2\n",
       "3  a3  b3  c3  d3\n",
       "0  n1  n2  n3  n4"
      ]
     },
     "execution_count": 94,
     "metadata": {},
     "output_type": "execute_result"
    }
   ],
   "source": [
    "pd.concat([df1, new_row])"
   ]
  },
  {
   "cell_type": "markdown",
   "metadata": {
    "id": "47K3JPOS7iuR"
   },
   "source": [
    "or"
   ]
  },
  {
   "cell_type": "code",
   "execution_count": 95,
   "metadata": {
    "colab": {
     "base_uri": "https://localhost:8080/",
     "height": 206
    },
    "executionInfo": {
     "elapsed": 437,
     "status": "ok",
     "timestamp": 1607189753661,
     "user": {
      "displayName": "Gaby Gerlach",
      "photoUrl": "",
      "userId": "11117434220237101401"
     },
     "user_tz": 300
    },
    "id": "zxlswTTo7iuR",
    "name": "02-python-pandas-82",
    "outputId": "3f8cf4c7-e7c9-44dd-ad3d-b05f94cf342c"
   },
   "outputs": [
    {
     "data": {
      "text/html": [
       "<div>\n",
       "<style scoped>\n",
       "    .dataframe tbody tr th:only-of-type {\n",
       "        vertical-align: middle;\n",
       "    }\n",
       "\n",
       "    .dataframe tbody tr th {\n",
       "        vertical-align: top;\n",
       "    }\n",
       "\n",
       "    .dataframe thead th {\n",
       "        text-align: right;\n",
       "    }\n",
       "</style>\n",
       "<table border=\"1\" class=\"dataframe\">\n",
       "  <thead>\n",
       "    <tr style=\"text-align: right;\">\n",
       "      <th></th>\n",
       "      <th>A</th>\n",
       "      <th>B</th>\n",
       "      <th>C</th>\n",
       "      <th>D</th>\n",
       "    </tr>\n",
       "  </thead>\n",
       "  <tbody>\n",
       "    <tr>\n",
       "      <th>0</th>\n",
       "      <td>a0</td>\n",
       "      <td>b0</td>\n",
       "      <td>c0</td>\n",
       "      <td>d0</td>\n",
       "    </tr>\n",
       "    <tr>\n",
       "      <th>1</th>\n",
       "      <td>a1</td>\n",
       "      <td>b1</td>\n",
       "      <td>c1</td>\n",
       "      <td>d1</td>\n",
       "    </tr>\n",
       "    <tr>\n",
       "      <th>2</th>\n",
       "      <td>a2</td>\n",
       "      <td>b2</td>\n",
       "      <td>c2</td>\n",
       "      <td>d2</td>\n",
       "    </tr>\n",
       "    <tr>\n",
       "      <th>3</th>\n",
       "      <td>a3</td>\n",
       "      <td>b3</td>\n",
       "      <td>c3</td>\n",
       "      <td>d3</td>\n",
       "    </tr>\n",
       "    <tr>\n",
       "      <th>0</th>\n",
       "      <td>n1</td>\n",
       "      <td>n2</td>\n",
       "      <td>n3</td>\n",
       "      <td>n4</td>\n",
       "    </tr>\n",
       "  </tbody>\n",
       "</table>\n",
       "</div>"
      ],
      "text/plain": [
       "    A   B   C   D\n",
       "0  a0  b0  c0  d0\n",
       "1  a1  b1  c1  d1\n",
       "2  a2  b2  c2  d2\n",
       "3  a3  b3  c3  d3\n",
       "0  n1  n2  n3  n4"
      ]
     },
     "execution_count": 95,
     "metadata": {},
     "output_type": "execute_result"
    }
   ],
   "source": [
    "df1.append(new_row)"
   ]
  },
  {
   "cell_type": "markdown",
   "metadata": {
    "id": "g2c42nrT7iuR"
   },
   "source": [
    "#### Adding columns"
   ]
  },
  {
   "cell_type": "code",
   "execution_count": 96,
   "metadata": {
    "colab": {
     "base_uri": "https://localhost:8080/",
     "height": 175
    },
    "executionInfo": {
     "elapsed": 483,
     "status": "ok",
     "timestamp": 1607189754122,
     "user": {
      "displayName": "Gaby Gerlach",
      "photoUrl": "",
      "userId": "11117434220237101401"
     },
     "user_tz": 300
    },
    "id": "KKtG27tu7iuR",
    "name": "02-python-pandas-83",
    "outputId": "563e4b3f-dae0-4361-ad54-c679c6c26f9a"
   },
   "outputs": [
    {
     "data": {
      "text/html": [
       "<div>\n",
       "<style scoped>\n",
       "    .dataframe tbody tr th:only-of-type {\n",
       "        vertical-align: middle;\n",
       "    }\n",
       "\n",
       "    .dataframe tbody tr th {\n",
       "        vertical-align: top;\n",
       "    }\n",
       "\n",
       "    .dataframe thead th {\n",
       "        text-align: right;\n",
       "    }\n",
       "</style>\n",
       "<table border=\"1\" class=\"dataframe\">\n",
       "  <thead>\n",
       "    <tr style=\"text-align: right;\">\n",
       "      <th></th>\n",
       "      <th>A</th>\n",
       "      <th>B</th>\n",
       "      <th>C</th>\n",
       "      <th>D</th>\n",
       "      <th>A</th>\n",
       "      <th>B</th>\n",
       "      <th>C</th>\n",
       "      <th>D</th>\n",
       "      <th>A</th>\n",
       "      <th>B</th>\n",
       "      <th>C</th>\n",
       "      <th>D</th>\n",
       "    </tr>\n",
       "  </thead>\n",
       "  <tbody>\n",
       "    <tr>\n",
       "      <th>0</th>\n",
       "      <td>a0</td>\n",
       "      <td>b0</td>\n",
       "      <td>c0</td>\n",
       "      <td>d0</td>\n",
       "      <td>a4</td>\n",
       "      <td>b4</td>\n",
       "      <td>c4</td>\n",
       "      <td>d4</td>\n",
       "      <td>a8</td>\n",
       "      <td>b8</td>\n",
       "      <td>c8</td>\n",
       "      <td>d8</td>\n",
       "    </tr>\n",
       "    <tr>\n",
       "      <th>1</th>\n",
       "      <td>a1</td>\n",
       "      <td>b1</td>\n",
       "      <td>c1</td>\n",
       "      <td>d1</td>\n",
       "      <td>a5</td>\n",
       "      <td>b5</td>\n",
       "      <td>c5</td>\n",
       "      <td>d5</td>\n",
       "      <td>a9</td>\n",
       "      <td>b9</td>\n",
       "      <td>c9</td>\n",
       "      <td>d9</td>\n",
       "    </tr>\n",
       "    <tr>\n",
       "      <th>2</th>\n",
       "      <td>a2</td>\n",
       "      <td>b2</td>\n",
       "      <td>c2</td>\n",
       "      <td>d2</td>\n",
       "      <td>a6</td>\n",
       "      <td>b6</td>\n",
       "      <td>c6</td>\n",
       "      <td>d6</td>\n",
       "      <td>a10</td>\n",
       "      <td>b10</td>\n",
       "      <td>c10</td>\n",
       "      <td>d10</td>\n",
       "    </tr>\n",
       "    <tr>\n",
       "      <th>3</th>\n",
       "      <td>a3</td>\n",
       "      <td>b3</td>\n",
       "      <td>c3</td>\n",
       "      <td>d3</td>\n",
       "      <td>a7</td>\n",
       "      <td>b7</td>\n",
       "      <td>c7</td>\n",
       "      <td>d7</td>\n",
       "      <td>a11</td>\n",
       "      <td>b11</td>\n",
       "      <td>c11</td>\n",
       "      <td>d11</td>\n",
       "    </tr>\n",
       "  </tbody>\n",
       "</table>\n",
       "</div>"
      ],
      "text/plain": [
       "    A   B   C   D   A   B   C   D    A    B    C    D\n",
       "0  a0  b0  c0  d0  a4  b4  c4  d4   a8   b8   c8   d8\n",
       "1  a1  b1  c1  d1  a5  b5  c5  d5   a9   b9   c9   d9\n",
       "2  a2  b2  c2  d2  a6  b6  c6  d6  a10  b10  c10  d10\n",
       "3  a3  b3  c3  d3  a7  b7  c7  d7  a11  b11  c11  d11"
      ]
     },
     "execution_count": 96,
     "metadata": {},
     "output_type": "execute_result"
    }
   ],
   "source": [
    "pd.concat([df1,df2,df3], axis = 1)"
   ]
  },
  {
   "cell_type": "markdown",
   "metadata": {
    "id": "iWSxmxhH7iuR"
   },
   "source": [
    "The option `axis=1` ensures that concatenation happens by columns. The default value `axis = 0` concatenates by rows."
   ]
  },
  {
   "cell_type": "markdown",
   "metadata": {
    "id": "xoJK6YBM7iuR"
   },
   "source": [
    "Let's play a little game. Let's change the column names of `df2` and `df3` so they are not the same as `df1`."
   ]
  },
  {
   "cell_type": "code",
   "execution_count": 97,
   "metadata": {
    "colab": {
     "base_uri": "https://localhost:8080/",
     "height": 426
    },
    "executionInfo": {
     "elapsed": 619,
     "status": "ok",
     "timestamp": 1607189755047,
     "user": {
      "displayName": "Gaby Gerlach",
      "photoUrl": "",
      "userId": "11117434220237101401"
     },
     "user_tz": 300
    },
    "id": "VxVaAYqD7iuR",
    "name": "02-python-pandas-84",
    "outputId": "3c80af04-af25-46a4-99e6-a1ba3737a859"
   },
   "outputs": [
    {
     "data": {
      "text/html": [
       "<div>\n",
       "<style scoped>\n",
       "    .dataframe tbody tr th:only-of-type {\n",
       "        vertical-align: middle;\n",
       "    }\n",
       "\n",
       "    .dataframe tbody tr th {\n",
       "        vertical-align: top;\n",
       "    }\n",
       "\n",
       "    .dataframe thead th {\n",
       "        text-align: right;\n",
       "    }\n",
       "</style>\n",
       "<table border=\"1\" class=\"dataframe\">\n",
       "  <thead>\n",
       "    <tr style=\"text-align: right;\">\n",
       "      <th></th>\n",
       "      <th>A</th>\n",
       "      <th>B</th>\n",
       "      <th>C</th>\n",
       "      <th>D</th>\n",
       "      <th>E</th>\n",
       "      <th>F</th>\n",
       "      <th>G</th>\n",
       "      <th>H</th>\n",
       "    </tr>\n",
       "  </thead>\n",
       "  <tbody>\n",
       "    <tr>\n",
       "      <th>0</th>\n",
       "      <td>a0</td>\n",
       "      <td>b0</td>\n",
       "      <td>c0</td>\n",
       "      <td>d0</td>\n",
       "      <td>NaN</td>\n",
       "      <td>NaN</td>\n",
       "      <td>NaN</td>\n",
       "      <td>NaN</td>\n",
       "    </tr>\n",
       "    <tr>\n",
       "      <th>1</th>\n",
       "      <td>a1</td>\n",
       "      <td>b1</td>\n",
       "      <td>c1</td>\n",
       "      <td>d1</td>\n",
       "      <td>NaN</td>\n",
       "      <td>NaN</td>\n",
       "      <td>NaN</td>\n",
       "      <td>NaN</td>\n",
       "    </tr>\n",
       "    <tr>\n",
       "      <th>2</th>\n",
       "      <td>a2</td>\n",
       "      <td>b2</td>\n",
       "      <td>c2</td>\n",
       "      <td>d2</td>\n",
       "      <td>NaN</td>\n",
       "      <td>NaN</td>\n",
       "      <td>NaN</td>\n",
       "      <td>NaN</td>\n",
       "    </tr>\n",
       "    <tr>\n",
       "      <th>3</th>\n",
       "      <td>a3</td>\n",
       "      <td>b3</td>\n",
       "      <td>c3</td>\n",
       "      <td>d3</td>\n",
       "      <td>NaN</td>\n",
       "      <td>NaN</td>\n",
       "      <td>NaN</td>\n",
       "      <td>NaN</td>\n",
       "    </tr>\n",
       "    <tr>\n",
       "      <th>0</th>\n",
       "      <td>NaN</td>\n",
       "      <td>NaN</td>\n",
       "      <td>NaN</td>\n",
       "      <td>NaN</td>\n",
       "      <td>a4</td>\n",
       "      <td>b4</td>\n",
       "      <td>c4</td>\n",
       "      <td>d4</td>\n",
       "    </tr>\n",
       "    <tr>\n",
       "      <th>1</th>\n",
       "      <td>NaN</td>\n",
       "      <td>NaN</td>\n",
       "      <td>NaN</td>\n",
       "      <td>NaN</td>\n",
       "      <td>a5</td>\n",
       "      <td>b5</td>\n",
       "      <td>c5</td>\n",
       "      <td>d5</td>\n",
       "    </tr>\n",
       "    <tr>\n",
       "      <th>2</th>\n",
       "      <td>NaN</td>\n",
       "      <td>NaN</td>\n",
       "      <td>NaN</td>\n",
       "      <td>NaN</td>\n",
       "      <td>a6</td>\n",
       "      <td>b6</td>\n",
       "      <td>c6</td>\n",
       "      <td>d6</td>\n",
       "    </tr>\n",
       "    <tr>\n",
       "      <th>3</th>\n",
       "      <td>NaN</td>\n",
       "      <td>NaN</td>\n",
       "      <td>NaN</td>\n",
       "      <td>NaN</td>\n",
       "      <td>a7</td>\n",
       "      <td>b7</td>\n",
       "      <td>c7</td>\n",
       "      <td>d7</td>\n",
       "    </tr>\n",
       "    <tr>\n",
       "      <th>0</th>\n",
       "      <td>a8</td>\n",
       "      <td>NaN</td>\n",
       "      <td>NaN</td>\n",
       "      <td>b8</td>\n",
       "      <td>NaN</td>\n",
       "      <td>c8</td>\n",
       "      <td>NaN</td>\n",
       "      <td>d8</td>\n",
       "    </tr>\n",
       "    <tr>\n",
       "      <th>1</th>\n",
       "      <td>a9</td>\n",
       "      <td>NaN</td>\n",
       "      <td>NaN</td>\n",
       "      <td>b9</td>\n",
       "      <td>NaN</td>\n",
       "      <td>c9</td>\n",
       "      <td>NaN</td>\n",
       "      <td>d9</td>\n",
       "    </tr>\n",
       "    <tr>\n",
       "      <th>2</th>\n",
       "      <td>a10</td>\n",
       "      <td>NaN</td>\n",
       "      <td>NaN</td>\n",
       "      <td>b10</td>\n",
       "      <td>NaN</td>\n",
       "      <td>c10</td>\n",
       "      <td>NaN</td>\n",
       "      <td>d10</td>\n",
       "    </tr>\n",
       "    <tr>\n",
       "      <th>3</th>\n",
       "      <td>a11</td>\n",
       "      <td>NaN</td>\n",
       "      <td>NaN</td>\n",
       "      <td>b11</td>\n",
       "      <td>NaN</td>\n",
       "      <td>c11</td>\n",
       "      <td>NaN</td>\n",
       "      <td>d11</td>\n",
       "    </tr>\n",
       "  </tbody>\n",
       "</table>\n",
       "</div>"
      ],
      "text/plain": [
       "     A    B    C    D    E    F    G    H\n",
       "0   a0   b0   c0   d0  NaN  NaN  NaN  NaN\n",
       "1   a1   b1   c1   d1  NaN  NaN  NaN  NaN\n",
       "2   a2   b2   c2   d2  NaN  NaN  NaN  NaN\n",
       "3   a3   b3   c3   d3  NaN  NaN  NaN  NaN\n",
       "0  NaN  NaN  NaN  NaN   a4   b4   c4   d4\n",
       "1  NaN  NaN  NaN  NaN   a5   b5   c5   d5\n",
       "2  NaN  NaN  NaN  NaN   a6   b6   c6   d6\n",
       "3  NaN  NaN  NaN  NaN   a7   b7   c7   d7\n",
       "0   a8  NaN  NaN   b8  NaN   c8  NaN   d8\n",
       "1   a9  NaN  NaN   b9  NaN   c9  NaN   d9\n",
       "2  a10  NaN  NaN  b10  NaN  c10  NaN  d10\n",
       "3  a11  NaN  NaN  b11  NaN  c11  NaN  d11"
      ]
     },
     "execution_count": 97,
     "metadata": {},
     "output_type": "execute_result"
    }
   ],
   "source": [
    "df2.columns = ['E','F','G','H']\n",
    "df3.columns = ['A','D','F','H']\n",
    "pd.concat([df1,df2,df3])"
   ]
  },
  {
   "cell_type": "markdown",
   "metadata": {
    "id": "gZhJ_nGt7iuR"
   },
   "source": [
    "Now pandas ensures that all column names are represented in the new data frame, but with missing values where the row indices and column indices are mismatched. Some of this can be avoided by only joining on common columns. This is done using the `join` option ir `concat`. The default value is 'outer`, which is what you see. above"
   ]
  },
  {
   "cell_type": "code",
   "execution_count": 98,
   "metadata": {
    "colab": {
     "base_uri": "https://localhost:8080/",
     "height": 300
    },
    "executionInfo": {
     "elapsed": 862,
     "status": "ok",
     "timestamp": 1607189755718,
     "user": {
      "displayName": "Gaby Gerlach",
      "photoUrl": "",
      "userId": "11117434220237101401"
     },
     "user_tz": 300
    },
    "id": "UeBf_74W7iuR",
    "name": "02-python-pandas-85",
    "outputId": "4d292f29-b440-4de9-d6b6-a7dd743f51df"
   },
   "outputs": [
    {
     "data": {
      "text/html": [
       "<div>\n",
       "<style scoped>\n",
       "    .dataframe tbody tr th:only-of-type {\n",
       "        vertical-align: middle;\n",
       "    }\n",
       "\n",
       "    .dataframe tbody tr th {\n",
       "        vertical-align: top;\n",
       "    }\n",
       "\n",
       "    .dataframe thead th {\n",
       "        text-align: right;\n",
       "    }\n",
       "</style>\n",
       "<table border=\"1\" class=\"dataframe\">\n",
       "  <thead>\n",
       "    <tr style=\"text-align: right;\">\n",
       "      <th></th>\n",
       "      <th>A</th>\n",
       "      <th>D</th>\n",
       "    </tr>\n",
       "  </thead>\n",
       "  <tbody>\n",
       "    <tr>\n",
       "      <th>0</th>\n",
       "      <td>a0</td>\n",
       "      <td>d0</td>\n",
       "    </tr>\n",
       "    <tr>\n",
       "      <th>1</th>\n",
       "      <td>a1</td>\n",
       "      <td>d1</td>\n",
       "    </tr>\n",
       "    <tr>\n",
       "      <th>2</th>\n",
       "      <td>a2</td>\n",
       "      <td>d2</td>\n",
       "    </tr>\n",
       "    <tr>\n",
       "      <th>3</th>\n",
       "      <td>a3</td>\n",
       "      <td>d3</td>\n",
       "    </tr>\n",
       "    <tr>\n",
       "      <th>0</th>\n",
       "      <td>a8</td>\n",
       "      <td>b8</td>\n",
       "    </tr>\n",
       "    <tr>\n",
       "      <th>1</th>\n",
       "      <td>a9</td>\n",
       "      <td>b9</td>\n",
       "    </tr>\n",
       "    <tr>\n",
       "      <th>2</th>\n",
       "      <td>a10</td>\n",
       "      <td>b10</td>\n",
       "    </tr>\n",
       "    <tr>\n",
       "      <th>3</th>\n",
       "      <td>a11</td>\n",
       "      <td>b11</td>\n",
       "    </tr>\n",
       "  </tbody>\n",
       "</table>\n",
       "</div>"
      ],
      "text/plain": [
       "     A    D\n",
       "0   a0   d0\n",
       "1   a1   d1\n",
       "2   a2   d2\n",
       "3   a3   d3\n",
       "0   a8   b8\n",
       "1   a9   b9\n",
       "2  a10  b10\n",
       "3  a11  b11"
      ]
     },
     "execution_count": 98,
     "metadata": {},
     "output_type": "execute_result"
    }
   ],
   "source": [
    "pd.concat([df1, df3], join = 'inner')"
   ]
  },
  {
   "cell_type": "markdown",
   "metadata": {
    "id": "8aKZSPL87iuR"
   },
   "source": [
    "You can do the same thing when joining by rows, using `axis = 0` and `join=\"inner\"` to only join on rows with matching indices. Reminder that the indices are just labels and happen to be the row numbers by default. "
   ]
  },
  {
   "cell_type": "markdown",
   "metadata": {
    "id": "RFapojN27iuR"
   },
   "source": [
    "### Merging data sets"
   ]
  },
  {
   "cell_type": "markdown",
   "metadata": {
    "id": "3ZxmxAOM7iuR"
   },
   "source": [
    "For this section we'll use a set of data from a survey, also used by Daniel Chen in \"Pandas for Everyone\""
   ]
  },
  {
   "cell_type": "code",
   "execution_count": 99,
   "metadata": {
    "executionInfo": {
     "elapsed": 1691,
     "status": "ok",
     "timestamp": 1607189757594,
     "user": {
      "displayName": "Gaby Gerlach",
      "photoUrl": "",
      "userId": "11117434220237101401"
     },
     "user_tz": 300
    },
    "id": "1Lxgh-SW7iuR",
    "name": "02-python-pandas-86"
   },
   "outputs": [],
   "source": [
    "person = pd.read_csv('data/survey_person.csv')\n",
    "site = pd.read_csv('data/survey_site.csv')\n",
    "survey = pd.read_csv('data/survey_survey.csv')\n",
    "visited = pd.read_csv('data/survey_visited.csv')"
   ]
  },
  {
   "cell_type": "code",
   "execution_count": 100,
   "metadata": {
    "colab": {
     "base_uri": "https://localhost:8080/"
    },
    "executionInfo": {
     "elapsed": 1367,
     "status": "ok",
     "timestamp": 1607189757595,
     "user": {
      "displayName": "Gaby Gerlach",
      "photoUrl": "",
      "userId": "11117434220237101401"
     },
     "user_tz": 300
    },
    "id": "rEBBjWhm7iuR",
    "name": "02-python-pandas-87",
    "outputId": "58978349-e1b0-47c7-c7f7-a39757637efe"
   },
   "outputs": [
    {
     "name": "stdout",
     "output_type": "stream",
     "text": [
      "      ident   personal    family\n",
      "0      dyer    William      Dyer\n",
      "1        pb      Frank   Pabodie\n",
      "2      lake   Anderson      Lake\n",
      "3       roe  Valentina   Roerich\n",
      "4  danforth      Frank  Danforth\n"
     ]
    }
   ],
   "source": [
    "print(person)"
   ]
  },
  {
   "cell_type": "code",
   "execution_count": 101,
   "metadata": {
    "colab": {
     "base_uri": "https://localhost:8080/"
    },
    "executionInfo": {
     "elapsed": 1165,
     "status": "ok",
     "timestamp": 1607189757595,
     "user": {
      "displayName": "Gaby Gerlach",
      "photoUrl": "",
      "userId": "11117434220237101401"
     },
     "user_tz": 300
    },
    "id": "WA40hsjj7iuR",
    "name": "02-python-pandas-88",
    "outputId": "937b5793-5bc4-4c3f-8339-59a70c121435"
   },
   "outputs": [
    {
     "name": "stdout",
     "output_type": "stream",
     "text": [
      "    name    lat    long\n",
      "0   DR-1 -49.85 -128.57\n",
      "1   DR-3 -47.15 -126.72\n",
      "2  MSK-4 -48.87 -123.40\n"
     ]
    }
   ],
   "source": [
    "print(site)"
   ]
  },
  {
   "cell_type": "code",
   "execution_count": 129,
   "metadata": {
    "colab": {
     "base_uri": "https://localhost:8080/"
    },
    "executionInfo": {
     "elapsed": 972,
     "status": "ok",
     "timestamp": 1607189757596,
     "user": {
      "displayName": "Gaby Gerlach",
      "photoUrl": "",
      "userId": "11117434220237101401"
     },
     "user_tz": 300
    },
    "id": "_CywZ39R7iuR",
    "name": "02-python-pandas-89",
    "outputId": "a8634cbf-a548-4f3a-b4a6-4dbff58802fe"
   },
   "outputs": [
    {
     "name": "stdout",
     "output_type": "stream",
     "text": [
      "    taken person quant  reading\n",
      "0     619   dyer   rad     9.82\n",
      "1     619   dyer   sal     0.13\n",
      "2     622   dyer   rad     7.80\n",
      "3     622   dyer   sal     0.09\n",
      "4     734     pb   rad     8.41\n",
      "5     734   lake   sal     0.05\n",
      "6     734     pb  temp   -21.50\n",
      "7     735     pb   rad     7.22\n",
      "8     735    NaN   sal     0.06\n",
      "9     735    NaN  temp   -26.00\n",
      "10    751     pb   rad     4.35\n",
      "11    751     pb  temp   -18.50\n",
      "12    751   lake   sal     0.10\n",
      "13    752   lake   rad     2.19\n",
      "14    752   lake   sal     0.09\n",
      "15    752   lake  temp   -16.00\n",
      "16    752    roe   sal    41.60\n",
      "17    837   lake   rad     1.46\n",
      "18    837   lake   sal     0.21\n",
      "19    837    roe   sal    22.50\n",
      "20    844    roe   rad    11.25\n"
     ]
    }
   ],
   "source": [
    "print(survey)"
   ]
  },
  {
   "cell_type": "code",
   "execution_count": 102,
   "metadata": {
    "colab": {
     "base_uri": "https://localhost:8080/"
    },
    "executionInfo": {
     "elapsed": 714,
     "status": "ok",
     "timestamp": 1607189757597,
     "user": {
      "displayName": "Gaby Gerlach",
      "photoUrl": "",
      "userId": "11117434220237101401"
     },
     "user_tz": 300
    },
    "id": "n_tcj-Ei7iuR",
    "name": "02-python-pandas-90",
    "outputId": "0b0922ed-30a5-4ca5-cfad-adee00434171"
   },
   "outputs": [
    {
     "name": "stdout",
     "output_type": "stream",
     "text": [
      "   ident   site       dated\n",
      "0    619   DR-1  1927-02-08\n",
      "1    622   DR-1  1927-02-10\n",
      "2    734   DR-3  1939-01-07\n",
      "3    735   DR-3  1930-01-12\n",
      "4    751   DR-3  1930-02-26\n",
      "5    752   DR-3         NaN\n",
      "6    837  MSK-4  1932-01-14\n",
      "7    844   DR-1  1932-03-22\n"
     ]
    }
   ],
   "source": [
    "print(visited)"
   ]
  },
  {
   "cell_type": "markdown",
   "metadata": {
    "id": "QbX2Ofb47iuR"
   },
   "source": [
    "There are basically four kinds of joins:\n",
    "\n",
    "| pandas | R          | SQL         | Description                     |\n",
    "| ------ | ---------- | ----------- | ------------------------------- |\n",
    "| left   | left_join  | left outer  | keep all rows on left           |\n",
    "| right  | right_join | right outer | keep all rows on right          |\n",
    "| outer  | outer_join | full outer  | keep all rows from both         |\n",
    "| inner  | inner_join | inner       | keep only rows with common keys |"
   ]
  },
  {
   "cell_type": "markdown",
   "metadata": {
    "id": "wklSD06-7iuR"
   },
   "source": [
    "![](graphs/joins.png)\n",
    "\n",
    "The terms `left` and `right` refer to which data set you call first and second respectively. \n",
    "\n",
    "We start with an left join\n"
   ]
  },
  {
   "cell_type": "code",
   "execution_count": 103,
   "metadata": {
    "executionInfo": {
     "elapsed": 533,
     "status": "ok",
     "timestamp": 1607189758173,
     "user": {
      "displayName": "Gaby Gerlach",
      "photoUrl": "",
      "userId": "11117434220237101401"
     },
     "user_tz": 300
    },
    "id": "q6oz2Y7E7iuR",
    "name": "02-python-pandas-91"
   },
   "outputs": [],
   "source": [
    "s2v_merge = survey.merge(visited, left_on = 'taken',right_on = 'ident', how = 'left')"
   ]
  },
  {
   "cell_type": "code",
   "execution_count": 104,
   "metadata": {
    "colab": {
     "base_uri": "https://localhost:8080/"
    },
    "executionInfo": {
     "elapsed": 279,
     "status": "ok",
     "timestamp": 1607189758173,
     "user": {
      "displayName": "Gaby Gerlach",
      "photoUrl": "",
      "userId": "11117434220237101401"
     },
     "user_tz": 300
    },
    "id": "27hjSJ5L7iuR",
    "name": "02-python-pandas-92",
    "outputId": "f07b0135-64d1-49e9-d1e3-c99497a9cdea"
   },
   "outputs": [
    {
     "name": "stdout",
     "output_type": "stream",
     "text": [
      "    taken person quant  reading  ident   site       dated\n",
      "0     619   dyer   rad     9.82    619   DR-1  1927-02-08\n",
      "1     619   dyer   sal     0.13    619   DR-1  1927-02-08\n",
      "2     622   dyer   rad     7.80    622   DR-1  1927-02-10\n",
      "3     622   dyer   sal     0.09    622   DR-1  1927-02-10\n",
      "4     734     pb   rad     8.41    734   DR-3  1939-01-07\n",
      "5     734   lake   sal     0.05    734   DR-3  1939-01-07\n",
      "6     734     pb  temp   -21.50    734   DR-3  1939-01-07\n",
      "7     735     pb   rad     7.22    735   DR-3  1930-01-12\n",
      "8     735    NaN   sal     0.06    735   DR-3  1930-01-12\n",
      "9     735    NaN  temp   -26.00    735   DR-3  1930-01-12\n",
      "10    751     pb   rad     4.35    751   DR-3  1930-02-26\n",
      "11    751     pb  temp   -18.50    751   DR-3  1930-02-26\n",
      "12    751   lake   sal     0.10    751   DR-3  1930-02-26\n",
      "13    752   lake   rad     2.19    752   DR-3         NaN\n",
      "14    752   lake   sal     0.09    752   DR-3         NaN\n",
      "15    752   lake  temp   -16.00    752   DR-3         NaN\n",
      "16    752    roe   sal    41.60    752   DR-3         NaN\n",
      "17    837   lake   rad     1.46    837  MSK-4  1932-01-14\n",
      "18    837   lake   sal     0.21    837  MSK-4  1932-01-14\n",
      "19    837    roe   sal    22.50    837  MSK-4  1932-01-14\n",
      "20    844    roe   rad    11.25    844   DR-1  1932-03-22\n"
     ]
    }
   ],
   "source": [
    "print(s2v_merge)"
   ]
  },
  {
   "cell_type": "markdown",
   "metadata": {
    "id": "BXe7nHS17iuR"
   },
   "source": [
    "Here, the left dataset is `survey` and the right one is `visited`. Since we're doing a left join, we keed all the rows from `survey` and add columns from `visited`, matching on the common key, called \"taken\" in one dataset and \"ident\" in the other. Note that the rows of `visited` are repeated as needed to line up with all the rows with common \"taken\" values. \n",
    "\n",
    "We can now add location information, where the common key is the site code"
   ]
  },
  {
   "cell_type": "code",
   "execution_count": 105,
   "metadata": {
    "colab": {
     "base_uri": "https://localhost:8080/"
    },
    "executionInfo": {
     "elapsed": 648,
     "status": "ok",
     "timestamp": 1607189758958,
     "user": {
      "displayName": "Gaby Gerlach",
      "photoUrl": "",
      "userId": "11117434220237101401"
     },
     "user_tz": 300
    },
    "id": "SW19R_bt7iuR",
    "name": "02-python-pandas-93",
    "outputId": "207e34b0-a7e5-49f5-db83-e61f251994a5"
   },
   "outputs": [
    {
     "name": "stdout",
     "output_type": "stream",
     "text": [
      "    taken person quant  reading  ident   site       dated   name    lat  \\\n",
      "0     619   dyer   rad     9.82    619   DR-1  1927-02-08   DR-1 -49.85   \n",
      "1     619   dyer   sal     0.13    619   DR-1  1927-02-08   DR-1 -49.85   \n",
      "2     622   dyer   rad     7.80    622   DR-1  1927-02-10   DR-1 -49.85   \n",
      "3     622   dyer   sal     0.09    622   DR-1  1927-02-10   DR-1 -49.85   \n",
      "4     734     pb   rad     8.41    734   DR-3  1939-01-07   DR-3 -47.15   \n",
      "5     734   lake   sal     0.05    734   DR-3  1939-01-07   DR-3 -47.15   \n",
      "6     734     pb  temp   -21.50    734   DR-3  1939-01-07   DR-3 -47.15   \n",
      "7     735     pb   rad     7.22    735   DR-3  1930-01-12   DR-3 -47.15   \n",
      "8     735    NaN   sal     0.06    735   DR-3  1930-01-12   DR-3 -47.15   \n",
      "9     735    NaN  temp   -26.00    735   DR-3  1930-01-12   DR-3 -47.15   \n",
      "10    751     pb   rad     4.35    751   DR-3  1930-02-26   DR-3 -47.15   \n",
      "11    751     pb  temp   -18.50    751   DR-3  1930-02-26   DR-3 -47.15   \n",
      "12    751   lake   sal     0.10    751   DR-3  1930-02-26   DR-3 -47.15   \n",
      "13    752   lake   rad     2.19    752   DR-3         NaN   DR-3 -47.15   \n",
      "14    752   lake   sal     0.09    752   DR-3         NaN   DR-3 -47.15   \n",
      "15    752   lake  temp   -16.00    752   DR-3         NaN   DR-3 -47.15   \n",
      "16    752    roe   sal    41.60    752   DR-3         NaN   DR-3 -47.15   \n",
      "17    837   lake   rad     1.46    837  MSK-4  1932-01-14  MSK-4 -48.87   \n",
      "18    837   lake   sal     0.21    837  MSK-4  1932-01-14  MSK-4 -48.87   \n",
      "19    837    roe   sal    22.50    837  MSK-4  1932-01-14  MSK-4 -48.87   \n",
      "20    844    roe   rad    11.25    844   DR-1  1932-03-22   DR-1 -49.85   \n",
      "\n",
      "      long  \n",
      "0  -128.57  \n",
      "1  -128.57  \n",
      "2  -128.57  \n",
      "3  -128.57  \n",
      "4  -126.72  \n",
      "5  -126.72  \n",
      "6  -126.72  \n",
      "7  -126.72  \n",
      "8  -126.72  \n",
      "9  -126.72  \n",
      "10 -126.72  \n",
      "11 -126.72  \n",
      "12 -126.72  \n",
      "13 -126.72  \n",
      "14 -126.72  \n",
      "15 -126.72  \n",
      "16 -126.72  \n",
      "17 -123.40  \n",
      "18 -123.40  \n",
      "19 -123.40  \n",
      "20 -128.57  \n"
     ]
    }
   ],
   "source": [
    "s2v2loc_merge = s2v_merge.merge(site, how = 'left', left_on = 'site', right_on = 'name')\n",
    "print(s2v2loc_merge)"
   ]
  },
  {
   "cell_type": "markdown",
   "metadata": {
    "id": "fOygzEdG7iuR"
   },
   "source": [
    "Lastly, we add the person information to this dataset."
   ]
  },
  {
   "cell_type": "code",
   "execution_count": 106,
   "metadata": {
    "colab": {
     "base_uri": "https://localhost:8080/"
    },
    "executionInfo": {
     "elapsed": 379,
     "status": "ok",
     "timestamp": 1607189759180,
     "user": {
      "displayName": "Gaby Gerlach",
      "photoUrl": "",
      "userId": "11117434220237101401"
     },
     "user_tz": 300
    },
    "id": "0E5L8Jgl7iuR",
    "name": "02-python-pandas-94",
    "outputId": "bbe5131f-20ff-471c-a425-f34d9ea67b93"
   },
   "outputs": [
    {
     "name": "stdout",
     "output_type": "stream",
     "text": [
      "   taken person quant  reading  ident_x  site       dated  name    lat  \\\n",
      "0    619   dyer   rad     9.82      619  DR-1  1927-02-08  DR-1 -49.85   \n",
      "1    619   dyer   sal     0.13      619  DR-1  1927-02-08  DR-1 -49.85   \n",
      "2    622   dyer   rad     7.80      622  DR-1  1927-02-10  DR-1 -49.85   \n",
      "3    622   dyer   sal     0.09      622  DR-1  1927-02-10  DR-1 -49.85   \n",
      "4    734     pb   rad     8.41      734  DR-3  1939-01-07  DR-3 -47.15   \n",
      "\n",
      "     long ident_y personal   family  \n",
      "0 -128.57    dyer  William     Dyer  \n",
      "1 -128.57    dyer  William     Dyer  \n",
      "2 -128.57    dyer  William     Dyer  \n",
      "3 -128.57    dyer  William     Dyer  \n",
      "4 -126.72      pb    Frank  Pabodie  \n"
     ]
    }
   ],
   "source": [
    "merged = s2v2loc_merge.merge(person, how = 'left', left_on = 'person', right_on = 'ident')\n",
    "print(merged.head())"
   ]
  },
  {
   "cell_type": "markdown",
   "metadata": {
    "id": "aydInkru7iuR"
   },
   "source": [
    "You can merge based on multiple columns as long as they match up. "
   ]
  },
  {
   "cell_type": "code",
   "execution_count": 107,
   "metadata": {
    "colab": {
     "base_uri": "https://localhost:8080/"
    },
    "executionInfo": {
     "elapsed": 587,
     "status": "ok",
     "timestamp": 1607189759817,
     "user": {
      "displayName": "Gaby Gerlach",
      "photoUrl": "",
      "userId": "11117434220237101401"
     },
     "user_tz": 300
    },
    "id": "IdXkc3SB7iuR",
    "name": "02-python-pandas-95",
    "outputId": "bbb4f585-1965-47b6-eb9a-2eba9d58a72a"
   },
   "outputs": [
    {
     "name": "stdout",
     "output_type": "stream",
     "text": [
      "   ident   personal   family  taken person quant  reading\n",
      "0   dyer    William     Dyer    619   dyer   rad     9.82\n",
      "1   dyer    William     Dyer    619   dyer   sal     0.13\n",
      "2   dyer    William     Dyer    622   dyer   rad     7.80\n",
      "3   dyer    William     Dyer    622   dyer   sal     0.09\n",
      "4     pb      Frank  Pabodie    734     pb   rad     8.41\n",
      "5     pb      Frank  Pabodie    734     pb  temp   -21.50\n",
      "6     pb      Frank  Pabodie    735     pb   rad     7.22\n",
      "7     pb      Frank  Pabodie    751     pb   rad     4.35\n",
      "8     pb      Frank  Pabodie    751     pb  temp   -18.50\n",
      "9   lake   Anderson     Lake    734   lake   sal     0.05\n",
      "10  lake   Anderson     Lake    751   lake   sal     0.10\n",
      "11  lake   Anderson     Lake    752   lake   rad     2.19\n",
      "12  lake   Anderson     Lake    752   lake   sal     0.09\n",
      "13  lake   Anderson     Lake    752   lake  temp   -16.00\n",
      "14  lake   Anderson     Lake    837   lake   rad     1.46\n",
      "15  lake   Anderson     Lake    837   lake   sal     0.21\n",
      "16   roe  Valentina  Roerich    752    roe   sal    41.60\n",
      "17   roe  Valentina  Roerich    837    roe   sal    22.50\n",
      "18   roe  Valentina  Roerich    844    roe   rad    11.25\n"
     ]
    }
   ],
   "source": [
    "ps = person.merge(survey, left_on = 'ident', right_on = 'person')\n",
    "vs = visited.merge(survey, left_on = 'ident', right_on = 'taken')\n",
    "print(ps)"
   ]
  },
  {
   "cell_type": "code",
   "execution_count": 108,
   "metadata": {
    "colab": {
     "base_uri": "https://localhost:8080/"
    },
    "executionInfo": {
     "elapsed": 354,
     "status": "ok",
     "timestamp": 1607189759817,
     "user": {
      "displayName": "Gaby Gerlach",
      "photoUrl": "",
      "userId": "11117434220237101401"
     },
     "user_tz": 300
    },
    "id": "l-kTVOrn7iuR",
    "name": "02-python-pandas-96",
    "outputId": "67ed05e7-14ee-4575-8323-c088b5d24757"
   },
   "outputs": [
    {
     "name": "stdout",
     "output_type": "stream",
     "text": [
      "    ident   site       dated  taken person quant  reading\n",
      "0     619   DR-1  1927-02-08    619   dyer   rad     9.82\n",
      "1     619   DR-1  1927-02-08    619   dyer   sal     0.13\n",
      "2     622   DR-1  1927-02-10    622   dyer   rad     7.80\n",
      "3     622   DR-1  1927-02-10    622   dyer   sal     0.09\n",
      "4     734   DR-3  1939-01-07    734     pb   rad     8.41\n",
      "5     734   DR-3  1939-01-07    734   lake   sal     0.05\n",
      "6     734   DR-3  1939-01-07    734     pb  temp   -21.50\n",
      "7     735   DR-3  1930-01-12    735     pb   rad     7.22\n",
      "8     735   DR-3  1930-01-12    735    NaN   sal     0.06\n",
      "9     735   DR-3  1930-01-12    735    NaN  temp   -26.00\n",
      "10    751   DR-3  1930-02-26    751     pb   rad     4.35\n",
      "11    751   DR-3  1930-02-26    751     pb  temp   -18.50\n",
      "12    751   DR-3  1930-02-26    751   lake   sal     0.10\n",
      "13    752   DR-3         NaN    752   lake   rad     2.19\n",
      "14    752   DR-3         NaN    752   lake   sal     0.09\n",
      "15    752   DR-3         NaN    752   lake  temp   -16.00\n",
      "16    752   DR-3         NaN    752    roe   sal    41.60\n",
      "17    837  MSK-4  1932-01-14    837   lake   rad     1.46\n",
      "18    837  MSK-4  1932-01-14    837   lake   sal     0.21\n",
      "19    837  MSK-4  1932-01-14    837    roe   sal    22.50\n",
      "20    844   DR-1  1932-03-22    844    roe   rad    11.25\n"
     ]
    }
   ],
   "source": [
    "print(vs)"
   ]
  },
  {
   "cell_type": "code",
   "execution_count": 109,
   "metadata": {
    "colab": {
     "base_uri": "https://localhost:8080/",
     "height": 206
    },
    "executionInfo": {
     "elapsed": 286,
     "status": "ok",
     "timestamp": 1607189759967,
     "user": {
      "displayName": "Gaby Gerlach",
      "photoUrl": "",
      "userId": "11117434220237101401"
     },
     "user_tz": 300
    },
    "id": "OJNZdgJB7iuR",
    "name": "02-python-pandas-97",
    "outputId": "d675dc80-cafe-4605-bc6d-0b7f37f43ce7"
   },
   "outputs": [
    {
     "data": {
      "text/html": [
       "<div>\n",
       "<style scoped>\n",
       "    .dataframe tbody tr th:only-of-type {\n",
       "        vertical-align: middle;\n",
       "    }\n",
       "\n",
       "    .dataframe tbody tr th {\n",
       "        vertical-align: top;\n",
       "    }\n",
       "\n",
       "    .dataframe thead th {\n",
       "        text-align: right;\n",
       "    }\n",
       "</style>\n",
       "<table border=\"1\" class=\"dataframe\">\n",
       "  <thead>\n",
       "    <tr style=\"text-align: right;\">\n",
       "      <th></th>\n",
       "      <th>ident_x</th>\n",
       "      <th>personal</th>\n",
       "      <th>family</th>\n",
       "      <th>taken_x</th>\n",
       "      <th>person_x</th>\n",
       "      <th>quant</th>\n",
       "      <th>reading</th>\n",
       "      <th>ident_y</th>\n",
       "      <th>site</th>\n",
       "      <th>dated</th>\n",
       "      <th>taken_y</th>\n",
       "      <th>person_y</th>\n",
       "    </tr>\n",
       "  </thead>\n",
       "  <tbody>\n",
       "    <tr>\n",
       "      <th>0</th>\n",
       "      <td>dyer</td>\n",
       "      <td>William</td>\n",
       "      <td>Dyer</td>\n",
       "      <td>619</td>\n",
       "      <td>dyer</td>\n",
       "      <td>rad</td>\n",
       "      <td>9.82</td>\n",
       "      <td>619</td>\n",
       "      <td>DR-1</td>\n",
       "      <td>1927-02-08</td>\n",
       "      <td>619</td>\n",
       "      <td>dyer</td>\n",
       "    </tr>\n",
       "    <tr>\n",
       "      <th>1</th>\n",
       "      <td>dyer</td>\n",
       "      <td>William</td>\n",
       "      <td>Dyer</td>\n",
       "      <td>619</td>\n",
       "      <td>dyer</td>\n",
       "      <td>sal</td>\n",
       "      <td>0.13</td>\n",
       "      <td>619</td>\n",
       "      <td>DR-1</td>\n",
       "      <td>1927-02-08</td>\n",
       "      <td>619</td>\n",
       "      <td>dyer</td>\n",
       "    </tr>\n",
       "    <tr>\n",
       "      <th>2</th>\n",
       "      <td>dyer</td>\n",
       "      <td>William</td>\n",
       "      <td>Dyer</td>\n",
       "      <td>622</td>\n",
       "      <td>dyer</td>\n",
       "      <td>rad</td>\n",
       "      <td>7.80</td>\n",
       "      <td>622</td>\n",
       "      <td>DR-1</td>\n",
       "      <td>1927-02-10</td>\n",
       "      <td>622</td>\n",
       "      <td>dyer</td>\n",
       "    </tr>\n",
       "    <tr>\n",
       "      <th>3</th>\n",
       "      <td>dyer</td>\n",
       "      <td>William</td>\n",
       "      <td>Dyer</td>\n",
       "      <td>622</td>\n",
       "      <td>dyer</td>\n",
       "      <td>sal</td>\n",
       "      <td>0.09</td>\n",
       "      <td>622</td>\n",
       "      <td>DR-1</td>\n",
       "      <td>1927-02-10</td>\n",
       "      <td>622</td>\n",
       "      <td>dyer</td>\n",
       "    </tr>\n",
       "    <tr>\n",
       "      <th>4</th>\n",
       "      <td>pb</td>\n",
       "      <td>Frank</td>\n",
       "      <td>Pabodie</td>\n",
       "      <td>734</td>\n",
       "      <td>pb</td>\n",
       "      <td>rad</td>\n",
       "      <td>8.41</td>\n",
       "      <td>734</td>\n",
       "      <td>DR-3</td>\n",
       "      <td>1939-01-07</td>\n",
       "      <td>734</td>\n",
       "      <td>pb</td>\n",
       "    </tr>\n",
       "  </tbody>\n",
       "</table>\n",
       "</div>"
      ],
      "text/plain": [
       "  ident_x personal   family  taken_x person_x quant  reading  ident_y  site  \\\n",
       "0    dyer  William     Dyer      619     dyer   rad     9.82      619  DR-1   \n",
       "1    dyer  William     Dyer      619     dyer   sal     0.13      619  DR-1   \n",
       "2    dyer  William     Dyer      622     dyer   rad     7.80      622  DR-1   \n",
       "3    dyer  William     Dyer      622     dyer   sal     0.09      622  DR-1   \n",
       "4      pb    Frank  Pabodie      734       pb   rad     8.41      734  DR-3   \n",
       "\n",
       "        dated  taken_y person_y  \n",
       "0  1927-02-08      619     dyer  \n",
       "1  1927-02-08      619     dyer  \n",
       "2  1927-02-10      622     dyer  \n",
       "3  1927-02-10      622     dyer  \n",
       "4  1939-01-07      734       pb  "
      ]
     },
     "execution_count": 109,
     "metadata": {},
     "output_type": "execute_result"
    }
   ],
   "source": [
    "ps_vs = ps.merge(vs, \n",
    "                left_on = ['ident','taken', 'quant','reading'],\n",
    "                right_on = ['person','ident','quant','reading']) # The keys need to correspond\n",
    "ps_vs.head()"
   ]
  },
  {
   "cell_type": "markdown",
   "metadata": {
    "id": "scd4GU3S7iuR"
   },
   "source": [
    "Note that since there are common column names, the merge appends `_x` and `_y` to denote which column came from the left and right, respectively.\n"
   ]
  },
  {
   "cell_type": "markdown",
   "metadata": {
    "id": "fi76Fb3V7iuR"
   },
   "source": [
    "### Tidy data principles and reshaping datasets\n",
    "\n",
    "The tidy data principle is a principle espoused by Dr. Hadley Wickham, one of the foremost R developers. [Tidy data](http://vita.had.co.nz/papers/tidy-data.pdf) is a structure for datasets to make them more easily analyzed on computers. The basic principles are\n",
    "\n",
    "+ Each row is an observation\n",
    "+ Each column is a variable\n",
    "+ Each type of observational unit forms a table\n",
    "\n",
    "> Tidy data is tidy in one way. Untidy data can be untidy in many ways\n",
    "\n",
    "Let's look at some examples."
   ]
  },
  {
   "cell_type": "code",
   "execution_count": 110,
   "metadata": {
    "executionInfo": {
     "elapsed": 1986,
     "status": "ok",
     "timestamp": 1607189762445,
     "user": {
      "displayName": "Gaby Gerlach",
      "photoUrl": "",
      "userId": "11117434220237101401"
     },
     "user_tz": 300
    },
    "id": "LGiLqSyo7iuR",
    "name": "02-python-pandas-98"
   },
   "outputs": [],
   "source": [
    "from glob import glob\n",
    "filenames = sorted(glob('data/table*.csv')) # find files matching pattern. I know there are 6 of them\n",
    "table1, table2, table3, table4a, table4b, table5 = [pd.read_csv(f) for f in filenames] # Use a list comprehension"
   ]
  },
  {
   "cell_type": "markdown",
   "metadata": {
    "id": "2G9lgUGw7iuR"
   },
   "source": [
    "This code imports data from 6 files matching a pattern. Python allows multiple assignments on the left of the `=`, and as each dataset is imported, it gets assigned in order to the variables on the left. In the second line I sort the file names so that they match the order in which I'm storing them in the 3rd line. The function `glob` does pattern-matching of file names. \n",
    "\n",
    "The following tables refer to the number of TB cases and population in Afghanistan, Brazil and China in 1999 and 2000"
   ]
  },
  {
   "cell_type": "code",
   "execution_count": 111,
   "metadata": {
    "colab": {
     "base_uri": "https://localhost:8080/"
    },
    "executionInfo": {
     "elapsed": 1438,
     "status": "ok",
     "timestamp": 1607189762446,
     "user": {
      "displayName": "Gaby Gerlach",
      "photoUrl": "",
      "userId": "11117434220237101401"
     },
     "user_tz": 300
    },
    "id": "r4gzB28o7iuR",
    "name": "02-python-pandas-99",
    "outputId": "1f3f149b-c44c-46ba-de6f-2f9b6052243c"
   },
   "outputs": [
    {
     "name": "stdout",
     "output_type": "stream",
     "text": [
      "       country  year   cases  population\n",
      "0  Afghanistan  1999     745    19987071\n",
      "1  Afghanistan  2000    2666    20595360\n",
      "2       Brazil  1999   37737   172006362\n",
      "3       Brazil  2000   80488   174504898\n",
      "4        China  1999  212258  1272915272\n",
      "5        China  2000  213766  1280428583\n"
     ]
    }
   ],
   "source": [
    "print(table1)"
   ]
  },
  {
   "cell_type": "code",
   "execution_count": 112,
   "metadata": {
    "colab": {
     "base_uri": "https://localhost:8080/"
    },
    "executionInfo": {
     "elapsed": 1151,
     "status": "ok",
     "timestamp": 1607189762447,
     "user": {
      "displayName": "Gaby Gerlach",
      "photoUrl": "",
      "userId": "11117434220237101401"
     },
     "user_tz": 300
    },
    "id": "obQEp1_u7iuR",
    "lines_to_next_cell": 0,
    "name": "02-python-pandas-100",
    "outputId": "815eb566-ed2c-4eeb-9940-54cc60d53602"
   },
   "outputs": [
    {
     "name": "stdout",
     "output_type": "stream",
     "text": [
      "        country  year        type       count\n",
      "0   Afghanistan  1999       cases         745\n",
      "1   Afghanistan  1999  population    19987071\n",
      "2   Afghanistan  2000       cases        2666\n",
      "3   Afghanistan  2000  population    20595360\n",
      "4        Brazil  1999       cases       37737\n",
      "5        Brazil  1999  population   172006362\n",
      "6        Brazil  2000       cases       80488\n",
      "7        Brazil  2000  population   174504898\n",
      "8         China  1999       cases      212258\n",
      "9         China  1999  population  1272915272\n",
      "10        China  2000       cases      213766\n",
      "11        China  2000  population  1280428583\n"
     ]
    }
   ],
   "source": [
    "print(table2)"
   ]
  },
  {
   "cell_type": "code",
   "execution_count": 113,
   "metadata": {
    "colab": {
     "base_uri": "https://localhost:8080/"
    },
    "executionInfo": {
     "elapsed": 906,
     "status": "ok",
     "timestamp": 1607189762448,
     "user": {
      "displayName": "Gaby Gerlach",
      "photoUrl": "",
      "userId": "11117434220237101401"
     },
     "user_tz": 300
    },
    "id": "gTADGx7y7iuR",
    "name": "02-python-pandas-101",
    "outputId": "e09447cb-5ac5-40b9-ea6a-ca3ea6ed0c74"
   },
   "outputs": [
    {
     "name": "stdout",
     "output_type": "stream",
     "text": [
      "       country  year               rate\n",
      "0  Afghanistan  1999       745/19987071\n",
      "1  Afghanistan  2000      2666/20595360\n",
      "2       Brazil  1999    37737/172006362\n",
      "3       Brazil  2000    80488/174504898\n",
      "4        China  1999  212258/1272915272\n",
      "5        China  2000  213766/1280428583\n"
     ]
    }
   ],
   "source": [
    "print(table3)"
   ]
  },
  {
   "cell_type": "code",
   "execution_count": 114,
   "metadata": {
    "colab": {
     "base_uri": "https://localhost:8080/"
    },
    "executionInfo": {
     "elapsed": 648,
     "status": "ok",
     "timestamp": 1607189762448,
     "user": {
      "displayName": "Gaby Gerlach",
      "photoUrl": "",
      "userId": "11117434220237101401"
     },
     "user_tz": 300
    },
    "id": "Nt8KRcQ57iuR",
    "name": "02-python-pandas-102",
    "outputId": "fd62c5e2-3efc-4b9a-bc25-d385883116c9"
   },
   "outputs": [
    {
     "name": "stdout",
     "output_type": "stream",
     "text": [
      "       country    1999    2000\n",
      "0  Afghanistan     745    2666\n",
      "1       Brazil   37737   80488\n",
      "2        China  212258  213766\n"
     ]
    }
   ],
   "source": [
    "print(table4a) # cases"
   ]
  },
  {
   "cell_type": "code",
   "execution_count": 115,
   "metadata": {
    "colab": {
     "base_uri": "https://localhost:8080/"
    },
    "executionInfo": {
     "elapsed": 446,
     "status": "ok",
     "timestamp": 1607189762450,
     "user": {
      "displayName": "Gaby Gerlach",
      "photoUrl": "",
      "userId": "11117434220237101401"
     },
     "user_tz": 300
    },
    "id": "MB0BcxVi7iuR",
    "name": "02-python-pandas-103",
    "outputId": "8b99e83d-aa3e-4d8d-a148-c86ede4ce307"
   },
   "outputs": [
    {
     "name": "stdout",
     "output_type": "stream",
     "text": [
      "       country        1999        2000\n",
      "0  Afghanistan    19987071    20595360\n",
      "1       Brazil   172006362   174504898\n",
      "2        China  1272915272  1280428583\n"
     ]
    }
   ],
   "source": [
    "print(table4b) # population"
   ]
  },
  {
   "cell_type": "code",
   "execution_count": 116,
   "metadata": {
    "colab": {
     "base_uri": "https://localhost:8080/"
    },
    "executionInfo": {
     "elapsed": 470,
     "status": "ok",
     "timestamp": 1607189762684,
     "user": {
      "displayName": "Gaby Gerlach",
      "photoUrl": "",
      "userId": "11117434220237101401"
     },
     "user_tz": 300
    },
    "id": "YSI4-Owj7iuR",
    "name": "02-python-pandas-104",
    "outputId": "3a637e64-9179-4cd0-c009-2586cd1dc038"
   },
   "outputs": [
    {
     "name": "stdout",
     "output_type": "stream",
     "text": [
      "       country  century  year               rate\n",
      "0  Afghanistan       19    99       745/19987071\n",
      "1  Afghanistan       20     0      2666/20595360\n",
      "2       Brazil       19    99    37737/172006362\n",
      "3       Brazil       20     0    80488/174504898\n",
      "4        China       19    99  212258/1272915272\n",
      "5        China       20     0  213766/1280428583\n"
     ]
    }
   ],
   "source": [
    "print(table5)"
   ]
  },
  {
   "cell_type": "markdown",
   "metadata": {
    "id": "GeO1rKm47iuR"
   },
   "source": [
    "**Exercise:** Describe why and why not each of these datasets are tidy."
   ]
  },
  {
   "cell_type": "markdown",
   "metadata": {
    "id": "lthh6Ja07iuR"
   },
   "source": [
    "### Melting (unpivoting) data\n",
    "\n",
    "Melting is the operation of collapsing multiple columns into 2 columns, where one column is formed by the old column names, and the other by the corresponding values. Some columns may be kept fixed and their data are repeated to maintain the interrelationships between the variables.\n",
    "\n",
    "We'll start with loading some data on income and religion in the US from the Pew Research Center."
   ]
  },
  {
   "cell_type": "code",
   "execution_count": 117,
   "metadata": {
    "colab": {
     "base_uri": "https://localhost:8080/"
    },
    "executionInfo": {
     "elapsed": 877,
     "status": "ok",
     "timestamp": 1607189763666,
     "user": {
      "displayName": "Gaby Gerlach",
      "photoUrl": "",
      "userId": "11117434220237101401"
     },
     "user_tz": 300
    },
    "id": "N4ixttSz7iuR",
    "name": "02-python-pandas-105",
    "outputId": "37ce4213-6e57-4d25-e53a-694eef4faf29"
   },
   "outputs": [
    {
     "name": "stdout",
     "output_type": "stream",
     "text": [
      "             religion  <$10k  $10-20k  $20-30k  $30-40k  $40-50k  $50-75k  \\\n",
      "0            Agnostic     27       34       60       81       76      137   \n",
      "1             Atheist     12       27       37       52       35       70   \n",
      "2            Buddhist     27       21       30       34       33       58   \n",
      "3            Catholic    418      617      732      670      638     1116   \n",
      "4  Don’t know/refused     15       14       15       11       10       35   \n",
      "\n",
      "   $75-100k  $100-150k  >150k  Don't know/refused  \n",
      "0       122        109     84                  96  \n",
      "1        73         59     74                  76  \n",
      "2        62         39     53                  54  \n",
      "3       949        792    633                1489  \n",
      "4        21         17     18                 116  \n"
     ]
    }
   ],
   "source": [
    "pew = pd.read_csv('data/pew.csv')\n",
    "print(pew.head())"
   ]
  },
  {
   "cell_type": "markdown",
   "metadata": {
    "id": "PNc7rdLu7iuR"
   },
   "source": [
    "This dataset is considered in \"wide\" format. There are several issues with it, including the fact that column headers have data. Those column headers are income groups, that should be a column by tidy principles. Our job is to turn this dataset into \"long\" format with a column for income group. \n",
    "\n",
    "We will use the function `melt` to achieve this. This takes a few parameters:\n",
    "\n",
    "+ **id_vars** is a list of variables that will remain as is\n",
    "+ **value_vars** is a list of column nmaes that we will melt (or unpivot). By default, it will melt all columns not mentioned in id_vars\n",
    "+ **var_name** is a string giving the name of the new column created by the headers (default: `variable`)\n",
    "+ **value_name** is a string giving the name of the new column created by the values (default: `value`)\n"
   ]
  },
  {
   "cell_type": "code",
   "execution_count": 118,
   "metadata": {
    "colab": {
     "base_uri": "https://localhost:8080/"
    },
    "executionInfo": {
     "elapsed": 511,
     "status": "ok",
     "timestamp": 1607189763854,
     "user": {
      "displayName": "Gaby Gerlach",
      "photoUrl": "",
      "userId": "11117434220237101401"
     },
     "user_tz": 300
    },
    "id": "fpL2qH1G7iuR",
    "name": "02-python-pandas-106",
    "outputId": "336539b8-b1ac-49c3-b118-742966ab5c18"
   },
   "outputs": [
    {
     "name": "stdout",
     "output_type": "stream",
     "text": [
      "             religion income_group  count\n",
      "0            Agnostic        <$10k     27\n",
      "1             Atheist        <$10k     12\n",
      "2            Buddhist        <$10k     27\n",
      "3            Catholic        <$10k    418\n",
      "4  Don’t know/refused        <$10k     15\n"
     ]
    }
   ],
   "source": [
    "pew_long = pew.melt(id_vars = ['religion'], var_name = 'income_group', value_name = 'count')\n",
    "print(pew_long.head())"
   ]
  },
  {
   "cell_type": "markdown",
   "metadata": {
    "id": "5Y0PK7WV7iuR"
   },
   "source": [
    "### Separating columns containing multiple variables\n",
    "\n",
    "We will use an Ebola dataset to illustrate this principle"
   ]
  },
  {
   "cell_type": "code",
   "execution_count": 119,
   "metadata": {
    "colab": {
     "base_uri": "https://localhost:8080/"
    },
    "executionInfo": {
     "elapsed": 863,
     "status": "ok",
     "timestamp": 1607189764636,
     "user": {
      "displayName": "Gaby Gerlach",
      "photoUrl": "",
      "userId": "11117434220237101401"
     },
     "user_tz": 300
    },
    "id": "uGs7ibnA7iuR",
    "name": "02-python-pandas-107",
    "outputId": "f45a2844-ea52-4c78-e286-79f450bd7b3e"
   },
   "outputs": [
    {
     "name": "stdout",
     "output_type": "stream",
     "text": [
      "         Date  Day  Cases_Guinea  Cases_Liberia  Cases_SierraLeone  \\\n",
      "0    1/5/2015  289        2776.0            NaN            10030.0   \n",
      "1    1/4/2015  288        2775.0            NaN             9780.0   \n",
      "2    1/3/2015  287        2769.0         8166.0             9722.0   \n",
      "3    1/2/2015  286           NaN         8157.0                NaN   \n",
      "4  12/31/2014  284        2730.0         8115.0             9633.0   \n",
      "\n",
      "   Cases_Nigeria  Cases_Senegal  Cases_UnitedStates  Cases_Spain  Cases_Mali  \\\n",
      "0            NaN            NaN                 NaN          NaN         NaN   \n",
      "1            NaN            NaN                 NaN          NaN         NaN   \n",
      "2            NaN            NaN                 NaN          NaN         NaN   \n",
      "3            NaN            NaN                 NaN          NaN         NaN   \n",
      "4            NaN            NaN                 NaN          NaN         NaN   \n",
      "\n",
      "   Deaths_Guinea  Deaths_Liberia  Deaths_SierraLeone  Deaths_Nigeria  \\\n",
      "0         1786.0             NaN              2977.0             NaN   \n",
      "1         1781.0             NaN              2943.0             NaN   \n",
      "2         1767.0          3496.0              2915.0             NaN   \n",
      "3            NaN          3496.0                 NaN             NaN   \n",
      "4         1739.0          3471.0              2827.0             NaN   \n",
      "\n",
      "   Deaths_Senegal  Deaths_UnitedStates  Deaths_Spain  Deaths_Mali  \n",
      "0             NaN                  NaN           NaN          NaN  \n",
      "1             NaN                  NaN           NaN          NaN  \n",
      "2             NaN                  NaN           NaN          NaN  \n",
      "3             NaN                  NaN           NaN          NaN  \n",
      "4             NaN                  NaN           NaN          NaN  \n"
     ]
    }
   ],
   "source": [
    "ebola = pd.read_csv('data/country_timeseries.csv')\n",
    "print(ebola.head())"
   ]
  },
  {
   "cell_type": "markdown",
   "metadata": {
    "id": "VFimPTmw7iuR"
   },
   "source": [
    "Note that for each country we have two columns -- one for cases (number infected) and one for deaths. Ideally we want one column for country, one for cases and one for deaths. \n",
    "\n",
    "The first step will be to melt this data sets so that the column headers in question from a column and the corresponding data forms a second column."
   ]
  },
  {
   "cell_type": "code",
   "execution_count": 120,
   "metadata": {
    "colab": {
     "base_uri": "https://localhost:8080/"
    },
    "executionInfo": {
     "elapsed": 425,
     "status": "ok",
     "timestamp": 1607189764636,
     "user": {
      "displayName": "Gaby Gerlach",
      "photoUrl": "",
      "userId": "11117434220237101401"
     },
     "user_tz": 300
    },
    "id": "JX2Mty1O7iuR",
    "name": "02-python-pandas-108",
    "outputId": "a36fb657-317e-41cf-ab24-6214bf30a185"
   },
   "outputs": [
    {
     "name": "stdout",
     "output_type": "stream",
     "text": [
      "         Date  Day      variable   value\n",
      "0    1/5/2015  289  Cases_Guinea  2776.0\n",
      "1    1/4/2015  288  Cases_Guinea  2775.0\n",
      "2    1/3/2015  287  Cases_Guinea  2769.0\n",
      "3    1/2/2015  286  Cases_Guinea     NaN\n",
      "4  12/31/2014  284  Cases_Guinea  2730.0\n"
     ]
    }
   ],
   "source": [
    "ebola_long = ebola.melt(id_vars = ['Date','Day'])\n",
    "print(ebola_long.head())"
   ]
  },
  {
   "cell_type": "markdown",
   "metadata": {
    "id": "QmhYzJNq7iuR"
   },
   "source": [
    "We now need to split the data in the `variable` column to make two columns. One will contain the country name and the other either Cases or Deaths. We will use some string manipulation functions that we will see later to achieve this."
   ]
  },
  {
   "cell_type": "code",
   "execution_count": 121,
   "metadata": {
    "colab": {
     "base_uri": "https://localhost:8080/"
    },
    "executionInfo": {
     "elapsed": 658,
     "status": "ok",
     "timestamp": 1607189765386,
     "user": {
      "displayName": "Gaby Gerlach",
      "photoUrl": "",
      "userId": "11117434220237101401"
     },
     "user_tz": 300
    },
    "id": "tRmpAV8K7iuR",
    "name": "02-python-pandas-109",
    "outputId": "2d24cb62-6db9-42a8-c06f-71ab65b8b391"
   },
   "outputs": [
    {
     "name": "stdout",
     "output_type": "stream",
     "text": [
      "       0       1\n",
      "0  Cases  Guinea\n",
      "1  Cases  Guinea\n",
      "2  Cases  Guinea\n",
      "3  Cases  Guinea\n",
      "4  Cases  Guinea\n"
     ]
    }
   ],
   "source": [
    "variable_split = ebola_long['variable'].str.split('_', expand=True) # split on the `_` character\n",
    "print(variable_split[:5])"
   ]
  },
  {
   "cell_type": "markdown",
   "metadata": {
    "id": "2H2EP5iO7iuR"
   },
   "source": [
    "The `expand=True` option forces the creation of an `DataFrame` rather than a list"
   ]
  },
  {
   "cell_type": "code",
   "execution_count": 122,
   "metadata": {
    "colab": {
     "base_uri": "https://localhost:8080/"
    },
    "executionInfo": {
     "elapsed": 384,
     "status": "ok",
     "timestamp": 1607189765562,
     "user": {
      "displayName": "Gaby Gerlach",
      "photoUrl": "",
      "userId": "11117434220237101401"
     },
     "user_tz": 300
    },
    "id": "h-KF0K0n7iuR",
    "name": "02-python-pandas-110",
    "outputId": "0aa8acde-fd42-481f-90e3-5f1c05a51542"
   },
   "outputs": [
    {
     "data": {
      "text/plain": [
       "pandas.core.frame.DataFrame"
      ]
     },
     "execution_count": 122,
     "metadata": {},
     "output_type": "execute_result"
    }
   ],
   "source": [
    "type(variable_split)"
   ]
  },
  {
   "cell_type": "markdown",
   "metadata": {
    "id": "zqpUkytT7iuR"
   },
   "source": [
    "We can now concatenate this to the original data"
   ]
  },
  {
   "cell_type": "code",
   "execution_count": 123,
   "metadata": {
    "colab": {
     "base_uri": "https://localhost:8080/"
    },
    "executionInfo": {
     "elapsed": 361,
     "status": "ok",
     "timestamp": 1607189766246,
     "user": {
      "displayName": "Gaby Gerlach",
      "photoUrl": "",
      "userId": "11117434220237101401"
     },
     "user_tz": 300
    },
    "id": "iIfopfgm7iuR",
    "name": "02-python-pandas-111",
    "outputId": "a1d8ad8c-e0dc-4356-a83e-ac74adb1df55"
   },
   "outputs": [
    {
     "name": "stdout",
     "output_type": "stream",
     "text": [
      "         Date  Day   value status country\n",
      "0    1/5/2015  289  2776.0  Cases  Guinea\n",
      "1    1/4/2015  288  2775.0  Cases  Guinea\n",
      "2    1/3/2015  287  2769.0  Cases  Guinea\n",
      "3    1/2/2015  286     NaN  Cases  Guinea\n",
      "4  12/31/2014  284  2730.0  Cases  Guinea\n"
     ]
    }
   ],
   "source": [
    "variable_split.columns = ['status','country']\n",
    "\n",
    "ebola_parsed = pd.concat([ebola_long, variable_split], axis = 1)\n",
    "\n",
    "ebola_parsed.drop('variable', axis = 1, inplace=True) # Remove the column named \"variable\" and replace the old data with the new one in the same location\n",
    "\n",
    "print(ebola_parsed.head())"
   ]
  },
  {
   "cell_type": "markdown",
   "metadata": {
    "id": "diXeuPuQ7iuR"
   },
   "source": [
    "### Pivot/spread datasets\n",
    "\n",
    "If we wanted to, we could also make two columns based on cases and deaths, so for each country and date you could easily read off the cases and deaths. This is achieved using the `pivot_table` function.\n",
    "\n",
    "In the `pivot_table` syntax, `index` refers to the columns we don't want to change, `columns` refers to the column whose values will form the column names of the new columns, and `values` is the name of the column that will form the values in the pivoted dataset. "
   ]
  },
  {
   "cell_type": "code",
   "execution_count": 124,
   "metadata": {
    "colab": {
     "base_uri": "https://localhost:8080/",
     "height": 455
    },
    "executionInfo": {
     "elapsed": 329,
     "status": "ok",
     "timestamp": 1607189766981,
     "user": {
      "displayName": "Gaby Gerlach",
      "photoUrl": "",
      "userId": "11117434220237101401"
     },
     "user_tz": 300
    },
    "id": "O10RjHYJ7iuR",
    "name": "02-python-pandas-112",
    "outputId": "1d262bef-054b-4416-e8cd-2dc77ce88723"
   },
   "outputs": [
    {
     "data": {
      "text/html": [
       "<div>\n",
       "<style scoped>\n",
       "    .dataframe tbody tr th:only-of-type {\n",
       "        vertical-align: middle;\n",
       "    }\n",
       "\n",
       "    .dataframe tbody tr th {\n",
       "        vertical-align: top;\n",
       "    }\n",
       "\n",
       "    .dataframe thead th {\n",
       "        text-align: right;\n",
       "    }\n",
       "</style>\n",
       "<table border=\"1\" class=\"dataframe\">\n",
       "  <thead>\n",
       "    <tr style=\"text-align: right;\">\n",
       "      <th></th>\n",
       "      <th></th>\n",
       "      <th>status</th>\n",
       "      <th>Cases</th>\n",
       "      <th>Deaths</th>\n",
       "    </tr>\n",
       "    <tr>\n",
       "      <th>Date</th>\n",
       "      <th>Day</th>\n",
       "      <th>country</th>\n",
       "      <th></th>\n",
       "      <th></th>\n",
       "    </tr>\n",
       "  </thead>\n",
       "  <tbody>\n",
       "    <tr>\n",
       "      <th>1/2/2015</th>\n",
       "      <th>286</th>\n",
       "      <th>Liberia</th>\n",
       "      <td>8157.0</td>\n",
       "      <td>3496.0</td>\n",
       "    </tr>\n",
       "    <tr>\n",
       "      <th rowspan=\"3\" valign=\"top\">1/3/2015</th>\n",
       "      <th rowspan=\"3\" valign=\"top\">287</th>\n",
       "      <th>Guinea</th>\n",
       "      <td>2769.0</td>\n",
       "      <td>1767.0</td>\n",
       "    </tr>\n",
       "    <tr>\n",
       "      <th>Liberia</th>\n",
       "      <td>8166.0</td>\n",
       "      <td>3496.0</td>\n",
       "    </tr>\n",
       "    <tr>\n",
       "      <th>SierraLeone</th>\n",
       "      <td>9722.0</td>\n",
       "      <td>2915.0</td>\n",
       "    </tr>\n",
       "    <tr>\n",
       "      <th>1/4/2015</th>\n",
       "      <th>288</th>\n",
       "      <th>Guinea</th>\n",
       "      <td>2775.0</td>\n",
       "      <td>1781.0</td>\n",
       "    </tr>\n",
       "    <tr>\n",
       "      <th>...</th>\n",
       "      <th>...</th>\n",
       "      <th>...</th>\n",
       "      <td>...</td>\n",
       "      <td>...</td>\n",
       "    </tr>\n",
       "    <tr>\n",
       "      <th rowspan=\"4\" valign=\"top\">9/7/2014</th>\n",
       "      <th rowspan=\"4\" valign=\"top\">169</th>\n",
       "      <th>Liberia</th>\n",
       "      <td>2081.0</td>\n",
       "      <td>1137.0</td>\n",
       "    </tr>\n",
       "    <tr>\n",
       "      <th>Nigeria</th>\n",
       "      <td>21.0</td>\n",
       "      <td>8.0</td>\n",
       "    </tr>\n",
       "    <tr>\n",
       "      <th>Senegal</th>\n",
       "      <td>3.0</td>\n",
       "      <td>0.0</td>\n",
       "    </tr>\n",
       "    <tr>\n",
       "      <th>SierraLeone</th>\n",
       "      <td>1424.0</td>\n",
       "      <td>524.0</td>\n",
       "    </tr>\n",
       "    <tr>\n",
       "      <th>9/9/2014</th>\n",
       "      <th>171</th>\n",
       "      <th>Liberia</th>\n",
       "      <td>2407.0</td>\n",
       "      <td>NaN</td>\n",
       "    </tr>\n",
       "  </tbody>\n",
       "</table>\n",
       "<p>375 rows × 2 columns</p>\n",
       "</div>"
      ],
      "text/plain": [
       "status                     Cases  Deaths\n",
       "Date     Day country                    \n",
       "1/2/2015 286 Liberia      8157.0  3496.0\n",
       "1/3/2015 287 Guinea       2769.0  1767.0\n",
       "             Liberia      8166.0  3496.0\n",
       "             SierraLeone  9722.0  2915.0\n",
       "1/4/2015 288 Guinea       2775.0  1781.0\n",
       "...                          ...     ...\n",
       "9/7/2014 169 Liberia      2081.0  1137.0\n",
       "             Nigeria        21.0     8.0\n",
       "             Senegal         3.0     0.0\n",
       "             SierraLeone  1424.0   524.0\n",
       "9/9/2014 171 Liberia      2407.0     NaN\n",
       "\n",
       "[375 rows x 2 columns]"
      ]
     },
     "execution_count": 124,
     "metadata": {},
     "output_type": "execute_result"
    }
   ],
   "source": [
    "ebola_parsed.pivot_table(index = ['Date','Day', 'country'], columns = 'status', values = 'value')"
   ]
  },
  {
   "cell_type": "markdown",
   "metadata": {
    "id": "X85mSpun7iuR"
   },
   "source": [
    "This creates something called `MultiIndex` in the `pandas` `DataFrame`. This is useful in some advanced cases, but here, we just want a normal `DataFrame` back. We can achieve that by using the `reset_index` function."
   ]
  },
  {
   "cell_type": "code",
   "execution_count": 125,
   "metadata": {
    "colab": {
     "base_uri": "https://localhost:8080/",
     "height": 424
    },
    "executionInfo": {
     "elapsed": 680,
     "status": "ok",
     "timestamp": 1607189767764,
     "user": {
      "displayName": "Gaby Gerlach",
      "photoUrl": "",
      "userId": "11117434220237101401"
     },
     "user_tz": 300
    },
    "id": "4e5nvuM37iuR",
    "name": "02-python-pandas-113",
    "outputId": "07639ce8-f1c6-47c1-f3e9-af1ac2d8f0f5"
   },
   "outputs": [
    {
     "data": {
      "text/html": [
       "<div>\n",
       "<style scoped>\n",
       "    .dataframe tbody tr th:only-of-type {\n",
       "        vertical-align: middle;\n",
       "    }\n",
       "\n",
       "    .dataframe tbody tr th {\n",
       "        vertical-align: top;\n",
       "    }\n",
       "\n",
       "    .dataframe thead th {\n",
       "        text-align: right;\n",
       "    }\n",
       "</style>\n",
       "<table border=\"1\" class=\"dataframe\">\n",
       "  <thead>\n",
       "    <tr style=\"text-align: right;\">\n",
       "      <th>status</th>\n",
       "      <th>Date</th>\n",
       "      <th>Day</th>\n",
       "      <th>country</th>\n",
       "      <th>Cases</th>\n",
       "      <th>Deaths</th>\n",
       "    </tr>\n",
       "  </thead>\n",
       "  <tbody>\n",
       "    <tr>\n",
       "      <th>0</th>\n",
       "      <td>1/2/2015</td>\n",
       "      <td>286</td>\n",
       "      <td>Liberia</td>\n",
       "      <td>8157.0</td>\n",
       "      <td>3496.0</td>\n",
       "    </tr>\n",
       "    <tr>\n",
       "      <th>1</th>\n",
       "      <td>1/3/2015</td>\n",
       "      <td>287</td>\n",
       "      <td>Guinea</td>\n",
       "      <td>2769.0</td>\n",
       "      <td>1767.0</td>\n",
       "    </tr>\n",
       "    <tr>\n",
       "      <th>2</th>\n",
       "      <td>1/3/2015</td>\n",
       "      <td>287</td>\n",
       "      <td>Liberia</td>\n",
       "      <td>8166.0</td>\n",
       "      <td>3496.0</td>\n",
       "    </tr>\n",
       "    <tr>\n",
       "      <th>3</th>\n",
       "      <td>1/3/2015</td>\n",
       "      <td>287</td>\n",
       "      <td>SierraLeone</td>\n",
       "      <td>9722.0</td>\n",
       "      <td>2915.0</td>\n",
       "    </tr>\n",
       "    <tr>\n",
       "      <th>4</th>\n",
       "      <td>1/4/2015</td>\n",
       "      <td>288</td>\n",
       "      <td>Guinea</td>\n",
       "      <td>2775.0</td>\n",
       "      <td>1781.0</td>\n",
       "    </tr>\n",
       "    <tr>\n",
       "      <th>...</th>\n",
       "      <td>...</td>\n",
       "      <td>...</td>\n",
       "      <td>...</td>\n",
       "      <td>...</td>\n",
       "      <td>...</td>\n",
       "    </tr>\n",
       "    <tr>\n",
       "      <th>370</th>\n",
       "      <td>9/7/2014</td>\n",
       "      <td>169</td>\n",
       "      <td>Liberia</td>\n",
       "      <td>2081.0</td>\n",
       "      <td>1137.0</td>\n",
       "    </tr>\n",
       "    <tr>\n",
       "      <th>371</th>\n",
       "      <td>9/7/2014</td>\n",
       "      <td>169</td>\n",
       "      <td>Nigeria</td>\n",
       "      <td>21.0</td>\n",
       "      <td>8.0</td>\n",
       "    </tr>\n",
       "    <tr>\n",
       "      <th>372</th>\n",
       "      <td>9/7/2014</td>\n",
       "      <td>169</td>\n",
       "      <td>Senegal</td>\n",
       "      <td>3.0</td>\n",
       "      <td>0.0</td>\n",
       "    </tr>\n",
       "    <tr>\n",
       "      <th>373</th>\n",
       "      <td>9/7/2014</td>\n",
       "      <td>169</td>\n",
       "      <td>SierraLeone</td>\n",
       "      <td>1424.0</td>\n",
       "      <td>524.0</td>\n",
       "    </tr>\n",
       "    <tr>\n",
       "      <th>374</th>\n",
       "      <td>9/9/2014</td>\n",
       "      <td>171</td>\n",
       "      <td>Liberia</td>\n",
       "      <td>2407.0</td>\n",
       "      <td>NaN</td>\n",
       "    </tr>\n",
       "  </tbody>\n",
       "</table>\n",
       "<p>375 rows × 5 columns</p>\n",
       "</div>"
      ],
      "text/plain": [
       "status      Date  Day      country   Cases  Deaths\n",
       "0       1/2/2015  286      Liberia  8157.0  3496.0\n",
       "1       1/3/2015  287       Guinea  2769.0  1767.0\n",
       "2       1/3/2015  287      Liberia  8166.0  3496.0\n",
       "3       1/3/2015  287  SierraLeone  9722.0  2915.0\n",
       "4       1/4/2015  288       Guinea  2775.0  1781.0\n",
       "..           ...  ...          ...     ...     ...\n",
       "370     9/7/2014  169      Liberia  2081.0  1137.0\n",
       "371     9/7/2014  169      Nigeria    21.0     8.0\n",
       "372     9/7/2014  169      Senegal     3.0     0.0\n",
       "373     9/7/2014  169  SierraLeone  1424.0   524.0\n",
       "374     9/9/2014  171      Liberia  2407.0     NaN\n",
       "\n",
       "[375 rows x 5 columns]"
      ]
     },
     "execution_count": 125,
     "metadata": {},
     "output_type": "execute_result"
    }
   ],
   "source": [
    "ebola_parsed.pivot_table(index = ['Date','Day','country'], columns = 'status', values = 'value').reset_index()"
   ]
  },
  {
   "cell_type": "markdown",
   "metadata": {
    "id": "tsDUIh-57iuR"
   },
   "source": [
    "Pivoting is a 2-column to many-column operation, with the number of columns formed depending on the number of unique values present in the column of the original data that is entered into the `columns` argument of `pivot_table`"
   ]
  },
  {
   "cell_type": "markdown",
   "metadata": {
    "id": "tWkBY6zz7iuR"
   },
   "source": [
    "**Exercise:** Load the file `weather.csv` into Python and work on making it a tidy dataset. It requires melting and pivoting. The dataset comprises of the maximun and minimum temperatures recorded each day in 2010. There are lots of missing value. Ultimately we want columns for days of the month, maximum temperature and minimum tempearture along with the location ID, the year and the month."
   ]
  },
  {
   "cell_type": "markdown",
   "metadata": {
    "id": "7W8IVdWY7iuR"
   },
   "source": [
    "## Data aggregation and split-apply-combine\n",
    "\n",
    "We'll use the Gapminder dataset for this section"
   ]
  },
  {
   "cell_type": "code",
   "execution_count": 126,
   "metadata": {
    "executionInfo": {
     "elapsed": 682,
     "status": "ok",
     "timestamp": 1607189769104,
     "user": {
      "displayName": "Gaby Gerlach",
      "photoUrl": "",
      "userId": "11117434220237101401"
     },
     "user_tz": 300
    },
    "id": "J1DcCvSK7iuR",
    "lines_to_next_cell": 0,
    "name": "02-python-pandas-114"
   },
   "outputs": [],
   "source": [
    "df = pd.read_csv('data/gapminder.tsv', sep = '\\t') # data is tab-separated, so we use `\\t` to specify that"
   ]
  },
  {
   "cell_type": "markdown",
   "metadata": {
    "id": "8Sv0uiDd7iuR"
   },
   "source": [
    "The paradigm we will be exploring is often called *split-apply-combine* or MapReduce or grouped aggregation. The basic idea is that you split a data set up by some feature, apply a recipe to each piece, compute the result, and then put the results back together into a dataset. This can be described in teh following schematic."
   ]
  },
  {
   "cell_type": "markdown",
   "metadata": {
    "id": "9ZENnYbn7iuR"
   },
   "source": [
    "![](graphs/split-apply-combine.png)"
   ]
  },
  {
   "cell_type": "markdown",
   "metadata": {
    "id": "aqc9sqw87iuR"
   },
   "source": [
    "`pandas` is set up for this. It features the `groupby` function that allows the \"split\" part of the operation. We can then apply a function to each part and put it back together. Let's see how."
   ]
  },
  {
   "cell_type": "code",
   "execution_count": 127,
   "metadata": {
    "colab": {
     "base_uri": "https://localhost:8080/",
     "height": 206
    },
    "executionInfo": {
     "elapsed": 260,
     "status": "ok",
     "timestamp": 1607189769567,
     "user": {
      "displayName": "Gaby Gerlach",
      "photoUrl": "",
      "userId": "11117434220237101401"
     },
     "user_tz": 300
    },
    "id": "YHYJ9vMP7iuR",
    "name": "02-python-pandas-115",
    "outputId": "267c6b45-b927-49c8-96d0-dba7a926c5fa"
   },
   "outputs": [
    {
     "data": {
      "text/html": [
       "<div>\n",
       "<style scoped>\n",
       "    .dataframe tbody tr th:only-of-type {\n",
       "        vertical-align: middle;\n",
       "    }\n",
       "\n",
       "    .dataframe tbody tr th {\n",
       "        vertical-align: top;\n",
       "    }\n",
       "\n",
       "    .dataframe thead th {\n",
       "        text-align: right;\n",
       "    }\n",
       "</style>\n",
       "<table border=\"1\" class=\"dataframe\">\n",
       "  <thead>\n",
       "    <tr style=\"text-align: right;\">\n",
       "      <th></th>\n",
       "      <th>country</th>\n",
       "      <th>continent</th>\n",
       "      <th>year</th>\n",
       "      <th>lifeExp</th>\n",
       "      <th>pop</th>\n",
       "      <th>gdpPercap</th>\n",
       "    </tr>\n",
       "  </thead>\n",
       "  <tbody>\n",
       "    <tr>\n",
       "      <th>0</th>\n",
       "      <td>Afghanistan</td>\n",
       "      <td>Asia</td>\n",
       "      <td>1952</td>\n",
       "      <td>28.801</td>\n",
       "      <td>8425333</td>\n",
       "      <td>779.445314</td>\n",
       "    </tr>\n",
       "    <tr>\n",
       "      <th>1</th>\n",
       "      <td>Afghanistan</td>\n",
       "      <td>Asia</td>\n",
       "      <td>1957</td>\n",
       "      <td>30.332</td>\n",
       "      <td>9240934</td>\n",
       "      <td>820.853030</td>\n",
       "    </tr>\n",
       "    <tr>\n",
       "      <th>2</th>\n",
       "      <td>Afghanistan</td>\n",
       "      <td>Asia</td>\n",
       "      <td>1962</td>\n",
       "      <td>31.997</td>\n",
       "      <td>10267083</td>\n",
       "      <td>853.100710</td>\n",
       "    </tr>\n",
       "    <tr>\n",
       "      <th>3</th>\n",
       "      <td>Afghanistan</td>\n",
       "      <td>Asia</td>\n",
       "      <td>1967</td>\n",
       "      <td>34.020</td>\n",
       "      <td>11537966</td>\n",
       "      <td>836.197138</td>\n",
       "    </tr>\n",
       "    <tr>\n",
       "      <th>4</th>\n",
       "      <td>Afghanistan</td>\n",
       "      <td>Asia</td>\n",
       "      <td>1972</td>\n",
       "      <td>36.088</td>\n",
       "      <td>13079460</td>\n",
       "      <td>739.981106</td>\n",
       "    </tr>\n",
       "  </tbody>\n",
       "</table>\n",
       "</div>"
      ],
      "text/plain": [
       "       country continent  year  lifeExp       pop   gdpPercap\n",
       "0  Afghanistan      Asia  1952   28.801   8425333  779.445314\n",
       "1  Afghanistan      Asia  1957   30.332   9240934  820.853030\n",
       "2  Afghanistan      Asia  1962   31.997  10267083  853.100710\n",
       "3  Afghanistan      Asia  1967   34.020  11537966  836.197138\n",
       "4  Afghanistan      Asia  1972   36.088  13079460  739.981106"
      ]
     },
     "execution_count": 127,
     "metadata": {},
     "output_type": "execute_result"
    }
   ],
   "source": [
    "df.head()"
   ]
  },
  {
   "cell_type": "code",
   "execution_count": 128,
   "metadata": {
    "colab": {
     "base_uri": "https://localhost:8080/",
     "height": 36
    },
    "executionInfo": {
     "elapsed": 273,
     "status": "ok",
     "timestamp": 1607189770252,
     "user": {
      "displayName": "Gaby Gerlach",
      "photoUrl": "",
      "userId": "11117434220237101401"
     },
     "user_tz": 300
    },
    "id": "xQ3m1XXN7iuR",
    "name": "02-python-pandas-116",
    "outputId": "37901f0d-a2eb-4359-b295-61b7dd20bf9f"
   },
   "outputs": [
    {
     "data": {
      "text/plain": [
       "'This dataset has 142 countries in it'"
      ]
     },
     "execution_count": 128,
     "metadata": {},
     "output_type": "execute_result"
    }
   ],
   "source": [
    "f\"This dataset has {len(df['country'].unique())} countries in it\""
   ]
  },
  {
   "cell_type": "markdown",
   "metadata": {
    "id": "BsoYyYHP7iuR"
   },
   "source": [
    "One of the variables in this dataset is life expectancy at birth, `lifeExp`. Suppose we want to find the average life expectancy of each country over the period of study."
   ]
  },
  {
   "cell_type": "code",
   "execution_count": 129,
   "metadata": {
    "colab": {
     "base_uri": "https://localhost:8080/"
    },
    "executionInfo": {
     "elapsed": 551,
     "status": "ok",
     "timestamp": 1607189771116,
     "user": {
      "displayName": "Gaby Gerlach",
      "photoUrl": "",
      "userId": "11117434220237101401"
     },
     "user_tz": 300
    },
    "id": "y_rnJceT7iuR",
    "name": "02-python-pandas-117",
    "outputId": "29e47ee3-f232-49f2-ad61-8d48d90a71dc"
   },
   "outputs": [
    {
     "data": {
      "text/plain": [
       "country\n",
       "Afghanistan           37.478833\n",
       "Albania               68.432917\n",
       "Algeria               59.030167\n",
       "Angola                37.883500\n",
       "Argentina             69.060417\n",
       "                        ...    \n",
       "Vietnam               57.479500\n",
       "West Bank and Gaza    60.328667\n",
       "Yemen, Rep.           46.780417\n",
       "Zambia                45.996333\n",
       "Zimbabwe              52.663167\n",
       "Name: lifeExp, Length: 142, dtype: float64"
      ]
     },
     "execution_count": 129,
     "metadata": {},
     "output_type": "execute_result"
    }
   ],
   "source": [
    "df.groupby('country')['lifeExp'].mean()"
   ]
  },
  {
   "cell_type": "markdown",
   "metadata": {
    "id": "FjMqGYDX7iuR"
   },
   "source": [
    "So what's going on here? First, we use the `groupby` function, telling `pandas` to split the dataset up by values of the column `country`."
   ]
  },
  {
   "cell_type": "code",
   "execution_count": 130,
   "metadata": {
    "colab": {
     "base_uri": "https://localhost:8080/"
    },
    "executionInfo": {
     "elapsed": 190,
     "status": "ok",
     "timestamp": 1607189771281,
     "user": {
      "displayName": "Gaby Gerlach",
      "photoUrl": "",
      "userId": "11117434220237101401"
     },
     "user_tz": 300
    },
    "id": "g37nEj4E7iuR",
    "name": "02-python-pandas-118",
    "outputId": "5d6be719-29c5-4cbe-9a9d-1df2488164f4"
   },
   "outputs": [
    {
     "data": {
      "text/plain": [
       "<pandas.core.groupby.generic.DataFrameGroupBy object at 0x7feba93dc590>"
      ]
     },
     "execution_count": 130,
     "metadata": {},
     "output_type": "execute_result"
    }
   ],
   "source": [
    "df.groupby('country')"
   ]
  },
  {
   "cell_type": "markdown",
   "metadata": {
    "id": "tVqezBij7iuS"
   },
   "source": [
    "`pandas` won't show you the actual data, but will tell you that it is a grouped dataframe object. This means that each element of this object is a `DataFrame` with data from one country."
   ]
  },
  {
   "cell_type": "code",
   "execution_count": 131,
   "metadata": {
    "colab": {
     "base_uri": "https://localhost:8080/"
    },
    "executionInfo": {
     "elapsed": 397,
     "status": "ok",
     "timestamp": 1607189771959,
     "user": {
      "displayName": "Gaby Gerlach",
      "photoUrl": "",
      "userId": "11117434220237101401"
     },
     "user_tz": 300
    },
    "id": "_7sL6zOg7iuS",
    "name": "02-python-pandas-119",
    "outputId": "b37c863c-b9e0-4fc3-e3cf-63f34effd50d"
   },
   "outputs": [
    {
     "data": {
      "text/plain": [
       "142"
      ]
     },
     "execution_count": 131,
     "metadata": {},
     "output_type": "execute_result"
    }
   ],
   "source": [
    "df.groupby('country').ngroups"
   ]
  },
  {
   "cell_type": "code",
   "execution_count": 132,
   "metadata": {
    "colab": {
     "base_uri": "https://localhost:8080/",
     "height": 426
    },
    "executionInfo": {
     "elapsed": 499,
     "status": "ok",
     "timestamp": 1607189772598,
     "user": {
      "displayName": "Gaby Gerlach",
      "photoUrl": "",
      "userId": "11117434220237101401"
     },
     "user_tz": 300
    },
    "id": "aNpiBQ-17iuS",
    "name": "02-python-pandas-120",
    "outputId": "182b4dbf-00a8-4d92-8e27-4140d53ed553"
   },
   "outputs": [
    {
     "data": {
      "text/html": [
       "<div>\n",
       "<style scoped>\n",
       "    .dataframe tbody tr th:only-of-type {\n",
       "        vertical-align: middle;\n",
       "    }\n",
       "\n",
       "    .dataframe tbody tr th {\n",
       "        vertical-align: top;\n",
       "    }\n",
       "\n",
       "    .dataframe thead th {\n",
       "        text-align: right;\n",
       "    }\n",
       "</style>\n",
       "<table border=\"1\" class=\"dataframe\">\n",
       "  <thead>\n",
       "    <tr style=\"text-align: right;\">\n",
       "      <th></th>\n",
       "      <th>country</th>\n",
       "      <th>continent</th>\n",
       "      <th>year</th>\n",
       "      <th>lifeExp</th>\n",
       "      <th>pop</th>\n",
       "      <th>gdpPercap</th>\n",
       "    </tr>\n",
       "  </thead>\n",
       "  <tbody>\n",
       "    <tr>\n",
       "      <th>1596</th>\n",
       "      <td>United Kingdom</td>\n",
       "      <td>Europe</td>\n",
       "      <td>1952</td>\n",
       "      <td>69.180</td>\n",
       "      <td>50430000</td>\n",
       "      <td>9979.508487</td>\n",
       "    </tr>\n",
       "    <tr>\n",
       "      <th>1597</th>\n",
       "      <td>United Kingdom</td>\n",
       "      <td>Europe</td>\n",
       "      <td>1957</td>\n",
       "      <td>70.420</td>\n",
       "      <td>51430000</td>\n",
       "      <td>11283.177950</td>\n",
       "    </tr>\n",
       "    <tr>\n",
       "      <th>1598</th>\n",
       "      <td>United Kingdom</td>\n",
       "      <td>Europe</td>\n",
       "      <td>1962</td>\n",
       "      <td>70.760</td>\n",
       "      <td>53292000</td>\n",
       "      <td>12477.177070</td>\n",
       "    </tr>\n",
       "    <tr>\n",
       "      <th>1599</th>\n",
       "      <td>United Kingdom</td>\n",
       "      <td>Europe</td>\n",
       "      <td>1967</td>\n",
       "      <td>71.360</td>\n",
       "      <td>54959000</td>\n",
       "      <td>14142.850890</td>\n",
       "    </tr>\n",
       "    <tr>\n",
       "      <th>1600</th>\n",
       "      <td>United Kingdom</td>\n",
       "      <td>Europe</td>\n",
       "      <td>1972</td>\n",
       "      <td>72.010</td>\n",
       "      <td>56079000</td>\n",
       "      <td>15895.116410</td>\n",
       "    </tr>\n",
       "    <tr>\n",
       "      <th>1601</th>\n",
       "      <td>United Kingdom</td>\n",
       "      <td>Europe</td>\n",
       "      <td>1977</td>\n",
       "      <td>72.760</td>\n",
       "      <td>56179000</td>\n",
       "      <td>17428.748460</td>\n",
       "    </tr>\n",
       "    <tr>\n",
       "      <th>1602</th>\n",
       "      <td>United Kingdom</td>\n",
       "      <td>Europe</td>\n",
       "      <td>1982</td>\n",
       "      <td>74.040</td>\n",
       "      <td>56339704</td>\n",
       "      <td>18232.424520</td>\n",
       "    </tr>\n",
       "    <tr>\n",
       "      <th>1603</th>\n",
       "      <td>United Kingdom</td>\n",
       "      <td>Europe</td>\n",
       "      <td>1987</td>\n",
       "      <td>75.007</td>\n",
       "      <td>56981620</td>\n",
       "      <td>21664.787670</td>\n",
       "    </tr>\n",
       "    <tr>\n",
       "      <th>1604</th>\n",
       "      <td>United Kingdom</td>\n",
       "      <td>Europe</td>\n",
       "      <td>1992</td>\n",
       "      <td>76.420</td>\n",
       "      <td>57866349</td>\n",
       "      <td>22705.092540</td>\n",
       "    </tr>\n",
       "    <tr>\n",
       "      <th>1605</th>\n",
       "      <td>United Kingdom</td>\n",
       "      <td>Europe</td>\n",
       "      <td>1997</td>\n",
       "      <td>77.218</td>\n",
       "      <td>58808266</td>\n",
       "      <td>26074.531360</td>\n",
       "    </tr>\n",
       "    <tr>\n",
       "      <th>1606</th>\n",
       "      <td>United Kingdom</td>\n",
       "      <td>Europe</td>\n",
       "      <td>2002</td>\n",
       "      <td>78.471</td>\n",
       "      <td>59912431</td>\n",
       "      <td>29478.999190</td>\n",
       "    </tr>\n",
       "    <tr>\n",
       "      <th>1607</th>\n",
       "      <td>United Kingdom</td>\n",
       "      <td>Europe</td>\n",
       "      <td>2007</td>\n",
       "      <td>79.425</td>\n",
       "      <td>60776238</td>\n",
       "      <td>33203.261280</td>\n",
       "    </tr>\n",
       "  </tbody>\n",
       "</table>\n",
       "</div>"
      ],
      "text/plain": [
       "             country continent  year  lifeExp       pop     gdpPercap\n",
       "1596  United Kingdom    Europe  1952   69.180  50430000   9979.508487\n",
       "1597  United Kingdom    Europe  1957   70.420  51430000  11283.177950\n",
       "1598  United Kingdom    Europe  1962   70.760  53292000  12477.177070\n",
       "1599  United Kingdom    Europe  1967   71.360  54959000  14142.850890\n",
       "1600  United Kingdom    Europe  1972   72.010  56079000  15895.116410\n",
       "1601  United Kingdom    Europe  1977   72.760  56179000  17428.748460\n",
       "1602  United Kingdom    Europe  1982   74.040  56339704  18232.424520\n",
       "1603  United Kingdom    Europe  1987   75.007  56981620  21664.787670\n",
       "1604  United Kingdom    Europe  1992   76.420  57866349  22705.092540\n",
       "1605  United Kingdom    Europe  1997   77.218  58808266  26074.531360\n",
       "1606  United Kingdom    Europe  2002   78.471  59912431  29478.999190\n",
       "1607  United Kingdom    Europe  2007   79.425  60776238  33203.261280"
      ]
     },
     "execution_count": 132,
     "metadata": {},
     "output_type": "execute_result"
    }
   ],
   "source": [
    "df.groupby('country').get_group('United Kingdom')"
   ]
  },
  {
   "cell_type": "code",
   "execution_count": 133,
   "metadata": {
    "colab": {
     "base_uri": "https://localhost:8080/"
    },
    "executionInfo": {
     "elapsed": 759,
     "status": "ok",
     "timestamp": 1607189773194,
     "user": {
      "displayName": "Gaby Gerlach",
      "photoUrl": "",
      "userId": "11117434220237101401"
     },
     "user_tz": 300
    },
    "id": "UmXlvkqt7iuS",
    "name": "02-python-pandas-121",
    "outputId": "36124c5e-fb5b-4bd4-8105-44ba9e8d4e60"
   },
   "outputs": [
    {
     "data": {
      "text/plain": [
       "pandas.core.frame.DataFrame"
      ]
     },
     "execution_count": 133,
     "metadata": {},
     "output_type": "execute_result"
    }
   ],
   "source": [
    "type(df.groupby('country').get_group('United Kingdom'))"
   ]
  },
  {
   "cell_type": "code",
   "execution_count": 134,
   "metadata": {
    "colab": {
     "base_uri": "https://localhost:8080/"
    },
    "executionInfo": {
     "elapsed": 490,
     "status": "ok",
     "timestamp": 1607189773350,
     "user": {
      "displayName": "Gaby Gerlach",
      "photoUrl": "",
      "userId": "11117434220237101401"
     },
     "user_tz": 300
    },
    "id": "y32NVCjs7iuS",
    "name": "02-python-pandas-122",
    "outputId": "4066b943-919a-4702-87d0-72fa665d7833"
   },
   "outputs": [
    {
     "data": {
      "text/plain": [
       "73.92258333333332"
      ]
     },
     "execution_count": 134,
     "metadata": {},
     "output_type": "execute_result"
    }
   ],
   "source": [
    "avg_lifeexp_country = df.groupby('country').lifeExp.mean()\n",
    "avg_lifeexp_country['United Kingdom']"
   ]
  },
  {
   "cell_type": "code",
   "execution_count": 135,
   "metadata": {
    "colab": {
     "base_uri": "https://localhost:8080/"
    },
    "executionInfo": {
     "elapsed": 425,
     "status": "ok",
     "timestamp": 1607189773492,
     "user": {
      "displayName": "Gaby Gerlach",
      "photoUrl": "",
      "userId": "11117434220237101401"
     },
     "user_tz": 300
    },
    "id": "wXf2Y8kn7iuS",
    "name": "02-python-pandas-123",
    "outputId": "0b0c9d2e-072d-4481-827b-0bfb997d0a18"
   },
   "outputs": [
    {
     "data": {
      "text/plain": [
       "73.92258333333332"
      ]
     },
     "execution_count": 135,
     "metadata": {},
     "output_type": "execute_result"
    }
   ],
   "source": [
    "df.groupby('country').get_group('United Kingdom').lifeExp.mean()"
   ]
  },
  {
   "cell_type": "markdown",
   "metadata": {
    "id": "Fdl_iD1e7iuS"
   },
   "source": [
    "Let's look at if life expectancy has gone up over time, by continent"
   ]
  },
  {
   "cell_type": "code",
   "execution_count": 136,
   "metadata": {
    "colab": {
     "base_uri": "https://localhost:8080/"
    },
    "executionInfo": {
     "elapsed": 455,
     "status": "ok",
     "timestamp": 1607189774012,
     "user": {
      "displayName": "Gaby Gerlach",
      "photoUrl": "",
      "userId": "11117434220237101401"
     },
     "user_tz": 300
    },
    "id": "oNN77lIT7iuS",
    "name": "02-python-pandas-124",
    "outputId": "00c2c4bd-d0ca-4b06-8383-d4ea5921eede"
   },
   "outputs": [
    {
     "data": {
      "text/plain": [
       "continent  year\n",
       "Africa     1952    39.135500\n",
       "           1957    41.266346\n",
       "           1962    43.319442\n",
       "           1967    45.334538\n",
       "           1972    47.450942\n",
       "           1977    49.580423\n",
       "           1982    51.592865\n",
       "           1987    53.344788\n",
       "           1992    53.629577\n",
       "           1997    53.598269\n",
       "           2002    53.325231\n",
       "           2007    54.806038\n",
       "Americas   1952    53.279840\n",
       "           1957    55.960280\n",
       "           1962    58.398760\n",
       "           1967    60.410920\n",
       "           1972    62.394920\n",
       "           1977    64.391560\n",
       "           1982    66.228840\n",
       "           1987    68.090720\n",
       "           1992    69.568360\n",
       "           1997    71.150480\n",
       "           2002    72.422040\n",
       "           2007    73.608120\n",
       "Asia       1952    46.314394\n",
       "           1957    49.318544\n",
       "           1962    51.563223\n",
       "           1967    54.663640\n",
       "           1972    57.319269\n",
       "           1977    59.610556\n",
       "           1982    62.617939\n",
       "           1987    64.851182\n",
       "           1992    66.537212\n",
       "           1997    68.020515\n",
       "           2002    69.233879\n",
       "           2007    70.728485\n",
       "Europe     1952    64.408500\n",
       "           1957    66.703067\n",
       "           1962    68.539233\n",
       "           1967    69.737600\n",
       "           1972    70.775033\n",
       "           1977    71.937767\n",
       "           1982    72.806400\n",
       "           1987    73.642167\n",
       "           1992    74.440100\n",
       "           1997    75.505167\n",
       "           2002    76.700600\n",
       "           2007    77.648600\n",
       "Oceania    1952    69.255000\n",
       "           1957    70.295000\n",
       "           1962    71.085000\n",
       "           1967    71.310000\n",
       "           1972    71.910000\n",
       "           1977    72.855000\n",
       "           1982    74.290000\n",
       "           1987    75.320000\n",
       "           1992    76.945000\n",
       "           1997    78.190000\n",
       "           2002    79.740000\n",
       "           2007    80.719500\n",
       "Name: lifeExp, dtype: float64"
      ]
     },
     "execution_count": 136,
     "metadata": {},
     "output_type": "execute_result"
    }
   ],
   "source": [
    "df.groupby(['continent','year']).lifeExp.mean()"
   ]
  },
  {
   "cell_type": "code",
   "execution_count": 137,
   "metadata": {
    "colab": {
     "base_uri": "https://localhost:8080/",
     "height": 1000
    },
    "executionInfo": {
     "elapsed": 369,
     "status": "ok",
     "timestamp": 1607189774187,
     "user": {
      "displayName": "Gaby Gerlach",
      "photoUrl": "",
      "userId": "11117434220237101401"
     },
     "user_tz": 300
    },
    "id": "1Q96wIcZ7iuS",
    "name": "02-python-pandas-125",
    "outputId": "d58f0806-2953-4c4f-a16a-856ae696387b"
   },
   "outputs": [
    {
     "data": {
      "text/html": [
       "<div>\n",
       "<style scoped>\n",
       "    .dataframe tbody tr th:only-of-type {\n",
       "        vertical-align: middle;\n",
       "    }\n",
       "\n",
       "    .dataframe tbody tr th {\n",
       "        vertical-align: top;\n",
       "    }\n",
       "\n",
       "    .dataframe thead th {\n",
       "        text-align: right;\n",
       "    }\n",
       "</style>\n",
       "<table border=\"1\" class=\"dataframe\">\n",
       "  <thead>\n",
       "    <tr style=\"text-align: right;\">\n",
       "      <th></th>\n",
       "      <th>continent</th>\n",
       "      <th>year</th>\n",
       "      <th>lifeExp</th>\n",
       "    </tr>\n",
       "  </thead>\n",
       "  <tbody>\n",
       "    <tr>\n",
       "      <th>0</th>\n",
       "      <td>Africa</td>\n",
       "      <td>1952</td>\n",
       "      <td>39.135500</td>\n",
       "    </tr>\n",
       "    <tr>\n",
       "      <th>1</th>\n",
       "      <td>Africa</td>\n",
       "      <td>1957</td>\n",
       "      <td>41.266346</td>\n",
       "    </tr>\n",
       "    <tr>\n",
       "      <th>2</th>\n",
       "      <td>Africa</td>\n",
       "      <td>1962</td>\n",
       "      <td>43.319442</td>\n",
       "    </tr>\n",
       "    <tr>\n",
       "      <th>3</th>\n",
       "      <td>Africa</td>\n",
       "      <td>1967</td>\n",
       "      <td>45.334538</td>\n",
       "    </tr>\n",
       "    <tr>\n",
       "      <th>4</th>\n",
       "      <td>Africa</td>\n",
       "      <td>1972</td>\n",
       "      <td>47.450942</td>\n",
       "    </tr>\n",
       "    <tr>\n",
       "      <th>5</th>\n",
       "      <td>Africa</td>\n",
       "      <td>1977</td>\n",
       "      <td>49.580423</td>\n",
       "    </tr>\n",
       "    <tr>\n",
       "      <th>6</th>\n",
       "      <td>Africa</td>\n",
       "      <td>1982</td>\n",
       "      <td>51.592865</td>\n",
       "    </tr>\n",
       "    <tr>\n",
       "      <th>7</th>\n",
       "      <td>Africa</td>\n",
       "      <td>1987</td>\n",
       "      <td>53.344788</td>\n",
       "    </tr>\n",
       "    <tr>\n",
       "      <th>8</th>\n",
       "      <td>Africa</td>\n",
       "      <td>1992</td>\n",
       "      <td>53.629577</td>\n",
       "    </tr>\n",
       "    <tr>\n",
       "      <th>9</th>\n",
       "      <td>Africa</td>\n",
       "      <td>1997</td>\n",
       "      <td>53.598269</td>\n",
       "    </tr>\n",
       "    <tr>\n",
       "      <th>10</th>\n",
       "      <td>Africa</td>\n",
       "      <td>2002</td>\n",
       "      <td>53.325231</td>\n",
       "    </tr>\n",
       "    <tr>\n",
       "      <th>11</th>\n",
       "      <td>Africa</td>\n",
       "      <td>2007</td>\n",
       "      <td>54.806038</td>\n",
       "    </tr>\n",
       "    <tr>\n",
       "      <th>12</th>\n",
       "      <td>Americas</td>\n",
       "      <td>1952</td>\n",
       "      <td>53.279840</td>\n",
       "    </tr>\n",
       "    <tr>\n",
       "      <th>13</th>\n",
       "      <td>Americas</td>\n",
       "      <td>1957</td>\n",
       "      <td>55.960280</td>\n",
       "    </tr>\n",
       "    <tr>\n",
       "      <th>14</th>\n",
       "      <td>Americas</td>\n",
       "      <td>1962</td>\n",
       "      <td>58.398760</td>\n",
       "    </tr>\n",
       "    <tr>\n",
       "      <th>15</th>\n",
       "      <td>Americas</td>\n",
       "      <td>1967</td>\n",
       "      <td>60.410920</td>\n",
       "    </tr>\n",
       "    <tr>\n",
       "      <th>16</th>\n",
       "      <td>Americas</td>\n",
       "      <td>1972</td>\n",
       "      <td>62.394920</td>\n",
       "    </tr>\n",
       "    <tr>\n",
       "      <th>17</th>\n",
       "      <td>Americas</td>\n",
       "      <td>1977</td>\n",
       "      <td>64.391560</td>\n",
       "    </tr>\n",
       "    <tr>\n",
       "      <th>18</th>\n",
       "      <td>Americas</td>\n",
       "      <td>1982</td>\n",
       "      <td>66.228840</td>\n",
       "    </tr>\n",
       "    <tr>\n",
       "      <th>19</th>\n",
       "      <td>Americas</td>\n",
       "      <td>1987</td>\n",
       "      <td>68.090720</td>\n",
       "    </tr>\n",
       "    <tr>\n",
       "      <th>20</th>\n",
       "      <td>Americas</td>\n",
       "      <td>1992</td>\n",
       "      <td>69.568360</td>\n",
       "    </tr>\n",
       "    <tr>\n",
       "      <th>21</th>\n",
       "      <td>Americas</td>\n",
       "      <td>1997</td>\n",
       "      <td>71.150480</td>\n",
       "    </tr>\n",
       "    <tr>\n",
       "      <th>22</th>\n",
       "      <td>Americas</td>\n",
       "      <td>2002</td>\n",
       "      <td>72.422040</td>\n",
       "    </tr>\n",
       "    <tr>\n",
       "      <th>23</th>\n",
       "      <td>Americas</td>\n",
       "      <td>2007</td>\n",
       "      <td>73.608120</td>\n",
       "    </tr>\n",
       "    <tr>\n",
       "      <th>24</th>\n",
       "      <td>Asia</td>\n",
       "      <td>1952</td>\n",
       "      <td>46.314394</td>\n",
       "    </tr>\n",
       "    <tr>\n",
       "      <th>25</th>\n",
       "      <td>Asia</td>\n",
       "      <td>1957</td>\n",
       "      <td>49.318544</td>\n",
       "    </tr>\n",
       "    <tr>\n",
       "      <th>26</th>\n",
       "      <td>Asia</td>\n",
       "      <td>1962</td>\n",
       "      <td>51.563223</td>\n",
       "    </tr>\n",
       "    <tr>\n",
       "      <th>27</th>\n",
       "      <td>Asia</td>\n",
       "      <td>1967</td>\n",
       "      <td>54.663640</td>\n",
       "    </tr>\n",
       "    <tr>\n",
       "      <th>28</th>\n",
       "      <td>Asia</td>\n",
       "      <td>1972</td>\n",
       "      <td>57.319269</td>\n",
       "    </tr>\n",
       "    <tr>\n",
       "      <th>29</th>\n",
       "      <td>Asia</td>\n",
       "      <td>1977</td>\n",
       "      <td>59.610556</td>\n",
       "    </tr>\n",
       "    <tr>\n",
       "      <th>30</th>\n",
       "      <td>Asia</td>\n",
       "      <td>1982</td>\n",
       "      <td>62.617939</td>\n",
       "    </tr>\n",
       "    <tr>\n",
       "      <th>31</th>\n",
       "      <td>Asia</td>\n",
       "      <td>1987</td>\n",
       "      <td>64.851182</td>\n",
       "    </tr>\n",
       "    <tr>\n",
       "      <th>32</th>\n",
       "      <td>Asia</td>\n",
       "      <td>1992</td>\n",
       "      <td>66.537212</td>\n",
       "    </tr>\n",
       "    <tr>\n",
       "      <th>33</th>\n",
       "      <td>Asia</td>\n",
       "      <td>1997</td>\n",
       "      <td>68.020515</td>\n",
       "    </tr>\n",
       "    <tr>\n",
       "      <th>34</th>\n",
       "      <td>Asia</td>\n",
       "      <td>2002</td>\n",
       "      <td>69.233879</td>\n",
       "    </tr>\n",
       "    <tr>\n",
       "      <th>35</th>\n",
       "      <td>Asia</td>\n",
       "      <td>2007</td>\n",
       "      <td>70.728485</td>\n",
       "    </tr>\n",
       "    <tr>\n",
       "      <th>36</th>\n",
       "      <td>Europe</td>\n",
       "      <td>1952</td>\n",
       "      <td>64.408500</td>\n",
       "    </tr>\n",
       "    <tr>\n",
       "      <th>37</th>\n",
       "      <td>Europe</td>\n",
       "      <td>1957</td>\n",
       "      <td>66.703067</td>\n",
       "    </tr>\n",
       "    <tr>\n",
       "      <th>38</th>\n",
       "      <td>Europe</td>\n",
       "      <td>1962</td>\n",
       "      <td>68.539233</td>\n",
       "    </tr>\n",
       "    <tr>\n",
       "      <th>39</th>\n",
       "      <td>Europe</td>\n",
       "      <td>1967</td>\n",
       "      <td>69.737600</td>\n",
       "    </tr>\n",
       "    <tr>\n",
       "      <th>40</th>\n",
       "      <td>Europe</td>\n",
       "      <td>1972</td>\n",
       "      <td>70.775033</td>\n",
       "    </tr>\n",
       "    <tr>\n",
       "      <th>41</th>\n",
       "      <td>Europe</td>\n",
       "      <td>1977</td>\n",
       "      <td>71.937767</td>\n",
       "    </tr>\n",
       "    <tr>\n",
       "      <th>42</th>\n",
       "      <td>Europe</td>\n",
       "      <td>1982</td>\n",
       "      <td>72.806400</td>\n",
       "    </tr>\n",
       "    <tr>\n",
       "      <th>43</th>\n",
       "      <td>Europe</td>\n",
       "      <td>1987</td>\n",
       "      <td>73.642167</td>\n",
       "    </tr>\n",
       "    <tr>\n",
       "      <th>44</th>\n",
       "      <td>Europe</td>\n",
       "      <td>1992</td>\n",
       "      <td>74.440100</td>\n",
       "    </tr>\n",
       "    <tr>\n",
       "      <th>45</th>\n",
       "      <td>Europe</td>\n",
       "      <td>1997</td>\n",
       "      <td>75.505167</td>\n",
       "    </tr>\n",
       "    <tr>\n",
       "      <th>46</th>\n",
       "      <td>Europe</td>\n",
       "      <td>2002</td>\n",
       "      <td>76.700600</td>\n",
       "    </tr>\n",
       "    <tr>\n",
       "      <th>47</th>\n",
       "      <td>Europe</td>\n",
       "      <td>2007</td>\n",
       "      <td>77.648600</td>\n",
       "    </tr>\n",
       "    <tr>\n",
       "      <th>48</th>\n",
       "      <td>Oceania</td>\n",
       "      <td>1952</td>\n",
       "      <td>69.255000</td>\n",
       "    </tr>\n",
       "    <tr>\n",
       "      <th>49</th>\n",
       "      <td>Oceania</td>\n",
       "      <td>1957</td>\n",
       "      <td>70.295000</td>\n",
       "    </tr>\n",
       "    <tr>\n",
       "      <th>50</th>\n",
       "      <td>Oceania</td>\n",
       "      <td>1962</td>\n",
       "      <td>71.085000</td>\n",
       "    </tr>\n",
       "    <tr>\n",
       "      <th>51</th>\n",
       "      <td>Oceania</td>\n",
       "      <td>1967</td>\n",
       "      <td>71.310000</td>\n",
       "    </tr>\n",
       "    <tr>\n",
       "      <th>52</th>\n",
       "      <td>Oceania</td>\n",
       "      <td>1972</td>\n",
       "      <td>71.910000</td>\n",
       "    </tr>\n",
       "    <tr>\n",
       "      <th>53</th>\n",
       "      <td>Oceania</td>\n",
       "      <td>1977</td>\n",
       "      <td>72.855000</td>\n",
       "    </tr>\n",
       "    <tr>\n",
       "      <th>54</th>\n",
       "      <td>Oceania</td>\n",
       "      <td>1982</td>\n",
       "      <td>74.290000</td>\n",
       "    </tr>\n",
       "    <tr>\n",
       "      <th>55</th>\n",
       "      <td>Oceania</td>\n",
       "      <td>1987</td>\n",
       "      <td>75.320000</td>\n",
       "    </tr>\n",
       "    <tr>\n",
       "      <th>56</th>\n",
       "      <td>Oceania</td>\n",
       "      <td>1992</td>\n",
       "      <td>76.945000</td>\n",
       "    </tr>\n",
       "    <tr>\n",
       "      <th>57</th>\n",
       "      <td>Oceania</td>\n",
       "      <td>1997</td>\n",
       "      <td>78.190000</td>\n",
       "    </tr>\n",
       "    <tr>\n",
       "      <th>58</th>\n",
       "      <td>Oceania</td>\n",
       "      <td>2002</td>\n",
       "      <td>79.740000</td>\n",
       "    </tr>\n",
       "    <tr>\n",
       "      <th>59</th>\n",
       "      <td>Oceania</td>\n",
       "      <td>2007</td>\n",
       "      <td>80.719500</td>\n",
       "    </tr>\n",
       "  </tbody>\n",
       "</table>\n",
       "</div>"
      ],
      "text/plain": [
       "   continent  year    lifeExp\n",
       "0     Africa  1952  39.135500\n",
       "1     Africa  1957  41.266346\n",
       "2     Africa  1962  43.319442\n",
       "3     Africa  1967  45.334538\n",
       "4     Africa  1972  47.450942\n",
       "5     Africa  1977  49.580423\n",
       "6     Africa  1982  51.592865\n",
       "7     Africa  1987  53.344788\n",
       "8     Africa  1992  53.629577\n",
       "9     Africa  1997  53.598269\n",
       "10    Africa  2002  53.325231\n",
       "11    Africa  2007  54.806038\n",
       "12  Americas  1952  53.279840\n",
       "13  Americas  1957  55.960280\n",
       "14  Americas  1962  58.398760\n",
       "15  Americas  1967  60.410920\n",
       "16  Americas  1972  62.394920\n",
       "17  Americas  1977  64.391560\n",
       "18  Americas  1982  66.228840\n",
       "19  Americas  1987  68.090720\n",
       "20  Americas  1992  69.568360\n",
       "21  Americas  1997  71.150480\n",
       "22  Americas  2002  72.422040\n",
       "23  Americas  2007  73.608120\n",
       "24      Asia  1952  46.314394\n",
       "25      Asia  1957  49.318544\n",
       "26      Asia  1962  51.563223\n",
       "27      Asia  1967  54.663640\n",
       "28      Asia  1972  57.319269\n",
       "29      Asia  1977  59.610556\n",
       "30      Asia  1982  62.617939\n",
       "31      Asia  1987  64.851182\n",
       "32      Asia  1992  66.537212\n",
       "33      Asia  1997  68.020515\n",
       "34      Asia  2002  69.233879\n",
       "35      Asia  2007  70.728485\n",
       "36    Europe  1952  64.408500\n",
       "37    Europe  1957  66.703067\n",
       "38    Europe  1962  68.539233\n",
       "39    Europe  1967  69.737600\n",
       "40    Europe  1972  70.775033\n",
       "41    Europe  1977  71.937767\n",
       "42    Europe  1982  72.806400\n",
       "43    Europe  1987  73.642167\n",
       "44    Europe  1992  74.440100\n",
       "45    Europe  1997  75.505167\n",
       "46    Europe  2002  76.700600\n",
       "47    Europe  2007  77.648600\n",
       "48   Oceania  1952  69.255000\n",
       "49   Oceania  1957  70.295000\n",
       "50   Oceania  1962  71.085000\n",
       "51   Oceania  1967  71.310000\n",
       "52   Oceania  1972  71.910000\n",
       "53   Oceania  1977  72.855000\n",
       "54   Oceania  1982  74.290000\n",
       "55   Oceania  1987  75.320000\n",
       "56   Oceania  1992  76.945000\n",
       "57   Oceania  1997  78.190000\n",
       "58   Oceania  2002  79.740000\n",
       "59   Oceania  2007  80.719500"
      ]
     },
     "execution_count": 137,
     "metadata": {},
     "output_type": "execute_result"
    }
   ],
   "source": [
    "avg_lifeexp_continent_yr = df.groupby(['continent','year']).lifeExp.mean().reset_index()\n",
    "avg_lifeexp_continent_yr"
   ]
  },
  {
   "cell_type": "code",
   "execution_count": 138,
   "metadata": {
    "colab": {
     "base_uri": "https://localhost:8080/"
    },
    "executionInfo": {
     "elapsed": 477,
     "status": "ok",
     "timestamp": 1607189774643,
     "user": {
      "displayName": "Gaby Gerlach",
      "photoUrl": "",
      "userId": "11117434220237101401"
     },
     "user_tz": 300
    },
    "id": "ac1oSRFp7iuS",
    "name": "02-python-pandas-126",
    "outputId": "ea460e6b-c718-4efc-8211-12270d25edd6"
   },
   "outputs": [
    {
     "data": {
      "text/plain": [
       "pandas.core.frame.DataFrame"
      ]
     },
     "execution_count": 138,
     "metadata": {},
     "output_type": "execute_result"
    }
   ],
   "source": [
    "type(avg_lifeexp_continent_yr)"
   ]
  },
  {
   "cell_type": "markdown",
   "metadata": {
    "id": "NyfplmEN7iuS"
   },
   "source": [
    "The aggregation function, in this case `mean`, does both the \"apply\" and \"combine\" parts of the process."
   ]
  },
  {
   "cell_type": "markdown",
   "metadata": {
    "id": "_Pl-Qrwb7iuS"
   },
   "source": [
    "We can do quick aggregations with `pandas`"
   ]
  },
  {
   "cell_type": "code",
   "execution_count": 139,
   "metadata": {
    "colab": {
     "base_uri": "https://localhost:8080/",
     "height": 238
    },
    "executionInfo": {
     "elapsed": 414,
     "status": "ok",
     "timestamp": 1607189775467,
     "user": {
      "displayName": "Gaby Gerlach",
      "photoUrl": "",
      "userId": "11117434220237101401"
     },
     "user_tz": 300
    },
    "id": "RRerL_Dt7iuS",
    "name": "02-python-pandas-127",
    "outputId": "9b58c23e-2a45-4eba-dfb6-9d5aedff25ec"
   },
   "outputs": [
    {
     "data": {
      "text/html": [
       "<div>\n",
       "<style scoped>\n",
       "    .dataframe tbody tr th:only-of-type {\n",
       "        vertical-align: middle;\n",
       "    }\n",
       "\n",
       "    .dataframe tbody tr th {\n",
       "        vertical-align: top;\n",
       "    }\n",
       "\n",
       "    .dataframe thead th {\n",
       "        text-align: right;\n",
       "    }\n",
       "</style>\n",
       "<table border=\"1\" class=\"dataframe\">\n",
       "  <thead>\n",
       "    <tr style=\"text-align: right;\">\n",
       "      <th></th>\n",
       "      <th>count</th>\n",
       "      <th>mean</th>\n",
       "      <th>std</th>\n",
       "      <th>min</th>\n",
       "      <th>25%</th>\n",
       "      <th>50%</th>\n",
       "      <th>75%</th>\n",
       "      <th>max</th>\n",
       "    </tr>\n",
       "    <tr>\n",
       "      <th>continent</th>\n",
       "      <th></th>\n",
       "      <th></th>\n",
       "      <th></th>\n",
       "      <th></th>\n",
       "      <th></th>\n",
       "      <th></th>\n",
       "      <th></th>\n",
       "      <th></th>\n",
       "    </tr>\n",
       "  </thead>\n",
       "  <tbody>\n",
       "    <tr>\n",
       "      <th>Africa</th>\n",
       "      <td>624.0</td>\n",
       "      <td>48.865330</td>\n",
       "      <td>9.150210</td>\n",
       "      <td>23.599</td>\n",
       "      <td>42.37250</td>\n",
       "      <td>47.7920</td>\n",
       "      <td>54.41150</td>\n",
       "      <td>76.442</td>\n",
       "    </tr>\n",
       "    <tr>\n",
       "      <th>Americas</th>\n",
       "      <td>300.0</td>\n",
       "      <td>64.658737</td>\n",
       "      <td>9.345088</td>\n",
       "      <td>37.579</td>\n",
       "      <td>58.41000</td>\n",
       "      <td>67.0480</td>\n",
       "      <td>71.69950</td>\n",
       "      <td>80.653</td>\n",
       "    </tr>\n",
       "    <tr>\n",
       "      <th>Asia</th>\n",
       "      <td>396.0</td>\n",
       "      <td>60.064903</td>\n",
       "      <td>11.864532</td>\n",
       "      <td>28.801</td>\n",
       "      <td>51.42625</td>\n",
       "      <td>61.7915</td>\n",
       "      <td>69.50525</td>\n",
       "      <td>82.603</td>\n",
       "    </tr>\n",
       "    <tr>\n",
       "      <th>Europe</th>\n",
       "      <td>360.0</td>\n",
       "      <td>71.903686</td>\n",
       "      <td>5.433178</td>\n",
       "      <td>43.585</td>\n",
       "      <td>69.57000</td>\n",
       "      <td>72.2410</td>\n",
       "      <td>75.45050</td>\n",
       "      <td>81.757</td>\n",
       "    </tr>\n",
       "    <tr>\n",
       "      <th>Oceania</th>\n",
       "      <td>24.0</td>\n",
       "      <td>74.326208</td>\n",
       "      <td>3.795611</td>\n",
       "      <td>69.120</td>\n",
       "      <td>71.20500</td>\n",
       "      <td>73.6650</td>\n",
       "      <td>77.55250</td>\n",
       "      <td>81.235</td>\n",
       "    </tr>\n",
       "  </tbody>\n",
       "</table>\n",
       "</div>"
      ],
      "text/plain": [
       "           count       mean        std     min       25%      50%       75%  \\\n",
       "continent                                                                     \n",
       "Africa     624.0  48.865330   9.150210  23.599  42.37250  47.7920  54.41150   \n",
       "Americas   300.0  64.658737   9.345088  37.579  58.41000  67.0480  71.69950   \n",
       "Asia       396.0  60.064903  11.864532  28.801  51.42625  61.7915  69.50525   \n",
       "Europe     360.0  71.903686   5.433178  43.585  69.57000  72.2410  75.45050   \n",
       "Oceania     24.0  74.326208   3.795611  69.120  71.20500  73.6650  77.55250   \n",
       "\n",
       "              max  \n",
       "continent          \n",
       "Africa     76.442  \n",
       "Americas   80.653  \n",
       "Asia       82.603  \n",
       "Europe     81.757  \n",
       "Oceania    81.235  "
      ]
     },
     "execution_count": 139,
     "metadata": {},
     "output_type": "execute_result"
    }
   ],
   "source": [
    "df.groupby('continent').lifeExp.describe()"
   ]
  },
  {
   "cell_type": "code",
   "execution_count": 140,
   "metadata": {
    "colab": {
     "base_uri": "https://localhost:8080/",
     "height": 238
    },
    "executionInfo": {
     "elapsed": 693,
     "status": "ok",
     "timestamp": 1607189775961,
     "user": {
      "displayName": "Gaby Gerlach",
      "photoUrl": "",
      "userId": "11117434220237101401"
     },
     "user_tz": 300
    },
    "id": "7wnKFPc37iuS",
    "name": "02-python-pandas-128",
    "outputId": "509e5b59-cd56-435c-e216-32d182311649"
   },
   "outputs": [
    {
     "data": {
      "text/html": [
       "<div>\n",
       "<style scoped>\n",
       "    .dataframe tbody tr th:only-of-type {\n",
       "        vertical-align: middle;\n",
       "    }\n",
       "\n",
       "    .dataframe tbody tr th {\n",
       "        vertical-align: top;\n",
       "    }\n",
       "\n",
       "    .dataframe thead th {\n",
       "        text-align: right;\n",
       "    }\n",
       "</style>\n",
       "<table border=\"1\" class=\"dataframe\">\n",
       "  <thead>\n",
       "    <tr style=\"text-align: right;\">\n",
       "      <th></th>\n",
       "      <th>country</th>\n",
       "      <th>year</th>\n",
       "      <th>lifeExp</th>\n",
       "      <th>pop</th>\n",
       "      <th>gdpPercap</th>\n",
       "    </tr>\n",
       "    <tr>\n",
       "      <th>continent</th>\n",
       "      <th></th>\n",
       "      <th></th>\n",
       "      <th></th>\n",
       "      <th></th>\n",
       "      <th></th>\n",
       "    </tr>\n",
       "  </thead>\n",
       "  <tbody>\n",
       "    <tr>\n",
       "      <th>Africa</th>\n",
       "      <td>Algeria</td>\n",
       "      <td>2002</td>\n",
       "      <td>70.994</td>\n",
       "      <td>31287142</td>\n",
       "      <td>5288.040382</td>\n",
       "    </tr>\n",
       "    <tr>\n",
       "      <th>Americas</th>\n",
       "      <td>Argentina</td>\n",
       "      <td>2002</td>\n",
       "      <td>74.340</td>\n",
       "      <td>38331121</td>\n",
       "      <td>8797.640716</td>\n",
       "    </tr>\n",
       "    <tr>\n",
       "      <th>Asia</th>\n",
       "      <td>Afghanistan</td>\n",
       "      <td>2002</td>\n",
       "      <td>42.129</td>\n",
       "      <td>25268405</td>\n",
       "      <td>726.734055</td>\n",
       "    </tr>\n",
       "    <tr>\n",
       "      <th>Europe</th>\n",
       "      <td>Albania</td>\n",
       "      <td>2002</td>\n",
       "      <td>75.651</td>\n",
       "      <td>3508512</td>\n",
       "      <td>4604.211737</td>\n",
       "    </tr>\n",
       "    <tr>\n",
       "      <th>Oceania</th>\n",
       "      <td>Australia</td>\n",
       "      <td>2002</td>\n",
       "      <td>80.370</td>\n",
       "      <td>19546792</td>\n",
       "      <td>30687.754730</td>\n",
       "    </tr>\n",
       "  </tbody>\n",
       "</table>\n",
       "</div>"
      ],
      "text/plain": [
       "               country  year  lifeExp       pop     gdpPercap\n",
       "continent                                                    \n",
       "Africa         Algeria  2002   70.994  31287142   5288.040382\n",
       "Americas     Argentina  2002   74.340  38331121   8797.640716\n",
       "Asia       Afghanistan  2002   42.129  25268405    726.734055\n",
       "Europe         Albania  2002   75.651   3508512   4604.211737\n",
       "Oceania      Australia  2002   80.370  19546792  30687.754730"
      ]
     },
     "execution_count": 140,
     "metadata": {},
     "output_type": "execute_result"
    }
   ],
   "source": [
    "df.groupby('continent').nth(10) # Tenth observation in each group"
   ]
  },
  {
   "cell_type": "markdown",
   "metadata": {
    "id": "WhnsvkQS7iuS"
   },
   "source": [
    "You can also use functions from other modules, or your own functions in this aggregation work."
   ]
  },
  {
   "cell_type": "code",
   "execution_count": 141,
   "metadata": {
    "colab": {
     "base_uri": "https://localhost:8080/"
    },
    "executionInfo": {
     "elapsed": 753,
     "status": "ok",
     "timestamp": 1607189776634,
     "user": {
      "displayName": "Gaby Gerlach",
      "photoUrl": "",
      "userId": "11117434220237101401"
     },
     "user_tz": 300
    },
    "id": "SIdmom007iuS",
    "name": "02-python-pandas-129",
    "outputId": "1361e6c2-5656-434f-ee3f-35155c1027bd"
   },
   "outputs": [
    {
     "data": {
      "text/plain": [
       "continent\n",
       "Africa      48.865330\n",
       "Americas    64.658737\n",
       "Asia        60.064903\n",
       "Europe      71.903686\n",
       "Oceania     74.326208\n",
       "Name: lifeExp, dtype: float64"
      ]
     },
     "execution_count": 141,
     "metadata": {},
     "output_type": "execute_result"
    }
   ],
   "source": [
    "df.groupby('continent').lifeExp.agg(np.mean)"
   ]
  },
  {
   "cell_type": "code",
   "execution_count": 142,
   "metadata": {
    "colab": {
     "base_uri": "https://localhost:8080/"
    },
    "executionInfo": {
     "elapsed": 699,
     "status": "ok",
     "timestamp": 1607189776635,
     "user": {
      "displayName": "Gaby Gerlach",
      "photoUrl": "",
      "userId": "11117434220237101401"
     },
     "user_tz": 300
    },
    "id": "C474cBan7iuS",
    "name": "02-python-pandas-130",
    "outputId": "0a3868e1-7057-47f9-8352-bb2f57d37ec6"
   },
   "outputs": [
    {
     "data": {
      "text/plain": [
       "continent\n",
       "Africa      48.865330\n",
       "Americas    64.658737\n",
       "Asia        60.064903\n",
       "Europe      71.903686\n",
       "Oceania     74.326208\n",
       "Name: lifeExp, dtype: float64"
      ]
     },
     "execution_count": 142,
     "metadata": {},
     "output_type": "execute_result"
    }
   ],
   "source": [
    "def my_mean(values):\n",
    "    n = len(values)\n",
    "    sum = 0\n",
    "    for value in values:\n",
    "        sum += value\n",
    "    return(sum/n)\n",
    "\n",
    "df.groupby('continent').lifeExp.agg(my_mean)"
   ]
  },
  {
   "cell_type": "markdown",
   "metadata": {
    "id": "KGcVIjUb7iuS"
   },
   "source": [
    "You can do many functions at once"
   ]
  },
  {
   "cell_type": "code",
   "execution_count": 143,
   "metadata": {
    "colab": {
     "base_uri": "https://localhost:8080/",
     "height": 457
    },
    "executionInfo": {
     "elapsed": 298,
     "status": "ok",
     "timestamp": 1607189776879,
     "user": {
      "displayName": "Gaby Gerlach",
      "photoUrl": "",
      "userId": "11117434220237101401"
     },
     "user_tz": 300
    },
    "id": "lwIYZMOK7iuS",
    "name": "02-python-pandas-131",
    "outputId": "91b6337c-ad4a-480c-e094-4c523234e776"
   },
   "outputs": [
    {
     "data": {
      "text/html": [
       "<div>\n",
       "<style scoped>\n",
       "    .dataframe tbody tr th:only-of-type {\n",
       "        vertical-align: middle;\n",
       "    }\n",
       "\n",
       "    .dataframe tbody tr th {\n",
       "        vertical-align: top;\n",
       "    }\n",
       "\n",
       "    .dataframe thead th {\n",
       "        text-align: right;\n",
       "    }\n",
       "</style>\n",
       "<table border=\"1\" class=\"dataframe\">\n",
       "  <thead>\n",
       "    <tr style=\"text-align: right;\">\n",
       "      <th></th>\n",
       "      <th>count_nonzero</th>\n",
       "      <th>mean</th>\n",
       "      <th>std</th>\n",
       "    </tr>\n",
       "    <tr>\n",
       "      <th>year</th>\n",
       "      <th></th>\n",
       "      <th></th>\n",
       "      <th></th>\n",
       "    </tr>\n",
       "  </thead>\n",
       "  <tbody>\n",
       "    <tr>\n",
       "      <th>1952</th>\n",
       "      <td>142.0</td>\n",
       "      <td>49.057620</td>\n",
       "      <td>12.225956</td>\n",
       "    </tr>\n",
       "    <tr>\n",
       "      <th>1957</th>\n",
       "      <td>142.0</td>\n",
       "      <td>51.507401</td>\n",
       "      <td>12.231286</td>\n",
       "    </tr>\n",
       "    <tr>\n",
       "      <th>1962</th>\n",
       "      <td>142.0</td>\n",
       "      <td>53.609249</td>\n",
       "      <td>12.097245</td>\n",
       "    </tr>\n",
       "    <tr>\n",
       "      <th>1967</th>\n",
       "      <td>142.0</td>\n",
       "      <td>55.678290</td>\n",
       "      <td>11.718858</td>\n",
       "    </tr>\n",
       "    <tr>\n",
       "      <th>1972</th>\n",
       "      <td>142.0</td>\n",
       "      <td>57.647386</td>\n",
       "      <td>11.381953</td>\n",
       "    </tr>\n",
       "    <tr>\n",
       "      <th>1977</th>\n",
       "      <td>142.0</td>\n",
       "      <td>59.570157</td>\n",
       "      <td>11.227229</td>\n",
       "    </tr>\n",
       "    <tr>\n",
       "      <th>1982</th>\n",
       "      <td>142.0</td>\n",
       "      <td>61.533197</td>\n",
       "      <td>10.770618</td>\n",
       "    </tr>\n",
       "    <tr>\n",
       "      <th>1987</th>\n",
       "      <td>142.0</td>\n",
       "      <td>63.212613</td>\n",
       "      <td>10.556285</td>\n",
       "    </tr>\n",
       "    <tr>\n",
       "      <th>1992</th>\n",
       "      <td>142.0</td>\n",
       "      <td>64.160338</td>\n",
       "      <td>11.227380</td>\n",
       "    </tr>\n",
       "    <tr>\n",
       "      <th>1997</th>\n",
       "      <td>142.0</td>\n",
       "      <td>65.014676</td>\n",
       "      <td>11.559439</td>\n",
       "    </tr>\n",
       "    <tr>\n",
       "      <th>2002</th>\n",
       "      <td>142.0</td>\n",
       "      <td>65.694923</td>\n",
       "      <td>12.279823</td>\n",
       "    </tr>\n",
       "    <tr>\n",
       "      <th>2007</th>\n",
       "      <td>142.0</td>\n",
       "      <td>67.007423</td>\n",
       "      <td>12.073021</td>\n",
       "    </tr>\n",
       "  </tbody>\n",
       "</table>\n",
       "</div>"
      ],
      "text/plain": [
       "      count_nonzero       mean        std\n",
       "year                                     \n",
       "1952          142.0  49.057620  12.225956\n",
       "1957          142.0  51.507401  12.231286\n",
       "1962          142.0  53.609249  12.097245\n",
       "1967          142.0  55.678290  11.718858\n",
       "1972          142.0  57.647386  11.381953\n",
       "1977          142.0  59.570157  11.227229\n",
       "1982          142.0  61.533197  10.770618\n",
       "1987          142.0  63.212613  10.556285\n",
       "1992          142.0  64.160338  11.227380\n",
       "1997          142.0  65.014676  11.559439\n",
       "2002          142.0  65.694923  12.279823\n",
       "2007          142.0  67.007423  12.073021"
      ]
     },
     "execution_count": 143,
     "metadata": {},
     "output_type": "execute_result"
    }
   ],
   "source": [
    "df.groupby('year').lifeExp.agg([np.count_nonzero, np.mean, np.std])"
   ]
  },
  {
   "cell_type": "markdown",
   "metadata": {
    "id": "qDC7LTC17iuS"
   },
   "source": [
    "You can also aggregate on different columns at the same time by passing a `dict` to the `agg` function"
   ]
  },
  {
   "cell_type": "code",
   "execution_count": 144,
   "metadata": {
    "colab": {
     "base_uri": "https://localhost:8080/",
     "height": 426
    },
    "executionInfo": {
     "elapsed": 785,
     "status": "ok",
     "timestamp": 1607189777766,
     "user": {
      "displayName": "Gaby Gerlach",
      "photoUrl": "",
      "userId": "11117434220237101401"
     },
     "user_tz": 300
    },
    "id": "-i6Dbwyf7iuS",
    "name": "02-python-pandas-132",
    "outputId": "4b3cd685-3dd1-48f6-ebe8-02aea02dd6a3"
   },
   "outputs": [
    {
     "data": {
      "text/html": [
       "<div>\n",
       "<style scoped>\n",
       "    .dataframe tbody tr th:only-of-type {\n",
       "        vertical-align: middle;\n",
       "    }\n",
       "\n",
       "    .dataframe tbody tr th {\n",
       "        vertical-align: top;\n",
       "    }\n",
       "\n",
       "    .dataframe thead th {\n",
       "        text-align: right;\n",
       "    }\n",
       "</style>\n",
       "<table border=\"1\" class=\"dataframe\">\n",
       "  <thead>\n",
       "    <tr style=\"text-align: right;\">\n",
       "      <th></th>\n",
       "      <th>year</th>\n",
       "      <th>lifeExp</th>\n",
       "      <th>pop</th>\n",
       "      <th>gdpPercap</th>\n",
       "    </tr>\n",
       "  </thead>\n",
       "  <tbody>\n",
       "    <tr>\n",
       "      <th>0</th>\n",
       "      <td>1952</td>\n",
       "      <td>49.057620</td>\n",
       "      <td>3943953.0</td>\n",
       "      <td>1968.528344</td>\n",
       "    </tr>\n",
       "    <tr>\n",
       "      <th>1</th>\n",
       "      <td>1957</td>\n",
       "      <td>51.507401</td>\n",
       "      <td>4282942.0</td>\n",
       "      <td>2173.220291</td>\n",
       "    </tr>\n",
       "    <tr>\n",
       "      <th>2</th>\n",
       "      <td>1962</td>\n",
       "      <td>53.609249</td>\n",
       "      <td>4686039.5</td>\n",
       "      <td>2335.439533</td>\n",
       "    </tr>\n",
       "    <tr>\n",
       "      <th>3</th>\n",
       "      <td>1967</td>\n",
       "      <td>55.678290</td>\n",
       "      <td>5170175.5</td>\n",
       "      <td>2678.334741</td>\n",
       "    </tr>\n",
       "    <tr>\n",
       "      <th>4</th>\n",
       "      <td>1972</td>\n",
       "      <td>57.647386</td>\n",
       "      <td>5877996.5</td>\n",
       "      <td>3339.129407</td>\n",
       "    </tr>\n",
       "    <tr>\n",
       "      <th>5</th>\n",
       "      <td>1977</td>\n",
       "      <td>59.570157</td>\n",
       "      <td>6404036.5</td>\n",
       "      <td>3798.609244</td>\n",
       "    </tr>\n",
       "    <tr>\n",
       "      <th>6</th>\n",
       "      <td>1982</td>\n",
       "      <td>61.533197</td>\n",
       "      <td>7007320.0</td>\n",
       "      <td>4216.228428</td>\n",
       "    </tr>\n",
       "    <tr>\n",
       "      <th>7</th>\n",
       "      <td>1987</td>\n",
       "      <td>63.212613</td>\n",
       "      <td>7774861.5</td>\n",
       "      <td>4280.300366</td>\n",
       "    </tr>\n",
       "    <tr>\n",
       "      <th>8</th>\n",
       "      <td>1992</td>\n",
       "      <td>64.160338</td>\n",
       "      <td>8688686.5</td>\n",
       "      <td>4386.085502</td>\n",
       "    </tr>\n",
       "    <tr>\n",
       "      <th>9</th>\n",
       "      <td>1997</td>\n",
       "      <td>65.014676</td>\n",
       "      <td>9735063.5</td>\n",
       "      <td>4781.825478</td>\n",
       "    </tr>\n",
       "    <tr>\n",
       "      <th>10</th>\n",
       "      <td>2002</td>\n",
       "      <td>65.694923</td>\n",
       "      <td>10372918.5</td>\n",
       "      <td>5319.804524</td>\n",
       "    </tr>\n",
       "    <tr>\n",
       "      <th>11</th>\n",
       "      <td>2007</td>\n",
       "      <td>67.007423</td>\n",
       "      <td>10517531.0</td>\n",
       "      <td>6124.371109</td>\n",
       "    </tr>\n",
       "  </tbody>\n",
       "</table>\n",
       "</div>"
      ],
      "text/plain": [
       "    year    lifeExp         pop    gdpPercap\n",
       "0   1952  49.057620   3943953.0  1968.528344\n",
       "1   1957  51.507401   4282942.0  2173.220291\n",
       "2   1962  53.609249   4686039.5  2335.439533\n",
       "3   1967  55.678290   5170175.5  2678.334741\n",
       "4   1972  57.647386   5877996.5  3339.129407\n",
       "5   1977  59.570157   6404036.5  3798.609244\n",
       "6   1982  61.533197   7007320.0  4216.228428\n",
       "7   1987  63.212613   7774861.5  4280.300366\n",
       "8   1992  64.160338   8688686.5  4386.085502\n",
       "9   1997  65.014676   9735063.5  4781.825478\n",
       "10  2002  65.694923  10372918.5  5319.804524\n",
       "11  2007  67.007423  10517531.0  6124.371109"
      ]
     },
     "execution_count": 144,
     "metadata": {},
     "output_type": "execute_result"
    }
   ],
   "source": [
    "df.groupby('year').agg({'lifeExp': np.mean,'pop': np.median,'gdpPercap': np.median}).reset_index()"
   ]
  },
  {
   "cell_type": "markdown",
   "metadata": {
    "id": "deHrkYxM7iuS"
   },
   "source": [
    "#### Transformation"
   ]
  },
  {
   "cell_type": "markdown",
   "metadata": {
    "id": "8oFEkaJ57iuS"
   },
   "source": [
    "You can do grouped transformations using this same method. We will compute the z-score for each year, i.e. we will substract the average life expectancy and divide by the standard deviation"
   ]
  },
  {
   "cell_type": "code",
   "execution_count": 145,
   "metadata": {
    "executionInfo": {
     "elapsed": 722,
     "status": "ok",
     "timestamp": 1607189778430,
     "user": {
      "displayName": "Gaby Gerlach",
      "photoUrl": "",
      "userId": "11117434220237101401"
     },
     "user_tz": 300
    },
    "id": "fwYZfcQ57iuS",
    "name": "02-python-pandas-133"
   },
   "outputs": [],
   "source": [
    "def my_zscore(values):\n",
    "    m = np.mean(values)\n",
    "    s = np.std(values)\n",
    "    return((values - m)/s)"
   ]
  },
  {
   "cell_type": "code",
   "execution_count": 146,
   "metadata": {
    "colab": {
     "base_uri": "https://localhost:8080/"
    },
    "executionInfo": {
     "elapsed": 576,
     "status": "ok",
     "timestamp": 1607189778649,
     "user": {
      "displayName": "Gaby Gerlach",
      "photoUrl": "",
      "userId": "11117434220237101401"
     },
     "user_tz": 300
    },
    "id": "t7FfHtOP7iuS",
    "name": "02-python-pandas-134",
    "outputId": "562a3198-6eb9-43eb-8db3-2f55bf1f3920"
   },
   "outputs": [
    {
     "data": {
      "text/plain": [
       "0      -1.662719\n",
       "1      -1.737377\n",
       "2      -1.792867\n",
       "3      -1.854699\n",
       "4      -1.900878\n",
       "          ...   \n",
       "1699   -0.081910\n",
       "1700   -0.338167\n",
       "1701   -1.580537\n",
       "1702   -2.100756\n",
       "1703   -1.955077\n",
       "Name: lifeExp, Length: 1704, dtype: float64"
      ]
     },
     "execution_count": 146,
     "metadata": {},
     "output_type": "execute_result"
    }
   ],
   "source": [
    "df.groupby('year').lifeExp.transform(my_zscore)"
   ]
  },
  {
   "cell_type": "code",
   "execution_count": 147,
   "metadata": {
    "executionInfo": {
     "elapsed": 363,
     "status": "ok",
     "timestamp": 1607189778649,
     "user": {
      "displayName": "Gaby Gerlach",
      "photoUrl": "",
      "userId": "11117434220237101401"
     },
     "user_tz": 300
    },
    "id": "CT2KKR547iuS",
    "name": "02-python-pandas-135"
   },
   "outputs": [],
   "source": [
    "df['lifeExp_z'] = df.groupby('year').lifeExp.transform(my_zscore)"
   ]
  },
  {
   "cell_type": "code",
   "execution_count": 148,
   "metadata": {
    "colab": {
     "base_uri": "https://localhost:8080/"
    },
    "executionInfo": {
     "elapsed": 490,
     "status": "ok",
     "timestamp": 1607189778851,
     "user": {
      "displayName": "Gaby Gerlach",
      "photoUrl": "",
      "userId": "11117434220237101401"
     },
     "user_tz": 300
    },
    "id": "UfKEHTOL7iuS",
    "name": "02-python-pandas-136",
    "outputId": "f4d3c70b-2a8e-421e-e570-9395dd3edea5"
   },
   "outputs": [
    {
     "data": {
      "text/plain": [
       "year\n",
       "1952   -1.103089e-15\n",
       "1957    1.802842e-15\n",
       "1962    1.464400e-15\n",
       "1967   -1.935072e-17\n",
       "1972   -1.057448e-15\n",
       "1977    2.447182e-16\n",
       "1982    1.122928e-15\n",
       "1987   -2.045899e-15\n",
       "1992    5.773942e-16\n",
       "1997   -1.590277e-15\n",
       "2002    5.254013e-16\n",
       "2007    5.035096e-16\n",
       "Name: lifeExp_z, dtype: float64"
      ]
     },
     "execution_count": 148,
     "metadata": {},
     "output_type": "execute_result"
    }
   ],
   "source": [
    "df.groupby('year').lifeExp_z.mean()"
   ]
  },
  {
   "cell_type": "markdown",
   "metadata": {
    "id": "bVFfnxfG7iuS"
   },
   "source": [
    "#### Filter"
   ]
  },
  {
   "cell_type": "markdown",
   "metadata": {
    "id": "Ddx8RITA7iuS"
   },
   "source": [
    "We can split the dataset by values of one variable, and filter out those splits that fail some criterion. The following code only keeps countries with a population of at least 10 million at some point during the study period"
   ]
  },
  {
   "cell_type": "code",
   "execution_count": 149,
   "metadata": {
    "colab": {
     "base_uri": "https://localhost:8080/",
     "height": 424
    },
    "executionInfo": {
     "elapsed": 451,
     "status": "ok",
     "timestamp": 1607189779480,
     "user": {
      "displayName": "Gaby Gerlach",
      "photoUrl": "",
      "userId": "11117434220237101401"
     },
     "user_tz": 300
    },
    "id": "oUc3i1y47iuS",
    "lines_to_next_cell": 0,
    "name": "02-python-pandas-137",
    "outputId": "6ab895f2-f9a8-40ac-a460-6a96879e5d02"
   },
   "outputs": [
    {
     "data": {
      "text/html": [
       "<div>\n",
       "<style scoped>\n",
       "    .dataframe tbody tr th:only-of-type {\n",
       "        vertical-align: middle;\n",
       "    }\n",
       "\n",
       "    .dataframe tbody tr th {\n",
       "        vertical-align: top;\n",
       "    }\n",
       "\n",
       "    .dataframe thead th {\n",
       "        text-align: right;\n",
       "    }\n",
       "</style>\n",
       "<table border=\"1\" class=\"dataframe\">\n",
       "  <thead>\n",
       "    <tr style=\"text-align: right;\">\n",
       "      <th></th>\n",
       "      <th>country</th>\n",
       "      <th>continent</th>\n",
       "      <th>year</th>\n",
       "      <th>lifeExp</th>\n",
       "      <th>pop</th>\n",
       "      <th>gdpPercap</th>\n",
       "      <th>lifeExp_z</th>\n",
       "    </tr>\n",
       "  </thead>\n",
       "  <tbody>\n",
       "    <tr>\n",
       "      <th>0</th>\n",
       "      <td>Afghanistan</td>\n",
       "      <td>Asia</td>\n",
       "      <td>1952</td>\n",
       "      <td>28.801</td>\n",
       "      <td>8425333</td>\n",
       "      <td>779.445314</td>\n",
       "      <td>-1.662719</td>\n",
       "    </tr>\n",
       "    <tr>\n",
       "      <th>1</th>\n",
       "      <td>Afghanistan</td>\n",
       "      <td>Asia</td>\n",
       "      <td>1957</td>\n",
       "      <td>30.332</td>\n",
       "      <td>9240934</td>\n",
       "      <td>820.853030</td>\n",
       "      <td>-1.737377</td>\n",
       "    </tr>\n",
       "    <tr>\n",
       "      <th>2</th>\n",
       "      <td>Afghanistan</td>\n",
       "      <td>Asia</td>\n",
       "      <td>1962</td>\n",
       "      <td>31.997</td>\n",
       "      <td>10267083</td>\n",
       "      <td>853.100710</td>\n",
       "      <td>-1.792867</td>\n",
       "    </tr>\n",
       "    <tr>\n",
       "      <th>3</th>\n",
       "      <td>Afghanistan</td>\n",
       "      <td>Asia</td>\n",
       "      <td>1967</td>\n",
       "      <td>34.020</td>\n",
       "      <td>11537966</td>\n",
       "      <td>836.197138</td>\n",
       "      <td>-1.854699</td>\n",
       "    </tr>\n",
       "    <tr>\n",
       "      <th>4</th>\n",
       "      <td>Afghanistan</td>\n",
       "      <td>Asia</td>\n",
       "      <td>1972</td>\n",
       "      <td>36.088</td>\n",
       "      <td>13079460</td>\n",
       "      <td>739.981106</td>\n",
       "      <td>-1.900878</td>\n",
       "    </tr>\n",
       "    <tr>\n",
       "      <th>...</th>\n",
       "      <td>...</td>\n",
       "      <td>...</td>\n",
       "      <td>...</td>\n",
       "      <td>...</td>\n",
       "      <td>...</td>\n",
       "      <td>...</td>\n",
       "      <td>...</td>\n",
       "    </tr>\n",
       "    <tr>\n",
       "      <th>1699</th>\n",
       "      <td>Zimbabwe</td>\n",
       "      <td>Africa</td>\n",
       "      <td>1987</td>\n",
       "      <td>62.351</td>\n",
       "      <td>9216418</td>\n",
       "      <td>706.157306</td>\n",
       "      <td>-0.081910</td>\n",
       "    </tr>\n",
       "    <tr>\n",
       "      <th>1700</th>\n",
       "      <td>Zimbabwe</td>\n",
       "      <td>Africa</td>\n",
       "      <td>1992</td>\n",
       "      <td>60.377</td>\n",
       "      <td>10704340</td>\n",
       "      <td>693.420786</td>\n",
       "      <td>-0.338167</td>\n",
       "    </tr>\n",
       "    <tr>\n",
       "      <th>1701</th>\n",
       "      <td>Zimbabwe</td>\n",
       "      <td>Africa</td>\n",
       "      <td>1997</td>\n",
       "      <td>46.809</td>\n",
       "      <td>11404948</td>\n",
       "      <td>792.449960</td>\n",
       "      <td>-1.580537</td>\n",
       "    </tr>\n",
       "    <tr>\n",
       "      <th>1702</th>\n",
       "      <td>Zimbabwe</td>\n",
       "      <td>Africa</td>\n",
       "      <td>2002</td>\n",
       "      <td>39.989</td>\n",
       "      <td>11926563</td>\n",
       "      <td>672.038623</td>\n",
       "      <td>-2.100756</td>\n",
       "    </tr>\n",
       "    <tr>\n",
       "      <th>1703</th>\n",
       "      <td>Zimbabwe</td>\n",
       "      <td>Africa</td>\n",
       "      <td>2007</td>\n",
       "      <td>43.487</td>\n",
       "      <td>12311143</td>\n",
       "      <td>469.709298</td>\n",
       "      <td>-1.955077</td>\n",
       "    </tr>\n",
       "  </tbody>\n",
       "</table>\n",
       "<p>924 rows × 7 columns</p>\n",
       "</div>"
      ],
      "text/plain": [
       "          country continent  year  lifeExp       pop   gdpPercap  lifeExp_z\n",
       "0     Afghanistan      Asia  1952   28.801   8425333  779.445314  -1.662719\n",
       "1     Afghanistan      Asia  1957   30.332   9240934  820.853030  -1.737377\n",
       "2     Afghanistan      Asia  1962   31.997  10267083  853.100710  -1.792867\n",
       "3     Afghanistan      Asia  1967   34.020  11537966  836.197138  -1.854699\n",
       "4     Afghanistan      Asia  1972   36.088  13079460  739.981106  -1.900878\n",
       "...           ...       ...   ...      ...       ...         ...        ...\n",
       "1699     Zimbabwe    Africa  1987   62.351   9216418  706.157306  -0.081910\n",
       "1700     Zimbabwe    Africa  1992   60.377  10704340  693.420786  -0.338167\n",
       "1701     Zimbabwe    Africa  1997   46.809  11404948  792.449960  -1.580537\n",
       "1702     Zimbabwe    Africa  2002   39.989  11926563  672.038623  -2.100756\n",
       "1703     Zimbabwe    Africa  2007   43.487  12311143  469.709298  -1.955077\n",
       "\n",
       "[924 rows x 7 columns]"
      ]
     },
     "execution_count": 149,
     "metadata": {},
     "output_type": "execute_result"
    }
   ],
   "source": [
    "df.groupby('country').filter(lambda d: d['pop'].max() > 10000000)"
   ]
  },
  {
   "cell_type": "markdown",
   "metadata": {
    "id": "uPhJIyyt7iuS"
   },
   "source": [
    "\n",
    "\n",
    "\n",
    "\n",
    "\n",
    "\n"
   ]
  }
 ],
 "metadata": {
  "colab": {
   "name": "02_python_pandas.ipynb",
   "provenance": [],
   "toc_visible": true
  },
  "jupytext": {
   "formats": "ipynb,Rmd",
   "text_representation": {
    "extension": ".Rmd",
    "format_name": "rmarkdown",
    "format_version": "1.2",
    "jupytext_version": "1.4.2"
   }
  },
  "kernelspec": {
   "display_name": "Python 3",
   "language": "python",
   "name": "python3"
  },
  "language_info": {
   "codemirror_mode": {
    "name": "ipython",
    "version": 3
   },
   "file_extension": ".py",
   "mimetype": "text/x-python",
   "name": "python",
   "nbconvert_exporter": "python",
   "pygments_lexer": "ipython3",
   "version": "3.7.6"
  }
 },
 "nbformat": 4,
 "nbformat_minor": 1
}
