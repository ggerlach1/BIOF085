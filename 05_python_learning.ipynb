{
 "cells": [
  {
   "cell_type": "markdown",
   "metadata": {
    "colab_type": "text",
    "id": "844244jGDCuc"
   },
   "source": [
    "# Machine Learning using Python\n",
    "\n",
    "## Scikit-learn\n",
    "\n",
    "Scikit-learn (`sklearn`) is the main Python package for machine learning. It is a widely-used and well-regarded package. However, there are a couple of challenges to using it given the usual `pandas`-based data munging pipeline. \n",
    "\n",
    "1. `sklearn` requires that all inputs be numeric, and in fact, `numpy` arrays.\n",
    "1. `sklearn` requires that all categorical variables by replaced by 0/1 dummy variables\n",
    "1. `sklearn` requires us to separate the predictors from the outcome. We need to have one `X` matrix for the predictors and one `y` vector for the outcome.\n",
    "\n",
    "The big issue, of course, is the first point. Given we used `pandas` precisely because we wanted to be able to keep heterogenous data. We have to be able to convert non-numeric data to numeric. `pandas` does help us out with this problem. \n",
    "\n",
    "1. First of all, we know that all `pandas` Series and DataFrame objects can be converted to `numpy` arrays using the `values` or `to_numpy` functions. \n",
    "1. Second, we can easily extract a single variable from the data set using either the usual extracton methods or the \n",
    "`pop` function. \n",
    "1. Third, `pandas` gives us a way to convert all categorical values to numeric dummy variables using the `get_dummies` function. This is actually a more desirable solution than what you will see in cyberspace, which is to use the \n",
    "`OneHotEncoder` function from `sklearn`. \n",
    "    + This is generally fine since many machine learning models look for interactions internally and don't need them to be overtly specified. The main exceptions to this are linear and logistic regression. For those, we can use the formula methods described in the Statistical Modeling module to generate the appropriately transformed design matrix.\n",
    "    + If the outcome variable is not numeric, we can `LabelEncoder` function from the `sklearn.preprocessing` submodule to convert it. \n",
    "\n",
    "I just threw a bunch of jargon at you. Let's see what this means.\n",
    "\n",
    "### Transforming the outcome/target"
   ]
  },
  {
   "cell_type": "code",
   "execution_count": 2,
   "metadata": {
    "colab": {
     "base_uri": "https://localhost:8080/",
     "height": 206
    },
    "colab_type": "code",
    "executionInfo": {
     "elapsed": 744,
     "status": "ok",
     "timestamp": 1598819336674,
     "user": {
      "displayName": "Gaby Gerlach",
      "photoUrl": "",
      "userId": "11117434220237101401"
     },
     "user_tz": 240
    },
    "id": "NznlV6ZdDCud",
    "lines_to_next_cell": 2,
    "name": "05-python-learning-1",
    "outputId": "1035be86-56f8-4bf1-c68e-daab02835b24"
   },
   "outputs": [
    {
     "data": {
      "text/html": [
       "<div>\n",
       "<style scoped>\n",
       "    .dataframe tbody tr th:only-of-type {\n",
       "        vertical-align: middle;\n",
       "    }\n",
       "\n",
       "    .dataframe tbody tr th {\n",
       "        vertical-align: top;\n",
       "    }\n",
       "\n",
       "    .dataframe thead th {\n",
       "        text-align: right;\n",
       "    }\n",
       "</style>\n",
       "<table border=\"1\" class=\"dataframe\">\n",
       "  <thead>\n",
       "    <tr style=\"text-align: right;\">\n",
       "      <th></th>\n",
       "      <th>Sepal.Length</th>\n",
       "      <th>Sepal.Width</th>\n",
       "      <th>Petal.Length</th>\n",
       "      <th>Petal.Width</th>\n",
       "      <th>Species</th>\n",
       "    </tr>\n",
       "  </thead>\n",
       "  <tbody>\n",
       "    <tr>\n",
       "      <th>0</th>\n",
       "      <td>5.1</td>\n",
       "      <td>3.5</td>\n",
       "      <td>1.4</td>\n",
       "      <td>0.2</td>\n",
       "      <td>setosa</td>\n",
       "    </tr>\n",
       "    <tr>\n",
       "      <th>1</th>\n",
       "      <td>4.9</td>\n",
       "      <td>3.0</td>\n",
       "      <td>1.4</td>\n",
       "      <td>0.2</td>\n",
       "      <td>setosa</td>\n",
       "    </tr>\n",
       "    <tr>\n",
       "      <th>2</th>\n",
       "      <td>4.7</td>\n",
       "      <td>3.2</td>\n",
       "      <td>1.3</td>\n",
       "      <td>0.2</td>\n",
       "      <td>setosa</td>\n",
       "    </tr>\n",
       "    <tr>\n",
       "      <th>3</th>\n",
       "      <td>4.6</td>\n",
       "      <td>3.1</td>\n",
       "      <td>1.5</td>\n",
       "      <td>0.2</td>\n",
       "      <td>setosa</td>\n",
       "    </tr>\n",
       "    <tr>\n",
       "      <th>4</th>\n",
       "      <td>5.0</td>\n",
       "      <td>3.6</td>\n",
       "      <td>1.4</td>\n",
       "      <td>0.2</td>\n",
       "      <td>setosa</td>\n",
       "    </tr>\n",
       "  </tbody>\n",
       "</table>\n",
       "</div>"
      ],
      "text/plain": [
       "   Sepal.Length  Sepal.Width  Petal.Length  Petal.Width Species\n",
       "0           5.1          3.5           1.4          0.2  setosa\n",
       "1           4.9          3.0           1.4          0.2  setosa\n",
       "2           4.7          3.2           1.3          0.2  setosa\n",
       "3           4.6          3.1           1.5          0.2  setosa\n",
       "4           5.0          3.6           1.4          0.2  setosa"
      ]
     },
     "execution_count": 2,
     "metadata": {},
     "output_type": "execute_result"
    }
   ],
   "source": [
    "import numpy as np\n",
    "import pandas as pd\n",
    "import sklearn\n",
    "import statsmodels.api as sm\n",
    "import matplotlib.pyplot as plt\n",
    "import seaborn as sns\n",
    "\n",
    "iris = sm.datasets.get_rdataset('iris').data  # pulls avalible data from within seaborn\n",
    "iris.head()"
   ]
  },
  {
   "cell_type": "markdown",
   "metadata": {
    "colab_type": "text",
    "id": "8Nb4sA76DCuo"
   },
   "source": [
    "Let's hit the first issue first. We need to separate out the outcome (the variable we want to predict) from the predictors (in this case the sepal and petal measurements). "
   ]
  },
  {
   "cell_type": "code",
   "execution_count": 2,
   "metadata": {
    "colab": {},
    "colab_type": "code",
    "executionInfo": {
     "elapsed": 321,
     "status": "ok",
     "timestamp": 1598819336866,
     "user": {
      "displayName": "Gaby Gerlach",
      "photoUrl": "",
      "userId": "11117434220237101401"
     },
     "user_tz": 240
    },
    "id": "H4rfoGV3DCuq",
    "name": "05-python-learning-2"
   },
   "outputs": [],
   "source": [
    "y = iris['Species']\n",
    "X = iris.drop('Species', axis = 1) # drops column, makes a copy"
   ]
  },
  {
   "cell_type": "markdown",
   "metadata": {
    "colab_type": "text",
    "id": "IuLEKi_qDCuv"
   },
   "source": [
    "Another way to do this is "
   ]
  },
  {
   "cell_type": "code",
   "execution_count": 3,
   "metadata": {
    "colab": {},
    "colab_type": "code",
    "executionInfo": {
     "elapsed": 877,
     "status": "ok",
     "timestamp": 1598819338168,
     "user": {
      "displayName": "Gaby Gerlach",
      "photoUrl": "",
      "userId": "11117434220237101401"
     },
     "user_tz": 240
    },
    "id": "P6ItYxawDCuw",
    "name": "05-python-learning-3"
   },
   "outputs": [],
   "source": [
    "y = iris.pop('Species') # Another way to do the same thing "
   ]
  },
  {
   "cell_type": "markdown",
   "metadata": {
    "colab_type": "text",
    "id": "DAnXTTZ4DCu0"
   },
   "source": [
    "If you look at this, `iris` now only has 4 columns. So we could just use `iris` after the `pop` application, as the predictor set"
   ]
  },
  {
   "cell_type": "markdown",
   "metadata": {
    "colab_type": "text",
    "id": "tCeGGiw_DCu1"
   },
   "source": [
    "We still have to update `y` to become numeric. This is where the `sklearn` functions start to be handy"
   ]
  },
  {
   "cell_type": "code",
   "execution_count": 4,
   "metadata": {
    "colab": {
     "base_uri": "https://localhost:8080/",
     "height": 139
    },
    "colab_type": "code",
    "executionInfo": {
     "elapsed": 592,
     "status": "ok",
     "timestamp": 1598819338933,
     "user": {
      "displayName": "Gaby Gerlach",
      "photoUrl": "",
      "userId": "11117434220237101401"
     },
     "user_tz": 240
    },
    "id": "Of6UEdpyDCu1",
    "name": "05-python-learning-4",
    "outputId": "24d8e3d0-4c29-4d80-b294-9197ef76b94e"
   },
   "outputs": [
    {
     "data": {
      "text/plain": [
       "array([0, 0, 0, 0, 0, 0, 0, 0, 0, 0, 0, 0, 0, 0, 0, 0, 0, 0, 0, 0, 0, 0,\n",
       "       0, 0, 0, 0, 0, 0, 0, 0, 0, 0, 0, 0, 0, 0, 0, 0, 0, 0, 0, 0, 0, 0,\n",
       "       0, 0, 0, 0, 0, 0, 1, 1, 1, 1, 1, 1, 1, 1, 1, 1, 1, 1, 1, 1, 1, 1,\n",
       "       1, 1, 1, 1, 1, 1, 1, 1, 1, 1, 1, 1, 1, 1, 1, 1, 1, 1, 1, 1, 1, 1,\n",
       "       1, 1, 1, 1, 1, 1, 1, 1, 1, 1, 1, 1, 2, 2, 2, 2, 2, 2, 2, 2, 2, 2,\n",
       "       2, 2, 2, 2, 2, 2, 2, 2, 2, 2, 2, 2, 2, 2, 2, 2, 2, 2, 2, 2, 2, 2,\n",
       "       2, 2, 2, 2, 2, 2, 2, 2, 2, 2, 2, 2, 2, 2, 2, 2, 2, 2])"
      ]
     },
     "execution_count": 4,
     "metadata": {},
     "output_type": "execute_result"
    }
   ],
   "source": [
    "from sklearn.preprocessing import LabelEncoder\n",
    "le = LabelEncoder()\n",
    "y = le.fit_transform(y) #makes non-numeric y numeric\n",
    "y"
   ]
  },
  {
   "cell_type": "markdown",
   "metadata": {
    "colab_type": "text",
    "id": "k-MOCotqDCu7"
   },
   "source": [
    "Let's talk about this code, since it's very typical of the way the `sklearn`\n",
    "code works. First, we import a method (`LabelEncoder`) from the appropriate\n",
    "`sklearn` module. The second line, `le = LabelEncoder()` works to \"turn on\" the\n",
    "method. This is like taking a power tool off the shelf and plugging it in to a\n",
    "socket. It's now ready to work. The third line does the actual work.  The\n",
    "`fit_transform` function transforms the data you input into it based on the\n",
    "method it is then attached to.\n",
    "\n",
    "> Let's make a quick analogy. You can plug in both a power washer and a\n",
    "jackhammer to get them ready to go. You can then apply each of them to your\n",
    "driveway. They \"transform\" the driveway in different ways depending on which\n",
    "tool is used. The washer would \"transform\" the driveway by cleaning it, while\n",
    "the jackhammer would transform the driveway by breaking it."
   ]
  },
  {
   "cell_type": "markdown",
   "metadata": {
    "colab_type": "text",
    "id": "UaYV483FDCu8"
   },
   "source": [
    "There's an interesting invisible quirk to the code, though. The object `le` also got transformed during this \n",
    "process. There were pieces added to it during the `fit_transform` process. "
   ]
  },
  {
   "cell_type": "code",
   "execution_count": 5,
   "metadata": {
    "colab": {},
    "colab_type": "code",
    "executionInfo": {
     "elapsed": 770,
     "status": "ok",
     "timestamp": 1598819340614,
     "user": {
      "displayName": "Gaby Gerlach",
      "photoUrl": "",
      "userId": "11117434220237101401"
     },
     "user_tz": 240
    },
    "id": "ulC5JSVlDCu9",
    "name": "05-python-learning-5"
   },
   "outputs": [],
   "source": [
    "le = LabelEncoder()\n",
    "d1 = dir(le)"
   ]
  },
  {
   "cell_type": "code",
   "execution_count": 6,
   "metadata": {
    "colab": {
     "base_uri": "https://localhost:8080/",
     "height": 34
    },
    "colab_type": "code",
    "executionInfo": {
     "elapsed": 1085,
     "status": "ok",
     "timestamp": 1598819341401,
     "user": {
      "displayName": "Gaby Gerlach",
      "photoUrl": "",
      "userId": "11117434220237101401"
     },
     "user_tz": 240
    },
    "id": "r_KAnlzjDCvB",
    "name": "05-python-learning-6",
    "outputId": "9568c9fe-13f5-433b-ac5f-8a22ccc0edc9"
   },
   "outputs": [
    {
     "data": {
      "text/plain": [
       "{'classes_'}"
      ]
     },
     "execution_count": 6,
     "metadata": {},
     "output_type": "execute_result"
    }
   ],
   "source": [
    "y = le.fit_transform( pd.read_csv('data/iris.csv')['species'])\n",
    "d2 = dir(le)\n",
    "set(d2).difference(set(d1)) # set of things in d2 but not in d1"
   ]
  },
  {
   "cell_type": "markdown",
   "metadata": {
    "colab_type": "text",
    "id": "pQANH3ihDCvF"
   },
   "source": [
    "So we see that there is a new component added, called `classes_`. "
   ]
  },
  {
   "cell_type": "code",
   "execution_count": 7,
   "metadata": {
    "colab": {
     "base_uri": "https://localhost:8080/",
     "height": 34
    },
    "colab_type": "code",
    "executionInfo": {
     "elapsed": 596,
     "status": "ok",
     "timestamp": 1598819342371,
     "user": {
      "displayName": "Gaby Gerlach",
      "photoUrl": "",
      "userId": "11117434220237101401"
     },
     "user_tz": 240
    },
    "id": "60-aYPSHDCvF",
    "name": "05-python-learning-7",
    "outputId": "b0bc7cf9-7f67-470a-9097-ceb1f7b37dbf"
   },
   "outputs": [
    {
     "data": {
      "text/plain": [
       "array(['setosa', 'versicolor', 'virginica'], dtype=object)"
      ]
     },
     "execution_count": 7,
     "metadata": {},
     "output_type": "execute_result"
    }
   ],
   "source": [
    "le.classes_"
   ]
  },
  {
   "cell_type": "markdown",
   "metadata": {
    "colab_type": "text",
    "id": "sLk9A0LhDCvK"
   },
   "source": [
    "So the original labels aren't destroyed; they are being stored. This can be useful."
   ]
  },
  {
   "cell_type": "code",
   "execution_count": 8,
   "metadata": {
    "colab": {
     "base_uri": "https://localhost:8080/",
     "height": 52
    },
    "colab_type": "code",
    "executionInfo": {
     "elapsed": 345,
     "status": "ok",
     "timestamp": 1598819343130,
     "user": {
      "displayName": "Gaby Gerlach",
      "photoUrl": "",
      "userId": "11117434220237101401"
     },
     "user_tz": 240
    },
    "id": "17ZPoBIpDCvL",
    "name": "05-python-learning-8",
    "outputId": "b0e29abe-7e85-49cf-bc4b-35b93c684c9a"
   },
   "outputs": [
    {
     "data": {
      "text/plain": [
       "array(['setosa', 'versicolor', 'versicolor', 'virginica', 'setosa'],\n",
       "      dtype=object)"
      ]
     },
     "execution_count": 8,
     "metadata": {},
     "output_type": "execute_result"
    }
   ],
   "source": [
    "le.inverse_transform([0,1,1,2,0]) # gets the words associated with the numerical encoding "
   ]
  },
  {
   "cell_type": "markdown",
   "metadata": {
    "colab_type": "text",
    "id": "dkDmLVKLDCvO"
   },
   "source": [
    "So we can transform back from the numeric to the labels. Keep this in hand, since it will prove useful after\n",
    "we have done some predictions using a ML model, which will give numeric predictions. "
   ]
  },
  {
   "cell_type": "markdown",
   "metadata": {
    "colab_type": "text",
    "id": "SyGyT9raDCvP"
   },
   "source": [
    "### Transforming the predictors\n",
    "\n",
    "Let's look at a second example. The `diamonds` dataset has several categorical variables that would need to be transformed. "
   ]
  },
  {
   "cell_type": "code",
   "execution_count": 10,
   "metadata": {
    "colab": {},
    "colab_type": "code",
    "executionInfo": {
     "elapsed": 747,
     "status": "ok",
     "timestamp": 1598819344980,
     "user": {
      "displayName": "Gaby Gerlach",
      "photoUrl": "",
      "userId": "11117434220237101401"
     },
     "user_tz": 240
    },
    "id": "oCYJWIIeDCvQ",
    "name": "05-python-learning-9"
   },
   "outputs": [],
   "source": [
    "diamonds = pd.read_csv('data/diamonds.csv.gz')\n",
    "\n",
    "y = diamonds.pop('price').values # the .values ensures we have a numpy array not a pandas series\n",
    "X = pd.get_dummies(diamonds) # converts all other features to numerical values\n",
    "\n",
    "# Alternatively\n",
    "# import patsy\n",
    "# f = '~ np.log(carat) +  + clarity + depth + cut * color'\n",
    "# X = patsy.dmatrix(f, data=diamonds)"
   ]
  },
  {
   "cell_type": "code",
   "execution_count": 11,
   "metadata": {},
   "outputs": [
    {
     "data": {
      "text/plain": [
       "numpy.ndarray"
      ]
     },
     "execution_count": 11,
     "metadata": {},
     "output_type": "execute_result"
    }
   ],
   "source": [
    "type(y)"
   ]
  },
  {
   "cell_type": "code",
   "execution_count": 4,
   "metadata": {
    "colab": {
     "base_uri": "https://localhost:8080/",
     "height": 34
    },
    "colab_type": "code",
    "executionInfo": {
     "elapsed": 485,
     "status": "ok",
     "timestamp": 1598819345165,
     "user": {
      "displayName": "Gaby Gerlach",
      "photoUrl": "",
      "userId": "11117434220237101401"
     },
     "user_tz": 240
    },
    "id": "PtI-CYo8DCvU",
    "name": "05-python-learning-10",
    "outputId": "86a63e2c-b9ae-4145-c513-25594572f3ee"
   },
   "outputs": [
    {
     "data": {
      "text/plain": [
       "pandas.core.frame.DataFrame"
      ]
     },
     "execution_count": 4,
     "metadata": {},
     "output_type": "execute_result"
    }
   ],
   "source": [
    "type(X)"
   ]
  },
  {
   "cell_type": "code",
   "execution_count": 5,
   "metadata": {
    "colab": {
     "base_uri": "https://localhost:8080/",
     "height": 590
    },
    "colab_type": "code",
    "executionInfo": {
     "elapsed": 619,
     "status": "ok",
     "timestamp": 1598819345699,
     "user": {
      "displayName": "Gaby Gerlach",
      "photoUrl": "",
      "userId": "11117434220237101401"
     },
     "user_tz": 240
    },
    "id": "IdalfF5_DCvX",
    "name": "05-python-learning-11",
    "outputId": "0cc1a481-c328-4761-d54c-8318bed7357b"
   },
   "outputs": [
    {
     "name": "stdout",
     "output_type": "stream",
     "text": [
      "<class 'pandas.core.frame.DataFrame'>\n",
      "RangeIndex: 53940 entries, 0 to 53939\n",
      "Data columns (total 26 columns):\n",
      " #   Column         Non-Null Count  Dtype  \n",
      "---  ------         --------------  -----  \n",
      " 0   carat          53940 non-null  float64\n",
      " 1   depth          53940 non-null  float64\n",
      " 2   table          53940 non-null  float64\n",
      " 3   x              53940 non-null  float64\n",
      " 4   y              53940 non-null  float64\n",
      " 5   z              53940 non-null  float64\n",
      " 6   cut_Fair       53940 non-null  uint8  \n",
      " 7   cut_Good       53940 non-null  uint8  \n",
      " 8   cut_Ideal      53940 non-null  uint8  \n",
      " 9   cut_Premium    53940 non-null  uint8  \n",
      " 10  cut_Very Good  53940 non-null  uint8  \n",
      " 11  color_D        53940 non-null  uint8  \n",
      " 12  color_E        53940 non-null  uint8  \n",
      " 13  color_F        53940 non-null  uint8  \n",
      " 14  color_G        53940 non-null  uint8  \n",
      " 15  color_H        53940 non-null  uint8  \n",
      " 16  color_I        53940 non-null  uint8  \n",
      " 17  color_J        53940 non-null  uint8  \n",
      " 18  clarity_I1     53940 non-null  uint8  \n",
      " 19  clarity_IF     53940 non-null  uint8  \n",
      " 20  clarity_SI1    53940 non-null  uint8  \n",
      " 21  clarity_SI2    53940 non-null  uint8  \n",
      " 22  clarity_VS1    53940 non-null  uint8  \n",
      " 23  clarity_VS2    53940 non-null  uint8  \n",
      " 24  clarity_VVS1   53940 non-null  uint8  \n",
      " 25  clarity_VVS2   53940 non-null  uint8  \n",
      "dtypes: float64(6), uint8(20)\n",
      "memory usage: 3.5 MB\n"
     ]
    }
   ],
   "source": [
    "X.info()"
   ]
  },
  {
   "cell_type": "markdown",
   "metadata": {
    "colab_type": "text",
    "id": "WC7hU7VwDCvc"
   },
   "source": [
    "So everything is now numeric!!. Let's take a peek inside."
   ]
  },
  {
   "cell_type": "code",
   "execution_count": 12,
   "metadata": {
    "colab": {
     "base_uri": "https://localhost:8080/",
     "height": 121
    },
    "colab_type": "code",
    "executionInfo": {
     "elapsed": 620,
     "status": "ok",
     "timestamp": 1598819346635,
     "user": {
      "displayName": "Gaby Gerlach",
      "photoUrl": "",
      "userId": "11117434220237101401"
     },
     "user_tz": 240
    },
    "id": "0KX0y1UWDCvd",
    "name": "05-python-learning-12",
    "outputId": "82f6ed29-2dc9-4365-a5f1-b0f94de609d0"
   },
   "outputs": [
    {
     "data": {
      "text/plain": [
       "Index(['carat', 'depth', 'table', 'x', 'y', 'z', 'cut_Fair', 'cut_Good',\n",
       "       'cut_Ideal', 'cut_Premium', 'cut_Very Good', 'color_D', 'color_E',\n",
       "       'color_F', 'color_G', 'color_H', 'color_I', 'color_J', 'clarity_I1',\n",
       "       'clarity_IF', 'clarity_SI1', 'clarity_SI2', 'clarity_VS1',\n",
       "       'clarity_VS2', 'clarity_VVS1', 'clarity_VVS2'],\n",
       "      dtype='object')"
      ]
     },
     "execution_count": 12,
     "metadata": {},
     "output_type": "execute_result"
    }
   ],
   "source": [
    "X.columns"
   ]
  },
  {
   "cell_type": "markdown",
   "metadata": {
    "colab_type": "text",
    "id": "n8zy3YBoDCvg"
   },
   "source": [
    "So, it looks like the continuous variables remain intact, but the categorical variables got exploded out. Each\n",
    "variable name has a level with it, which represents the particular level it is representing. Each of these \n",
    "variables, called dummy variables, are numerical 0/1 variables. For example, `color_F` is 1 for those diamonds which have color F, and 0 otherwise. "
   ]
  },
  {
   "cell_type": "code",
   "execution_count": 14,
   "metadata": {
    "scrolled": true
   },
   "outputs": [
    {
     "name": "stdout",
     "output_type": "stream",
     "text": [
      "Help on function crosstab in module pandas.core.reshape.pivot:\n",
      "\n",
      "crosstab(index, columns, values=None, rownames=None, colnames=None, aggfunc=None, margins=False, margins_name: str = 'All', dropna: bool = True, normalize=False) -> 'DataFrame'\n",
      "    Compute a simple cross tabulation of two (or more) factors. By default\n",
      "    computes a frequency table of the factors unless an array of values and an\n",
      "    aggregation function are passed.\n",
      "    \n",
      "    Parameters\n",
      "    ----------\n",
      "    index : array-like, Series, or list of arrays/Series\n",
      "        Values to group by in the rows.\n",
      "    columns : array-like, Series, or list of arrays/Series\n",
      "        Values to group by in the columns.\n",
      "    values : array-like, optional\n",
      "        Array of values to aggregate according to the factors.\n",
      "        Requires `aggfunc` be specified.\n",
      "    rownames : sequence, default None\n",
      "        If passed, must match number of row arrays passed.\n",
      "    colnames : sequence, default None\n",
      "        If passed, must match number of column arrays passed.\n",
      "    aggfunc : function, optional\n",
      "        If specified, requires `values` be specified as well.\n",
      "    margins : bool, default False\n",
      "        Add row/column margins (subtotals).\n",
      "    margins_name : str, default 'All'\n",
      "        Name of the row/column that will contain the totals\n",
      "        when margins is True.\n",
      "    \n",
      "        .. versionadded:: 0.21.0\n",
      "    \n",
      "    dropna : bool, default True\n",
      "        Do not include columns whose entries are all NaN.\n",
      "    normalize : bool, {'all', 'index', 'columns'}, or {0,1}, default False\n",
      "        Normalize by dividing all values by the sum of values.\n",
      "    \n",
      "        - If passed 'all' or `True`, will normalize over all values.\n",
      "        - If passed 'index' will normalize over each row.\n",
      "        - If passed 'columns' will normalize over each column.\n",
      "        - If margins is `True`, will also normalize margin values.\n",
      "    \n",
      "    Returns\n",
      "    -------\n",
      "    DataFrame\n",
      "        Cross tabulation of the data.\n",
      "    \n",
      "    See Also\n",
      "    --------\n",
      "    DataFrame.pivot : Reshape data based on column values.\n",
      "    pivot_table : Create a pivot table as a DataFrame.\n",
      "    \n",
      "    Notes\n",
      "    -----\n",
      "    Any Series passed will have their name attributes used unless row or column\n",
      "    names for the cross-tabulation are specified.\n",
      "    \n",
      "    Any input passed containing Categorical data will have **all** of its\n",
      "    categories included in the cross-tabulation, even if the actual data does\n",
      "    not contain any instances of a particular category.\n",
      "    \n",
      "    In the event that there aren't overlapping indexes an empty DataFrame will\n",
      "    be returned.\n",
      "    \n",
      "    Examples\n",
      "    --------\n",
      "    >>> a = np.array([\"foo\", \"foo\", \"foo\", \"foo\", \"bar\", \"bar\",\n",
      "    ...               \"bar\", \"bar\", \"foo\", \"foo\", \"foo\"], dtype=object)\n",
      "    >>> b = np.array([\"one\", \"one\", \"one\", \"two\", \"one\", \"one\",\n",
      "    ...               \"one\", \"two\", \"two\", \"two\", \"one\"], dtype=object)\n",
      "    >>> c = np.array([\"dull\", \"dull\", \"shiny\", \"dull\", \"dull\", \"shiny\",\n",
      "    ...               \"shiny\", \"dull\", \"shiny\", \"shiny\", \"shiny\"],\n",
      "    ...              dtype=object)\n",
      "    >>> pd.crosstab(a, [b, c], rownames=['a'], colnames=['b', 'c'])\n",
      "    b   one        two\n",
      "    c   dull shiny dull shiny\n",
      "    a\n",
      "    bar    1     2    1     0\n",
      "    foo    2     2    1     2\n",
      "    \n",
      "    Here 'c' and 'f' are not represented in the data and will not be\n",
      "    shown in the output because dropna is True by default. Set\n",
      "    dropna=False to preserve categories with no data.\n",
      "    \n",
      "    >>> foo = pd.Categorical(['a', 'b'], categories=['a', 'b', 'c'])\n",
      "    >>> bar = pd.Categorical(['d', 'e'], categories=['d', 'e', 'f'])\n",
      "    >>> pd.crosstab(foo, bar)\n",
      "    col_0  d  e\n",
      "    row_0\n",
      "    a      1  0\n",
      "    b      0  1\n",
      "    >>> pd.crosstab(foo, bar, dropna=False)\n",
      "    col_0  d  e  f\n",
      "    row_0\n",
      "    a      1  0  0\n",
      "    b      0  1  0\n",
      "    c      0  0  0\n",
      "\n"
     ]
    }
   ],
   "source": [
    "help(pd.crosstab)"
   ]
  },
  {
   "cell_type": "code",
   "execution_count": 15,
   "metadata": {
    "colab": {
     "base_uri": "https://localhost:8080/",
     "height": 143
    },
    "colab_type": "code",
    "executionInfo": {
     "elapsed": 730,
     "status": "ok",
     "timestamp": 1598819348031,
     "user": {
      "displayName": "Gaby Gerlach",
      "photoUrl": "",
      "userId": "11117434220237101401"
     },
     "user_tz": 240
    },
    "id": "GIu2yMgdDCvg",
    "name": "05-python-learning-13",
    "outputId": "b482c563-af7a-4f3e-b06e-dac5cc6b841f"
   },
   "outputs": [
    {
     "data": {
      "text/html": [
       "<div>\n",
       "<style scoped>\n",
       "    .dataframe tbody tr th:only-of-type {\n",
       "        vertical-align: middle;\n",
       "    }\n",
       "\n",
       "    .dataframe tbody tr th {\n",
       "        vertical-align: top;\n",
       "    }\n",
       "\n",
       "    .dataframe thead th {\n",
       "        text-align: right;\n",
       "    }\n",
       "</style>\n",
       "<table border=\"1\" class=\"dataframe\">\n",
       "  <thead>\n",
       "    <tr style=\"text-align: right;\">\n",
       "      <th>color</th>\n",
       "      <th>D</th>\n",
       "      <th>E</th>\n",
       "      <th>F</th>\n",
       "      <th>G</th>\n",
       "      <th>H</th>\n",
       "      <th>I</th>\n",
       "      <th>J</th>\n",
       "    </tr>\n",
       "    <tr>\n",
       "      <th>color_F</th>\n",
       "      <th></th>\n",
       "      <th></th>\n",
       "      <th></th>\n",
       "      <th></th>\n",
       "      <th></th>\n",
       "      <th></th>\n",
       "      <th></th>\n",
       "    </tr>\n",
       "  </thead>\n",
       "  <tbody>\n",
       "    <tr>\n",
       "      <th>0</th>\n",
       "      <td>6775</td>\n",
       "      <td>9797</td>\n",
       "      <td>0</td>\n",
       "      <td>11292</td>\n",
       "      <td>8304</td>\n",
       "      <td>5422</td>\n",
       "      <td>2808</td>\n",
       "    </tr>\n",
       "    <tr>\n",
       "      <th>1</th>\n",
       "      <td>0</td>\n",
       "      <td>0</td>\n",
       "      <td>9542</td>\n",
       "      <td>0</td>\n",
       "      <td>0</td>\n",
       "      <td>0</td>\n",
       "      <td>0</td>\n",
       "    </tr>\n",
       "  </tbody>\n",
       "</table>\n",
       "</div>"
      ],
      "text/plain": [
       "color       D     E     F      G     H     I     J\n",
       "color_F                                           \n",
       "0        6775  9797     0  11292  8304  5422  2808\n",
       "1           0     0  9542      0     0     0     0"
      ]
     },
     "execution_count": 15,
     "metadata": {},
     "output_type": "execute_result"
    }
   ],
   "source": [
    "pd.crosstab(X['color_F'], diamonds['color']) \n",
    "#Compute a simple cross tabulation of two (or more) factors. By default\n",
    "#computes a frequency table of the factors unless an array of values and an aggregation function are passed.\n",
    "\n",
    "# here: in the new representation \"X\" the value of color_F is zero everywhere execpt the locations where \n",
    "# in the old representation \"dimonds\" the color column is labeled \"F\""
   ]
  },
  {
   "cell_type": "markdown",
   "metadata": {
    "colab_type": "text",
    "id": "z7O3X1cZDCvl"
   },
   "source": [
    "## Supervised Learning\n",
    "\n",
    "We will first look at supervised learning methods. \n",
    "\n",
    "| ML method               | Code to call it                                              |\n",
    "| ----------------------- | ------------------------------------------------------------ |\n",
    "| Decision Tree           | `sklearn.tree.DecisionTreeClassifier`, `sklearn.tree.DecisionTreeRegressor` |\n",
    "| Random Forest           | `sklearn.ensemble.RandomForestClassifier`, `sklearn.ensemble.RandomForestRegressor` |\n",
    "| Linear Regression       | `sklearn.linear_model.LinearRegression`                      |\n",
    "| Logistic Regression     | `sklearn.linear_model.LogisticRegression`                    |\n",
    "| Support Vector Machines | `sklearn.svm.LinearSVC`, `sklearn.svm.LinearSVR`             |\n",
    "|                         |                                                              |"
   ]
  },
  {
   "cell_type": "markdown",
   "metadata": {
    "colab_type": "text",
    "id": "KUsteQj1DCvl"
   },
   "source": [
    "The general method that the code will follow is :\n",
    "\n",
    "```\n",
    "from sklearn.... import Machine\n",
    "machine = Machine(*parameters*)\n",
    "machine.fit(X, y)\n",
    "```\n",
    "\n",
    "### A quick example"
   ]
  },
  {
   "cell_type": "code",
   "execution_count": 16,
   "metadata": {
    "colab": {},
    "colab_type": "code",
    "executionInfo": {
     "elapsed": 1045,
     "status": "ok",
     "timestamp": 1598819349714,
     "user": {
      "displayName": "Gaby Gerlach",
      "photoUrl": "",
      "userId": "11117434220237101401"
     },
     "user_tz": 240
    },
    "id": "X_S5IRQwDCvl",
    "name": "05-python-learning-14"
   },
   "outputs": [],
   "source": [
    "from sklearn.linear_model import LinearRegression\n",
    "from sklearn.tree import DecisionTreeRegressor\n",
    "\n",
    "# initiating both linear regression and decision tree \n",
    "lm = LinearRegression()\n",
    "dt = DecisionTreeRegressor()"
   ]
  },
  {
   "cell_type": "markdown",
   "metadata": {
    "colab_type": "text",
    "id": "9vDp6YjUDCvp"
   },
   "source": [
    "Lets manufacture some data"
   ]
  },
  {
   "cell_type": "code",
   "execution_count": 18,
   "metadata": {},
   "outputs": [
    {
     "name": "stdout",
     "output_type": "stream",
     "text": [
      "Help on method predict in module sklearn.linear_model._base:\n",
      "\n",
      "predict(X) method of sklearn.linear_model._base.LinearRegression instance\n",
      "    Predict using the linear model.\n",
      "    \n",
      "    Parameters\n",
      "    ----------\n",
      "    X : array_like or sparse matrix, shape (n_samples, n_features)\n",
      "        Samples.\n",
      "    \n",
      "    Returns\n",
      "    -------\n",
      "    C : array, shape (n_samples,)\n",
      "        Returns predicted values.\n",
      "\n"
     ]
    }
   ],
   "source": [
    "help(lm.predict)"
   ]
  },
  {
   "cell_type": "code",
   "execution_count": 22,
   "metadata": {
    "colab": {
     "base_uri": "https://localhost:8080/",
     "height": 369
    },
    "colab_type": "code",
    "executionInfo": {
     "elapsed": 1468,
     "status": "ok",
     "timestamp": 1598819351110,
     "user": {
      "displayName": "Gaby Gerlach",
      "photoUrl": "",
      "userId": "11117434220237101401"
     },
     "user_tz": 240
    },
    "id": "bKp4NhloDCvp",
    "lines_to_next_cell": 2,
    "name": "05-python-learning-15",
    "outputId": "fec8a316-f5d2-471e-ee12-38b2a8e6edce"
   },
   "outputs": [
    {
     "data": {
      "image/png": "[encoded data removed]",
      "text/plain": [
       "<Figure size 436.375x360 with 1 Axes>"
      ]
     },
     "metadata": {
      "needs_background": "light"
     },
     "output_type": "display_data"
    },
    {
     "data": {
      "image/png": "[encoded data removed]",
      "text/plain": [
       "<Figure size 436.375x360 with 1 Axes>"
      ]
     },
     "metadata": {
      "needs_background": "light"
     },
     "output_type": "display_data"
    }
   ],
   "source": [
    "# create a function \n",
    "x = np.linspace(0, 10, 200)\n",
    "y = 2 + 3*x - 5*(x**2) # y is a non-linear function of x \n",
    "d = pd.DataFrame({'x': x}) # create a dataframe of x \n",
    "\n",
    "lm.fit(d,y) # Using linear regression fit d to y (training)\n",
    "dt.fit(d, y) # Using a decision Tree fit d to y (training)\n",
    "\n",
    "p1 = lm.predict(d) #prediction using trained model, Linear regression \n",
    "p2 = dt.predict(d) #prediction using trained model, decision tree \n",
    "\n",
    "# add to dataframe d for plotting without ground truth \n",
    "d['lm'] = p1\n",
    "d['dt'] = p2\n",
    "\n",
    "\n",
    "D = pd.melt(d, id_vars = 'x')\n",
    "\n",
    "sns.relplot(data=D, x = 'x', y = 'value', hue = 'variable')\n",
    "plt.show()\n",
    "\n",
    "#with ground truth, y and the dt overlap perfectly!! \n",
    "d['lm'] = p1\n",
    "d['dt'] = p2\n",
    "d['y'] = y\n",
    "D = pd.melt(d, id_vars = 'x')\n",
    "\n",
    "sns.relplot(data=D, x = 'x', y = 'value', hue = 'variable')\n",
    "plt.show()"
   ]
  },
  {
   "cell_type": "markdown",
   "metadata": {},
   "source": [
    "From this we note that linear regression is unable to fit a non-linear function, but the decision tree can"
   ]
  },
  {
   "cell_type": "markdown",
   "metadata": {
    "colab_type": "text",
    "id": "swJ1Fz1oDCvt"
   },
   "source": [
    "### A data analytic example"
   ]
  },
  {
   "cell_type": "code",
   "execution_count": 23,
   "metadata": {
    "colab": {
     "base_uri": "https://localhost:8080/",
     "height": 312
    },
    "colab_type": "code",
    "executionInfo": {
     "elapsed": 738,
     "status": "ok",
     "timestamp": 1598819352484,
     "user": {
      "displayName": "Gaby Gerlach",
      "photoUrl": "",
      "userId": "11117434220237101401"
     },
     "user_tz": 240
    },
    "id": "RyE-YxaiDCvt",
    "name": "05-python-learning-16",
    "outputId": "84f451c2-0105-439c-abde-7c07dfcd605e"
   },
   "outputs": [
    {
     "name": "stdout",
     "output_type": "stream",
     "text": [
      "<class 'pandas.core.frame.DataFrame'>\n",
      "RangeIndex: 53940 entries, 0 to 53939\n",
      "Data columns (total 10 columns):\n",
      " #   Column   Non-Null Count  Dtype  \n",
      "---  ------   --------------  -----  \n",
      " 0   carat    53940 non-null  float64\n",
      " 1   cut      53940 non-null  object \n",
      " 2   color    53940 non-null  object \n",
      " 3   clarity  53940 non-null  object \n",
      " 4   depth    53940 non-null  float64\n",
      " 5   table    53940 non-null  float64\n",
      " 6   price    53940 non-null  int64  \n",
      " 7   x        53940 non-null  float64\n",
      " 8   y        53940 non-null  float64\n",
      " 9   z        53940 non-null  float64\n",
      "dtypes: float64(6), int64(1), object(3)\n",
      "memory usage: 4.1+ MB\n"
     ]
    }
   ],
   "source": [
    "diamonds = pd.read_csv('data/diamonds.csv.gz')\n",
    "diamonds.info()"
   ]
  },
  {
   "cell_type": "markdown",
   "metadata": {
    "colab_type": "text",
    "id": "Q-NQvs3EDCvw"
   },
   "source": [
    "First, lets separate out the outcome (price) and the predictors"
   ]
  },
  {
   "cell_type": "code",
   "execution_count": 24,
   "metadata": {
    "colab": {},
    "colab_type": "code",
    "executionInfo": {
     "elapsed": 812,
     "status": "ok",
     "timestamp": 1598819380525,
     "user": {
      "displayName": "Gaby Gerlach",
      "photoUrl": "",
      "userId": "11117434220237101401"
     },
     "user_tz": 240
    },
    "id": "R8s3n5ApDCvx",
    "name": "05-python-learning-17"
   },
   "outputs": [],
   "source": [
    "y = diamonds.pop('price')"
   ]
  },
  {
   "cell_type": "markdown",
   "metadata": {
    "colab_type": "text",
    "id": "0aP1F-AYDCv0"
   },
   "source": [
    "For many machine learning problems, it is useful to scale the numeric predictors so that they have mean 0 and \n",
    "variance 1. First we need to separate out the categorical and numeric variables"
   ]
  },
  {
   "cell_type": "code",
   "execution_count": 25,
   "metadata": {
    "colab": {},
    "colab_type": "code",
    "executionInfo": {
     "elapsed": 740,
     "status": "ok",
     "timestamp": 1598819383634,
     "user": {
      "displayName": "Gaby Gerlach",
      "photoUrl": "",
      "userId": "11117434220237101401"
     },
     "user_tz": 240
    },
    "id": "F_G6nlh2DCv1",
    "name": "05-python-learning-18"
   },
   "outputs": [],
   "source": [
    "d1 = diamonds.select_dtypes(include = 'number') #numeric variables \n",
    "d2 = diamonds.select_dtypes(exclude = 'number') #categorial variables "
   ]
  },
  {
   "cell_type": "markdown",
   "metadata": {
    "colab_type": "text",
    "id": "7uzDtSztDCv3"
   },
   "source": [
    "Now let's scale the columns of `d1`"
   ]
  },
  {
   "cell_type": "code",
   "execution_count": 19,
   "metadata": {
    "colab": {
     "base_uri": "https://localhost:8080/",
     "height": 243
    },
    "colab_type": "code",
    "executionInfo": {
     "elapsed": 750,
     "status": "ok",
     "timestamp": 1598819385357,
     "user": {
      "displayName": "Gaby Gerlach",
      "photoUrl": "",
      "userId": "11117434220237101401"
     },
     "user_tz": 240
    },
    "id": "RDL3KMrEDCv6",
    "name": "05-python-learning-19",
    "outputId": "d6c0c3c9-3607-4e1a-8f45-2bacb469bdac"
   },
   "outputs": [
    {
     "data": {
      "text/plain": [
       "array([[-1.19816781, -0.17409151, -1.09967199, -1.58783745, -1.53619556,\n",
       "        -1.57112919],\n",
       "       [-1.24036129, -1.36073849,  1.58552871, -1.64132529, -1.65877419,\n",
       "        -1.74117497],\n",
       "       [-1.19816781, -3.38501862,  3.37566251, -1.49869105, -1.45739502,\n",
       "        -1.74117497],\n",
       "       ...,\n",
       "       [-0.20662095,  0.73334442,  1.13799526, -0.06343409, -0.04774083,\n",
       "         0.03013526],\n",
       "       [ 0.13092691, -0.52310533,  0.24292836,  0.37338325,  0.33750627,\n",
       "         0.28520393],\n",
       "       [-0.10113725,  0.31452784, -1.09967199,  0.08811478,  0.11861587,\n",
       "         0.14349912]])"
      ]
     },
     "execution_count": 19,
     "metadata": {},
     "output_type": "execute_result"
    }
   ],
   "source": [
    "from sklearn.preprocessing import scale\n",
    "\n",
    "bl = scale(d1) #scalling the numerical values so they have mean 0 and varience 1 \n",
    "bl"
   ]
  },
  {
   "cell_type": "markdown",
   "metadata": {
    "colab_type": "text",
    "id": "3y8aLP0ODCv-"
   },
   "source": [
    "Woops!! We get a `numpy` array, not a `DataFrame`!!"
   ]
  },
  {
   "cell_type": "code",
   "execution_count": 20,
   "metadata": {
    "colab": {},
    "colab_type": "code",
    "executionInfo": {
     "elapsed": 956,
     "status": "ok",
     "timestamp": 1598819386442,
     "user": {
      "displayName": "Gaby Gerlach",
      "photoUrl": "",
      "userId": "11117434220237101401"
     },
     "user_tz": 240
    },
    "id": "JxYRwDMuDCv_",
    "name": "05-python-learning-20"
   },
   "outputs": [],
   "source": [
    "bl = pd.DataFrame(scale(d1))\n",
    "bl.columns = list(d1.columns)\n",
    "d1 = bl"
   ]
  },
  {
   "cell_type": "markdown",
   "metadata": {
    "colab_type": "text",
    "id": "9HY98EIIDCwC"
   },
   "source": [
    "Now, let's recode the categorical variables into dummy variables."
   ]
  },
  {
   "cell_type": "code",
   "execution_count": 21,
   "metadata": {
    "colab": {},
    "colab_type": "code",
    "executionInfo": {
     "elapsed": 848,
     "status": "ok",
     "timestamp": 1598819387334,
     "user": {
      "displayName": "Gaby Gerlach",
      "photoUrl": "",
      "userId": "11117434220237101401"
     },
     "user_tz": 240
    },
    "id": "dVnR5i1CDCwC",
    "name": "05-python-learning-21"
   },
   "outputs": [],
   "source": [
    "d2 = pd.get_dummies(d2) # change the categorical variables to numerical representation "
   ]
  },
  {
   "cell_type": "markdown",
   "metadata": {
    "colab_type": "text",
    "id": "SnTyXLU2DCwG"
   },
   "source": [
    "and put them back together"
   ]
  },
  {
   "cell_type": "code",
   "execution_count": 22,
   "metadata": {
    "colab": {},
    "colab_type": "code",
    "executionInfo": {
     "elapsed": 826,
     "status": "ok",
     "timestamp": 1598819388189,
     "user": {
      "displayName": "Gaby Gerlach",
      "photoUrl": "",
      "userId": "11117434220237101401"
     },
     "user_tz": 240
    },
    "id": "aCZK21jeDCwG",
    "name": "05-python-learning-22"
   },
   "outputs": [],
   "source": [
    "X = pd.concat([d1,d2], axis = 1) #combine back into one dataframe"
   ]
  },
  {
   "cell_type": "markdown",
   "metadata": {
    "colab_type": "text",
    "id": "d390i5TvDCwI"
   },
   "source": [
    "Next we need to split the data into a training set and a test set. Usually we do this as an 80/20 split. \n",
    "The purpose of the test set is to see how well the model works on an \"external\" data set. We don't touch the \n",
    "test set until we're done with all our model building in the training set. We usually do the split using \n",
    "random numbers. We'll put 40,000 observations in the training set.\n"
   ]
  },
  {
   "cell_type": "code",
   "execution_count": 23,
   "metadata": {
    "colab": {},
    "colab_type": "code",
    "executionInfo": {
     "elapsed": 998,
     "status": "ok",
     "timestamp": 1598819389285,
     "user": {
      "displayName": "Gaby Gerlach",
      "photoUrl": "",
      "userId": "11117434220237101401"
     },
     "user_tz": 240
    },
    "id": "Vb4IoHShDCwJ",
    "lines_to_next_cell": 2,
    "name": "05-python-learning-23"
   },
   "outputs": [],
   "source": [
    "ind = list(X.index)\n",
    "np.random.shuffle(ind) #randomize the indexes we are selecting\n",
    "\n",
    "X_train, y_train = X.loc[ind[:40000],:], y[ind[:40000]]\n",
    "X_test, y_test = X.loc[ind[40000:],:], y[ind[40000:]]"
   ]
  },
  {
   "cell_type": "markdown",
   "metadata": {
    "colab_type": "text",
    "id": "Ny93PWTyDCwM"
   },
   "source": [
    "There is another way to do this"
   ]
  },
  {
   "cell_type": "code",
   "execution_count": 29,
   "metadata": {
    "colab": {},
    "colab_type": "code",
    "executionInfo": {
     "elapsed": 817,
     "status": "ok",
     "timestamp": 1598819389937,
     "user": {
      "displayName": "Gaby Gerlach",
      "photoUrl": "",
      "userId": "11117434220237101401"
     },
     "user_tz": 240
    },
    "id": "52JkPSa4DCwM",
    "name": "05-python-learning-24"
   },
   "outputs": [],
   "source": [
    "from sklearn.model_selection import train_test_split\n",
    "\n",
    "X_train, X_test, y_train, y_test = train_test_split(X, y , test_size = 0.2, random_state= 40) \n",
    "#this one line does what the above several do!! "
   ]
  },
  {
   "cell_type": "markdown",
   "metadata": {
    "colab_type": "text",
    "id": "5WvPzU8mDCwO"
   },
   "source": [
    "Now we will fit our models to the training data. Let's use a decision tree model, a random forest model, and a linear regression."
   ]
  },
  {
   "cell_type": "code",
   "execution_count": 30,
   "metadata": {
    "colab": {},
    "colab_type": "code",
    "executionInfo": {
     "elapsed": 885,
     "status": "ok",
     "timestamp": 1598819390944,
     "user": {
      "displayName": "Gaby Gerlach",
      "photoUrl": "",
      "userId": "11117434220237101401"
     },
     "user_tz": 240
    },
    "id": "mV0n4XXEDCwQ",
    "lines_to_next_cell": 2,
    "name": "05-python-learning-25"
   },
   "outputs": [],
   "source": [
    "from sklearn.linear_model import LinearRegression\n",
    "from sklearn.tree import DecisionTreeRegressor\n",
    "from sklearn.ensemble import RandomForestRegressor\n",
    "\n",
    "#initialize models\n",
    "lm = LinearRegression()\n",
    "dt = DecisionTreeRegressor()\n",
    "rf = RandomForestRegressor()"
   ]
  },
  {
   "cell_type": "markdown",
   "metadata": {
    "colab_type": "text",
    "id": "3I2q87e2DCwS"
   },
   "source": [
    "Now we will use our training data to fit the models"
   ]
  },
  {
   "cell_type": "code",
   "execution_count": 37,
   "metadata": {
    "colab": {},
    "colab_type": "code",
    "executionInfo": {
     "elapsed": 28455,
     "status": "ok",
     "timestamp": 1598819419362,
     "user": {
      "displayName": "Gaby Gerlach",
      "photoUrl": "",
      "userId": "11117434220237101401"
     },
     "user_tz": 240
    },
    "id": "_aJz_HKmDCwU",
    "lines_to_next_cell": 2,
    "name": "05-python-learning-26",
    "tags": [
     "remove_output"
    ]
   },
   "outputs": [
    {
     "data": {
      "text/plain": [
       "RandomForestRegressor(bootstrap=True, ccp_alpha=0.0, criterion='mse',\n",
       "                      max_depth=None, max_features='auto', max_leaf_nodes=None,\n",
       "                      max_samples=None, min_impurity_decrease=0.0,\n",
       "                      min_impurity_split=None, min_samples_leaf=1,\n",
       "                      min_samples_split=2, min_weight_fraction_leaf=0.0,\n",
       "                      n_estimators=100, n_jobs=None, oob_score=False,\n",
       "                      random_state=None, verbose=0, warm_start=False)"
      ]
     },
     "execution_count": 37,
     "metadata": {},
     "output_type": "execute_result"
    }
   ],
   "source": [
    "# use the fit command to train the models on the training data\n",
    "lm.fit(X_train, y_train)\n",
    "dt.fit(X_train, y_train)\n",
    "rf.fit(X_train, y_train)"
   ]
  },
  {
   "cell_type": "markdown",
   "metadata": {
    "colab_type": "text",
    "id": "qmkfL9qbDCwX"
   },
   "source": [
    "We now need to see how well the model fit the data. We'll use the R2 statistic to be our metric of choice to evaluate the model fit."
   ]
  },
  {
   "cell_type": "code",
   "execution_count": 32,
   "metadata": {
    "colab": {
     "base_uri": "https://localhost:8080/",
     "height": 143
    },
    "colab_type": "code",
    "executionInfo": {
     "elapsed": 28883,
     "status": "ok",
     "timestamp": 1598819420584,
     "user": {
      "displayName": "Gaby Gerlach",
      "photoUrl": "",
      "userId": "11117434220237101401"
     },
     "user_tz": 240
    },
    "id": "ceZ4lxaODCwX",
    "name": "05-python-learning-27",
    "outputId": "0168ca48-5dba-4620-c058-b995c726a215"
   },
   "outputs": [
    {
     "data": {
      "text/html": [
       "<div>\n",
       "<style scoped>\n",
       "    .dataframe tbody tr th:only-of-type {\n",
       "        vertical-align: middle;\n",
       "    }\n",
       "\n",
       "    .dataframe tbody tr th {\n",
       "        vertical-align: top;\n",
       "    }\n",
       "\n",
       "    .dataframe thead th {\n",
       "        text-align: right;\n",
       "    }\n",
       "</style>\n",
       "<table border=\"1\" class=\"dataframe\">\n",
       "  <thead>\n",
       "    <tr style=\"text-align: right;\">\n",
       "      <th></th>\n",
       "      <th>Model</th>\n",
       "      <th>R2</th>\n",
       "    </tr>\n",
       "  </thead>\n",
       "  <tbody>\n",
       "    <tr>\n",
       "      <th>0</th>\n",
       "      <td>Linear regression</td>\n",
       "      <td>0.920264</td>\n",
       "    </tr>\n",
       "    <tr>\n",
       "      <th>1</th>\n",
       "      <td>Decision tree</td>\n",
       "      <td>0.999997</td>\n",
       "    </tr>\n",
       "    <tr>\n",
       "      <th>2</th>\n",
       "      <td>Random forest</td>\n",
       "      <td>0.997326</td>\n",
       "    </tr>\n",
       "  </tbody>\n",
       "</table>\n",
       "</div>"
      ],
      "text/plain": [
       "               Model        R2\n",
       "0  Linear regression  0.920264\n",
       "1      Decision tree  0.999997\n",
       "2      Random forest  0.997326"
      ]
     },
     "execution_count": 32,
     "metadata": {},
     "output_type": "execute_result"
    }
   ],
   "source": [
    "from sklearn.metrics import  r2_score\n",
    "# bellow we predict on the training data and get the R2 score all in one go! \n",
    "\n",
    "pd.DataFrame({\n",
    "  'Model': ['Linear regression','Decision tree','Random forest'],\n",
    "  'R2': [r2_score(y_train, lm.predict(X_train)),\n",
    "    r2_score(y_train, dt.predict(X_train)),\n",
    "    r2_score(y_train, rf.predict(X_train))]\n",
    "})\n",
    "\n"
   ]
  },
  {
   "cell_type": "markdown",
   "metadata": {
    "colab_type": "text",
    "id": "FZJClCXuDCwZ"
   },
   "source": [
    "This is pretty amazing. However, we know that if we try and predict using the same data we used to train \n",
    "the model, we get better than expected results. One way to get a better idea about the true performance of the \n",
    "model when we will try it on external data is to do cross-validation. "
   ]
  },
  {
   "cell_type": "markdown",
   "metadata": {
    "colab_type": "text",
    "id": "ug2q3oRrDCwZ"
   },
   "source": [
    "### Visualizing a decision tree  (End of Lecture) \n",
    "\n",
    "Bellow are useful examples some of which will be covered in the videos and some are provided for further learning. The code is less commented, but we are confident you will be able to use your new skills to understand it! \n",
    "\n",
    "**scikit-learn** provides a decent way of visualizing a decision tree using a program called _Graphviz_, which is a dedicated graph and network visualization program."
   ]
  },
  {
   "cell_type": "code",
   "execution_count": 33,
   "metadata": {
    "colab": {
     "base_uri": "https://localhost:8080/",
     "height": 540
    },
    "colab_type": "code",
    "executionInfo": {
     "elapsed": 19433,
     "status": "ok",
     "timestamp": 1598819420788,
     "user": {
      "displayName": "Gaby Gerlach",
      "photoUrl": "",
      "userId": "11117434220237101401"
     },
     "user_tz": 240
    },
    "id": "gZbiqXJ3DCwZ",
    "lines_to_next_cell": 0,
    "message": false,
    "outputId": "679e650b-387d-4fc0-f8be-ca04fb2edbf5",
    "tags": [
     "remove_output"
    ],
    "warning": false
   },
   "outputs": [
    {
     "data": {
      "image/svg+xml": [
       "<?xml version=\"1.0\" encoding=\"UTF-8\" standalone=\"no\"?>\n",
       "<!DOCTYPE svg PUBLIC \"-//W3C//DTD SVG 1.1//EN\"\n",
       " \"http://www.w3.org/Graphics/SVG/1.1/DTD/svg11.dtd\">\n",
       "<!-- Generated by graphviz version 2.40.1 (20161225.0304)\n",
       " -->\n",
       "<!-- Title: Tree Pages: 1 -->\n",
       "<svg width=\"1214pt\" height=\"373pt\"\n",
       " viewBox=\"0.00 0.00 1214.00 373.00\" xmlns=\"http://www.w3.org/2000/svg\" xmlns:xlink=\"http://www.w3.org/1999/xlink\">\n",
       "<g id=\"graph0\" class=\"graph\" transform=\"scale(1 1) rotate(0) translate(4 369)\">\n",
       "<title>Tree</title>\n",
       "<polygon fill=\"#ffffff\" stroke=\"transparent\" points=\"-4,4 -4,-369 1210,-369 1210,4 -4,4\"/>\n",
       "<!-- 0 -->\n",
       "<g id=\"node1\" class=\"node\">\n",
       "<title>0</title>\n",
       "<path fill=\"#f9e3d3\" stroke=\"#000000\" d=\"M643,-365C643,-365 526,-365 526,-365 520,-365 514,-359 514,-353 514,-353 514,-309 514,-309 514,-303 520,-297 526,-297 526,-297 643,-297 643,-297 649,-297 655,-303 655,-309 655,-309 655,-353 655,-353 655,-359 649,-365 643,-365\"/>\n",
       "<text text-anchor=\"middle\" x=\"584.5\" y=\"-349.8\" font-family=\"Helvetica,sans-Serif\" font-size=\"14.00\" fill=\"#000000\">carat &lt;= 0.995</text>\n",
       "<text text-anchor=\"middle\" x=\"584.5\" y=\"-334.8\" font-family=\"Helvetica,sans-Serif\" font-size=\"14.00\" fill=\"#000000\">mse = 15852573.11</text>\n",
       "<text text-anchor=\"middle\" x=\"584.5\" y=\"-319.8\" font-family=\"Helvetica,sans-Serif\" font-size=\"14.00\" fill=\"#000000\">samples = 43152</text>\n",
       "<text text-anchor=\"middle\" x=\"584.5\" y=\"-304.8\" font-family=\"Helvetica,sans-Serif\" font-size=\"14.00\" fill=\"#000000\">value = 3925.87</text>\n",
       "</g>\n",
       "<!-- 1 -->\n",
       "<g id=\"node2\" class=\"node\">\n",
       "<title>1</title>\n",
       "<path fill=\"#fdf7f3\" stroke=\"#000000\" d=\"M490,-261C490,-261 373,-261 373,-261 367,-261 361,-255 361,-249 361,-249 361,-205 361,-205 361,-199 367,-193 373,-193 373,-193 490,-193 490,-193 496,-193 502,-199 502,-205 502,-205 502,-249 502,-249 502,-255 496,-261 490,-261\"/>\n",
       "<text text-anchor=\"middle\" x=\"431.5\" y=\"-245.8\" font-family=\"Helvetica,sans-Serif\" font-size=\"14.00\" fill=\"#000000\">y &lt;= 5.525</text>\n",
       "<text text-anchor=\"middle\" x=\"431.5\" y=\"-230.8\" font-family=\"Helvetica,sans-Serif\" font-size=\"14.00\" fill=\"#000000\">mse = 1250735.975</text>\n",
       "<text text-anchor=\"middle\" x=\"431.5\" y=\"-215.8\" font-family=\"Helvetica,sans-Serif\" font-size=\"14.00\" fill=\"#000000\">samples = 27947</text>\n",
       "<text text-anchor=\"middle\" x=\"431.5\" y=\"-200.8\" font-family=\"Helvetica,sans-Serif\" font-size=\"14.00\" fill=\"#000000\">value = 1635.185</text>\n",
       "</g>\n",
       "<!-- 0&#45;&gt;1 -->\n",
       "<g id=\"edge1\" class=\"edge\">\n",
       "<title>0&#45;&gt;1</title>\n",
       "<path fill=\"none\" stroke=\"#000000\" d=\"M534.4021,-296.9465C520.2687,-287.3395 504.7648,-276.8009 490.1767,-266.8848\"/>\n",
       "<polygon fill=\"#000000\" stroke=\"#000000\" points=\"491.9483,-263.8571 481.7105,-261.13 488.0132,-269.6463 491.9483,-263.8571\"/>\n",
       "<text text-anchor=\"middle\" x=\"486.3927\" y=\"-281.9876\" font-family=\"Helvetica,sans-Serif\" font-size=\"14.00\" fill=\"#000000\">True</text>\n",
       "</g>\n",
       "<!-- 8 -->\n",
       "<g id=\"node9\" class=\"node\">\n",
       "<title>8</title>\n",
       "<path fill=\"#f1bd97\" stroke=\"#000000\" d=\"M801.5,-261C801.5,-261 677.5,-261 677.5,-261 671.5,-261 665.5,-255 665.5,-249 665.5,-249 665.5,-205 665.5,-205 665.5,-199 671.5,-193 677.5,-193 677.5,-193 801.5,-193 801.5,-193 807.5,-193 813.5,-199 813.5,-205 813.5,-205 813.5,-249 813.5,-249 813.5,-255 807.5,-261 801.5,-261\"/>\n",
       "<text text-anchor=\"middle\" x=\"739.5\" y=\"-245.8\" font-family=\"Helvetica,sans-Serif\" font-size=\"14.00\" fill=\"#000000\">y &lt;= 7.195</text>\n",
       "<text text-anchor=\"middle\" x=\"739.5\" y=\"-230.8\" font-family=\"Helvetica,sans-Serif\" font-size=\"14.00\" fill=\"#000000\">mse = 15319732.951</text>\n",
       "<text text-anchor=\"middle\" x=\"739.5\" y=\"-215.8\" font-family=\"Helvetica,sans-Serif\" font-size=\"14.00\" fill=\"#000000\">samples = 15205</text>\n",
       "<text text-anchor=\"middle\" x=\"739.5\" y=\"-200.8\" font-family=\"Helvetica,sans-Serif\" font-size=\"14.00\" fill=\"#000000\">value = 8136.181</text>\n",
       "</g>\n",
       "<!-- 0&#45;&gt;8 -->\n",
       "<g id=\"edge8\" class=\"edge\">\n",
       "<title>0&#45;&gt;8</title>\n",
       "<path fill=\"none\" stroke=\"#000000\" d=\"M635.2528,-296.9465C649.571,-287.3395 665.2775,-276.8009 680.0563,-266.8848\"/>\n",
       "<polygon fill=\"#000000\" stroke=\"#000000\" points=\"682.2793,-269.6081 688.6332,-261.13 678.3791,-263.7953 682.2793,-269.6081\"/>\n",
       "<text text-anchor=\"middle\" x=\"683.8031\" y=\"-281.959\" font-family=\"Helvetica,sans-Serif\" font-size=\"14.00\" fill=\"#000000\">False</text>\n",
       "</g>\n",
       "<!-- 2 -->\n",
       "<g id=\"node3\" class=\"node\">\n",
       "<title>2</title>\n",
       "<path fill=\"#fffdfb\" stroke=\"#000000\" d=\"M264,-157C264,-157 155,-157 155,-157 149,-157 143,-151 143,-145 143,-145 143,-101 143,-101 143,-95 149,-89 155,-89 155,-89 264,-89 264,-89 270,-89 276,-95 276,-101 276,-101 276,-145 276,-145 276,-151 270,-157 264,-157\"/>\n",
       "<text text-anchor=\"middle\" x=\"209.5\" y=\"-141.8\" font-family=\"Helvetica,sans-Serif\" font-size=\"14.00\" fill=\"#000000\">y &lt;= 4.995</text>\n",
       "<text text-anchor=\"middle\" x=\"209.5\" y=\"-126.8\" font-family=\"Helvetica,sans-Serif\" font-size=\"14.00\" fill=\"#000000\">mse = 267632.084</text>\n",
       "<text text-anchor=\"middle\" x=\"209.5\" y=\"-111.8\" font-family=\"Helvetica,sans-Serif\" font-size=\"14.00\" fill=\"#000000\">samples = 19909</text>\n",
       "<text text-anchor=\"middle\" x=\"209.5\" y=\"-96.8\" font-family=\"Helvetica,sans-Serif\" font-size=\"14.00\" fill=\"#000000\">value = 1054.442</text>\n",
       "</g>\n",
       "<!-- 1&#45;&gt;2 -->\n",
       "<g id=\"edge2\" class=\"edge\">\n",
       "<title>1&#45;&gt;2</title>\n",
       "<path fill=\"none\" stroke=\"#000000\" d=\"M360.9528,-193.9509C336.8607,-182.6644 309.8231,-169.9982 285.3327,-158.5252\"/>\n",
       "<polygon fill=\"#000000\" stroke=\"#000000\" points=\"286.623,-155.2647 276.0826,-154.1919 283.6534,-161.6036 286.623,-155.2647\"/>\n",
       "</g>\n",
       "<!-- 5 -->\n",
       "<g id=\"node6\" class=\"node\">\n",
       "<title>5</title>\n",
       "<path fill=\"#fbebdf\" stroke=\"#000000\" d=\"M486,-157C486,-157 377,-157 377,-157 371,-157 365,-151 365,-145 365,-145 365,-101 365,-101 365,-95 371,-89 377,-89 377,-89 486,-89 486,-89 492,-89 498,-95 498,-101 498,-101 498,-145 498,-145 498,-151 492,-157 486,-157\"/>\n",
       "<text text-anchor=\"middle\" x=\"431.5\" y=\"-141.8\" font-family=\"Helvetica,sans-Serif\" font-size=\"14.00\" fill=\"#000000\">carat &lt;= 0.855</text>\n",
       "<text text-anchor=\"middle\" x=\"431.5\" y=\"-126.8\" font-family=\"Helvetica,sans-Serif\" font-size=\"14.00\" fill=\"#000000\">mse = 781351.904</text>\n",
       "<text text-anchor=\"middle\" x=\"431.5\" y=\"-111.8\" font-family=\"Helvetica,sans-Serif\" font-size=\"14.00\" fill=\"#000000\">samples = 8038</text>\n",
       "<text text-anchor=\"middle\" x=\"431.5\" y=\"-96.8\" font-family=\"Helvetica,sans-Serif\" font-size=\"14.00\" fill=\"#000000\">value = 3073.602</text>\n",
       "</g>\n",
       "<!-- 1&#45;&gt;5 -->\n",
       "<g id=\"edge5\" class=\"edge\">\n",
       "<title>1&#45;&gt;5</title>\n",
       "<path fill=\"none\" stroke=\"#000000\" d=\"M431.5,-192.9465C431.5,-184.776 431.5,-175.9318 431.5,-167.3697\"/>\n",
       "<polygon fill=\"#000000\" stroke=\"#000000\" points=\"435.0001,-167.13 431.5,-157.13 428.0001,-167.13 435.0001,-167.13\"/>\n",
       "</g>\n",
       "<!-- 3 -->\n",
       "<g id=\"node4\" class=\"node\">\n",
       "<title>3</title>\n",
       "<path fill=\"#ffffff\" stroke=\"#000000\" d=\"M113,-53C113,-53 12,-53 12,-53 6,-53 0,-47 0,-41 0,-41 0,-12 0,-12 0,-6 6,0 12,0 12,0 113,0 113,0 119,0 125,-6 125,-12 125,-12 125,-41 125,-41 125,-47 119,-53 113,-53\"/>\n",
       "<text text-anchor=\"middle\" x=\"62.5\" y=\"-37.8\" font-family=\"Helvetica,sans-Serif\" font-size=\"14.00\" fill=\"#000000\">mse = 56682.753</text>\n",
       "<text text-anchor=\"middle\" x=\"62.5\" y=\"-22.8\" font-family=\"Helvetica,sans-Serif\" font-size=\"14.00\" fill=\"#000000\">samples = 14037</text>\n",
       "<text text-anchor=\"middle\" x=\"62.5\" y=\"-7.8\" font-family=\"Helvetica,sans-Serif\" font-size=\"14.00\" fill=\"#000000\">value = 788.904</text>\n",
       "</g>\n",
       "<!-- 2&#45;&gt;3 -->\n",
       "<g id=\"edge3\" class=\"edge\">\n",
       "<title>2&#45;&gt;3</title>\n",
       "<path fill=\"none\" stroke=\"#000000\" d=\"M157.6733,-88.9777C142.7479,-79.1798 126.513,-68.5222 111.7486,-58.8298\"/>\n",
       "<polygon fill=\"#000000\" stroke=\"#000000\" points=\"113.5268,-55.8104 103.2464,-53.2485 109.6853,-61.6622 113.5268,-55.8104\"/>\n",
       "</g>\n",
       "<!-- 4 -->\n",
       "<g id=\"node5\" class=\"node\">\n",
       "<title>4</title>\n",
       "<path fill=\"#fdf7f2\" stroke=\"#000000\" d=\"M264,-53C264,-53 155,-53 155,-53 149,-53 143,-47 143,-41 143,-41 143,-12 143,-12 143,-6 149,0 155,0 155,0 264,0 264,0 270,0 276,-6 276,-12 276,-12 276,-41 276,-41 276,-47 270,-53 264,-53\"/>\n",
       "<text text-anchor=\"middle\" x=\"209.5\" y=\"-37.8\" font-family=\"Helvetica,sans-Serif\" font-size=\"14.00\" fill=\"#000000\">mse = 200417.909</text>\n",
       "<text text-anchor=\"middle\" x=\"209.5\" y=\"-22.8\" font-family=\"Helvetica,sans-Serif\" font-size=\"14.00\" fill=\"#000000\">samples = 5872</text>\n",
       "<text text-anchor=\"middle\" x=\"209.5\" y=\"-7.8\" font-family=\"Helvetica,sans-Serif\" font-size=\"14.00\" fill=\"#000000\">value = 1689.212</text>\n",
       "</g>\n",
       "<!-- 2&#45;&gt;4 -->\n",
       "<g id=\"edge4\" class=\"edge\">\n",
       "<title>2&#45;&gt;4</title>\n",
       "<path fill=\"none\" stroke=\"#000000\" d=\"M209.5,-88.9777C209.5,-80.7364 209.5,-71.887 209.5,-63.5153\"/>\n",
       "<polygon fill=\"#000000\" stroke=\"#000000\" points=\"213.0001,-63.2484 209.5,-53.2485 206.0001,-63.2485 213.0001,-63.2484\"/>\n",
       "</g>\n",
       "<!-- 6 -->\n",
       "<g id=\"node7\" class=\"node\">\n",
       "<title>6</title>\n",
       "<path fill=\"#fbeee4\" stroke=\"#000000\" d=\"M415,-53C415,-53 306,-53 306,-53 300,-53 294,-47 294,-41 294,-41 294,-12 294,-12 294,-6 300,0 306,0 306,0 415,0 415,0 421,0 427,-6 427,-12 427,-12 427,-41 427,-41 427,-47 421,-53 415,-53\"/>\n",
       "<text text-anchor=\"middle\" x=\"360.5\" y=\"-37.8\" font-family=\"Helvetica,sans-Serif\" font-size=\"14.00\" fill=\"#000000\">mse = 408841.396</text>\n",
       "<text text-anchor=\"middle\" x=\"360.5\" y=\"-22.8\" font-family=\"Helvetica,sans-Serif\" font-size=\"14.00\" fill=\"#000000\">samples = 5742</text>\n",
       "<text text-anchor=\"middle\" x=\"360.5\" y=\"-7.8\" font-family=\"Helvetica,sans-Serif\" font-size=\"14.00\" fill=\"#000000\">value = 2727.454</text>\n",
       "</g>\n",
       "<!-- 5&#45;&gt;6 -->\n",
       "<g id=\"edge6\" class=\"edge\">\n",
       "<title>5&#45;&gt;6</title>\n",
       "<path fill=\"none\" stroke=\"#000000\" d=\"M406.4681,-88.9777C399.9329,-80.0954 392.878,-70.5067 386.3036,-61.5711\"/>\n",
       "<polygon fill=\"#000000\" stroke=\"#000000\" points=\"388.9257,-59.229 380.1802,-53.2485 383.2874,-63.3775 388.9257,-59.229\"/>\n",
       "</g>\n",
       "<!-- 7 -->\n",
       "<g id=\"node8\" class=\"node\">\n",
       "<title>7</title>\n",
       "<path fill=\"#f9e3d3\" stroke=\"#000000\" d=\"M566,-53C566,-53 457,-53 457,-53 451,-53 445,-47 445,-41 445,-41 445,-12 445,-12 445,-6 451,0 457,0 457,0 566,0 566,0 572,0 578,-6 578,-12 578,-12 578,-41 578,-41 578,-47 572,-53 566,-53\"/>\n",
       "<text text-anchor=\"middle\" x=\"511.5\" y=\"-37.8\" font-family=\"Helvetica,sans-Serif\" font-size=\"14.00\" fill=\"#000000\">mse = 663914.604</text>\n",
       "<text text-anchor=\"middle\" x=\"511.5\" y=\"-22.8\" font-family=\"Helvetica,sans-Serif\" font-size=\"14.00\" fill=\"#000000\">samples = 2296</text>\n",
       "<text text-anchor=\"middle\" x=\"511.5\" y=\"-7.8\" font-family=\"Helvetica,sans-Serif\" font-size=\"14.00\" fill=\"#000000\">value = 3939.274</text>\n",
       "</g>\n",
       "<!-- 5&#45;&gt;7 -->\n",
       "<g id=\"edge7\" class=\"edge\">\n",
       "<title>5&#45;&gt;7</title>\n",
       "<path fill=\"none\" stroke=\"#000000\" d=\"M459.705,-88.9777C467.2204,-79.9123 475.3458,-70.111 482.883,-61.0192\"/>\n",
       "<polygon fill=\"#000000\" stroke=\"#000000\" points=\"485.6374,-63.1808 489.3251,-53.2485 480.2484,-58.7133 485.6374,-63.1808\"/>\n",
       "</g>\n",
       "<!-- 9 -->\n",
       "<g id=\"node10\" class=\"node\">\n",
       "<title>9</title>\n",
       "<path fill=\"#f5cfb4\" stroke=\"#000000\" d=\"M798,-157C798,-157 681,-157 681,-157 675,-157 669,-151 669,-145 669,-145 669,-101 669,-101 669,-95 675,-89 681,-89 681,-89 798,-89 798,-89 804,-89 810,-95 810,-101 810,-101 810,-145 810,-145 810,-151 804,-157 798,-157\"/>\n",
       "<text text-anchor=\"middle\" x=\"739.5\" y=\"-141.8\" font-family=\"Helvetica,sans-Serif\" font-size=\"14.00\" fill=\"#000000\">clarity_SI2 &lt;= 0.5</text>\n",
       "<text text-anchor=\"middle\" x=\"739.5\" y=\"-126.8\" font-family=\"Helvetica,sans-Serif\" font-size=\"14.00\" fill=\"#000000\">mse = 4663622.549</text>\n",
       "<text text-anchor=\"middle\" x=\"739.5\" y=\"-111.8\" font-family=\"Helvetica,sans-Serif\" font-size=\"14.00\" fill=\"#000000\">samples = 10283</text>\n",
       "<text text-anchor=\"middle\" x=\"739.5\" y=\"-96.8\" font-family=\"Helvetica,sans-Serif\" font-size=\"14.00\" fill=\"#000000\">value = 6130.315</text>\n",
       "</g>\n",
       "<!-- 8&#45;&gt;9 -->\n",
       "<g id=\"edge9\" class=\"edge\">\n",
       "<title>8&#45;&gt;9</title>\n",
       "<path fill=\"none\" stroke=\"#000000\" d=\"M739.5,-192.9465C739.5,-184.776 739.5,-175.9318 739.5,-167.3697\"/>\n",
       "<polygon fill=\"#000000\" stroke=\"#000000\" points=\"743.0001,-167.13 739.5,-157.13 736.0001,-167.13 743.0001,-167.13\"/>\n",
       "</g>\n",
       "<!-- 12 -->\n",
       "<g id=\"node13\" class=\"node\">\n",
       "<title>12</title>\n",
       "<path fill=\"#ea975c\" stroke=\"#000000\" d=\"M1038.5,-157C1038.5,-157 914.5,-157 914.5,-157 908.5,-157 902.5,-151 902.5,-145 902.5,-145 902.5,-101 902.5,-101 902.5,-95 908.5,-89 914.5,-89 914.5,-89 1038.5,-89 1038.5,-89 1044.5,-89 1050.5,-95 1050.5,-101 1050.5,-101 1050.5,-145 1050.5,-145 1050.5,-151 1044.5,-157 1038.5,-157\"/>\n",
       "<text text-anchor=\"middle\" x=\"976.5\" y=\"-141.8\" font-family=\"Helvetica,sans-Serif\" font-size=\"14.00\" fill=\"#000000\">y &lt;= 7.815</text>\n",
       "<text text-anchor=\"middle\" x=\"976.5\" y=\"-126.8\" font-family=\"Helvetica,sans-Serif\" font-size=\"14.00\" fill=\"#000000\">mse = 11615083.581</text>\n",
       "<text text-anchor=\"middle\" x=\"976.5\" y=\"-111.8\" font-family=\"Helvetica,sans-Serif\" font-size=\"14.00\" fill=\"#000000\">samples = 4922</text>\n",
       "<text text-anchor=\"middle\" x=\"976.5\" y=\"-96.8\" font-family=\"Helvetica,sans-Serif\" font-size=\"14.00\" fill=\"#000000\">value = 12326.819</text>\n",
       "</g>\n",
       "<!-- 8&#45;&gt;12 -->\n",
       "<g id=\"edge12\" class=\"edge\">\n",
       "<title>8&#45;&gt;12</title>\n",
       "<path fill=\"none\" stroke=\"#000000\" d=\"M813.5134,-194.5215C838.6736,-183.4808 866.9638,-171.0665 892.8253,-159.718\"/>\n",
       "<polygon fill=\"#000000\" stroke=\"#000000\" points=\"894.4823,-162.8131 902.233,-155.5897 891.6694,-156.4031 894.4823,-162.8131\"/>\n",
       "</g>\n",
       "<!-- 10 -->\n",
       "<g id=\"node11\" class=\"node\">\n",
       "<title>10</title>\n",
       "<path fill=\"#f4caac\" stroke=\"#000000\" d=\"M725,-53C725,-53 608,-53 608,-53 602,-53 596,-47 596,-41 596,-41 596,-12 596,-12 596,-6 602,0 608,0 608,0 725,0 725,0 731,0 737,-6 737,-12 737,-12 737,-41 737,-41 737,-47 731,-53 725,-53\"/>\n",
       "<text text-anchor=\"middle\" x=\"666.5\" y=\"-37.8\" font-family=\"Helvetica,sans-Serif\" font-size=\"14.00\" fill=\"#000000\">mse = 4975525.702</text>\n",
       "<text text-anchor=\"middle\" x=\"666.5\" y=\"-22.8\" font-family=\"Helvetica,sans-Serif\" font-size=\"14.00\" fill=\"#000000\">samples = 7603</text>\n",
       "<text text-anchor=\"middle\" x=\"666.5\" y=\"-7.8\" font-family=\"Helvetica,sans-Serif\" font-size=\"14.00\" fill=\"#000000\">value = 6644.344</text>\n",
       "</g>\n",
       "<!-- 9&#45;&gt;10 -->\n",
       "<g id=\"edge10\" class=\"edge\">\n",
       "<title>9&#45;&gt;10</title>\n",
       "<path fill=\"none\" stroke=\"#000000\" d=\"M713.7629,-88.9777C706.9744,-80.0039 699.6404,-70.3089 692.8216,-61.295\"/>\n",
       "<polygon fill=\"#000000\" stroke=\"#000000\" points=\"695.559,-59.1121 686.7346,-53.2485 689.9763,-63.3352 695.559,-59.1121\"/>\n",
       "</g>\n",
       "<!-- 11 -->\n",
       "<g id=\"node12\" class=\"node\">\n",
       "<title>11</title>\n",
       "<path fill=\"#f8dcc8\" stroke=\"#000000\" d=\"M876,-53C876,-53 767,-53 767,-53 761,-53 755,-47 755,-41 755,-41 755,-12 755,-12 755,-6 761,0 767,0 767,0 876,0 876,0 882,0 888,-6 888,-12 888,-12 888,-41 888,-41 888,-47 882,-53 876,-53\"/>\n",
       "<text text-anchor=\"middle\" x=\"821.5\" y=\"-37.8\" font-family=\"Helvetica,sans-Serif\" font-size=\"14.00\" fill=\"#000000\">mse = 902632.244</text>\n",
       "<text text-anchor=\"middle\" x=\"821.5\" y=\"-22.8\" font-family=\"Helvetica,sans-Serif\" font-size=\"14.00\" fill=\"#000000\">samples = 2680</text>\n",
       "<text text-anchor=\"middle\" x=\"821.5\" y=\"-7.8\" font-family=\"Helvetica,sans-Serif\" font-size=\"14.00\" fill=\"#000000\">value = 4672.047</text>\n",
       "</g>\n",
       "<!-- 9&#45;&gt;11 -->\n",
       "<g id=\"edge11\" class=\"edge\">\n",
       "<title>9&#45;&gt;11</title>\n",
       "<path fill=\"none\" stroke=\"#000000\" d=\"M768.4101,-88.9777C776.1134,-79.9123 784.4419,-70.111 792.1676,-61.0192\"/>\n",
       "<polygon fill=\"#000000\" stroke=\"#000000\" points=\"794.9625,-63.1352 798.7707,-53.2485 789.6282,-58.6025 794.9625,-63.1352\"/>\n",
       "</g>\n",
       "<!-- 13 -->\n",
       "<g id=\"node14\" class=\"node\">\n",
       "<title>13</title>\n",
       "<path fill=\"#eca470\" stroke=\"#000000\" d=\"M1035,-53C1035,-53 918,-53 918,-53 912,-53 906,-47 906,-41 906,-41 906,-12 906,-12 906,-6 912,0 918,0 918,0 1035,0 1035,0 1041,0 1047,-6 1047,-12 1047,-12 1047,-41 1047,-41 1047,-47 1041,-53 1035,-53\"/>\n",
       "<text text-anchor=\"middle\" x=\"976.5\" y=\"-37.8\" font-family=\"Helvetica,sans-Serif\" font-size=\"14.00\" fill=\"#000000\">mse = 8612803.805</text>\n",
       "<text text-anchor=\"middle\" x=\"976.5\" y=\"-22.8\" font-family=\"Helvetica,sans-Serif\" font-size=\"14.00\" fill=\"#000000\">samples = 3152</text>\n",
       "<text text-anchor=\"middle\" x=\"976.5\" y=\"-7.8\" font-family=\"Helvetica,sans-Serif\" font-size=\"14.00\" fill=\"#000000\">value = 10919.98</text>\n",
       "</g>\n",
       "<!-- 12&#45;&gt;13 -->\n",
       "<g id=\"edge13\" class=\"edge\">\n",
       "<title>12&#45;&gt;13</title>\n",
       "<path fill=\"none\" stroke=\"#000000\" d=\"M976.5,-88.9777C976.5,-80.7364 976.5,-71.887 976.5,-63.5153\"/>\n",
       "<polygon fill=\"#000000\" stroke=\"#000000\" points=\"980.0001,-63.2484 976.5,-53.2485 973.0001,-63.2485 980.0001,-63.2484\"/>\n",
       "</g>\n",
       "<!-- 14 -->\n",
       "<g id=\"node15\" class=\"node\">\n",
       "<title>14</title>\n",
       "<path fill=\"#e58139\" stroke=\"#000000\" d=\"M1194,-53C1194,-53 1077,-53 1077,-53 1071,-53 1065,-47 1065,-41 1065,-41 1065,-12 1065,-12 1065,-6 1071,0 1077,0 1077,0 1194,0 1194,0 1200,0 1206,-6 1206,-12 1206,-12 1206,-41 1206,-41 1206,-47 1200,-53 1194,-53\"/>\n",
       "<text text-anchor=\"middle\" x=\"1135.5\" y=\"-37.8\" font-family=\"Helvetica,sans-Serif\" font-size=\"14.00\" fill=\"#000000\">mse = 7160525.258</text>\n",
       "<text text-anchor=\"middle\" x=\"1135.5\" y=\"-22.8\" font-family=\"Helvetica,sans-Serif\" font-size=\"14.00\" fill=\"#000000\">samples = 1770</text>\n",
       "<text text-anchor=\"middle\" x=\"1135.5\" y=\"-7.8\" font-family=\"Helvetica,sans-Serif\" font-size=\"14.00\" fill=\"#000000\">value = 14832.105</text>\n",
       "</g>\n",
       "<!-- 12&#45;&gt;14 -->\n",
       "<g id=\"edge14\" class=\"edge\">\n",
       "<title>12&#45;&gt;14</title>\n",
       "<path fill=\"none\" stroke=\"#000000\" d=\"M1032.5575,-88.9777C1048.9276,-79.0424 1066.754,-68.2232 1082.9018,-58.4228\"/>\n",
       "<polygon fill=\"#000000\" stroke=\"#000000\" points=\"1084.9474,-61.2755 1091.6802,-53.095 1081.3155,-55.2914 1084.9474,-61.2755\"/>\n",
       "</g>\n",
       "</g>\n",
       "</svg>\n"
      ],
      "text/plain": [
       "<graphviz.files.Source at 0x7f9f0e539810>"
      ]
     },
     "execution_count": 33,
     "metadata": {},
     "output_type": "execute_result"
    }
   ],
   "source": [
    "import graphviz\n",
    "from sklearn import tree\n",
    "\n",
    "dt = DecisionTreeRegressor(max_depth=3) #initalize decsion tree that is only allowed 3 splits\n",
    "dt.fit(X_train, y_train) #train the model \n",
    "\n",
    "#visualize the decsion tree \n",
    "dot_data = tree.export_graphviz(dt, out_file=None, \n",
    "                                feature_names = X_train.columns,\n",
    "                                filled=True, rounded=True)\n",
    "graph = graphviz.Source(dot_data)\n",
    "graph"
   ]
  },
  {
   "cell_type": "code",
   "execution_count": 29,
   "metadata": {
    "colab": {},
    "colab_type": "code",
    "executionInfo": {
     "elapsed": 19103,
     "status": "ok",
     "timestamp": 1598819420789,
     "user": {
      "displayName": "Gaby Gerlach",
      "photoUrl": "",
      "userId": "11117434220237101401"
     },
     "user_tz": 240
    },
    "id": "6EIVsNb-DCwc"
   },
   "outputs": [],
   "source": [
    "graph.render('graphs/image', view=False, format='pdf');\n",
    "graph.render('graphs/image', view = False, format = 'png');"
   ]
  },
  {
   "cell_type": "markdown",
   "metadata": {
    "colab_type": "text",
    "id": "Gb0U0QmSDCwf"
   },
   "source": [
    "### Cross-validation\n",
    "\n",
    "In cross-validation, we split the dataset up into 5  equal parts randomly. We then train the\n",
    "model using 4 parts and predict the data on the 5th part. We do for all possible groups of 4 parts. We then\n",
    "consider the overall performance of prediction.\n",
    "\n",
    "![](graphs/CV5.png)\n",
    "\n",
    "There is nothing special about the 5 splits. If you use 5 splits, it is called 5-fold cross-validatio    n (CV), if you use 10 splits, it is 10-fold CV. If you use all but one subject as training data, and     that one subject as test data, and cycle through all the subjects, that is called leave-one-out CV (L    OOCV). All these methods are widely used, but 5- and 10-fold CV are often used as a balance between e    ffectiveness and computational efficiency.\n",
    "\n",
    "**scikit-learn** makes this pretty easy, using the `cross_val_score` function. \n"
   ]
  },
  {
   "cell_type": "code",
   "execution_count": 34,
   "metadata": {
    "colab": {
     "base_uri": "https://localhost:8080/",
     "height": 36
    },
    "colab_type": "code",
    "executionInfo": {
     "elapsed": 18063,
     "status": "ok",
     "timestamp": 1598819421294,
     "user": {
      "displayName": "Gaby Gerlach",
      "photoUrl": "",
      "userId": "11117434220237101401"
     },
     "user_tz": 240
    },
    "id": "8mtjegkLDCwg",
    "outputId": "5974b979-a7b4-4e43-9db5-37a3c0090870"
   },
   "outputs": [
    {
     "data": {
      "text/plain": [
       "'CV error = 0.874'"
      ]
     },
     "execution_count": 34,
     "metadata": {},
     "output_type": "execute_result"
    }
   ],
   "source": [
    "from sklearn.model_selection import cross_val_score\n",
    "\n",
    "\n",
    "cv_score = cross_val_score(dt, X_train, y_train, cv=5, scoring='r2')\n",
    "f\"CV error = {np.round(np.mean(cv_score), 3)}\""
   ]
  },
  {
   "cell_type": "markdown",
   "metadata": {
    "colab_type": "text",
    "id": "Pa1Krt-gDCwi"
   },
   "source": [
    "### Improving models through cross-validation\n",
    "\n",
    "The cross-validation error, as we've seen, gives us a better estimate of  \n",
    "how well our model predicts on new data. We can use this to tune models by tweaking their parameters to get models that reasonably will perform better. \n",
    "\n",
    "Each model that we fit has a set of parameters that govern how it proceeds\n",
    "to fit the data. These can bee seen using the `get_params` function. "
   ]
  },
  {
   "cell_type": "code",
   "execution_count": 36,
   "metadata": {
    "colab": {
     "base_uri": "https://localhost:8080/",
     "height": 34
    },
    "colab_type": "code",
    "executionInfo": {
     "elapsed": 816,
     "status": "ok",
     "timestamp": 1598819436751,
     "user": {
      "displayName": "Gaby Gerlach",
      "photoUrl": "",
      "userId": "11117434220237101401"
     },
     "user_tz": 240
    },
    "id": "3nNNyXnmDCwi",
    "outputId": "4011d6a9-dc2c-47ef-97b9-cbb5a96338df"
   },
   "outputs": [
    {
     "data": {
      "text/plain": [
       "{'copy_X': True, 'fit_intercept': True, 'n_jobs': None, 'normalize': False}"
      ]
     },
     "execution_count": 36,
     "metadata": {},
     "output_type": "execute_result"
    }
   ],
   "source": [
    "dt.get_params()\n",
    "lm.get_params()"
   ]
  },
  {
   "cell_type": "markdown",
   "metadata": {
    "colab_type": "text",
    "id": "MM5RGrD4DCwk"
   },
   "source": [
    "Linear regression is entirely determined by the functional form of  \n",
    "the prediction equation,i.e., the \"formula\" we use. It doesn't have any parameters to tune per se. Improving a linear regression involves playing \n",
    "with the different predictors and transforming them to improve the predictions. This involve subjects called _regression diagnostics_ and \n",
    "_feature engineering_ that we will leave to Google for now. \n",
    "\n",
    "\n",
    "We can tune different parameters for the decision tree to try and see if\n",
    "some combination of parameters can improve predictions. One way to do this,\n",
    "since we're using a computer, is a grid search. This means that we can set out sets of values of the parameters we want to tune, and the computer will go through every combination of those values to see how the model\n",
    "performs, and will provide the \"best\" model.\n",
    "\n",
    "We would specify the values as a dictionary to the function `GridSearchCV`, which would optimize based on the cross-validation error."
   ]
  },
  {
   "cell_type": "code",
   "execution_count": 32,
   "metadata": {
    "colab": {
     "base_uri": "https://localhost:8080/",
     "height": 34
    },
    "colab_type": "code",
    "executionInfo": {
     "elapsed": 14040,
     "status": "ok",
     "timestamp": 1598819450727,
     "user": {
      "displayName": "Gaby Gerlach",
      "photoUrl": "",
      "userId": "11117434220237101401"
     },
     "user_tz": 240
    },
    "id": "dKpV_-OmDCwk",
    "outputId": "c66d2601-07b0-4d6f-fac0-6741e8aed868"
   },
   "outputs": [
    {
     "name": "stdout",
     "output_type": "stream",
     "text": [
      "0.9645392330464674\n"
     ]
    }
   ],
   "source": [
    "from sklearn.model_selection import GridSearchCV\n",
    "import numpy.random as rnd\n",
    "rnd.RandomState(39358)\n",
    "\n",
    "param_grid = {'max_depth': [1,3,5,7, 10], 'min_samples_leaf': [1,5,10,20],\n",
    "  'max_features' : ['auto','sqrt']}\n",
    "\n",
    "clf = GridSearchCV(dt, param_grid, scoring = 'r2', cv = 5) # Tuning dt\n",
    "clf.fit(X_train, y_train)\n",
    "\n",
    "clf.best_estimator_\n",
    "print(clf.best_score_)"
   ]
  },
  {
   "cell_type": "markdown",
   "metadata": {
    "colab_type": "text",
    "id": "e2yMiYHODCwn"
   },
   "source": [
    "So how does this do on the test set?"
   ]
  },
  {
   "cell_type": "code",
   "execution_count": 33,
   "metadata": {
    "colab": {
     "base_uri": "https://localhost:8080/",
     "height": 34
    },
    "colab_type": "code",
    "executionInfo": {
     "elapsed": 13279,
     "status": "ok",
     "timestamp": 1598819450728,
     "user": {
      "displayName": "Gaby Gerlach",
      "photoUrl": "",
      "userId": "11117434220237101401"
     },
     "user_tz": 240
    },
    "id": "tiAXtwysDCwn",
    "outputId": "111c97f7-29f0-42bd-8a33-9baabbeddf4e"
   },
   "outputs": [
    {
     "data": {
      "text/plain": [
       "0.965725057737719"
      ]
     },
     "execution_count": 33,
     "metadata": {},
     "output_type": "execute_result"
    }
   ],
   "source": [
    "p = clf.best_estimator_.predict(X_test)\n",
    "r2_score(y_test, p)"
   ]
  },
  {
   "cell_type": "markdown",
   "metadata": {
    "colab_type": "text",
    "id": "KEPr3Q_bDCwo"
   },
   "source": [
    "So this predictor is doing slightly better on the test set than the training set. This is often an indicator that the model is overfitting on the data. This is probable here, given the extremely high R2 values for this model.\n",
    "\n",
    "\n",
    "### Feature selection\n",
    "\n",
    "We can also use cross-validation to do recursive feature selection (or\n",
    "backwards elimination), based on a predictive score. This is different\n",
    "from usual stepwise selection methods which are based on a succession of\n",
    "hypothesis tests."
   ]
  },
  {
   "cell_type": "code",
   "execution_count": 34,
   "metadata": {
    "colab": {
     "base_uri": "https://localhost:8080/",
     "height": 69
    },
    "colab_type": "code",
    "executionInfo": {
     "elapsed": 14244,
     "status": "ok",
     "timestamp": 1598819452677,
     "user": {
      "displayName": "Gaby Gerlach",
      "photoUrl": "",
      "userId": "11117434220237101401"
     },
     "user_tz": 240
    },
    "id": "Nwc9dZhKDCwp",
    "outputId": "52ce482f-9e3c-4371-f282-a75f2d4273e6"
   },
   "outputs": [
    {
     "data": {
      "text/plain": [
       "array([ True, False, False,  True, False, False,  True, False,  True,\n",
       "        True,  True,  True,  True,  True,  True, False,  True,  True,\n",
       "        True,  True, False,  True,  True,  True,  True,  True])"
      ]
     },
     "execution_count": 34,
     "metadata": {},
     "output_type": "execute_result"
    }
   ],
   "source": [
    "from sklearn.feature_selection import RFECV\n",
    "\n",
    "selector = RFECV(lm, cv = 5, scoring = 'r2')\n",
    "selector = selector.fit(X_train, y_train)\n",
    "selector.support_"
   ]
  },
  {
   "cell_type": "markdown",
   "metadata": {
    "colab_type": "text",
    "id": "z7jlntVVDCwq"
   },
   "source": [
    "The support gives the set of predictors (True) that are finally selected."
   ]
  },
  {
   "cell_type": "code",
   "execution_count": 35,
   "metadata": {
    "colab": {
     "base_uri": "https://localhost:8080/",
     "height": 104
    },
    "colab_type": "code",
    "executionInfo": {
     "elapsed": 13707,
     "status": "ok",
     "timestamp": 1598819452677,
     "user": {
      "displayName": "Gaby Gerlach",
      "photoUrl": "",
      "userId": "11117434220237101401"
     },
     "user_tz": 240
    },
    "id": "P4VhefpBDCwr",
    "outputId": "73909819-8d9b-4511-b6de-661c52568ac3"
   },
   "outputs": [
    {
     "data": {
      "text/plain": [
       "Index(['carat', 'x', 'cut_Fair', 'cut_Ideal', 'cut_Premium', 'cut_Very Good',\n",
       "       'color_D', 'color_E', 'color_F', 'color_G', 'color_I', 'color_J',\n",
       "       'clarity_I1', 'clarity_IF', 'clarity_SI2', 'clarity_VS1', 'clarity_VS2',\n",
       "       'clarity_VVS1', 'clarity_VVS2'],\n",
       "      dtype='object')"
      ]
     },
     "execution_count": 35,
     "metadata": {},
     "output_type": "execute_result"
    }
   ],
   "source": [
    "X_train.columns[selector.support_]"
   ]
  },
  {
   "cell_type": "markdown",
   "metadata": {
    "colab_type": "text",
    "id": "CJrnigogDCwt"
   },
   "source": [
    "This is indicating that the best predictive model for the linear regression includes carat, cut, color and clarity, and width of the stone.\n",
    "\n",
    "### Logistic regression\n",
    "\n",
    "We noted that logistic regression is available both through **statsmodels** and through **scikit-learn**. Let's now try to fit a\n",
    "logistic regression model using **scikit-learn**. We will use the same\n",
    "Titanic dataset we used earlier."
   ]
  },
  {
   "cell_type": "code",
   "execution_count": 36,
   "metadata": {
    "colab": {
     "base_uri": "https://localhost:8080/",
     "height": 243
    },
    "colab_type": "code",
    "executionInfo": {
     "elapsed": 13456,
     "status": "ok",
     "timestamp": 1598819452957,
     "user": {
      "displayName": "Gaby Gerlach",
      "photoUrl": "",
      "userId": "11117434220237101401"
     },
     "user_tz": 240
    },
    "id": "H6GRw3KDDCwt",
    "outputId": "71e44ed4-e5cb-4687-f80a-e9de2ae0fbcb"
   },
   "outputs": [
    {
     "name": "stdout",
     "output_type": "stream",
     "text": [
      "<class 'pandas.core.frame.DataFrame'>\n",
      "Int64Index: 756 entries, 0 to 1312\n",
      "Data columns (total 6 columns):\n",
      " #   Column    Non-Null Count  Dtype  \n",
      "---  ------    --------------  -----  \n",
      " 0   Name      756 non-null    object \n",
      " 1   PClass    756 non-null    object \n",
      " 2   Age       756 non-null    float64\n",
      " 3   Sex       756 non-null    object \n",
      " 4   Survived  756 non-null    int64  \n",
      " 5   SexCode   756 non-null    int64  \n",
      "dtypes: float64(1), int64(2), object(3)\n",
      "memory usage: 41.3+ KB\n"
     ]
    }
   ],
   "source": [
    "import pandas as pd\n",
    "import statsmodels.api as sm\n",
    "import statsmodels.formula.api as smf\n",
    "from sklearn.linear_model import LogisticRegression\n",
    "\n",
    "titanic = sm.datasets.get_rdataset('Titanic','Stat2Data').data.dropna()\n",
    "titanic.info()"
   ]
  },
  {
   "cell_type": "markdown",
   "metadata": {
    "colab_type": "text",
    "id": "jIra_Ik2DCwv"
   },
   "source": [
    "We will model `Survived` on the age, sex and passenger class of passengers."
   ]
  },
  {
   "cell_type": "code",
   "execution_count": 37,
   "metadata": {
    "colab": {
     "base_uri": "https://localhost:8080/",
     "height": 104
    },
    "colab_type": "code",
    "executionInfo": {
     "elapsed": 12910,
     "status": "ok",
     "timestamp": 1598819452958,
     "user": {
      "displayName": "Gaby Gerlach",
      "photoUrl": "",
      "userId": "11117434220237101401"
     },
     "user_tz": 240
    },
    "id": "yMmKynfsDCww",
    "outputId": "828ad317-1659-4b22-9f72-d5ee441bfaac"
   },
   "outputs": [
    {
     "data": {
      "text/plain": [
       "LogisticRegression(C=1.0, class_weight=None, dual=False, fit_intercept=True,\n",
       "                   intercept_scaling=1, l1_ratio=None, max_iter=100,\n",
       "                   multi_class='auto', n_jobs=None, penalty='l2',\n",
       "                   random_state=None, solver='lbfgs', tol=0.0001, verbose=0,\n",
       "                   warm_start=False)"
      ]
     },
     "execution_count": 37,
     "metadata": {},
     "output_type": "execute_result"
    }
   ],
   "source": [
    "from sklearn.model_selection import train_test_split\n",
    "\n",
    "X = pd.get_dummies(titanic[['Age','Sex','PClass']], drop_first=True)\n",
    "y = titanic.Survived\n",
    "\n",
    "X_train, X_test, y_train, y_test = train_test_split(X, y , test_size = 0.2, random_state= 40) # 80/20 split\n",
    "\n",
    "lrm = LogisticRegression()\n",
    "lrm.fit(X_train, y_train)"
   ]
  },
  {
   "cell_type": "markdown",
   "metadata": {
    "colab_type": "text",
    "id": "eyLMi-KSDCw8"
   },
   "source": [
    "There are a few differences that are now evident between this model and\n",
    "the model we fit using **statsmodels**. As a reminder, we fit this model again below."
   ]
  },
  {
   "cell_type": "code",
   "execution_count": 38,
   "metadata": {
    "colab": {
     "base_uri": "https://localhost:8080/",
     "height": 359
    },
    "colab_type": "code",
    "executionInfo": {
     "elapsed": 12442,
     "status": "ok",
     "timestamp": 1598819452959,
     "user": {
      "displayName": "Gaby Gerlach",
      "photoUrl": "",
      "userId": "11117434220237101401"
     },
     "user_tz": 240
    },
    "id": "JqxpzESaDCw9",
    "outputId": "5944ba2f-fc63-45ad-e8a6-c532e56adfa5"
   },
   "outputs": [
    {
     "data": {
      "text/html": [
       "<table class=\"simpletable\">\n",
       "<caption>Generalized Linear Model Regression Results</caption>\n",
       "<tr>\n",
       "  <th>Dep. Variable:</th>       <td>Survived</td>     <th>  No. Observations:  </th>  <td>   604</td> \n",
       "</tr>\n",
       "<tr>\n",
       "  <th>Model:</th>                  <td>GLM</td>       <th>  Df Residuals:      </th>  <td>   599</td> \n",
       "</tr>\n",
       "<tr>\n",
       "  <th>Model Family:</th>        <td>Binomial</td>     <th>  Df Model:          </th>  <td>     4</td> \n",
       "</tr>\n",
       "<tr>\n",
       "  <th>Link Function:</th>         <td>logit</td>      <th>  Scale:             </th> <td>  1.0000</td>\n",
       "</tr>\n",
       "<tr>\n",
       "  <th>Method:</th>                <td>IRLS</td>       <th>  Log-Likelihood:    </th> <td> -282.34</td>\n",
       "</tr>\n",
       "<tr>\n",
       "  <th>Date:</th>            <td>Wed, 09 Dec 2020</td> <th>  Deviance:          </th> <td>  564.68</td>\n",
       "</tr>\n",
       "<tr>\n",
       "  <th>Time:</th>                <td>12:39:47</td>     <th>  Pearson chi2:      </th>  <td>  666.</td> \n",
       "</tr>\n",
       "<tr>\n",
       "  <th>No. Iterations:</th>          <td>5</td>        <th>                     </th>     <td> </td>   \n",
       "</tr>\n",
       "<tr>\n",
       "  <th>Covariance Type:</th>     <td>nonrobust</td>    <th>                     </th>     <td> </td>   \n",
       "</tr>\n",
       "</table>\n",
       "<table class=\"simpletable\">\n",
       "<tr>\n",
       "        <td></td>           <th>coef</th>     <th>std err</th>      <th>z</th>      <th>P>|z|</th>  <th>[0.025</th>    <th>0.975]</th>  \n",
       "</tr>\n",
       "<tr>\n",
       "  <th>Intercept</th>     <td>    3.6795</td> <td>    0.440</td> <td>    8.362</td> <td> 0.000</td> <td>    2.817</td> <td>    4.542</td>\n",
       "</tr>\n",
       "<tr>\n",
       "  <th>Sex[T.male]</th>   <td>   -2.5138</td> <td>    0.221</td> <td>  -11.353</td> <td> 0.000</td> <td>   -2.948</td> <td>   -2.080</td>\n",
       "</tr>\n",
       "<tr>\n",
       "  <th>PClass[T.2nd]</th> <td>   -1.2057</td> <td>    0.290</td> <td>   -4.155</td> <td> 0.000</td> <td>   -1.774</td> <td>   -0.637</td>\n",
       "</tr>\n",
       "<tr>\n",
       "  <th>PClass[T.3rd]</th> <td>   -2.5974</td> <td>    0.305</td> <td>   -8.528</td> <td> 0.000</td> <td>   -3.194</td> <td>   -2.000</td>\n",
       "</tr>\n",
       "<tr>\n",
       "  <th>Age</th>           <td>   -0.0367</td> <td>    0.008</td> <td>   -4.385</td> <td> 0.000</td> <td>   -0.053</td> <td>   -0.020</td>\n",
       "</tr>\n",
       "</table>"
      ],
      "text/plain": [
       "<class 'statsmodels.iolib.summary.Summary'>\n",
       "\"\"\"\n",
       "                 Generalized Linear Model Regression Results                  \n",
       "==============================================================================\n",
       "Dep. Variable:               Survived   No. Observations:                  604\n",
       "Model:                            GLM   Df Residuals:                      599\n",
       "Model Family:                Binomial   Df Model:                            4\n",
       "Link Function:                  logit   Scale:                          1.0000\n",
       "Method:                          IRLS   Log-Likelihood:                -282.34\n",
       "Date:                Wed, 09 Dec 2020   Deviance:                       564.68\n",
       "Time:                        12:39:47   Pearson chi2:                     666.\n",
       "No. Iterations:                     5                                         \n",
       "Covariance Type:            nonrobust                                         \n",
       "=================================================================================\n",
       "                    coef    std err          z      P>|z|      [0.025      0.975]\n",
       "---------------------------------------------------------------------------------\n",
       "Intercept         3.6795      0.440      8.362      0.000       2.817       4.542\n",
       "Sex[T.male]      -2.5138      0.221    -11.353      0.000      -2.948      -2.080\n",
       "PClass[T.2nd]    -1.2057      0.290     -4.155      0.000      -1.774      -0.637\n",
       "PClass[T.3rd]    -2.5974      0.305     -8.528      0.000      -3.194      -2.000\n",
       "Age              -0.0367      0.008     -4.385      0.000      -0.053      -0.020\n",
       "=================================================================================\n",
       "\"\"\""
      ]
     },
     "execution_count": 38,
     "metadata": {},
     "output_type": "execute_result"
    }
   ],
   "source": [
    "titanic1 = titanic.loc[X_train.index,:]\n",
    "titanic2 = titanic.loc[X_test.index,:]\n",
    "mod_logistic = smf.glm('Survived ~ Age + Sex + PClass', data=titanic1,\n",
    "  family = sm.families.Binomial()).fit()\n",
    "mod_logistic.summary()"
   ]
  },
  {
   "cell_type": "markdown",
   "metadata": {
    "colab_type": "text",
    "id": "oCtnsuBLDCxA"
   },
   "source": [
    "We can see the objects that are available to us from the two models using\n",
    "`dir(lrm)` and `dir(mod_logistic)`. We find that `lrm` does not give us\n",
    "any parameter estimates, p-values or summary methods. It is much leaner, and, in line with other machine learning models, emphasizes predictions. So if you want to find associations between predictors and outcome, you will have to use the **statsmodels** version.\n",
    "\n",
    "Let's compare the predictions."
   ]
  },
  {
   "cell_type": "code",
   "execution_count": 39,
   "metadata": {
    "colab": {
     "base_uri": "https://localhost:8080/",
     "height": 295
    },
    "colab_type": "code",
    "executionInfo": {
     "elapsed": 12650,
     "status": "ok",
     "timestamp": 1598819453645,
     "user": {
      "displayName": "Gaby Gerlach",
      "photoUrl": "",
      "userId": "11117434220237101401"
     },
     "user_tz": 240
    },
    "id": "RxTamU2lDCxA",
    "outputId": "fd739752-83bd-4355-995e-c371282cfa52"
   },
   "outputs": [
    {
     "data": {
      "image/png": "[encoded data removed]",
      "text/plain": [
       "<Figure size 432x288 with 1 Axes>"
      ]
     },
     "metadata": {
      "needs_background": "light"
     },
     "output_type": "display_data"
    }
   ],
   "source": [
    "plt.clf()\n",
    "p1 = lrm.predict_proba(X_test)[:,1]\n",
    "p2 = mod_logistic.predict(titanic2)\n",
    "\n",
    "plt.plot(p1, p2, '.')\n",
    "plt.plot([0,1],[0,1], ':')\n",
    "plt.xlabel('scikit-learn')\n",
    "plt.ylabel('statsmodels')\n",
    "plt.title('Predictions')\n",
    "plt.show()"
   ]
  },
  {
   "cell_type": "markdown",
   "metadata": {
    "colab_type": "text",
    "id": "-iYHLOjSDCxB"
   },
   "source": [
    "First note that the prediction functions work a bit differently. For `lrm` we have to explicitly ask for the probability predictions, whereas those are automatically provided for `mod_logistic`. We also find that the predictions aren't exactly the same. This is because `lrm`, by default, runs a penalized regression using the lasso criteria (L2 norm), rather than the non-penalized version that `mod_logistic` runs. We can specify no penalty for `lrm` and can see much closer agreement between the two models."
   ]
  },
  {
   "cell_type": "code",
   "execution_count": 40,
   "metadata": {
    "colab": {
     "base_uri": "https://localhost:8080/",
     "height": 295
    },
    "colab_type": "code",
    "executionInfo": {
     "elapsed": 12151,
     "status": "ok",
     "timestamp": 1598819453646,
     "user": {
      "displayName": "Gaby Gerlach",
      "photoUrl": "",
      "userId": "11117434220237101401"
     },
     "user_tz": 240
    },
    "id": "yBVwmOyXDCxB",
    "outputId": "76e5afb2-6be6-4207-f11f-86a2143f7749"
   },
   "outputs": [
    {
     "data": {
      "image/png": "[encoded data removed]",
      "text/plain": [
       "<Figure size 432x288 with 1 Axes>"
      ]
     },
     "metadata": {
      "needs_background": "light"
     },
     "output_type": "display_data"
    }
   ],
   "source": [
    "lrm = LogisticRegression(penalty='none')\n",
    "lrm.fit(X_train, y_train)\n",
    "p1 = lrm.predict_proba(X_test)[:,1]\n",
    "\n",
    "plt.clf()\n",
    "plt.plot(p1, p2, '.')\n",
    "plt.plot([0,1],[0,1], ':')\n",
    "plt.xlabel('scikit-learn')\n",
    "plt.ylabel('statsmodels')\n",
    "plt.title('Predictions')\n",
    "plt.show()"
   ]
  },
  {
   "cell_type": "markdown",
   "metadata": {
    "colab_type": "text",
    "id": "oC8q9DJvDCxD"
   },
   "source": [
    "## Unsupervised learning\n",
    "\n",
    "\n",
    "Unsupervised learning is a class of machine learning methods where we are just trying to identify patterns in the data without any labels. This is in contrast to _supervised learning_, which are the modeling methods we have discussed above.\n",
    "\n",
    "Most unsupervised learning methods fall broadly into a set of algorithms called _cluster analysis_. **scikit-learn** provides several clustering algorithms.\n",
    "\n",
    "\n",
    "![](graphs/cluster_choice.png)\n",
    "\n",
    "\n",
    "We will demonstrate the two more popular choices -- K-Means and Agglomerative clustering (also known as hierarchical clustering). We will use the classic Fisher's Iris data for this demonstration."
   ]
  },
  {
   "cell_type": "code",
   "execution_count": 41,
   "metadata": {
    "colab": {
     "base_uri": "https://localhost:8080/",
     "height": 369
    },
    "colab_type": "code",
    "executionInfo": {
     "elapsed": 12238,
     "status": "ok",
     "timestamp": 1598819454163,
     "user": {
      "displayName": "Gaby Gerlach",
      "photoUrl": "",
      "userId": "11117434220237101401"
     },
     "user_tz": 240
    },
    "id": "p5IHSNFPDCxE",
    "outputId": "de2a4347-624a-4f0f-e678-c8bdd2612bac"
   },
   "outputs": [
    {
     "data": {
      "image/png": "[encoded data removed]",
      "text/plain": [
       "<Figure size 444.75x360 with 1 Axes>"
      ]
     },
     "metadata": {
      "needs_background": "light"
     },
     "output_type": "display_data"
    }
   ],
   "source": [
    "import statsmodels.api as sm\n",
    "import pandas as pd\n",
    "import matplotlib.pyplot as plt\n",
    "import seaborn as sns\n",
    "\n",
    "from sklearn.cluster import KMeans, AgglomerativeClustering\n",
    "\n",
    "iris = sm.datasets.get_rdataset('iris').data\n",
    "sns.relplot(data=iris, x = 'Sepal.Length',y = 'Sepal.Width', hue = 'Species');\n"
   ]
  },
  {
   "cell_type": "markdown",
   "metadata": {
    "colab_type": "text",
    "id": "TkK-Bw0mDCxG"
   },
   "source": [
    "The K-Means algorithm takes a pre-specified number of clusters as input, and then tries to find contiguous regions of the data to parse into clusters."
   ]
  },
  {
   "cell_type": "code",
   "execution_count": 42,
   "metadata": {
    "colab": {},
    "colab_type": "code",
    "executionInfo": {
     "elapsed": 11379,
     "status": "ok",
     "timestamp": 1598819454164,
     "user": {
      "displayName": "Gaby Gerlach",
      "photoUrl": "",
      "userId": "11117434220237101401"
     },
     "user_tz": 240
    },
    "id": "_amySV5WDCxG"
   },
   "outputs": [],
   "source": [
    "km = KMeans(n_clusters = 3)\n",
    "km.fit(iris[['Sepal.Length','Sepal.Width']]);"
   ]
  },
  {
   "cell_type": "code",
   "execution_count": 43,
   "metadata": {
    "colab": {
     "base_uri": "https://localhost:8080/",
     "height": 139
    },
    "colab_type": "code",
    "executionInfo": {
     "elapsed": 11103,
     "status": "ok",
     "timestamp": 1598819454164,
     "user": {
      "displayName": "Gaby Gerlach",
      "photoUrl": "",
      "userId": "11117434220237101401"
     },
     "user_tz": 240
    },
    "id": "BRe8Ywk_DCxI",
    "outputId": "3abcf829-69d8-4822-b68a-0a16dffb07b0"
   },
   "outputs": [
    {
     "data": {
      "text/plain": [
       "array([2, 2, 2, 2, 2, 2, 2, 2, 2, 2, 2, 2, 2, 2, 2, 2, 2, 2, 2, 2, 2, 2,\n",
       "       2, 2, 2, 2, 2, 2, 2, 2, 2, 2, 2, 2, 2, 2, 2, 2, 2, 2, 2, 2, 2, 2,\n",
       "       2, 2, 2, 2, 2, 2, 1, 1, 1, 0, 1, 0, 1, 0, 1, 0, 0, 0, 0, 0, 0, 1,\n",
       "       0, 0, 0, 0, 0, 0, 0, 0, 1, 1, 1, 1, 0, 0, 0, 0, 0, 0, 0, 0, 1, 0,\n",
       "       0, 0, 0, 0, 0, 0, 0, 0, 0, 0, 0, 0, 1, 0, 1, 1, 1, 1, 0, 1, 1, 1,\n",
       "       1, 1, 1, 0, 0, 1, 1, 1, 1, 0, 1, 0, 1, 0, 1, 1, 0, 0, 1, 1, 1, 1,\n",
       "       1, 0, 0, 1, 1, 1, 0, 1, 1, 1, 0, 1, 1, 1, 0, 1, 1, 0], dtype=int32)"
      ]
     },
     "execution_count": 43,
     "metadata": {},
     "output_type": "execute_result"
    }
   ],
   "source": [
    "km.labels_"
   ]
  },
  {
   "cell_type": "code",
   "execution_count": 44,
   "metadata": {
    "colab": {
     "base_uri": "https://localhost:8080/",
     "height": 369
    },
    "colab_type": "code",
    "executionInfo": {
     "elapsed": 11597,
     "status": "ok",
     "timestamp": 1598819454942,
     "user": {
      "displayName": "Gaby Gerlach",
      "photoUrl": "",
      "userId": "11117434220237101401"
     },
     "user_tz": 240
    },
    "id": "3dUSj74yDCxL",
    "outputId": "cc3d4fcd-e930-414b-f719-163db277fc52"
   },
   "outputs": [
    {
     "data": {
      "image/png": "[encoded data removed]",
      "text/plain": [
       "<Figure size 445.875x360 with 1 Axes>"
      ]
     },
     "metadata": {
      "needs_background": "light"
     },
     "output_type": "display_data"
    }
   ],
   "source": [
    "iris['km_labels'] = km.labels_\n",
    "iris['km_labels'] = iris.km_labels.astype('category')\n",
    "\n",
    "sns.relplot(data=iris, x = 'Sepal.Length', y = 'Sepal.Width',\n",
    "           hue = 'km_labels');"
   ]
  },
  {
   "cell_type": "markdown",
   "metadata": {
    "colab_type": "text",
    "id": "ssoKvArvDCxN"
   },
   "source": [
    "Agglomerative clustering takes a different approach. It starts by coalescing individual points successively, based on a distance metric and a principle for how to coalesce groups of points (called _linkage_). The number of clusters can then be determined either visually or via different cutoffs."
   ]
  },
  {
   "cell_type": "code",
   "execution_count": 45,
   "metadata": {
    "colab": {
     "base_uri": "https://localhost:8080/",
     "height": 69
    },
    "colab_type": "code",
    "executionInfo": {
     "elapsed": 11169,
     "status": "ok",
     "timestamp": 1598819454943,
     "user": {
      "displayName": "Gaby Gerlach",
      "photoUrl": "",
      "userId": "11117434220237101401"
     },
     "user_tz": 240
    },
    "id": "rbQZb09GDCxN",
    "outputId": "f46cd1d5-f49f-49a9-eb61-695772a9f9f8"
   },
   "outputs": [
    {
     "data": {
      "text/plain": [
       "AgglomerativeClustering(affinity='euclidean', compute_full_tree='auto',\n",
       "                        connectivity=None, distance_threshold=0,\n",
       "                        linkage='complete', memory=None, n_clusters=None)"
      ]
     },
     "execution_count": 45,
     "metadata": {},
     "output_type": "execute_result"
    }
   ],
   "source": [
    "hc = AgglomerativeClustering(distance_threshold=0, n_clusters=None,\n",
    "                             linkage='complete')\n",
    "\n",
    "hc.fit(iris[['Sepal.Length','Sepal.Width']])"
   ]
  },
  {
   "cell_type": "code",
   "execution_count": 46,
   "metadata": {
    "colab": {
     "base_uri": "https://localhost:8080/",
     "height": 36
    },
    "colab_type": "code",
    "executionInfo": {
     "elapsed": 10953,
     "status": "ok",
     "timestamp": 1598819454944,
     "user": {
      "displayName": "Gaby Gerlach",
      "photoUrl": "",
      "userId": "11117434220237101401"
     },
     "user_tz": 240
    },
    "id": "70E2AjAQDCxQ",
    "outputId": "6be0af4f-dbf8-40fa-bcca-aac01b176df1"
   },
   "outputs": [
    {
     "data": {
      "text/plain": [
       "'complete'"
      ]
     },
     "execution_count": 46,
     "metadata": {},
     "output_type": "execute_result"
    }
   ],
   "source": [
    "hc.linkage"
   ]
  },
  {
   "cell_type": "code",
   "execution_count": 47,
   "metadata": {
    "colab": {
     "base_uri": "https://localhost:8080/",
     "height": 282
    },
    "colab_type": "code",
    "executionInfo": {
     "elapsed": 10726,
     "status": "ok",
     "timestamp": 1598819454945,
     "user": {
      "displayName": "Gaby Gerlach",
      "photoUrl": "",
      "userId": "11117434220237101401"
     },
     "user_tz": 240
    },
    "id": "0ixkacRZDCxS",
    "outputId": "96e5fb61-dd22-4030-e7b2-d38d04ce691e"
   },
   "outputs": [
    {
     "data": {
      "image/png": "[encoded data removed]",
      "text/plain": [
       "<Figure size 432x288 with 1 Axes>"
      ]
     },
     "metadata": {
      "needs_background": "light"
     },
     "output_type": "display_data"
    }
   ],
   "source": [
    "from scipy.cluster.hierarchy import dendrogram\n",
    "\n",
    "## The following is from https://scikit-learn.org/stable/auto_examples/cluster/plot_agglomerative_dendrogram.html\n",
    "def plot_dendrogram(model, **kwargs):\n",
    "    # Create linkage matrix and then plot the dendrogram\n",
    "\n",
    "    # create the counts of samples under each node\n",
    "    counts = np.zeros(model.children_.shape[0])\n",
    "    n_samples = len(model.labels_)\n",
    "    for i, merge in enumerate(model.children_):\n",
    "        current_count = 0\n",
    "        for child_idx in merge:\n",
    "            if child_idx < n_samples:\n",
    "                current_count += 1  # leaf node\n",
    "            else:\n",
    "                current_count += counts[child_idx - n_samples]\n",
    "        counts[i] = current_count\n",
    "\n",
    "    linkage_matrix = np.column_stack([model.children_, model.distances_,\n",
    "                                      counts]).astype(float)\n",
    "\n",
    "    # Plot the corresponding dendrogram\n",
    "    dendrogram(linkage_matrix, **kwargs)\n",
    "\n",
    "plot_dendrogram(hc, truncate_mode='level', p=3)\n",
    "plt.xlabel(\"Number of points in node (or index of point if no parenthesis).\")\n",
    "plt.show()\n"
   ]
  },
  {
   "cell_type": "code",
   "execution_count": 48,
   "metadata": {
    "colab": {},
    "colab_type": "code",
    "executionInfo": {
     "elapsed": 10805,
     "status": "ok",
     "timestamp": 1598819455275,
     "user": {
      "displayName": "Gaby Gerlach",
      "photoUrl": "",
      "userId": "11117434220237101401"
     },
     "user_tz": 240
    },
    "id": "WOneBr1XDCxU"
   },
   "outputs": [],
   "source": [
    "hc = AgglomerativeClustering( n_clusters=3,\n",
    "                             linkage='average')\n",
    "\n",
    "hc.fit(iris[['Sepal.Length','Sepal.Width']]);\n"
   ]
  },
  {
   "cell_type": "code",
   "execution_count": 49,
   "metadata": {
    "colab": {
     "base_uri": "https://localhost:8080/",
     "height": 139
    },
    "colab_type": "code",
    "executionInfo": {
     "elapsed": 10601,
     "status": "ok",
     "timestamp": 1598819455276,
     "user": {
      "displayName": "Gaby Gerlach",
      "photoUrl": "",
      "userId": "11117434220237101401"
     },
     "user_tz": 240
    },
    "id": "4x9nBj1LDCxW",
    "outputId": "0173e176-b686-4704-d5be-741767b8fde9"
   },
   "outputs": [
    {
     "data": {
      "text/plain": [
       "array([0, 0, 0, 0, 0, 0, 0, 0, 0, 0, 0, 0, 0, 0, 0, 0, 0, 0, 0, 0, 0, 0,\n",
       "       0, 0, 0, 0, 0, 0, 0, 0, 0, 0, 0, 0, 0, 0, 0, 0, 0, 0, 0, 0, 0, 0,\n",
       "       0, 0, 0, 0, 0, 0, 2, 2, 2, 2, 2, 2, 2, 0, 2, 0, 0, 2, 2, 2, 2, 2,\n",
       "       2, 2, 2, 2, 2, 2, 2, 2, 2, 2, 2, 2, 2, 2, 2, 2, 2, 2, 2, 2, 2, 2,\n",
       "       2, 2, 2, 2, 2, 0, 2, 2, 2, 2, 0, 2, 2, 2, 1, 2, 2, 1, 0, 1, 2, 1,\n",
       "       2, 2, 2, 2, 2, 2, 2, 1, 1, 2, 2, 2, 1, 2, 2, 1, 2, 2, 2, 1, 1, 1,\n",
       "       2, 2, 2, 1, 2, 2, 2, 2, 2, 2, 2, 2, 2, 2, 2, 2, 2, 2])"
      ]
     },
     "execution_count": 49,
     "metadata": {},
     "output_type": "execute_result"
    }
   ],
   "source": [
    "hc.labels_"
   ]
  },
  {
   "cell_type": "code",
   "execution_count": 50,
   "metadata": {
    "colab": {
     "base_uri": "https://localhost:8080/",
     "height": 369
    },
    "colab_type": "code",
    "executionInfo": {
     "elapsed": 10391,
     "status": "ok",
     "timestamp": 1598819455278,
     "user": {
      "displayName": "Gaby Gerlach",
      "photoUrl": "",
      "userId": "11117434220237101401"
     },
     "user_tz": 240
    },
    "id": "TtTT24GbDCxY",
    "outputId": "a73e396b-dcc8-4dc1-8b76-10b5ad798470"
   },
   "outputs": [
    {
     "data": {
      "image/png": "[encoded data removed]",
      "text/plain": [
       "<Figure size 442.375x360 with 1 Axes>"
      ]
     },
     "metadata": {
      "needs_background": "light"
     },
     "output_type": "display_data"
    }
   ],
   "source": [
    "iris['hc_labels'] = pd.Series(hc.labels_).astype('category')\n",
    "\n",
    "sns.relplot(data=iris, x = 'Sepal.Length', y= 'Sepal.Width',\n",
    "           hue = 'hc_labels');\n"
   ]
  },
  {
   "cell_type": "markdown",
   "metadata": {
    "colab_type": "text",
    "id": "6t2RDyjnDCxZ"
   },
   "source": [
    "Play around with different linkage methods to see how these clusters change."
   ]
  }
 ],
 "metadata": {
  "colab": {
   "name": "05_python_learning.ipynb",
   "provenance": [],
   "toc_visible": true
  },
  "jupytext": {
   "formats": "ipynb,Rmd"
  },
  "kernelspec": {
   "display_name": "Python 3",
   "language": "python",
   "name": "python3"
  },
  "language_info": {
   "codemirror_mode": {
    "name": "ipython",
    "version": 3
   },
   "file_extension": ".py",
   "mimetype": "text/x-python",
   "name": "python",
   "nbconvert_exporter": "python",
   "pygments_lexer": "ipython3",
   "version": "3.7.6"
  }
 },
 "nbformat": 4,
 "nbformat_minor": 1
}
