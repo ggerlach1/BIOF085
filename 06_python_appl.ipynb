{
 "cells": [
  {
   "cell_type": "markdown",
   "metadata": {
    "id": "kwlh75WC2ZYE"
   },
   "source": [
    "# String manipulation\n",
    "\n",
    "String manipulation is one of Python's strong suites. It comes built in with methods for strings, and the `re` module (for *regular expressions*) ups that power many fold. \n",
    "\n",
    "Strings are objects that we typically see in quotes. We can also check if a variable is a string."
   ]
  },
  {
   "cell_type": "code",
   "execution_count": 1,
   "metadata": {
    "id": "iEWsUqqu2ZYE",
    "name": "06-python-appl-1",
    "outputId": "4619b939-fb29-40a6-930e-71507df6f1e8"
   },
   "outputs": [
    {
     "data": {
      "text/plain": [
       "str"
      ]
     },
     "execution_count": 1,
     "metadata": {},
     "output_type": "execute_result"
    }
   ],
   "source": [
    "a = 'Les Miserable'\n",
    "\n",
    "type(a)"
   ]
  },
  {
   "cell_type": "markdown",
   "metadata": {
    "id": "qrhyoE3O2ZYF"
   },
   "source": [
    "Strings are a little funny. They look like they are one thing, but they can act like lists. In some sense they \n",
    "are really a container of characters. So we can have"
   ]
  },
  {
   "cell_type": "code",
   "execution_count": 2,
   "metadata": {
    "id": "KGd_6kXH2ZYF",
    "name": "06-python-appl-2",
    "outputId": "45a0a5b3-357d-4d7d-e6d2-a5ea96eb171c"
   },
   "outputs": [
    {
     "data": {
      "text/plain": [
       "13"
      ]
     },
     "execution_count": 2,
     "metadata": {},
     "output_type": "execute_result"
    }
   ],
   "source": [
    "len(a)"
   ]
  },
  {
   "cell_type": "code",
   "execution_count": 3,
   "metadata": {
    "id": "b0EdIcG52ZYH",
    "name": "06-python-appl-3",
    "outputId": "fa53f94a-faa8-49d2-cb9a-4dd4022b8d85"
   },
   "outputs": [
    {
     "data": {
      "text/plain": [
       "'Les '"
      ]
     },
     "execution_count": 3,
     "metadata": {},
     "output_type": "execute_result"
    }
   ],
   "source": [
    "a[:4]"
   ]
  },
  {
   "cell_type": "code",
   "execution_count": 4,
   "metadata": {
    "id": "iwAlJet-2ZYH",
    "name": "06-python-appl-4",
    "outputId": "50b97bca-d041-4d6f-ed2d-6e2ac841ad8c"
   },
   "outputs": [
    {
     "data": {
      "text/plain": [
       "' Mi'"
      ]
     },
     "execution_count": 4,
     "metadata": {},
     "output_type": "execute_result"
    }
   ],
   "source": [
    "a[3:6]"
   ]
  },
  {
   "cell_type": "markdown",
   "metadata": {
    "id": "3t8GTDWf2ZYH"
   },
   "source": [
    "The rules are basically the same as lists. To make this explicit, let's consider the word 'bare'. \n",
    "In terms of positions, we can write this out.\n",
    "\n",
    "|           |      |      |      |      |\n",
    "| --------- | ---- | ---- | ---- | ---- |\n",
    "| index     | 0    | 1    | 2    | 3    |\n",
    "| string    | b    | a    | r    | e    |\n",
    "| neg index | -4   | -3   | -2   | -1   |\n",
    "|           |      |      |      |      |\n",
    "\n",
    "We can also slices strings (and lists for that matter) in intervals. So, going back to `a`, "
   ]
  },
  {
   "cell_type": "code",
   "execution_count": 5,
   "metadata": {
    "id": "2AZcIwYv2ZYH",
    "name": "06-python-appl-5",
    "outputId": "3da3f41b-69f1-4567-fe7a-ca9b874a7991"
   },
   "outputs": [
    {
     "data": {
      "text/plain": [
       "'LsMsrbe'"
      ]
     },
     "execution_count": 5,
     "metadata": {},
     "output_type": "execute_result"
    }
   ],
   "source": [
    "a[::2]"
   ]
  },
  {
   "cell_type": "markdown",
   "metadata": {
    "id": "nJuukwmy2ZYH"
   },
   "source": [
    "slices every other character. \n",
    "\n",
    "Strings come with several methods to manipulate them natively. "
   ]
  },
  {
   "cell_type": "code",
   "execution_count": 6,
   "metadata": {
    "id": "meu8ZgcV2ZYH",
    "name": "06-python-appl-6",
    "outputId": "645621d3-0040-492c-8187-aeda5b35c4cb"
   },
   "outputs": [
    {
     "data": {
      "text/plain": [
       "['Hello', ' hello', ' hello']"
      ]
     },
     "execution_count": 6,
     "metadata": {},
     "output_type": "execute_result"
    }
   ],
   "source": [
    "'White Knight'.capitalize()\n",
    "\"It's just a flesh wound\".count('u')\n",
    "'Almond'.endswith('nd')\n",
    "'White Knight'.lower()\n",
    "'White Knight'.upper()\n",
    "'flesh wound'.replace('flesh','bullet')\n",
    "' This is my song   '.strip()\n",
    "'Hello, hello, hello'.split(',')"
   ]
  },
  {
   "cell_type": "markdown",
   "metadata": {
    "id": "Fx5J6gNL2ZYH"
   },
   "source": [
    "One of the most powerful string methods is `join`. This allows us to take a list of characters, and then \n",
    "put them together using a particular separator. "
   ]
  },
  {
   "cell_type": "code",
   "execution_count": 7,
   "metadata": {
    "id": "lQ5sv5B72ZYH",
    "name": "06-python-appl-7",
    "outputId": "8ad27f1a-f9d9-4d9c-8dc8-28fe4d784528"
   },
   "outputs": [
    {
     "data": {
      "text/plain": [
       "'This is my song'"
      ]
     },
     "execution_count": 7,
     "metadata": {},
     "output_type": "execute_result"
    }
   ],
   "source": [
    "' '.join(['This','is','my','song'])"
   ]
  },
  {
   "cell_type": "markdown",
   "metadata": {
    "id": "d-V53T7m2ZYH"
   },
   "source": [
    "Also recall that we are allowed \"string arithmetic\"."
   ]
  },
  {
   "cell_type": "code",
   "execution_count": 8,
   "metadata": {
    "id": "WOqZcaZj2ZYH",
    "name": "06-python-appl-8",
    "outputId": "58ec6bc0-fc4b-402a-f8c3-3e68f796be1c"
   },
   "outputs": [
    {
     "data": {
      "text/plain": [
       "'a a a a a '"
      ]
     },
     "execution_count": 8,
     "metadata": {},
     "output_type": "execute_result"
    }
   ],
   "source": [
    "'g' + 'a' + 'f' + 'f' + 'e'\n",
    "\n",
    "'a '*5"
   ]
  },
  {
   "cell_type": "markdown",
   "metadata": {
    "id": "ywKttW9R2ZYH"
   },
   "source": [
    "### String formatting\n",
    "\n",
    "In older code, you will see a formal format statement."
   ]
  },
  {
   "cell_type": "code",
   "execution_count": 9,
   "metadata": {
    "id": "HSKZwUZ42ZYH",
    "name": "06-python-appl-9",
    "outputId": "be705f92-a1a5-4da0-ee3c-1f4a3437c6f4"
   },
   "outputs": [
    {
     "data": {
      "text/plain": [
       "'Get off my car!'"
      ]
     },
     "execution_count": 9,
     "metadata": {},
     "output_type": "execute_result"
    }
   ],
   "source": [
    "var = 'horse'\n",
    "var2 = 'car'\n",
    "\n",
    "s = 'Get off my {}!'\n",
    "\n",
    "s.format(var)\n",
    "s.format(var2)"
   ]
  },
  {
   "cell_type": "markdown",
   "metadata": {
    "id": "ccMWv_sV2ZYH"
   },
   "source": [
    "This is great for templates. "
   ]
  },
  {
   "cell_type": "code",
   "execution_count": 10,
   "metadata": {
    "id": "pNQuFOXv2ZYH",
    "name": "06-python-appl-10",
    "outputId": "c2534f42-6841-475d-bb90-1b4c3d15c10a"
   },
   "outputs": [
    {
     "name": "stdout",
     "output_type": "stream",
     "text": [
      "\n",
      "India, our native village\n",
      "There was a banyan tree.\n",
      "We used to sleep under it.\n",
      "\n",
      "\n",
      "Canada, our native village\n",
      "There was a maple tree.\n",
      "We used to sleep under it.\n",
      "\n"
     ]
    }
   ],
   "source": [
    "template_string = \"\"\"\n",
    "{country}, our native village\n",
    "There was a {species} tree.\n",
    "We used to sleep under it.\n",
    "\"\"\"\n",
    "\n",
    "print(template_string.format(country='India', species = 'banyan'))\n",
    "print(template_string.format(country = 'Canada', species = 'maple'))"
   ]
  },
  {
   "cell_type": "markdown",
   "metadata": {
    "id": "y7Ibk7HU2ZYH"
   },
   "source": [
    "We can easily expand this concept for use over a whole dataset, but that is left to the student to try."
   ]
  },
  {
   "cell_type": "markdown",
   "metadata": {
    "id": "HBBg1pLl2ZYH"
   },
   "source": [
    "In Python 3.6+, the concept of `f-strings` or formatted strings was introduced. They can be easier to read, faster and have better performance. "
   ]
  },
  {
   "cell_type": "code",
   "execution_count": 11,
   "metadata": {
    "id": "7Dc4BSfK2ZYH",
    "name": "06-python-appl-11",
    "outputId": "5becaf10-abb3-4584-9496-7fddce660b6a"
   },
   "outputs": [
    {
     "data": {
      "text/plain": [
       "'This is my USA!'"
      ]
     },
     "execution_count": 11,
     "metadata": {},
     "output_type": "execute_result"
    }
   ],
   "source": [
    "country = 'USA'\n",
    "f\"This is my {country}!\""
   ]
  },
  {
   "cell_type": "markdown",
   "metadata": {
    "id": "ABROnGUg2ZYH"
   },
   "source": [
    "This is how all those email's that are personalized slightly for each person are made! Hate to get them, but this makes sending them very convenient "
   ]
  },
  {
   "cell_type": "markdown",
   "metadata": {
    "id": "6gzAatPA2ZYH"
   },
   "source": [
    "## Regular expressions\n",
    "\n",
    "Regular expressions are amazingly powerful tools for string search and manipulation. They are available in pretty much every \n",
    "computer language in some form or the other. I'll provide a short and far from comprehensive introduction here. The website [regex101.com](https://regex101.com) is a really good resource to learn and check your regular expressions. \n",
    "\n",
    "### Pattern matching\n",
    "\n",
    "| Syntax  | Description                                                  |\n",
    "| ------- | ------------------------------------------------------------ |\n",
    "| `.`     | Matches any one character                                    |\n",
    "| `^`     | Matches from the beginning of a string                       |\n",
    "| `$`     | Matches to the end of a string                               |\n",
    "| `*`      | Matches 0 or more repetitions of the previous character      |\n",
    "| `+`     | Matches 1 or more repetitions of the previous character      |\n",
    "| `?`     | Matches 0 or 1 repetitions of the previous character         |\n",
    "| `{m}`   | Matches `m` repetitions of the previous character            |\n",
    "| `{m,n}` | Matches any number from `m` to `n` of the previous character |\n",
    "| `\\`     | Escape character                                             |\n",
    "| `[ ]`   | A set of characters (e.g. `[A-Z]` will match any capital letter) |\n",
    "| `( )`   | Matches the pattern exactly                                  |\n",
    "| `|`     | OR                                                           |\n"
   ]
  },
  {
   "cell_type": "markdown",
   "metadata": {
    "id": "Q42DYiPe2ZYH"
   },
   "source": [
    "Remeber that `dir(module)` will tell you all the functions in that module "
   ]
  },
  {
   "cell_type": "code",
   "execution_count": 7,
   "metadata": {
    "id": "mBMwo4jU2ZYH",
    "outputId": "b905b365-b8de-4955-b1aa-084267cc3021"
   },
   "outputs": [
    {
     "data": {
      "text/plain": [
       "['3', '2', '25']"
      ]
     },
     "execution_count": 7,
     "metadata": {},
     "output_type": "execute_result"
    }
   ],
   "source": [
    "import re\n",
    "d = 'orange,3,2.25'\n",
    "\n",
    "\n",
    "\n",
    "re.findall('[0-9]+',d) #find all digits of any length "
   ]
  },
  {
   "cell_type": "code",
   "execution_count": 8,
   "metadata": {
    "id": "XDdbvOLL2ZYI",
    "outputId": "4dc06f6c-f9e1-4734-d889-7a85991a9817"
   },
   "outputs": [
    {
     "data": {
      "text/plain": [
       "['3', '2.25']"
      ]
     },
     "execution_count": 8,
     "metadata": {},
     "output_type": "execute_result"
    }
   ],
   "source": [
    "re.findall('[0-9\\.]+',d) #decimal is a reserved character so we need the \\"
   ]
  },
  {
   "cell_type": "code",
   "execution_count": 11,
   "metadata": {
    "id": "zmQ_pILE2ZYI",
    "outputId": "fa1fa16e-db4c-4894-a767-251a1c6afbd0"
   },
   "outputs": [
    {
     "data": {
      "text/plain": [
       "False"
      ]
     },
     "execution_count": 11,
     "metadata": {},
     "output_type": "execute_result"
    }
   ],
   "source": [
    "x = re.findall('[0-9\\.]+',d) is None\n",
    "\n",
    "type(x)\n",
    "re.findall('[0-9\\.]+',d) is None"
   ]
  },
  {
   "cell_type": "markdown",
   "metadata": {
    "id": "vUZlFVSo2ZYI"
   },
   "source": [
    "Regular expressions are very helpful in dealing with weird things that people enter into data sheets or different formating options of something like phone numbers which have lots of formats to give the 10 digits. Regular expressions can do a lot!! Google is your friend here. They are useful for string searching in a lot of complex ways and can help with nameing variables and files."
   ]
  },
  {
   "cell_type": "markdown",
   "metadata": {
    "id": "n01bFX9k2ZYJ"
   },
   "source": [
    "# BioPython\n",
    "\n",
    "BioPython is a package aimed at bioinformatics work. As with many Python packages, it is opinionated towards the needs of the developers, so might not meet everyone's needs. \n",
    "\n",
    "You can install BioPython using `conda install biopython`.\n",
    "\n",
    "We'll do a short example here and the `genomics_project.ipynb` uses this package for a more complete example of what can be done."
   ]
  },
  {
   "cell_type": "markdown",
   "metadata": {
    "id": "e6tXf1Iv2ZYJ"
   },
   "source": [
    "By looking at their [documentation](http://biopython.org/DIST/docs/tutorial/Tutorial.html) you can get a quick look at what you can do for it"
   ]
  },
  {
   "cell_type": "code",
   "execution_count": 1,
   "metadata": {
    "id": "MZw-yj5J2ZYJ"
   },
   "outputs": [
    {
     "name": "stdout",
     "output_type": "stream",
     "text": [
      "seq CATGTAGACTAG is 12 bases long\n",
      "reverse complement is CTAGTCTACATG\n",
      "protein translation is HVD*\n"
     ]
    }
   ],
   "source": [
    "from Bio.Seq import Seq\n",
    "\n",
    "#create a sequence object\n",
    "my_seq = Seq(\"CATGTAGACTAG\")\n",
    "\n",
    "#print out some details about it \n",
    "# this is another method to format strings: %s will add a string like my_seq and %i will add an integer\n",
    "print(\"seq %s is %i bases long\" % (my_seq, len(my_seq)))\n",
    "print(\"reverse complement is %s\" % my_seq.reverse_complement())\n",
    "print(\"protein translation is %s\" % my_seq.translate())"
   ]
  },
  {
   "cell_type": "markdown",
   "metadata": {
    "id": "QXMWg9VN2ZYJ"
   },
   "source": [
    "BioPython has capabilities for querying databases like `Entrez`, read sequences, do alignments using FASTA, and the like. \n",
    "\n"
   ]
  },
  {
   "cell_type": "markdown",
   "metadata": {
    "id": "h65c21B_2ZYJ"
   },
   "source": [
    "To do specific tasks in python there are lots of other packages that have been developed"
   ]
  },
  {
   "cell_type": "markdown",
   "metadata": {
    "id": "pYFyTUeg2ZYJ"
   },
   "source": [
    "### Single Cell Analysis"
   ]
  },
  {
   "cell_type": "markdown",
   "metadata": {
    "id": "4QzxxCCE2ZYJ"
   },
   "source": [
    "One thing that a lot of people want to understand is [Seurat](https://satijalab.org/seurat/)\n",
    "\n",
    "There is a python package that is basically a python implimentation of the R package, [scanpy](https://scanpy.readthedocs.io/en/stable/)\n",
    "\n",
    "This is nice becuase python can run this pipline much, much faster than Seurat in R"
   ]
  },
  {
   "cell_type": "markdown",
   "metadata": {
    "id": "9idtUXA02ZYJ"
   },
   "source": [
    "### Image analysis"
   ]
  },
  {
   "cell_type": "markdown",
   "metadata": {
    "id": "FjcRtDJO2ZYJ"
   },
   "source": [
    "One that is built on `scikit` is [scikit-image](https://scikit-image.org/). Python is really good at analyzing arrays. It is really fast. There are ways to make python even faster at array analysis `Numba` is to `numpy` as `DASK` is to `Pandas`. These make huge datasets easier to analyze"
   ]
  },
  {
   "cell_type": "markdown",
   "metadata": {
    "id": "2rPZJmdz2ZYJ"
   },
   "source": [
    "### Try not to use Excel!\n",
    "\n",
    "It will make your workflow more reproducible and Excel leads to Excele errors. Save your data as txt files. They are more compressible and less error prone than Excel."
   ]
  },
  {
   "cell_type": "markdown",
   "metadata": {
    "id": "WKWPvh8G2ZYJ"
   },
   "source": [
    "## Futher Learning \n",
    "\n",
    "These are paid options to practice \n",
    "1. [data camp](https://www.datacamp.com/) - practice problems\n",
    "2. [data quest](https://www.dataquest.io/) - more practice \n",
    "\n",
    "Really the best way is to find a simple project to practice and use google to find resorces that are relevant to that area. Most things are open source and someone has had the error you have before. Programing is a language if you don't use it you lose it."
   ]
  },
  {
   "cell_type": "code",
   "execution_count": null,
   "metadata": {
    "id": "2KcR2Z6R2ZYJ"
   },
   "outputs": [],
   "source": []
  }
 ],
 "metadata": {
  "colab": {
   "collapsed_sections": [],
   "name": "06_python_appl.ipynb",
   "provenance": []
  },
  "jupytext": {
   "cell_metadata_filter": "name,-all",
   "formats": "ipynb,Rmd"
  },
  "kernelspec": {
   "display_name": "Python 3",
   "language": "python",
   "name": "python3"
  },
  "language_info": {
   "codemirror_mode": {
    "name": "ipython",
    "version": 3
   },
   "file_extension": ".py",
   "mimetype": "text/x-python",
   "name": "python",
   "nbconvert_exporter": "python",
   "pygments_lexer": "ipython3",
   "version": "3.7.6"
  }
 },
 "nbformat": 4,
 "nbformat_minor": 1
}
