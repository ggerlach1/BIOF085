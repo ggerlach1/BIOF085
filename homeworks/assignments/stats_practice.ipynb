{
  "nbformat": 4,
  "nbformat_minor": 0,
  "metadata": {
    "colab": {
      "name": "stats_python_practice.ipynb",
      "provenance": [],
      "collapsed_sections": []
    },
    "kernelspec": {
      "name": "python3",
      "display_name": "Python 3"
    }
  },
  "cells": [
    {
      "cell_type": "code",
      "metadata": {
        "id": "s5rspSLsgu84"
      },
      "source": [
        "### NOTES: Broad instructions are commented with \"###\", \n",
        "### shorter instructions and questions with \"#\".\n",
        "### Code will not run until TODOs are filled in!"
      ],
      "execution_count": null,
      "outputs": []
    },
    {
      "cell_type": "code",
      "metadata": {
        "id": "E4nJI5jFfFIN"
      },
      "source": [
        "### imports\n",
        "import numpy as np\n",
        "import pandas as pd\n",
        "import matplotlib.pyplot as plt\n",
        "import scipy.stats as sc"
      ],
      "execution_count": null,
      "outputs": []
    },
    {
      "cell_type": "code",
      "metadata": {
        "id": "hO_oxoxpfRkE"
      },
      "source": [
        "### load data using pandas (load_csv)\n",
        "data = # TODO: finish this line\n",
        "\n",
        "data.head() # look at the data. \n",
        "data.shape # and its shape/size\n",
        "# What features are included? What are their types? Which ones might be related?"
      ],
      "execution_count": null,
      "outputs": []
    },
    {
      "cell_type": "code",
      "metadata": {
        "id": "ljyA_8atfbcI"
      },
      "source": [
        "### get descriptive stats for a continuous variable column\n",
        "# is there a useful way to group the data?\n",
        "data.groupby(['']) # TODO: finish this line to get means for each group"
      ],
      "execution_count": null,
      "outputs": []
    },
    {
      "cell_type": "code",
      "metadata": {
        "id": "k2xsG5eefbu3"
      },
      "source": [
        "### visualize descriptive stats\n",
        "# This example uses boxplots, but other visualizations might also work well\n",
        "\n",
        "a = # TODO: finish this line. select a subgroup of the data to view stats for \n",
        "b = # TODO: finish this line. select a subgroup of the data to view stats for \n",
        "\n",
        "fig,ax = plt.subplots(1,2,figsize=(10,5))\n",
        "ax[0].boxplot(data[a]['']) # TODO: finish this line. what is the dep variable?\n",
        "ax[1].boxplot(data[b]['']) # TODO: finish this line. what is the dep variable?"
      ],
      "execution_count": null,
      "outputs": []
    },
    {
      "cell_type": "code",
      "metadata": {
        "id": "xnDQMSeBfb5_"
      },
      "source": [
        "### statistical test to compare two groups \n",
        "# how are the two groups (a and b defined above) best compared? \n",
        "# are the data for these groups independent? \n",
        "sc.ttest_ind(data[a][''], data[b][''],nan_policy='omit') # TODO: finish this line. what is being compared?\n"
      ],
      "execution_count": null,
      "outputs": []
    },
    {
      "cell_type": "code",
      "metadata": {
        "id": "k8hGt5qFjaP0"
      },
      "source": [
        "### visualize a relationship between two variables\n",
        "# plot a scatterplot of two variables.\n",
        "plt.scatter(data[''],data[''])  # TODO: finish this line. what is being plotted?\n",
        "plt.xlabel(\"Var1\") # feel free to rename \"Var1\" and \"Var2\" to the correct variable names.\n",
        "plt.ylabel(\"Var2\")"
      ],
      "execution_count": null,
      "outputs": []
    },
    {
      "cell_type": "code",
      "metadata": {
        "id": "9iwxdKO7jnm2"
      },
      "source": [
        "### linear regression of two variables\n",
        "# fit linear regression \n",
        "linreg = sc.linregress(data[''],data['']) # TODO: finish this line\n",
        "print(\"R = \"+str(linreg.rvalue))\n",
        "\n",
        "# how well does it fit?"
      ],
      "execution_count": null,
      "outputs": []
    },
    {
      "cell_type": "code",
      "metadata": {
        "id": "VdNXhcBJ0sDO"
      },
      "source": [
        "### what other tests, statistical summaries, or visualizations could be useful?\n",
        "\n"
      ],
      "execution_count": null,
      "outputs": []
    }
  ]
}