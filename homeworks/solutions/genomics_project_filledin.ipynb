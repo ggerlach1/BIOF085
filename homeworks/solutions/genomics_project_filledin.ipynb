{
 "cells": [
  {
   "cell_type": "markdown",
   "metadata": {
    "id": "TmmevUMv9fFg"
   },
   "source": [
    "# Coronavirus Sequence Analysis \n",
    "\n",
    "The goal of this activity is to get experience applying the tools learned over the last three days to a biological example.\n",
    "\n",
    "This project has been adapted from an assignment given in Computational Genomics (MSCBIO 02-710) at Carnegie Mellon Spring 2020.\n",
    "\n",
    "As we are all aware a new type of coronavirus 2019-nCoV was found in patients during an outbreak of respiratory illnesses in Wuhan, China starting near the end of 2019. This project is going to examine some of the first 2019-nCoV genome sequences that were detected and recorded from different countries and regions. \n",
    "\n",
    "You will be using 4 files:\n",
    "* `Coronaviridae_2019.fasta` - 158 genome sequences of 2019-nCoV \n",
    "* `Coronaviridae_2019_information_table.txt` - the information about these 158 sequences. It contains 3 columns, the first column represents accession IDs, the second column represents specific names of viruses, and the third column represents locations the viruses been detected \n",
    "* `Coronaviridae_old_information_table.txt` - 208 genome sequences of different types of coronavirus reported earlier.\n",
    "* `Coronaviridae_old_information_table.txt` - the information of these 208 sequences. It containes 4 columns, the first column represents accession IDs, the second column represents specific names of viruses, the third column represents host-names of viruses, and the last column contains the information of virus lineage\n",
    "\n",
    "These datasets were downloaded from [GISAID](https://www.gisaid.org/) and [Virus-Host DB](https://www.genome.jp/virushostdb/)  "
   ]
  },
  {
   "cell_type": "markdown",
   "metadata": {
    "id": "Vgzjsluv9fFg"
   },
   "source": [
    "Let's look at the data before going further. We will be using `SeqIO` the standard sequence input/output interface for BioPython. We need to load the sequences and their corresponding `.txt` files. Luckily, there is a straightforward method to do this."
   ]
  },
  {
   "cell_type": "code",
   "execution_count": 1,
   "metadata": {
    "id": "5Pvj9gTb9fFh"
   },
   "outputs": [],
   "source": [
    "#import relavent modules including the piece of Biopython we need \n",
    "\n",
    "import numpy as np\n",
    "import matplotlib.pyplot as plt\n",
    "import pandas as pd\n",
    "from Bio import SeqIO"
   ]
  },
  {
   "cell_type": "code",
   "execution_count": 2,
   "metadata": {
    "id": "32p8cuB19fFh"
   },
   "outputs": [],
   "source": [
    "record_dict_old = SeqIO.to_dict(SeqIO.parse('data/Coronaviridae_old.fasta', 'fasta'))\n",
    "record_dict_old_index = SeqIO.index('data/Coronaviridae_old.fasta','fasta')"
   ]
  },
  {
   "cell_type": "markdown",
   "metadata": {
    "id": "FlQudouw9fFh"
   },
   "source": [
    "By looking at one of the sequences we can see what sort of information is contained within the `.fasta` file. It is a little hard to read but there is a sequence, ID, and several descriptors. The other version with the function `SeqIO.index` is used to put the sequences in a format that will be useful later."
   ]
  },
  {
   "cell_type": "code",
   "execution_count": 3,
   "metadata": {
    "id": "8uemlglu9fFh",
    "outputId": "f9fa23c8-2e64-47dc-c4c2-ec975c242bc0"
   },
   "outputs": [
    {
     "data": {
      "text/plain": [
       "SeqRecord(seq=Seq('tataagagtgattggcgtccgtacgtaccctctctactctaaaactcttgtagt...aaa', SingleLetterAlphabet()), id='AC_000192', name='AC_000192', description='AC_000192 Murine hepatitis virus strain JHM|Mus musculus|Viruses; Riboviria; Nidovirales; Cornidovirineae; Coronaviridae; Orthocoronavirinae; Betacoronavirus; Embecovirus; Murine coronavirus; Murine hepatitis virus|Eukaryota; Metazoa; Chordata; Craniata; Sarcopterygii; Mammalia; Euarchontoglires; Rodentia; Myomorpha; Muridae; Murinae; Mus; Mus||', dbxrefs=[])"
      ]
     },
     "execution_count": 3,
     "metadata": {},
     "output_type": "execute_result"
    }
   ],
   "source": [
    "record_dict_old['AC_000192']"
   ]
  },
  {
   "cell_type": "markdown",
   "metadata": {
    "id": "v42-5EFS9fFi"
   },
   "source": [
    "We can also use the `help()` function in python to figure out what was done above to read in the files. We first used `SeqIO.parse` "
   ]
  },
  {
   "cell_type": "code",
   "execution_count": 4,
   "metadata": {
    "id": "9yKB6GyC9fFi",
    "outputId": "01b4c991-a50c-446d-8a26-69df15a6c706"
   },
   "outputs": [
    {
     "name": "stdout",
     "output_type": "stream",
     "text": [
      "Help on function parse in module Bio.SeqIO:\n",
      "\n",
      "parse(handle, format, alphabet=None)\n",
      "    Turn a sequence file into an iterator returning SeqRecords.\n",
      "    \n",
      "    Arguments:\n",
      "     - handle   - handle to the file, or the filename as a string\n",
      "       (note older versions of Biopython only took a handle).\n",
      "     - format   - lower case string describing the file format.\n",
      "     - alphabet - optional Alphabet object, useful when the sequence type\n",
      "       cannot be automatically inferred from the file itself\n",
      "       (e.g. format=\"fasta\" or \"tab\")\n",
      "    \n",
      "    Typical usage, opening a file to read in, and looping over the record(s):\n",
      "    \n",
      "    >>> from Bio import SeqIO\n",
      "    >>> filename = \"Fasta/sweetpea.nu\"\n",
      "    >>> for record in SeqIO.parse(filename, \"fasta\"):\n",
      "    ...    print(\"ID %s\" % record.id)\n",
      "    ...    print(\"Sequence length %i\" % len(record))\n",
      "    ...    print(\"Sequence alphabet %s\" % record.seq.alphabet)\n",
      "    ID gi|3176602|gb|U78617.1|LOU78617\n",
      "    Sequence length 309\n",
      "    Sequence alphabet SingleLetterAlphabet()\n",
      "    \n",
      "    For file formats like FASTA where the alphabet cannot be determined, it\n",
      "    may be useful to specify the alphabet explicitly:\n",
      "    \n",
      "    >>> from Bio import SeqIO\n",
      "    >>> from Bio.Alphabet import generic_dna\n",
      "    >>> filename = \"Fasta/sweetpea.nu\"\n",
      "    >>> for record in SeqIO.parse(filename, \"fasta\", generic_dna):\n",
      "    ...    print(\"ID %s\" % record.id)\n",
      "    ...    print(\"Sequence length %i\" % len(record))\n",
      "    ...    print(\"Sequence alphabet %s\" % record.seq.alphabet)\n",
      "    ID gi|3176602|gb|U78617.1|LOU78617\n",
      "    Sequence length 309\n",
      "    Sequence alphabet DNAAlphabet()\n",
      "    \n",
      "    If you have a string 'data' containing the file contents, you must\n",
      "    first turn this into a handle in order to parse it:\n",
      "    \n",
      "    >>> data = \">Alpha\\nACCGGATGTA\\n>Beta\\nAGGCTCGGTTA\\n\"\n",
      "    >>> from Bio import SeqIO\n",
      "    >>> from io import StringIO\n",
      "    >>> for record in SeqIO.parse(StringIO(data), \"fasta\"):\n",
      "    ...     print(\"%s %s\" % (record.id, record.seq))\n",
      "    Alpha ACCGGATGTA\n",
      "    Beta AGGCTCGGTTA\n",
      "    \n",
      "    Use the Bio.SeqIO.read(...) function when you expect a single record\n",
      "    only.\n",
      "\n"
     ]
    }
   ],
   "source": [
    "help(SeqIO.parse)"
   ]
  },
  {
   "cell_type": "markdown",
   "metadata": {
    "id": "sd_sbfpp9fFi"
   },
   "source": [
    "As the documentation mentions we use this to open a file to read in a loop over the records. The second function `SeqIO.to_dict` as you can probably guess takes this information and putts it in a dictionary for later use. **Please read in the 2019 data in a similar manor bellow and save it to a dictionary**"
   ]
  },
  {
   "cell_type": "code",
   "execution_count": 5,
   "metadata": {
    "id": "gYXpo5de9fFi"
   },
   "outputs": [],
   "source": [
    "## read in 2019-nCoV sequences (delete the stuff below this)\n",
    "\n",
    "record_dict_new = SeqIO.to_dict(SeqIO.parse('data/Coronaviridae_2019_new.fasta','fasta'))\n",
    "record_dict_new_index = SeqIO.index('data/Coronaviridae_2019_new.fasta','fasta')"
   ]
  },
  {
   "cell_type": "markdown",
   "metadata": {
    "id": "IXzTFwy79fFi"
   },
   "source": [
    "## Part 1: Virus clustering \n",
    "**Your goal**  is to cluster viral sequences from the two fasta files according to their sequence information to see how different the new Coronavirus sequences are from the old ones. We are going to break this process into several steps that make it easier to follow. "
   ]
  },
  {
   "cell_type": "markdown",
   "metadata": {
    "id": "NMVnCsqa9fFi"
   },
   "source": [
    "### Step 1: Calculate the frequency of each *k*-mer in each sequence.\n",
    "\n",
    "We are using *k*-mers because it makes the data have a more manigable number of dimensions that we can work with. For example, if you have a sequence \"AAAG\" and set k=2 then the frequency of \"AA\" is 2, \"AG\" is 1, and all other 2-mers are 0. We are going to get these frequencies for all of the sequences in our datasets.\n",
    "\n",
    "There are several possible approaches to what we want to do (see if you can think of another one), you are going to determine all the possible *k*-mers for normal nucleic acid sequences and then search each sequence for that information. This approach assumes a few things (can you think of one? **include assumption here**)"
   ]
  },
  {
   "cell_type": "code",
   "execution_count": 6,
   "metadata": {
    "id": "rPka3bcK9fFi"
   },
   "outputs": [],
   "source": [
    "import itertools\n",
    "import re"
   ]
  },
  {
   "cell_type": "code",
   "execution_count": 7,
   "metadata": {
    "id": "WwQqg6HH9fFi"
   },
   "outputs": [],
   "source": [
    "# function to get k-mers\n",
    "def get_kmers(k):\n",
    "    tupls = itertools.product('AGCT',repeat=k) #this function creates iterable objects from the string that you give it\n",
    "    kmers = []\n",
    "    for tup in tupls:\n",
    "        string =  ''.join(tup) \n",
    "        kmers.append(string) # this is adding each kmer to a list called kmer for later use \n",
    "    return kmers"
   ]
  },
  {
   "cell_type": "markdown",
   "metadata": {
    "id": "ISio8qFg9fFi"
   },
   "source": [
    "Do you know what `string = ''.join(tup)` line is doing? Can you add a print statement to figure it out? **include explination of that line here**\n",
    "\n",
    "Run the function for some number k (between 2 and 6) and save the list of kmers as a variable for later use:"
   ]
  },
  {
   "cell_type": "code",
   "execution_count": 13,
   "metadata": {
    "id": "kyWJS2XH9fFi"
   },
   "outputs": [],
   "source": [
    "## run the function and save the output to a variable called kmers (delete the stuff below this comment)\n",
    "kmers = get_kmers(3)"
   ]
  },
  {
   "cell_type": "code",
   "execution_count": 15,
   "metadata": {},
   "outputs": [
    {
     "data": {
      "text/plain": [
       "64"
      ]
     },
     "execution_count": 15,
     "metadata": {},
     "output_type": "execute_result"
    }
   ],
   "source": [
    "len(kmers)"
   ]
  },
  {
   "cell_type": "markdown",
   "metadata": {
    "id": "6MNtaRE59fFi"
   },
   "source": [
    "Now that we have a list of possible *k*-mers we need to search all the sequences in our dataset for these *k*-mers and save them into vectors for future use. We have taken sequences and transformed them into a data format (vectors) which is much easier to use for furture analysis. What we are going to end up with is a vector for each sequence and each number within that vector corresponds to the number of times that *k*-mer is found within that sequence."
   ]
  },
  {
   "cell_type": "code",
   "execution_count": 12,
   "metadata": {
    "id": "yWAwuGrB9fFi"
   },
   "outputs": [],
   "source": [
    "record_dict_new_index = SeqIO.index('data/Coronaviridae_2019_new_aligned.fasta','fasta')\n",
    "record_dict_old_index = SeqIO.index('data/Coronaviridae_old.fasta','fasta')"
   ]
  },
  {
   "cell_type": "code",
   "execution_count": 16,
   "metadata": {
    "id": "5ioWCG8n9fFi"
   },
   "outputs": [],
   "source": [
    "## this function is missing two lines. \n",
    "## 1.the first line and it initializes a numpy array (of zeros) that is \n",
    "## the length of the list of kmers you just generated\n",
    "## 2. Adds the vector with frequenceis (vect) to the vector in 1 via a vertical stack \n",
    "\n",
    "def make_vectors(dic, kmers):\n",
    "    k_mers_vects = np.zeros((len(kmers))) # remove this line \n",
    "    for seq in dic:\n",
    "        seq_i = dic.get_raw(str(seq)).decode().upper() # we need .upper because this method assumed that all the nucleiotides would be upper case letters \n",
    "        vect = []\n",
    "        for mer in kmers:\n",
    "            vect.append(len(re.findall(mer,seq_i)))# this line finds all the instances of a particular mer in the sequence\n",
    "        k_mers_vects = np.vstack((k_mers_vects, vect)) #remove this line \n",
    "    final = np.delete(k_mers_vects,0,axis=0)\n",
    "    return (final.T/final.sum(axis=1)).T"
   ]
  },
  {
   "cell_type": "markdown",
   "metadata": {
    "id": "c56hKGV29fFi"
   },
   "source": [
    "Run this function on the new and old datasets saving the output to variables. "
   ]
  },
  {
   "cell_type": "code",
   "execution_count": 17,
   "metadata": {
    "id": "uKroIinV9fFi"
   },
   "outputs": [],
   "source": [
    "## Run the above function and save the output using your generated kmers and the format of the data called _index \n",
    "\n",
    "new_vects = make_vectors(record_dict_new_index, kmers)\n",
    "old_vects = make_vectors(record_dict_old_index,kmers)"
   ]
  },
  {
   "cell_type": "markdown",
   "metadata": {
    "id": "96tcvCeg9fFi"
   },
   "source": [
    "### Step 2: Prefrom dimensionality reduction using PCA"
   ]
  },
  {
   "cell_type": "markdown",
   "metadata": {
    "id": "YnvIe7Fh9fFi"
   },
   "source": [
    "PCA stands for Principal Component Analysis:\n",
    "\n",
    ">**What Is Principal Component Analysis?**\n",
    "Principal Component Analysis, or PCA, is a dimensionality-reduction method that is often used to reduce the dimensionality of large data sets, by transforming a large set of variables into a smaller one that still contains most of the information in the large set.\n",
    "Reducing the number of variables of a data set naturally comes at the expense of accuracy, but the trick in dimensionality reduction is to trade a little accuracy for simplicity. Because smaller data sets are easier to explore and visualize and make analyzing data much easier and faster for machine learning algorithms without extraneous variables to process.\n",
    "So to sum up, the idea of PCA is simple — reduce the number of variables of a data set, while preserving as much information as possible. More information can be found [here](https://builtin.com/data-science/step-step-explanation-principal-component-analysis)\n",
    "\n",
    "We are going to use this method to reduce our data from having the same number of features/demensions as the number of possible *k*-mers to just 2 dimensions, which will make it easier to use.\n",
    "\n",
    "Just like the other examples we have seen using `scikit-learn` setting this up actually only takes a couple lines of code after we have imported all the required modules."
   ]
  },
  {
   "cell_type": "code",
   "execution_count": 18,
   "metadata": {
    "id": "I7Adqs239fFi"
   },
   "outputs": [],
   "source": [
    "from sklearn.decomposition import PCA"
   ]
  },
  {
   "cell_type": "markdown",
   "metadata": {
    "id": "5AW_Tc3o9fFj"
   },
   "source": [
    "Bellow is the skelaton of a function that initiates a PCA element and then fits and transforms the data we give it (the vectors of k-mers) returning the demension reduced data. I have placed this in a function so it is easier to use multiple times.\n",
    "\n",
    "It is missing one thing. When the PCA is being initiated you have to give it the number of components/demensions that you want as output. **You need to determine this number and add the correct parameter**. Then you need to combine the two sets of vectors (new and old) into one large matrix with all the sequences and run PCA on that final matrix. "
   ]
  },
  {
   "cell_type": "code",
   "execution_count": 19,
   "metadata": {
    "collapsed": true,
    "id": "XkIUAojV9fFj",
    "outputId": "3f6eb8ab-76ed-44aa-ff19-36b1344fac8b"
   },
   "outputs": [
    {
     "name": "stdout",
     "output_type": "stream",
     "text": [
      "Help on class PCA in module sklearn.decomposition._pca:\n",
      "\n",
      "class PCA(sklearn.decomposition._base._BasePCA)\n",
      " |  PCA(n_components=None, copy=True, whiten=False, svd_solver='auto', tol=0.0, iterated_power='auto', random_state=None)\n",
      " |  \n",
      " |  Principal component analysis (PCA).\n",
      " |  \n",
      " |  Linear dimensionality reduction using Singular Value Decomposition of the\n",
      " |  data to project it to a lower dimensional space. The input data is centered\n",
      " |  but not scaled for each feature before applying the SVD.\n",
      " |  \n",
      " |  It uses the LAPACK implementation of the full SVD or a randomized truncated\n",
      " |  SVD by the method of Halko et al. 2009, depending on the shape of the input\n",
      " |  data and the number of components to extract.\n",
      " |  \n",
      " |  It can also use the scipy.sparse.linalg ARPACK implementation of the\n",
      " |  truncated SVD.\n",
      " |  \n",
      " |  Notice that this class does not support sparse input. See\n",
      " |  :class:`TruncatedSVD` for an alternative with sparse data.\n",
      " |  \n",
      " |  Read more in the :ref:`User Guide <PCA>`.\n",
      " |  \n",
      " |  Parameters\n",
      " |  ----------\n",
      " |  n_components : int, float, None or str\n",
      " |      Number of components to keep.\n",
      " |      if n_components is not set all components are kept::\n",
      " |  \n",
      " |          n_components == min(n_samples, n_features)\n",
      " |  \n",
      " |      If ``n_components == 'mle'`` and ``svd_solver == 'full'``, Minka's\n",
      " |      MLE is used to guess the dimension. Use of ``n_components == 'mle'``\n",
      " |      will interpret ``svd_solver == 'auto'`` as ``svd_solver == 'full'``.\n",
      " |  \n",
      " |      If ``0 < n_components < 1`` and ``svd_solver == 'full'``, select the\n",
      " |      number of components such that the amount of variance that needs to be\n",
      " |      explained is greater than the percentage specified by n_components.\n",
      " |  \n",
      " |      If ``svd_solver == 'arpack'``, the number of components must be\n",
      " |      strictly less than the minimum of n_features and n_samples.\n",
      " |  \n",
      " |      Hence, the None case results in::\n",
      " |  \n",
      " |          n_components == min(n_samples, n_features) - 1\n",
      " |  \n",
      " |  copy : bool, default=True\n",
      " |      If False, data passed to fit are overwritten and running\n",
      " |      fit(X).transform(X) will not yield the expected results,\n",
      " |      use fit_transform(X) instead.\n",
      " |  \n",
      " |  whiten : bool, optional (default False)\n",
      " |      When True (False by default) the `components_` vectors are multiplied\n",
      " |      by the square root of n_samples and then divided by the singular values\n",
      " |      to ensure uncorrelated outputs with unit component-wise variances.\n",
      " |  \n",
      " |      Whitening will remove some information from the transformed signal\n",
      " |      (the relative variance scales of the components) but can sometime\n",
      " |      improve the predictive accuracy of the downstream estimators by\n",
      " |      making their data respect some hard-wired assumptions.\n",
      " |  \n",
      " |  svd_solver : str {'auto', 'full', 'arpack', 'randomized'}\n",
      " |      If auto :\n",
      " |          The solver is selected by a default policy based on `X.shape` and\n",
      " |          `n_components`: if the input data is larger than 500x500 and the\n",
      " |          number of components to extract is lower than 80% of the smallest\n",
      " |          dimension of the data, then the more efficient 'randomized'\n",
      " |          method is enabled. Otherwise the exact full SVD is computed and\n",
      " |          optionally truncated afterwards.\n",
      " |      If full :\n",
      " |          run exact full SVD calling the standard LAPACK solver via\n",
      " |          `scipy.linalg.svd` and select the components by postprocessing\n",
      " |      If arpack :\n",
      " |          run SVD truncated to n_components calling ARPACK solver via\n",
      " |          `scipy.sparse.linalg.svds`. It requires strictly\n",
      " |          0 < n_components < min(X.shape)\n",
      " |      If randomized :\n",
      " |          run randomized SVD by the method of Halko et al.\n",
      " |  \n",
      " |      .. versionadded:: 0.18.0\n",
      " |  \n",
      " |  tol : float >= 0, optional (default .0)\n",
      " |      Tolerance for singular values computed by svd_solver == 'arpack'.\n",
      " |  \n",
      " |      .. versionadded:: 0.18.0\n",
      " |  \n",
      " |  iterated_power : int >= 0, or 'auto', (default 'auto')\n",
      " |      Number of iterations for the power method computed by\n",
      " |      svd_solver == 'randomized'.\n",
      " |  \n",
      " |      .. versionadded:: 0.18.0\n",
      " |  \n",
      " |  random_state : int, RandomState instance or None, optional (default None)\n",
      " |      If int, random_state is the seed used by the random number generator;\n",
      " |      If RandomState instance, random_state is the random number generator;\n",
      " |      If None, the random number generator is the RandomState instance used\n",
      " |      by `np.random`. Used when ``svd_solver`` == 'arpack' or 'randomized'.\n",
      " |  \n",
      " |      .. versionadded:: 0.18.0\n",
      " |  \n",
      " |  Attributes\n",
      " |  ----------\n",
      " |  components_ : array, shape (n_components, n_features)\n",
      " |      Principal axes in feature space, representing the directions of\n",
      " |      maximum variance in the data. The components are sorted by\n",
      " |      ``explained_variance_``.\n",
      " |  \n",
      " |  explained_variance_ : array, shape (n_components,)\n",
      " |      The amount of variance explained by each of the selected components.\n",
      " |  \n",
      " |      Equal to n_components largest eigenvalues\n",
      " |      of the covariance matrix of X.\n",
      " |  \n",
      " |      .. versionadded:: 0.18\n",
      " |  \n",
      " |  explained_variance_ratio_ : array, shape (n_components,)\n",
      " |      Percentage of variance explained by each of the selected components.\n",
      " |  \n",
      " |      If ``n_components`` is not set then all components are stored and the\n",
      " |      sum of the ratios is equal to 1.0.\n",
      " |  \n",
      " |  singular_values_ : array, shape (n_components,)\n",
      " |      The singular values corresponding to each of the selected components.\n",
      " |      The singular values are equal to the 2-norms of the ``n_components``\n",
      " |      variables in the lower-dimensional space.\n",
      " |  \n",
      " |      .. versionadded:: 0.19\n",
      " |  \n",
      " |  mean_ : array, shape (n_features,)\n",
      " |      Per-feature empirical mean, estimated from the training set.\n",
      " |  \n",
      " |      Equal to `X.mean(axis=0)`.\n",
      " |  \n",
      " |  n_components_ : int\n",
      " |      The estimated number of components. When n_components is set\n",
      " |      to 'mle' or a number between 0 and 1 (with svd_solver == 'full') this\n",
      " |      number is estimated from input data. Otherwise it equals the parameter\n",
      " |      n_components, or the lesser value of n_features and n_samples\n",
      " |      if n_components is None.\n",
      " |  \n",
      " |  n_features_ : int\n",
      " |      Number of features in the training data.\n",
      " |  \n",
      " |  n_samples_ : int\n",
      " |      Number of samples in the training data.\n",
      " |  \n",
      " |  noise_variance_ : float\n",
      " |      The estimated noise covariance following the Probabilistic PCA model\n",
      " |      from Tipping and Bishop 1999. See \"Pattern Recognition and\n",
      " |      Machine Learning\" by C. Bishop, 12.2.1 p. 574 or\n",
      " |      http://www.miketipping.com/papers/met-mppca.pdf. It is required to\n",
      " |      compute the estimated data covariance and score samples.\n",
      " |  \n",
      " |      Equal to the average of (min(n_features, n_samples) - n_components)\n",
      " |      smallest eigenvalues of the covariance matrix of X.\n",
      " |  \n",
      " |  See Also\n",
      " |  --------\n",
      " |  KernelPCA : Kernel Principal Component Analysis.\n",
      " |  SparsePCA : Sparse Principal Component Analysis.\n",
      " |  TruncatedSVD : Dimensionality reduction using truncated SVD.\n",
      " |  IncrementalPCA : Incremental Principal Component Analysis.\n",
      " |  \n",
      " |  References\n",
      " |  ----------\n",
      " |  For n_components == 'mle', this class uses the method of *Minka, T. P.\n",
      " |  \"Automatic choice of dimensionality for PCA\". In NIPS, pp. 598-604*\n",
      " |  \n",
      " |  Implements the probabilistic PCA model from:\n",
      " |  Tipping, M. E., and Bishop, C. M. (1999). \"Probabilistic principal\n",
      " |  component analysis\". Journal of the Royal Statistical Society:\n",
      " |  Series B (Statistical Methodology), 61(3), 611-622.\n",
      " |  via the score and score_samples methods.\n",
      " |  See http://www.miketipping.com/papers/met-mppca.pdf\n",
      " |  \n",
      " |  For svd_solver == 'arpack', refer to `scipy.sparse.linalg.svds`.\n",
      " |  \n",
      " |  For svd_solver == 'randomized', see:\n",
      " |  *Halko, N., Martinsson, P. G., and Tropp, J. A. (2011).\n",
      " |  \"Finding structure with randomness: Probabilistic algorithms for\n",
      " |  constructing approximate matrix decompositions\".\n",
      " |  SIAM review, 53(2), 217-288.* and also\n",
      " |  *Martinsson, P. G., Rokhlin, V., and Tygert, M. (2011).\n",
      " |  \"A randomized algorithm for the decomposition of matrices\".\n",
      " |  Applied and Computational Harmonic Analysis, 30(1), 47-68.*\n",
      " |  \n",
      " |  Examples\n",
      " |  --------\n",
      " |  >>> import numpy as np\n",
      " |  >>> from sklearn.decomposition import PCA\n",
      " |  >>> X = np.array([[-1, -1], [-2, -1], [-3, -2], [1, 1], [2, 1], [3, 2]])\n",
      " |  >>> pca = PCA(n_components=2)\n",
      " |  >>> pca.fit(X)\n",
      " |  PCA(n_components=2)\n",
      " |  >>> print(pca.explained_variance_ratio_)\n",
      " |  [0.9924... 0.0075...]\n",
      " |  >>> print(pca.singular_values_)\n",
      " |  [6.30061... 0.54980...]\n",
      " |  \n",
      " |  >>> pca = PCA(n_components=2, svd_solver='full')\n",
      " |  >>> pca.fit(X)\n",
      " |  PCA(n_components=2, svd_solver='full')\n",
      " |  >>> print(pca.explained_variance_ratio_)\n",
      " |  [0.9924... 0.00755...]\n",
      " |  >>> print(pca.singular_values_)\n",
      " |  [6.30061... 0.54980...]\n",
      " |  \n",
      " |  >>> pca = PCA(n_components=1, svd_solver='arpack')\n",
      " |  >>> pca.fit(X)\n",
      " |  PCA(n_components=1, svd_solver='arpack')\n",
      " |  >>> print(pca.explained_variance_ratio_)\n",
      " |  [0.99244...]\n",
      " |  >>> print(pca.singular_values_)\n",
      " |  [6.30061...]\n",
      " |  \n",
      " |  Method resolution order:\n",
      " |      PCA\n",
      " |      sklearn.decomposition._base._BasePCA\n",
      " |      sklearn.base.TransformerMixin\n",
      " |      sklearn.base.BaseEstimator\n",
      " |      builtins.object\n",
      " |  \n",
      " |  Methods defined here:\n",
      " |  \n",
      " |  __init__(self, n_components=None, copy=True, whiten=False, svd_solver='auto', tol=0.0, iterated_power='auto', random_state=None)\n",
      " |      Initialize self.  See help(type(self)) for accurate signature.\n",
      " |  \n",
      " |  fit(self, X, y=None)\n",
      " |      Fit the model with X.\n",
      " |      \n",
      " |      Parameters\n",
      " |      ----------\n",
      " |      X : array-like, shape (n_samples, n_features)\n",
      " |          Training data, where n_samples is the number of samples\n",
      " |          and n_features is the number of features.\n",
      " |      \n",
      " |      y : None\n",
      " |          Ignored variable.\n",
      " |      \n",
      " |      Returns\n",
      " |      -------\n",
      " |      self : object\n",
      " |          Returns the instance itself.\n",
      " |  \n",
      " |  fit_transform(self, X, y=None)\n",
      " |      Fit the model with X and apply the dimensionality reduction on X.\n",
      " |      \n",
      " |      Parameters\n",
      " |      ----------\n",
      " |      X : array-like, shape (n_samples, n_features)\n",
      " |          Training data, where n_samples is the number of samples\n",
      " |          and n_features is the number of features.\n",
      " |      \n",
      " |      y : None\n",
      " |          Ignored variable.\n",
      " |      \n",
      " |      Returns\n",
      " |      -------\n",
      " |      X_new : array-like, shape (n_samples, n_components)\n",
      " |          Transformed values.\n",
      " |      \n",
      " |      Notes\n",
      " |      -----\n",
      " |      This method returns a Fortran-ordered array. To convert it to a\n",
      " |      C-ordered array, use 'np.ascontiguousarray'.\n",
      " |  \n",
      " |  score(self, X, y=None)\n",
      " |      Return the average log-likelihood of all samples.\n",
      " |      \n",
      " |      See. \"Pattern Recognition and Machine Learning\"\n",
      " |      by C. Bishop, 12.2.1 p. 574\n",
      " |      or http://www.miketipping.com/papers/met-mppca.pdf\n",
      " |      \n",
      " |      Parameters\n",
      " |      ----------\n",
      " |      X : array, shape(n_samples, n_features)\n",
      " |          The data.\n",
      " |      \n",
      " |      y : None\n",
      " |          Ignored variable.\n",
      " |      \n",
      " |      Returns\n",
      " |      -------\n",
      " |      ll : float\n",
      " |          Average log-likelihood of the samples under the current model.\n",
      " |  \n",
      " |  score_samples(self, X)\n",
      " |      Return the log-likelihood of each sample.\n",
      " |      \n",
      " |      See. \"Pattern Recognition and Machine Learning\"\n",
      " |      by C. Bishop, 12.2.1 p. 574\n",
      " |      or http://www.miketipping.com/papers/met-mppca.pdf\n",
      " |      \n",
      " |      Parameters\n",
      " |      ----------\n",
      " |      X : array, shape(n_samples, n_features)\n",
      " |          The data.\n",
      " |      \n",
      " |      Returns\n",
      " |      -------\n",
      " |      ll : array, shape (n_samples,)\n",
      " |          Log-likelihood of each sample under the current model.\n",
      " |  \n",
      " |  ----------------------------------------------------------------------\n",
      " |  Data and other attributes defined here:\n",
      " |  \n",
      " |  __abstractmethods__ = frozenset()\n",
      " |  \n",
      " |  ----------------------------------------------------------------------\n",
      " |  Methods inherited from sklearn.decomposition._base._BasePCA:\n",
      " |  \n",
      " |  get_covariance(self)\n",
      " |      Compute data covariance with the generative model.\n",
      " |      \n",
      " |      ``cov = components_.T * S**2 * components_ + sigma2 * eye(n_features)``\n",
      " |      where S**2 contains the explained variances, and sigma2 contains the\n",
      " |      noise variances.\n",
      " |      \n",
      " |      Returns\n",
      " |      -------\n",
      " |      cov : array, shape=(n_features, n_features)\n",
      " |          Estimated covariance of data.\n",
      " |  \n",
      " |  get_precision(self)\n",
      " |      Compute data precision matrix with the generative model.\n",
      " |      \n",
      " |      Equals the inverse of the covariance but computed with\n",
      " |      the matrix inversion lemma for efficiency.\n",
      " |      \n",
      " |      Returns\n",
      " |      -------\n",
      " |      precision : array, shape=(n_features, n_features)\n",
      " |          Estimated precision of data.\n",
      " |  \n",
      " |  inverse_transform(self, X)\n",
      " |      Transform data back to its original space.\n",
      " |      \n",
      " |      In other words, return an input X_original whose transform would be X.\n",
      " |      \n",
      " |      Parameters\n",
      " |      ----------\n",
      " |      X : array-like, shape (n_samples, n_components)\n",
      " |          New data, where n_samples is the number of samples\n",
      " |          and n_components is the number of components.\n",
      " |      \n",
      " |      Returns\n",
      " |      -------\n",
      " |      X_original array-like, shape (n_samples, n_features)\n",
      " |      \n",
      " |      Notes\n",
      " |      -----\n",
      " |      If whitening is enabled, inverse_transform will compute the\n",
      " |      exact inverse operation, which includes reversing whitening.\n",
      " |  \n",
      " |  transform(self, X)\n",
      " |      Apply dimensionality reduction to X.\n",
      " |      \n",
      " |      X is projected on the first principal components previously extracted\n",
      " |      from a training set.\n",
      " |      \n",
      " |      Parameters\n",
      " |      ----------\n",
      " |      X : array-like, shape (n_samples, n_features)\n",
      " |          New data, where n_samples is the number of samples\n",
      " |          and n_features is the number of features.\n",
      " |      \n",
      " |      Returns\n",
      " |      -------\n",
      " |      X_new : array-like, shape (n_samples, n_components)\n",
      " |      \n",
      " |      Examples\n",
      " |      --------\n",
      " |      \n",
      " |      >>> import numpy as np\n",
      " |      >>> from sklearn.decomposition import IncrementalPCA\n",
      " |      >>> X = np.array([[-1, -1], [-2, -1], [-3, -2], [1, 1], [2, 1], [3, 2]])\n",
      " |      >>> ipca = IncrementalPCA(n_components=2, batch_size=3)\n",
      " |      >>> ipca.fit(X)\n",
      " |      IncrementalPCA(batch_size=3, n_components=2)\n",
      " |      >>> ipca.transform(X) # doctest: +SKIP\n",
      " |  \n",
      " |  ----------------------------------------------------------------------\n",
      " |  Data descriptors inherited from sklearn.base.TransformerMixin:\n",
      " |  \n",
      " |  __dict__\n",
      " |      dictionary for instance variables (if defined)\n",
      " |  \n",
      " |  __weakref__\n",
      " |      list of weak references to the object (if defined)\n",
      " |  \n",
      " |  ----------------------------------------------------------------------\n",
      " |  Methods inherited from sklearn.base.BaseEstimator:\n",
      " |  \n",
      " |  __getstate__(self)\n",
      " |  \n",
      " |  __repr__(self, N_CHAR_MAX=700)\n",
      " |      Return repr(self).\n",
      " |  \n",
      " |  __setstate__(self, state)\n",
      " |  \n",
      " |  get_params(self, deep=True)\n",
      " |      Get parameters for this estimator.\n",
      " |      \n",
      " |      Parameters\n",
      " |      ----------\n",
      " |      deep : bool, default=True\n",
      " |          If True, will return the parameters for this estimator and\n",
      " |          contained subobjects that are estimators.\n",
      " |      \n",
      " |      Returns\n",
      " |      -------\n",
      " |      params : mapping of string to any\n",
      " |          Parameter names mapped to their values.\n",
      " |  \n",
      " |  set_params(self, **params)\n",
      " |      Set the parameters of this estimator.\n",
      " |      \n",
      " |      The method works on simple estimators as well as on nested objects\n",
      " |      (such as pipelines). The latter have parameters of the form\n",
      " |      ``<component>__<parameter>`` so that it's possible to update each\n",
      " |      component of a nested object.\n",
      " |      \n",
      " |      Parameters\n",
      " |      ----------\n",
      " |      **params : dict\n",
      " |          Estimator parameters.\n",
      " |      \n",
      " |      Returns\n",
      " |      -------\n",
      " |      self : object\n",
      " |          Estimator instance.\n",
      "\n"
     ]
    }
   ],
   "source": [
    "help(PCA)"
   ]
  },
  {
   "cell_type": "code",
   "execution_count": 20,
   "metadata": {
    "id": "Cvos9JSi9fFj"
   },
   "outputs": [],
   "source": [
    "def pca(vects, components):\n",
    "    pca = PCA(n_components=components) ## remove the inside of this function\n",
    "    return pca.fit_transform(vects)"
   ]
  },
  {
   "cell_type": "code",
   "execution_count": 21,
   "metadata": {
    "id": "GRNX1dAP9fFj"
   },
   "outputs": [],
   "source": [
    "## (1) Combine the two data sets with the sequences from 2019-nCoV in the front\n",
    "## (2) run the function for your two sets of data using the correct number of components and save the output to a variable\n",
    "\n",
    "final_vects = np.vstack((new_vects,old_vects))\n",
    "\n",
    "pca_final = pca(final_vects,2)\n"
   ]
  },
  {
   "cell_type": "markdown",
   "metadata": {
    "id": "XQ-fr6Ts9fFj"
   },
   "source": [
    "### Step 3: Perform K-means on the reduced dataset\n",
    "\n",
    "We covered K-means briefly earlier; if you are curious for more information [this blog post](https://365datascience.com/k-means-clustering/) has a good explination.\n",
    "\n",
    "Similarly to PCA, once we have input the required modules it is very eary to run this analysis. We will then plot the results to see if this method captures the difference between the new and old sequences."
   ]
  },
  {
   "cell_type": "code",
   "execution_count": 22,
   "metadata": {
    "id": "s6vj9wsU9fFj"
   },
   "outputs": [],
   "source": [
    "from sklearn.cluster import KMeans"
   ]
  },
  {
   "cell_type": "code",
   "execution_count": 27,
   "metadata": {
    "id": "hjPBCF5x9fFj"
   },
   "outputs": [],
   "source": [
    "# try a couple different values for the n_clusters to see what sort of representations you get \n",
    "# (remove n_clusters =)\n",
    "\n",
    "kmeans = KMeans(n_clusters=5).fit_predict(pca_final)"
   ]
  },
  {
   "cell_type": "markdown",
   "metadata": {
    "id": "g9uPAel59fFj"
   },
   "source": [
    "Finally we will plot our results: \n",
    "\n",
    "What we are actually plotting is the two principle components becuase that gives us two dimensions which is much easier to see. We will color the scatter plot based on labels from K-means and then indicate the 2019-nCoV sequences using a red dot in the center.\n"
   ]
  },
  {
   "cell_type": "code",
   "execution_count": 29,
   "metadata": {
    "id": "EKVmOqBy9fFj",
    "outputId": "3d3a9e93-fa84-4a8b-deee-3816f307a517"
   },
   "outputs": [
    {
     "data": {
      "text/plain": [
       "Text(0, 0.5, 'PC2')"
      ]
     },
     "execution_count": 29,
     "metadata": {},
     "output_type": "execute_result"
    },
    {
     "data": {
      "image/png": "[encoded data removed]",
      "text/plain": [
       "<Figure size 432x288 with 1 Axes>"
      ]
     },
     "metadata": {
      "needs_background": "light"
     },
     "output_type": "display_data"
    }
   ],
   "source": [
    "plt.scatter(pca_final[:,0],pca_final[:,1],alpha =0.5, c=kmeans)\n",
    "plt.scatter(pca_final[0:150,0],pca_final[0:150,1], marker = '.', c='red')\n",
    "plt.title('kmer: 3')\n",
    "plt.xlabel('PC1')\n",
    "plt.ylabel('PC2')"
   ]
  },
  {
   "cell_type": "markdown",
   "metadata": {
    "id": "A0fV0UAQ9fFj"
   },
   "source": [
    "### Conclusions:\n",
    "\n",
    "* Was your demension reduced data able to seperate the new sequences from the old ones? \n",
    "* If not what could you change to see if they do?\n",
    "* What sort of sequences ended up in the same cluster as the new ones? "
   ]
  },
  {
   "cell_type": "markdown",
   "metadata": {
    "id": "WQCErdK-9fFj"
   },
   "source": [
    "## Part 2: Phylogenetic analysis\n",
    "\n",
    "In this part our goal is to analyze relationsips of new coronaviruses reported from different countries or regions. You will only need the `new` data for this part of the project. This part has been adapted from [this](https://towardsdatascience.com/molecular-phylogenetics-using-bio-phylo-57ce27492ee9) article which has a more complete explination of this process.\n",
    "\n",
    "For this analysis we need to used aligned sequences and since we have a lot of sequences what we want is a multiple sequence alignment (MSA). You can learn more about what that exactly does [here](https://en.wikipedia.org/wiki/Multiple_sequence_alignment). In the interest of time we have provided you with pre-aligned files so you actually don't have to do that, but if you are interested [this](https://www.ebi.ac.uk/Tools/msa/clustalo/) is one web-server that does it. "
   ]
  },
  {
   "cell_type": "markdown",
   "metadata": {
    "id": "g8oZQdE59fFj"
   },
   "source": [
    "### Some background \n",
    "\n",
    ">**phylogenetics** is the study of the evolutionary history and relationships amoung individuals or groups of orangisms (according to Wikipedia\n",
    "\n",
    ">**Phylogenetic Trees** represent evolutionary replationships between organisms. The pattern of branching in a phylogenetic tree reflects how species or other groups have evolved from a series of common ancestors. \n",
    "\n",
    "The image below is s simple example of what we will create with the 2019-nCoV sequences \n",
    "\n",
    "![image](https://miro.medium.com/max/2656/1*K5E_zuQyleVYGHmulioAWQ.png)\n",
    "\n",
    "Source from [medium article](https://towardsdatascience.com/molecular-phylogenetics-using-bio-phylo-57ce27492ee9) "
   ]
  },
  {
   "cell_type": "code",
   "execution_count": 30,
   "metadata": {
    "id": "Zuo68k3t9fFj"
   },
   "outputs": [],
   "source": [
    "from Bio import Phylo\n",
    "from Bio.Phylo.TreeConstruction import DistanceCalculator\n",
    "from Bio.Phylo.TreeConstruction import DistanceTreeConstructor\n",
    "from Bio import AlignIO"
   ]
  },
  {
   "cell_type": "markdown",
   "metadata": {
    "id": "u0givK6a9fFj"
   },
   "source": [
    "### Step1: Determine the distance between different sequences\n",
    "\n",
    "The `DistanceTreeConstructor` supports the use of two algorithms for determining distance between sequences we will be using `Unweighted Pair Group Method with Arithmetic Mean` you can read more about it and the other options in the documentation. \n",
    "\n"
   ]
  },
  {
   "cell_type": "code",
   "execution_count": 31,
   "metadata": {
    "id": "3OuVy0ag9fFj"
   },
   "outputs": [],
   "source": [
    "aln = AlignIO.read('data/Coronaviridae_2019_new_aligned.fasta','fasta')"
   ]
  },
  {
   "cell_type": "markdown",
   "metadata": {
    "id": "V64DTvMh9fFj"
   },
   "source": [
    "Similar to the other methods we have used today to determine the distances we have to initilize ths distance constructor and then use it to determine the distances we are interested in"
   ]
  },
  {
   "cell_type": "code",
   "execution_count": 32,
   "metadata": {
    "collapsed": true,
    "id": "fLFCHqDP9fFj"
   },
   "outputs": [
    {
     "ename": "KeyboardInterrupt",
     "evalue": "",
     "output_type": "error",
     "traceback": [
      "\u001b[0;31m-----------------------------------------------------\u001b[0m",
      "\u001b[0;31mKeyboardInterrupt\u001b[0m   Traceback (most recent call last)",
      "\u001b[0;32m<ipython-input-32-939861d12db9>\u001b[0m in \u001b[0;36m<module>\u001b[0;34m\u001b[0m\n\u001b[1;32m      1\u001b[0m \u001b[0mcalculator\u001b[0m \u001b[0;34m=\u001b[0m \u001b[0mDistanceCalculator\u001b[0m\u001b[0;34m(\u001b[0m\u001b[0;34m'identity'\u001b[0m\u001b[0;34m)\u001b[0m\u001b[0;34m\u001b[0m\u001b[0;34m\u001b[0m\u001b[0m\n\u001b[0;32m----> 2\u001b[0;31m \u001b[0mdm\u001b[0m \u001b[0;34m=\u001b[0m \u001b[0mcalculator\u001b[0m\u001b[0;34m.\u001b[0m\u001b[0mget_distance\u001b[0m\u001b[0;34m(\u001b[0m\u001b[0maln\u001b[0m\u001b[0;34m)\u001b[0m\u001b[0;34m\u001b[0m\u001b[0;34m\u001b[0m\u001b[0m\n\u001b[0m",
      "\u001b[0;32m/opt/anaconda3/lib/python3.7/site-packages/Bio/Phylo/TreeConstruction.py\u001b[0m in \u001b[0;36mget_distance\u001b[0;34m(self, msa)\u001b[0m\n\u001b[1;32m    546\u001b[0m         \u001b[0mdm\u001b[0m \u001b[0;34m=\u001b[0m \u001b[0mDistanceMatrix\u001b[0m\u001b[0;34m(\u001b[0m\u001b[0mnames\u001b[0m\u001b[0;34m)\u001b[0m\u001b[0;34m\u001b[0m\u001b[0;34m\u001b[0m\u001b[0m\n\u001b[1;32m    547\u001b[0m         \u001b[0;32mfor\u001b[0m \u001b[0mseq1\u001b[0m\u001b[0;34m,\u001b[0m \u001b[0mseq2\u001b[0m \u001b[0;32min\u001b[0m \u001b[0mitertools\u001b[0m\u001b[0;34m.\u001b[0m\u001b[0mcombinations\u001b[0m\u001b[0;34m(\u001b[0m\u001b[0mmsa\u001b[0m\u001b[0;34m,\u001b[0m \u001b[0;36m2\u001b[0m\u001b[0;34m)\u001b[0m\u001b[0;34m:\u001b[0m\u001b[0;34m\u001b[0m\u001b[0;34m\u001b[0m\u001b[0m\n\u001b[0;32m--> 548\u001b[0;31m             \u001b[0mdm\u001b[0m\u001b[0;34m[\u001b[0m\u001b[0mseq1\u001b[0m\u001b[0;34m.\u001b[0m\u001b[0mid\u001b[0m\u001b[0;34m,\u001b[0m \u001b[0mseq2\u001b[0m\u001b[0;34m.\u001b[0m\u001b[0mid\u001b[0m\u001b[0;34m]\u001b[0m \u001b[0;34m=\u001b[0m \u001b[0mself\u001b[0m\u001b[0;34m.\u001b[0m\u001b[0m_pairwise\u001b[0m\u001b[0;34m(\u001b[0m\u001b[0mseq1\u001b[0m\u001b[0;34m,\u001b[0m \u001b[0mseq2\u001b[0m\u001b[0;34m)\u001b[0m\u001b[0;34m\u001b[0m\u001b[0;34m\u001b[0m\u001b[0m\n\u001b[0m\u001b[1;32m    549\u001b[0m         \u001b[0;32mreturn\u001b[0m \u001b[0mdm\u001b[0m\u001b[0;34m\u001b[0m\u001b[0;34m\u001b[0m\u001b[0m\n\u001b[1;32m    550\u001b[0m \u001b[0;34m\u001b[0m\u001b[0m\n",
      "\u001b[0;32m/opt/anaconda3/lib/python3.7/site-packages/Bio/Phylo/TreeConstruction.py\u001b[0m in \u001b[0;36m_pairwise\u001b[0;34m(self, seq1, seq2)\u001b[0m\n\u001b[1;32m    524\u001b[0m             score = sum(\n\u001b[1;32m    525\u001b[0m                 \u001b[0ml1\u001b[0m \u001b[0;34m==\u001b[0m \u001b[0ml2\u001b[0m\u001b[0;34m\u001b[0m\u001b[0;34m\u001b[0m\u001b[0m\n\u001b[0;32m--> 526\u001b[0;31m                 \u001b[0;32mfor\u001b[0m \u001b[0ml1\u001b[0m\u001b[0;34m,\u001b[0m \u001b[0ml2\u001b[0m \u001b[0;32min\u001b[0m \u001b[0mzip\u001b[0m\u001b[0;34m(\u001b[0m\u001b[0mseq1\u001b[0m\u001b[0;34m,\u001b[0m \u001b[0mseq2\u001b[0m\u001b[0;34m)\u001b[0m\u001b[0;34m\u001b[0m\u001b[0;34m\u001b[0m\u001b[0m\n\u001b[0m\u001b[1;32m    527\u001b[0m                 \u001b[0;32mif\u001b[0m \u001b[0ml1\u001b[0m \u001b[0;32mnot\u001b[0m \u001b[0;32min\u001b[0m \u001b[0mself\u001b[0m\u001b[0;34m.\u001b[0m\u001b[0mskip_letters\u001b[0m \u001b[0;32mand\u001b[0m \u001b[0ml2\u001b[0m \u001b[0;32mnot\u001b[0m \u001b[0;32min\u001b[0m \u001b[0mself\u001b[0m\u001b[0;34m.\u001b[0m\u001b[0mskip_letters\u001b[0m\u001b[0;34m\u001b[0m\u001b[0;34m\u001b[0m\u001b[0m\n\u001b[1;32m    528\u001b[0m             )\n",
      "\u001b[0;32m/opt/anaconda3/lib/python3.7/site-packages/Bio/Phylo/TreeConstruction.py\u001b[0m in \u001b[0;36m<genexpr>\u001b[0;34m(.0)\u001b[0m\n\u001b[1;32m    523\u001b[0m             \u001b[0;31m# Score by character identity, not skipping any special letters\u001b[0m\u001b[0;34m\u001b[0m\u001b[0;34m\u001b[0m\u001b[0;34m\u001b[0m\u001b[0m\n\u001b[1;32m    524\u001b[0m             score = sum(\n\u001b[0;32m--> 525\u001b[0;31m                 \u001b[0ml1\u001b[0m \u001b[0;34m==\u001b[0m \u001b[0ml2\u001b[0m\u001b[0;34m\u001b[0m\u001b[0;34m\u001b[0m\u001b[0m\n\u001b[0m\u001b[1;32m    526\u001b[0m                 \u001b[0;32mfor\u001b[0m \u001b[0ml1\u001b[0m\u001b[0;34m,\u001b[0m \u001b[0ml2\u001b[0m \u001b[0;32min\u001b[0m \u001b[0mzip\u001b[0m\u001b[0;34m(\u001b[0m\u001b[0mseq1\u001b[0m\u001b[0;34m,\u001b[0m \u001b[0mseq2\u001b[0m\u001b[0;34m)\u001b[0m\u001b[0;34m\u001b[0m\u001b[0;34m\u001b[0m\u001b[0m\n\u001b[1;32m    527\u001b[0m                 \u001b[0;32mif\u001b[0m \u001b[0ml1\u001b[0m \u001b[0;32mnot\u001b[0m \u001b[0;32min\u001b[0m \u001b[0mself\u001b[0m\u001b[0;34m.\u001b[0m\u001b[0mskip_letters\u001b[0m \u001b[0;32mand\u001b[0m \u001b[0ml2\u001b[0m \u001b[0;32mnot\u001b[0m \u001b[0;32min\u001b[0m \u001b[0mself\u001b[0m\u001b[0;34m.\u001b[0m\u001b[0mskip_letters\u001b[0m\u001b[0;34m\u001b[0m\u001b[0;34m\u001b[0m\u001b[0m\n",
      "\u001b[0;32m/opt/anaconda3/lib/python3.7/site-packages/Bio/Seq.py\u001b[0m in \u001b[0;36m__getitem__\u001b[0;34m(self, index)\u001b[0m\n\u001b[1;32m    276\u001b[0m         \u001b[0;32mif\u001b[0m \u001b[0misinstance\u001b[0m\u001b[0;34m(\u001b[0m\u001b[0mindex\u001b[0m\u001b[0;34m,\u001b[0m \u001b[0mint\u001b[0m\u001b[0;34m)\u001b[0m\u001b[0;34m:\u001b[0m\u001b[0;34m\u001b[0m\u001b[0;34m\u001b[0m\u001b[0m\n\u001b[1;32m    277\u001b[0m             \u001b[0;31m# Return a single letter as a string\u001b[0m\u001b[0;34m\u001b[0m\u001b[0;34m\u001b[0m\u001b[0;34m\u001b[0m\u001b[0m\n\u001b[0;32m--> 278\u001b[0;31m             \u001b[0;32mreturn\u001b[0m \u001b[0mself\u001b[0m\u001b[0;34m.\u001b[0m\u001b[0m_data\u001b[0m\u001b[0;34m[\u001b[0m\u001b[0mindex\u001b[0m\u001b[0;34m]\u001b[0m\u001b[0;34m\u001b[0m\u001b[0;34m\u001b[0m\u001b[0m\n\u001b[0m\u001b[1;32m    279\u001b[0m         \u001b[0;32melse\u001b[0m\u001b[0;34m:\u001b[0m\u001b[0;34m\u001b[0m\u001b[0;34m\u001b[0m\u001b[0m\n\u001b[1;32m    280\u001b[0m             \u001b[0;31m# Return the (sub)sequence as another Seq object\u001b[0m\u001b[0;34m\u001b[0m\u001b[0;34m\u001b[0m\u001b[0;34m\u001b[0m\u001b[0m\n",
      "\u001b[0;31mKeyboardInterrupt\u001b[0m: "
     ]
    }
   ],
   "source": [
    "calculator = DistanceCalculator('identity')\n",
    "dm = calculator.get_distance(aln)"
   ]
  },
  {
   "cell_type": "markdown",
   "metadata": {
    "id": "J01t9-2z9fFj"
   },
   "source": [
    "Then we use a very similar method to initilize and then construct the tree using `upgma`"
   ]
  },
  {
   "cell_type": "code",
   "execution_count": null,
   "metadata": {
    "id": "69Vlyy1D9fFj"
   },
   "outputs": [],
   "source": [
    "constructor = DistanceTreeConstructor()\n",
    "tree = constructor.upgma(dm)"
   ]
  },
  {
   "cell_type": "markdown",
   "metadata": {
    "id": "o0obcRJ-9fFj"
   },
   "source": [
    "Finally we will plot the resluts of the full tree. There are 150 sequences in this data set so the above cells may take some time to run. The resulting plot is also very difficult to view so below we will see some ways we can make this more interpretable."
   ]
  },
  {
   "cell_type": "code",
   "execution_count": null,
   "metadata": {
    "id": "NQldUjJr9fFj",
    "outputId": "df15ed42-5672-4a06-a471-815eca3bed70"
   },
   "outputs": [
    {
     "data": {
      "image/png": "[encoded data removed]",
      "text/plain": [
       "<Figure size 720x1080 with 1 Axes>"
      ]
     },
     "metadata": {
      "needs_background": "light",
      "tags": []
     },
     "output_type": "display_data"
    }
   ],
   "source": [
    "fig = plt.figure(figsize=(10,15))\n",
    "axes = fig.add_subplot(1,1,1)\n",
    "Phylo.draw(tree, axes=axes,do_show=False)"
   ]
  },
  {
   "cell_type": "markdown",
   "metadata": {
    "id": "R1fyTJAb9fFj"
   },
   "source": [
    "Lets try making this again with every 10th sequence so we have 15 instead of 150:\n",
    "How can you index the aln object to get every 10th element?\n",
    "\n",
    "*Hint* try messing around with the aln object outside of this cell to see what it looks and how you can index it (you can add a cell by pressing esc A (above) or esc B (below))\n"
   ]
  },
  {
   "cell_type": "code",
   "execution_count": 37,
   "metadata": {
    "collapsed": true
   },
   "outputs": [
    {
     "name": "stdout",
     "output_type": "stream",
     "text": [
      "Help on class DistanceCalculator in module Bio.Phylo.TreeConstruction:\n",
      "\n",
      "class DistanceCalculator(builtins.object)\n",
      " |  DistanceCalculator(model='identity', skip_letters=None)\n",
      " |  \n",
      " |  Class to calculate the distance matrix from a DNA or Protein.\n",
      " |  \n",
      " |  Multiple Sequence Alignment(MSA) and the given name of the\n",
      " |  substitution model.\n",
      " |  \n",
      " |  Currently only scoring matrices are used.\n",
      " |  \n",
      " |  :Parameters:\n",
      " |      model : str\n",
      " |          Name of the model matrix to be used to calculate distance.\n",
      " |          The attribute ``dna_matrices`` contains the available model\n",
      " |          names for DNA sequences and ``protein_matrices`` for protein\n",
      " |          sequences.\n",
      " |  \n",
      " |  Examples\n",
      " |  --------\n",
      " |  Loading a small PHYLIP alignment from which to compute distances::\n",
      " |  \n",
      " |      from Bio.Phylo.TreeConstruction import DistanceCalculator\n",
      " |      from Bio import AlignIO\n",
      " |      aln = AlignIO.read(open('TreeConstruction/msa.phy'), 'phylip')\n",
      " |      print(aln)\n",
      " |  \n",
      " |  Output::\n",
      " |  \n",
      " |      SingleLetterAlphabet() alignment with 5 rows and 13 columns\n",
      " |      AACGTGGCCACAT Alpha\n",
      " |      AAGGTCGCCACAC Beta\n",
      " |      CAGTTCGCCACAA Gamma\n",
      " |      GAGATTTCCGCCT Delta\n",
      " |      GAGATCTCCGCCC Epsilon\n",
      " |  \n",
      " |  DNA calculator with 'identity' model::\n",
      " |  \n",
      " |      calculator = DistanceCalculator('identity')\n",
      " |      dm = calculator.get_distance(aln)\n",
      " |      print(dm)\n",
      " |  \n",
      " |  Output::\n",
      " |  \n",
      " |      Alpha   0\n",
      " |      Beta    0.23076923076923073     0\n",
      " |      Gamma   0.3846153846153846      0.23076923076923073     0\n",
      " |      Delta   0.5384615384615384      0.5384615384615384      0.5384615384615384      0\n",
      " |      Epsilon 0.6153846153846154      0.3846153846153846      0.46153846153846156     0.15384615384615385     0\n",
      " |          Alpha       Beta    Gamma   Delta   Epsilon\n",
      " |  \n",
      " |  Protein calculator with 'blosum62' model::\n",
      " |  \n",
      " |      calculator = DistanceCalculator('blosum62')\n",
      " |      dm = calculator.get_distance(aln)\n",
      " |      print(dm)\n",
      " |  \n",
      " |  Output::\n",
      " |  \n",
      " |      Alpha   0\n",
      " |      Beta    0.36904761904761907     0\n",
      " |      Gamma   0.49397590361445787     0.25    0\n",
      " |      Delta   0.5853658536585367      0.5476190476190477      0.5662650602409638      0\n",
      " |      Epsilon 0.7     0.3555555555555555      0.48888888888888893     0.2222222222222222      0\n",
      " |          Alpha       Beta    Gamma   Delta   Epsilon\n",
      " |  \n",
      " |  Methods defined here:\n",
      " |  \n",
      " |  __init__(self, model='identity', skip_letters=None)\n",
      " |      Initialize with a distance model.\n",
      " |  \n",
      " |  get_distance(self, msa)\n",
      " |      Return a DistanceMatrix for MSA object.\n",
      " |      \n",
      " |      :Parameters:\n",
      " |          msa : MultipleSeqAlignment\n",
      " |              DNA or Protein multiple sequence alignment.\n",
      " |  \n",
      " |  ----------------------------------------------------------------------\n",
      " |  Data descriptors defined here:\n",
      " |  \n",
      " |  __dict__\n",
      " |      dictionary for instance variables (if defined)\n",
      " |  \n",
      " |  __weakref__\n",
      " |      list of weak references to the object (if defined)\n",
      " |  \n",
      " |  ----------------------------------------------------------------------\n",
      " |  Data and other attributes defined here:\n",
      " |  \n",
      " |  blastn = [[5], [-4, 5], [-4, -4, 5], [-4, -4, -4, 5]]\n",
      " |  \n",
      " |  dna_alphabet = ['A', 'T', 'C', 'G']\n",
      " |  \n",
      " |  dna_matrices = {'blastn': [[5], [-4, 5], [-4, -4, 5], [-4, -4, -4, 5]]...\n",
      " |  \n",
      " |  dna_models = ['blastn', 'trans']\n",
      " |  \n",
      " |  models = ['identity', 'blastn', 'trans', 'benner6', 'benner22', 'benne...\n",
      " |  \n",
      " |  protein_alphabet = ['A', 'B', 'C', 'D', 'E', 'F', 'G', 'H', 'I', 'K', ...\n",
      " |  \n",
      " |  protein_matrices = {'benner22': {('A', 'A'): 2.5, ('A', 'C'): -1.2, ('...\n",
      " |  \n",
      " |  protein_models = ['benner6', 'benner22', 'benner74', 'blosum100', 'blo...\n",
      " |  \n",
      " |  trans = [[6], [-5, 6], [-5, -1, 6], [-1, -5, -5, 6]]\n",
      "\n"
     ]
    }
   ],
   "source": [
    "help(DistanceCalculator)"
   ]
  },
  {
   "cell_type": "code",
   "execution_count": 33,
   "metadata": {
    "id": "VMvIhDg69fFj"
   },
   "outputs": [],
   "source": [
    "calculator2 = DistanceCalculator('identity')\n",
    "dm2 = calculator2.get_distance(aln[0:150:10]) ## remove the indexer "
   ]
  },
  {
   "cell_type": "code",
   "execution_count": 34,
   "metadata": {
    "id": "Il8JvMRz9fFj"
   },
   "outputs": [],
   "source": [
    "constructor = DistanceTreeConstructor()\n",
    "tree2 = constructor.upgma(dm2)"
   ]
  },
  {
   "cell_type": "code",
   "execution_count": 35,
   "metadata": {
    "id": "l_JitkWV9fFj",
    "outputId": "9e924e81-a0b7-44f1-dfc9-8ae028f8ef26"
   },
   "outputs": [
    {
     "data": {
      "image/png": "[encoded data removed]",
      "text/plain": [
       "<Figure size 720x1080 with 1 Axes>"
      ]
     },
     "metadata": {
      "needs_background": "light"
     },
     "output_type": "display_data"
    }
   ],
   "source": [
    "fig = plt.figure(figsize=(10,15))\n",
    "axes = fig.add_subplot(1,1,1)\n",
    "Phylo.draw(tree2, axes=axes,do_show=False)"
   ]
  },
  {
   "cell_type": "markdown",
   "metadata": {
    "id": "dFdM65-d9fFj"
   },
   "source": [
    "This is more readble, but is still just full of numbers and we are interested in the descriptions of the numbers. \n",
    "\n",
    "`SeqIO` objects have an attribute called description built in so we are going to print out those and look at them. This is some of the words that were after the sequence in the dictionary we looked at in the beginning. You will need to use the same indexing as was used above in the `for` loop below."
   ]
  },
  {
   "cell_type": "code",
   "execution_count": 36,
   "metadata": {
    "id": "S6oE77WU9fFk",
    "outputId": "f9128309-9e30-482b-c5ab-732abe23d515"
   },
   "outputs": [
    {
     "name": "stdout",
     "output_type": "stream",
     "text": [
      "407214 BetaCoV/USA/WA1-A12/2020|EPI_ISL_407214\n",
      "411952 BetaCoV/Jiangsu/JS02/2020|EPI_ISL_411952\n",
      "408668 BetaCoV/Vietnam/VR03-38142/2020|EPI_ISL_408668\n",
      "410720 BetaCoV/France/IDF0372-isl/2020|EPI_ISL_410720\n",
      "407215 BetaCoV/USA/WA1-F6/2020|EPI_ISL_407215\n",
      "408488 BetaCoV/Jiangsu/IVDC-JS-001/2020|EPI_ISL_408488\n",
      "402125 BetaCoV/Wuhan-Hu-1/2019|EPI_ISL_402125\n",
      "410536 BetaCoV/Singapore/5/2020|EPI_ISL_410536\n",
      "411066 BetaCoV/Fujian/13/2020|EPI_ISL_411066\n",
      "406534 BetaCoV/Foshan/20SF207/2020|EPI_ISL_406534\n",
      "406801 BetaCov/Wuhan/WH04/2020|EPI_ISL_406801\n",
      "408008 BetaCoV/USA/CA3/2020|EPI_ISL_408008\n",
      "402128 BetaCoV/Wuhan/WIV05/2019|EPI_ISL_402128\n",
      "410301 BetaCoV/Nepal/61/2020|EPI_ISL_410301\n",
      "403928 BetaCoV/Wuhan/IPBCAMS-WH-05/2020|EPI_ISL_403928\n"
     ]
    }
   ],
   "source": [
    "# remove []\n",
    "for i in aln[0:150:10]:\n",
    "    print(i.description)"
   ]
  },
  {
   "cell_type": "markdown",
   "metadata": {
    "id": "McrVcmvV9fFk"
   },
   "source": [
    "## Conclusions:\n",
    "* Do the sequences that are the closest together make sense to you?\n",
    "* you can try a different indexing to see other pieces of the file\n",
    "* What sort of information could you gain from looking at these trees?"
   ]
  },
  {
   "cell_type": "code",
   "execution_count": null,
   "metadata": {
    "id": "1cD8064Q9fFk"
   },
   "outputs": [],
   "source": []
  }
 ],
 "metadata": {
  "colab": {
   "name": "bioinformatics-project.ipynb",
   "provenance": []
  },
  "kernelspec": {
   "display_name": "Python 3",
   "language": "python",
   "name": "python3"
  },
  "language_info": {
   "codemirror_mode": {
    "name": "ipython",
    "version": 3
   },
   "file_extension": ".py",
   "mimetype": "text/x-python",
   "name": "python",
   "nbconvert_exporter": "python",
   "pygments_lexer": "ipython3",
   "version": "3.7.6"
  }
 },
 "nbformat": 4,
 "nbformat_minor": 1
}
