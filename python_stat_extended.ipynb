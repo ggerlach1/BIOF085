{
 "cells": [
  {
   "cell_type": "markdown",
   "metadata": {
    "id": "YJmR79H9-thf"
   },
   "source": [
    "# Statistical analysis\n",
    "\n",
    "## Introduction\n",
    "\n",
    "Statistical analysis usually encompasses 3 activities in a data science workflow. These are (a) descriptive analysis, (b) hypothesis testing and (c) statistical modeling. Descriptive analysis refers to a description of the data, which includes computing summary statistics and drawing plots. Hypothesis testing usually refers to statistically seeing if two (or more) groups are different from each other based on some metrics. Modeling refers to fitting a curve to the data to describe the relationship patterns of different variables in a data set.\n",
    "\n",
    "In terms of Python packages that can address these three tasks:\n",
    "\n",
    "| Task                   | Packages               |\n",
    "| :---------------------- | ---------------------- |\n",
    "| Descriptive statistics | pandas, numpy, matplotlib, seaborn          |\n",
    "| Hypothesis testing     | scipy, statsmodels     |\n",
    "| Modeling               | statsmodels, lifelines, scikit-learn |\n"
   ]
  },
  {
   "cell_type": "markdown",
   "metadata": {
    "id": "s3x4p0eT-thg"
   },
   "source": [
    "## Descriptive statistics"
   ]
  },
  {
   "cell_type": "markdown",
   "metadata": {
    "id": "QjS_X7AC-thg"
   },
   "source": [
    "Descriptive statistics that are often computed are the mean, median, standard deviation, inter-quartile range, pairwise correlations, and the like. Most of these functions are available in `numpy`, and hence are available in `pandas`. We have already seen how we can compute these statistics and have even computed grouped statistics. For example, we will compute these using the diamonds dataset"
   ]
  },
  {
   "cell_type": "code",
   "execution_count": 8,
   "metadata": {
    "id": "K9JuzcZm-thg",
    "name": "04-python-stat-1"
   },
   "outputs": [],
   "source": [
    "import numpy as np\n",
    "import scipy as sc\n",
    "import pandas as pd\n",
    "import matplotlib.pyplot as plt\n",
    "import seaborn as sns\n",
    "sns.set_context('paper')\n",
    "sns.set_style('white')"
   ]
  },
  {
   "cell_type": "code",
   "execution_count": 9,
   "metadata": {
    "id": "GUEz6dtQ-thg",
    "name": "04-python-stat-2"
   },
   "outputs": [],
   "source": [
    "diamonds = pd.read_csv('data/diamonds.csv.gz')"
   ]
  },
  {
   "cell_type": "code",
   "execution_count": 10,
   "metadata": {
    "id": "NtZ6Pa3I-thg",
    "name": "04-python-stat-3",
    "outputId": "eb947ade-5470-4fc3-880e-6c718a8af2ff"
   },
   "outputs": [
    {
     "data": {
      "text/html": [
       "<div>\n",
       "<style scoped>\n",
       "    .dataframe tbody tr th:only-of-type {\n",
       "        vertical-align: middle;\n",
       "    }\n",
       "\n",
       "    .dataframe tbody tr th {\n",
       "        vertical-align: top;\n",
       "    }\n",
       "\n",
       "    .dataframe thead th {\n",
       "        text-align: right;\n",
       "    }\n",
       "</style>\n",
       "<table border=\"1\" class=\"dataframe\">\n",
       "  <thead>\n",
       "    <tr style=\"text-align: right;\">\n",
       "      <th></th>\n",
       "      <th>mean</th>\n",
       "      <th>median</th>\n",
       "      <th>std</th>\n",
       "    </tr>\n",
       "    <tr>\n",
       "      <th>color</th>\n",
       "      <th></th>\n",
       "      <th></th>\n",
       "      <th></th>\n",
       "    </tr>\n",
       "  </thead>\n",
       "  <tbody>\n",
       "    <tr>\n",
       "      <th>D</th>\n",
       "      <td>3169.954096</td>\n",
       "      <td>1838.0</td>\n",
       "      <td>3356.590935</td>\n",
       "    </tr>\n",
       "    <tr>\n",
       "      <th>E</th>\n",
       "      <td>3076.752475</td>\n",
       "      <td>1739.0</td>\n",
       "      <td>3344.158685</td>\n",
       "    </tr>\n",
       "    <tr>\n",
       "      <th>F</th>\n",
       "      <td>3724.886397</td>\n",
       "      <td>2343.5</td>\n",
       "      <td>3784.992007</td>\n",
       "    </tr>\n",
       "    <tr>\n",
       "      <th>G</th>\n",
       "      <td>3999.135671</td>\n",
       "      <td>2242.0</td>\n",
       "      <td>4051.102846</td>\n",
       "    </tr>\n",
       "    <tr>\n",
       "      <th>H</th>\n",
       "      <td>4486.669196</td>\n",
       "      <td>3460.0</td>\n",
       "      <td>4215.944171</td>\n",
       "    </tr>\n",
       "    <tr>\n",
       "      <th>I</th>\n",
       "      <td>5091.874954</td>\n",
       "      <td>3730.0</td>\n",
       "      <td>4722.387604</td>\n",
       "    </tr>\n",
       "    <tr>\n",
       "      <th>J</th>\n",
       "      <td>5323.818020</td>\n",
       "      <td>4234.0</td>\n",
       "      <td>4438.187251</td>\n",
       "    </tr>\n",
       "  </tbody>\n",
       "</table>\n",
       "</div>"
      ],
      "text/plain": [
       "              mean  median          std\n",
       "color                                  \n",
       "D      3169.954096  1838.0  3356.590935\n",
       "E      3076.752475  1739.0  3344.158685\n",
       "F      3724.886397  2343.5  3784.992007\n",
       "G      3999.135671  2242.0  4051.102846\n",
       "H      4486.669196  3460.0  4215.944171\n",
       "I      5091.874954  3730.0  4722.387604\n",
       "J      5323.818020  4234.0  4438.187251"
      ]
     },
     "execution_count": 10,
     "metadata": {},
     "output_type": "execute_result"
    }
   ],
   "source": [
    "diamonds.groupby('color')['price'].agg([np.mean, np.median, np.std])"
   ]
  },
  {
   "cell_type": "markdown",
   "metadata": {
    "id": "EICShtyR-thh"
   },
   "source": [
    "There were other examples we saw yesterday along these lines. Refer to both the `python_tools_ds` and `python_pandas` documents\n",
    "\n",
    "##  Classical hypothesis testing"
   ]
  },
  {
   "cell_type": "markdown",
   "metadata": {
    "id": "LxgEsSAX-thi"
   },
   "source": [
    "Python has the tools to do classic hypothesis testing. Several functions are available in the `scipy.stats` module. The commonly used tests that are available are as follows:\n",
    "\n",
    "| Function           | Test                                                    |\n",
    "| :----------------- | ------------------------------------------------------- |\n",
    "| `ttest_1samp`      | One-sample t-test                                       |\n",
    "| `ttest_ind`        | Two-sample t-test                                       |\n",
    "| `ttest_rel`        | Paired t-test                                           |\n",
    "| `wilcoxon`         | Wilcoxon signed-rank test (nonparametric paired t-test) |\n",
    "| `mannwhitneyu`         | Wilcoxon rank-sum test (nonparametric 2-sample t-test)  |\n",
    "| `chi2_contingency` | Chi-square test for independence                        |\n",
    "| `fisher_exact`     | Fisher's exact test on a 2x2 contingency table          |\n",
    "| `f_oneway`         | One-way ANOVA                                           |\n",
    "| `pearsonr`         | Testing for correlation                                 |\n",
    "|                    |                                                         |\n",
    "\n",
    "There are also several tests in `statsmodels.stats`\n",
    "\n",
    "| Functions           | Tests                                 |\n",
    "| :------------------ | ------------------------------------- |\n",
    "| `proportions_ztest` | Test for difference in proportions    |\n",
    "| `mcnemar`           | McNemar's test                        |\n",
    "| `sign_test`         | Sign test                             |\n",
    "| `multipletests`     | p-value correction for multiple tests |\n",
    "| `fdrcorrection`     | p-value correction by FDR             |\n",
    "|                     |                                       |"
   ]
  },
  {
   "cell_type": "markdown",
   "metadata": {
    "id": "cU1MvX_4-thi"
   },
   "source": [
    "Let us look at a breast cancer proteomics experiment to illustrate this. The experimental data contains protein expression for over 12 thousand proteins, along with clinical data. We can ask, for example, whether a particular protein expression differs by ER status. "
   ]
  },
  {
   "cell_type": "code",
   "execution_count": 11,
   "metadata": {
    "id": "mhEO4_5r-thi",
    "lines_to_next_cell": 0,
    "name": "04-python-stat-22",
    "outputId": "b81a4368-6fc4-4ed3-9547-40e20dafe50f"
   },
   "outputs": [
    {
     "data": {
      "text/html": [
       "<div>\n",
       "<style scoped>\n",
       "    .dataframe tbody tr th:only-of-type {\n",
       "        vertical-align: middle;\n",
       "    }\n",
       "\n",
       "    .dataframe tbody tr th {\n",
       "        vertical-align: top;\n",
       "    }\n",
       "\n",
       "    .dataframe thead th {\n",
       "        text-align: right;\n",
       "    }\n",
       "</style>\n",
       "<table border=\"1\" class=\"dataframe\">\n",
       "  <thead>\n",
       "    <tr style=\"text-align: right;\">\n",
       "      <th></th>\n",
       "      <th>Unnamed: 0</th>\n",
       "      <th>Complete TCGA ID</th>\n",
       "      <th>Gender</th>\n",
       "      <th>Age at Initial Pathologic Diagnosis</th>\n",
       "      <th>ER Status</th>\n",
       "      <th>PR Status</th>\n",
       "      <th>HER2 Final Status</th>\n",
       "      <th>Tumor</th>\n",
       "      <th>Tumor--T1 Coded</th>\n",
       "      <th>Node</th>\n",
       "      <th>...</th>\n",
       "      <th>NP_001193600</th>\n",
       "      <th>NP_061134</th>\n",
       "      <th>NP_932347</th>\n",
       "      <th>NP_003593</th>\n",
       "      <th>NP_997203</th>\n",
       "      <th>NP_001191293</th>\n",
       "      <th>NP_775791</th>\n",
       "      <th>NP_004065</th>\n",
       "      <th>NP_068752</th>\n",
       "      <th>NP_219494</th>\n",
       "    </tr>\n",
       "  </thead>\n",
       "  <tbody>\n",
       "    <tr>\n",
       "      <th>0</th>\n",
       "      <td>0</td>\n",
       "      <td>TCGA-A2-A0CM</td>\n",
       "      <td>FEMALE</td>\n",
       "      <td>40</td>\n",
       "      <td>Negative</td>\n",
       "      <td>Negative</td>\n",
       "      <td>Negative</td>\n",
       "      <td>T2</td>\n",
       "      <td>T_Other</td>\n",
       "      <td>N0</td>\n",
       "      <td>...</td>\n",
       "      <td>NaN</td>\n",
       "      <td>NaN</td>\n",
       "      <td>1.153614</td>\n",
       "      <td>NaN</td>\n",
       "      <td>NaN</td>\n",
       "      <td>NaN</td>\n",
       "      <td>NaN</td>\n",
       "      <td>NaN</td>\n",
       "      <td>NaN</td>\n",
       "      <td>NaN</td>\n",
       "    </tr>\n",
       "    <tr>\n",
       "      <th>1</th>\n",
       "      <td>1</td>\n",
       "      <td>TCGA-BH-A18Q</td>\n",
       "      <td>FEMALE</td>\n",
       "      <td>56</td>\n",
       "      <td>Negative</td>\n",
       "      <td>Negative</td>\n",
       "      <td>Negative</td>\n",
       "      <td>T2</td>\n",
       "      <td>T_Other</td>\n",
       "      <td>N1</td>\n",
       "      <td>...</td>\n",
       "      <td>0.048144</td>\n",
       "      <td>NaN</td>\n",
       "      <td>-0.881872</td>\n",
       "      <td>2.527072</td>\n",
       "      <td>-8.111243</td>\n",
       "      <td>-16.029761</td>\n",
       "      <td>-2.046065</td>\n",
       "      <td>-1.778435</td>\n",
       "      <td>NaN</td>\n",
       "      <td>-3.069752</td>\n",
       "    </tr>\n",
       "    <tr>\n",
       "      <th>2</th>\n",
       "      <td>2</td>\n",
       "      <td>TCGA-A7-A0CE</td>\n",
       "      <td>FEMALE</td>\n",
       "      <td>57</td>\n",
       "      <td>Negative</td>\n",
       "      <td>Negative</td>\n",
       "      <td>Negative</td>\n",
       "      <td>T2</td>\n",
       "      <td>T_Other</td>\n",
       "      <td>N0</td>\n",
       "      <td>...</td>\n",
       "      <td>0.644347</td>\n",
       "      <td>NaN</td>\n",
       "      <td>1.625952</td>\n",
       "      <td>NaN</td>\n",
       "      <td>NaN</td>\n",
       "      <td>NaN</td>\n",
       "      <td>-1.306238</td>\n",
       "      <td>NaN</td>\n",
       "      <td>NaN</td>\n",
       "      <td>NaN</td>\n",
       "    </tr>\n",
       "    <tr>\n",
       "      <th>3</th>\n",
       "      <td>3</td>\n",
       "      <td>TCGA-D8-A142</td>\n",
       "      <td>FEMALE</td>\n",
       "      <td>74</td>\n",
       "      <td>Negative</td>\n",
       "      <td>Negative</td>\n",
       "      <td>Negative</td>\n",
       "      <td>T3</td>\n",
       "      <td>T_Other</td>\n",
       "      <td>N0</td>\n",
       "      <td>...</td>\n",
       "      <td>-5.107629</td>\n",
       "      <td>-0.97598</td>\n",
       "      <td>NaN</td>\n",
       "      <td>2.508629</td>\n",
       "      <td>-12.337110</td>\n",
       "      <td>-9.546530</td>\n",
       "      <td>-4.066584</td>\n",
       "      <td>NaN</td>\n",
       "      <td>NaN</td>\n",
       "      <td>NaN</td>\n",
       "    </tr>\n",
       "    <tr>\n",
       "      <th>4</th>\n",
       "      <td>4</td>\n",
       "      <td>TCGA-AO-A0J6</td>\n",
       "      <td>FEMALE</td>\n",
       "      <td>61</td>\n",
       "      <td>Negative</td>\n",
       "      <td>Negative</td>\n",
       "      <td>Negative</td>\n",
       "      <td>T2</td>\n",
       "      <td>T_Other</td>\n",
       "      <td>N0</td>\n",
       "      <td>...</td>\n",
       "      <td>-1.043420</td>\n",
       "      <td>NaN</td>\n",
       "      <td>NaN</td>\n",
       "      <td>NaN</td>\n",
       "      <td>-3.231339</td>\n",
       "      <td>NaN</td>\n",
       "      <td>NaN</td>\n",
       "      <td>NaN</td>\n",
       "      <td>NaN</td>\n",
       "      <td>-3.753616</td>\n",
       "    </tr>\n",
       "  </tbody>\n",
       "</table>\n",
       "<p>5 rows × 12585 columns</p>\n",
       "</div>"
      ],
      "text/plain": [
       "   Unnamed: 0 Complete TCGA ID  Gender  Age at Initial Pathologic Diagnosis  \\\n",
       "0           0     TCGA-A2-A0CM  FEMALE                                   40   \n",
       "1           1     TCGA-BH-A18Q  FEMALE                                   56   \n",
       "2           2     TCGA-A7-A0CE  FEMALE                                   57   \n",
       "3           3     TCGA-D8-A142  FEMALE                                   74   \n",
       "4           4     TCGA-AO-A0J6  FEMALE                                   61   \n",
       "\n",
       "  ER Status PR Status HER2 Final Status Tumor Tumor--T1 Coded Node  ...  \\\n",
       "0  Negative  Negative          Negative    T2         T_Other   N0  ...   \n",
       "1  Negative  Negative          Negative    T2         T_Other   N1  ...   \n",
       "2  Negative  Negative          Negative    T2         T_Other   N0  ...   \n",
       "3  Negative  Negative          Negative    T3         T_Other   N0  ...   \n",
       "4  Negative  Negative          Negative    T2         T_Other   N0  ...   \n",
       "\n",
       "  NP_001193600 NP_061134 NP_932347 NP_003593  NP_997203 NP_001191293  \\\n",
       "0          NaN       NaN  1.153614       NaN        NaN          NaN   \n",
       "1     0.048144       NaN -0.881872  2.527072  -8.111243   -16.029761   \n",
       "2     0.644347       NaN  1.625952       NaN        NaN          NaN   \n",
       "3    -5.107629  -0.97598       NaN  2.508629 -12.337110    -9.546530   \n",
       "4    -1.043420       NaN       NaN       NaN  -3.231339          NaN   \n",
       "\n",
       "  NP_775791  NP_004065  NP_068752  NP_219494  \n",
       "0       NaN        NaN        NaN        NaN  \n",
       "1 -2.046065  -1.778435        NaN  -3.069752  \n",
       "2 -1.306238        NaN        NaN        NaN  \n",
       "3 -4.066584        NaN        NaN        NaN  \n",
       "4       NaN        NaN        NaN  -3.753616  \n",
       "\n",
       "[5 rows x 12585 columns]"
      ]
     },
     "execution_count": 11,
     "metadata": {},
     "output_type": "execute_result"
    }
   ],
   "source": [
    "brca = pd.read_csv('data/brca.csv')\n",
    "brca.head()"
   ]
  },
  {
   "cell_type": "markdown",
   "metadata": {
    "id": "S0_1SkXA-thi"
   },
   "source": [
    "We will use both the t-test and the Wilcoxon rank-sum test, the nonparametric equivalent. \n",
    "\n",
    "We will first do the classical t-test, that is available in the `scipy` package."
   ]
  },
  {
   "cell_type": "code",
   "execution_count": 12,
   "metadata": {
    "id": "r276mGcT-thi",
    "name": "04-python-stat-23",
    "outputId": "b7cb7e19-8aeb-4250-f390-eeeb0b6753e9"
   },
   "outputs": [
    {
     "data": {
      "text/plain": [
       "0.277"
      ]
     },
     "execution_count": 12,
     "metadata": {},
     "output_type": "execute_result"
    }
   ],
   "source": [
    "import scipy as sc\n",
    "import statsmodels as sm\n",
    "test_probe = 'NP_001193600'\n",
    "\n",
    "tst = sc.stats.ttest_ind(brca[brca['ER Status']=='Positive'][test_probe], # Need [] since names have spaces\n",
    "                   brca[brca['ER Status']=='Negative'][test_probe], \n",
    "                  nan_policy = 'omit')\n",
    "np.round(tst.pvalue, 3)"
   ]
  },
  {
   "cell_type": "markdown",
   "metadata": {
    "id": "Htw1Jjls-thi"
   },
   "source": [
    "We will now do the Wilcoxon test, also known as the Mann-Whitney U test. "
   ]
  },
  {
   "cell_type": "code",
   "execution_count": 13,
   "metadata": {
    "id": "oblaVZ5M-thi",
    "lines_to_next_cell": 0,
    "outputId": "9b2ef0b1-e2da-40ff-fdb3-379e9f7aa55e"
   },
   "outputs": [
    {
     "data": {
      "text/plain": [
       "0.996"
      ]
     },
     "execution_count": 13,
     "metadata": {},
     "output_type": "execute_result"
    }
   ],
   "source": [
    "tst = sc.stats.mannwhitneyu(brca[brca['ER Status']=='Positive'][test_probe], # Need [] since names have spaces\n",
    "                   brca[brca['ER Status']=='Negative'][test_probe], \n",
    "                  alternative = 'two-sided')\n",
    "np.round(tst.pvalue, 3)"
   ]
  },
  {
   "cell_type": "markdown",
   "metadata": {
    "id": "CrTZPl7C-thj"
   },
   "source": [
    "We will come back to this when we look at permutation tests below. \n",
    "\n",
    "## Simulation and inference\n",
    "\n",
    "Hypothesis testing is one of the areas where statistics is often used. There are functions for a lot of the standard statistical tests in `scipy` and `statsmodels`. However, I'm going to take a little detour to see if we can get some understanding of hypothesis tests using the powerful simulation capabilities of Python. We'll visit the in-built functions available in `scipy` and `statsmodels` as well."
   ]
  },
  {
   "cell_type": "markdown",
   "metadata": {
    "id": "1H-AZ526-thj"
   },
   "source": [
    "### Simulation and hypothesis testing\n",
    "\n",
    "**Question:** You have a coin and you flip it 100 times. You get 54 heads. How likely is it that you have a fair coin?\n",
    "\n",
    "We can simulate this process, which is random, using Python. The process of heads and tails from coin tosses can be modeled as a [**binomial** distribution](https://en.wikipedia.org/wiki/Binomial_distribution). We can repeat this experiment many many times on our computer, making the assumption that we have a fair coin, and then seeing how likely what we observed is under that assumption. \n",
    "\n",
    "> Simulation under reasonable assumptions is a great way to understand our data and the underlying data generating processes. In the modern era, it has most famously been used by Nate Silver of ESPN to simulate national elections in the US. There are many examples in engineering where simulations are done to understand a technology and figure out its tolerances and weaknesses, like in aircraft testing. It is also commonly used in epidemic modeling to help understand how an epidemic would spread under different conditions. "
   ]
  },
  {
   "cell_type": "code",
   "execution_count": 14,
   "metadata": {
    "colab": {
     "base_uri": "https://localhost:8080/",
     "height": 252
    },
    "executionInfo": {
     "elapsed": 725,
     "status": "error",
     "timestamp": 1607189881602,
     "user": {
      "displayName": "Gaby Gerlach",
      "photoUrl": "",
      "userId": "11117434220237101401"
     },
     "user_tz": 300
    },
    "id": "ol9xMYys-thj",
    "name": "04-python-stat-4",
    "outputId": "aca4c039-0dbb-47d4-80dc-bd6ad17ed071"
   },
   "outputs": [
    {
     "data": {
      "image/png": "[encoded data removed]",
      "text/plain": [
       "<Figure size 432x288 with 1 Axes>"
      ]
     },
     "metadata": {},
     "output_type": "display_data"
    }
   ],
   "source": [
    "rng = np.random.RandomState(205) # Seed the random number generator\n",
    "\n",
    "x = rng.binomial(100, 0.5, 100000) # Simulate 100,000 experiments of tossing a fair coin 100 times\n",
    "\n",
    "sns.distplot(x, kde=True, rug=False)\n",
    "plt.axvline(54, color = 'r'); # What we observed\n",
    "plt.xlabel('Number of heads');"
   ]
  },
  {
   "cell_type": "code",
   "execution_count": 15,
   "metadata": {
    "colab": {
     "base_uri": "https://localhost:8080/",
     "height": 183
    },
    "executionInfo": {
     "elapsed": 1029,
     "status": "error",
     "timestamp": 1607189881916,
     "user": {
      "displayName": "Gaby Gerlach",
      "photoUrl": "",
      "userId": "11117434220237101401"
     },
     "user_tz": 300
    },
    "id": "Rfs2IO1m-thj",
    "name": "04-python-stat-5",
    "outputId": "77fd6153-3252-48bd-9ca0-5516474b0264"
   },
   "outputs": [
    {
     "data": {
      "text/plain": [
       "count    100000.000000\n",
       "mean         49.995590\n",
       "std           5.011938\n",
       "min          27.000000\n",
       "25%          47.000000\n",
       "50%          50.000000\n",
       "75%          53.000000\n",
       "max          72.000000\n",
       "dtype: float64"
      ]
     },
     "execution_count": 15,
     "metadata": {},
     "output_type": "execute_result"
    }
   ],
   "source": [
    "# We convert to pd.Series to take advantage of the `describe` function.\n",
    "pd.Series(x).describe() "
   ]
  },
  {
   "cell_type": "markdown",
   "metadata": {
    "id": "kvX3Ct0G-thj"
   },
   "source": [
    "What we see from the histogram and the description of the data above is the patterns in data we would expect if we repeated this random experiment. We can already make some observations. First, we do see that the average number of heads we expect to get is 50, which validates that our experiment is using a fair coin. Second, we can reasonably get as few as 27 heads and as many as 72 heads even with a fair coin. In fact, we could look at what values we would expect to see 95% of the time."
   ]
  },
  {
   "cell_type": "code",
   "execution_count": 16,
   "metadata": {
    "executionInfo": {
     "elapsed": 1020,
     "status": "aborted",
     "timestamp": 1607189881913,
     "user": {
      "displayName": "Gaby Gerlach",
      "photoUrl": "",
      "userId": "11117434220237101401"
     },
     "user_tz": 300
    },
    "id": "4zCyQW6z-thj",
    "name": "04-python-stat-6"
   },
   "outputs": [
    {
     "data": {
      "text/plain": [
       "array([40., 60.])"
      ]
     },
     "execution_count": 16,
     "metadata": {},
     "output_type": "execute_result"
    }
   ],
   "source": [
    "np.quantile(x, [0.025, 0.975])"
   ]
  },
  {
   "cell_type": "markdown",
   "metadata": {
    "id": "8Ql4NzUn-thj"
   },
   "source": [
    "This says that 95% of the time we'll see values between 40 and 60. (This is **not** a confidence interval. This is the actual results of a simulation study. A confidence interval would be computed based on a **single** experiment, assuming a binomial distribution. We'll come to that later). \n",
    "\n",
    "So how likely would we be to see the 54 heads in 100 tosses assuming a fair coin? This can be computed as the proportion of experiments"
   ]
  },
  {
   "cell_type": "code",
   "execution_count": 17,
   "metadata": {
    "executionInfo": {
     "elapsed": 1016,
     "status": "aborted",
     "timestamp": 1607189881916,
     "user": {
      "displayName": "Gaby Gerlach",
      "photoUrl": "",
      "userId": "11117434220237101401"
     },
     "user_tz": 300
    },
    "id": "zCpLh94v-thj",
    "name": "04-python-stat-7"
   },
   "outputs": [
    {
     "data": {
      "text/plain": [
       "0.18456"
      ]
     },
     "execution_count": 17,
     "metadata": {},
     "output_type": "execute_result"
    }
   ],
   "source": [
    "np.mean(x > 54) # convince yourself of this"
   ]
  },
  {
   "cell_type": "markdown",
   "metadata": {
    "id": "wkTXg_1b-thj"
   },
   "source": [
    "This is what would be considered the *p-value* for the test that the coin is fair. \n",
    "\n",
    "> The p-value of a statistical hypothesis test is the likelihood that we would see an outcome at least as extreme as we observed under the assumption that the null hypothesis (H<sub>0</sub>) that we chose is actually true. \n",
    ">\n",
    "> In our case, that null hypothesis is that the coin we're tossing is fair. The p-value **only** gives evidence against the null hypothesis, but does **not** give evidence for the null hypothesis. In other words, if the p-value is small (smaller than some threshold we deem reasonable), then we can claim evidence against the null hypothesis, but if the p-value is large, we cannot say the null hypothesis is true. "
   ]
  },
  {
   "cell_type": "markdown",
   "metadata": {
    "id": "rEJ3fsHP-thj"
   },
   "source": [
    "What happens if we increase the number of tosses, and we look at the proportion of heads. We observe 54% heads."
   ]
  },
  {
   "cell_type": "code",
   "execution_count": 18,
   "metadata": {
    "colab": {
     "base_uri": "https://localhost:8080/",
     "height": 235
    },
    "executionInfo": {
     "elapsed": 710,
     "status": "error",
     "timestamp": 1607189882188,
     "user": {
      "displayName": "Gaby Gerlach",
      "photoUrl": "",
      "userId": "11117434220237101401"
     },
     "user_tz": 300
    },
    "id": "Giy7j88p-thj",
    "name": "04-python-stat-8",
    "outputId": "3e1a7af5-67b3-42e1-e997-a267c01947eb"
   },
   "outputs": [
    {
     "data": {
      "image/png": "[encoded data removed]",
      "text/plain": [
       "<Figure size 432x288 with 1 Axes>"
      ]
     },
     "metadata": {},
     "output_type": "display_data"
    }
   ],
   "source": [
    "rng = np.random.RandomState(205)\n",
    "x = rng.binomial(10000, 0.5, 100000)/10000\n",
    "sns.distplot(x)\n",
    "plt.axvline(0.54, color = 'r')\n",
    "plt.xlabel('Proportion of heads');"
   ]
  },
  {
   "cell_type": "code",
   "execution_count": 19,
   "metadata": {
    "colab": {
     "base_uri": "https://localhost:8080/",
     "height": 165
    },
    "executionInfo": {
     "elapsed": 604,
     "status": "error",
     "timestamp": 1607189882830,
     "user": {
      "displayName": "Gaby Gerlach",
      "photoUrl": "",
      "userId": "11117434220237101401"
     },
     "user_tz": 300
    },
    "id": "vWCZsNEr-thj",
    "name": "04-python-stat-9",
    "outputId": "55e93a5c-6618-49eb-889d-d043ba985ab5"
   },
   "outputs": [
    {
     "data": {
      "text/plain": [
       "count    100000.000000\n",
       "mean          0.499991\n",
       "std           0.004994\n",
       "min           0.478100\n",
       "25%           0.496600\n",
       "50%           0.500000\n",
       "75%           0.503400\n",
       "max           0.520300\n",
       "dtype: float64"
      ]
     },
     "execution_count": 19,
     "metadata": {},
     "output_type": "execute_result"
    }
   ],
   "source": [
    "pd.Series(x).describe()"
   ]
  },
  {
   "cell_type": "markdown",
   "metadata": {
    "id": "qVT5WrV1-thj"
   },
   "source": [
    "Well, that changed the game significantly. If we up the number of coin tosses per experiment to 10,000, so 100-fold increase, then we do not see very much variation in the proportion of tosses that are heads. \n",
    "\n",
    ">This is expected behavior because of a statistical theorem called the *Law of Large Numbers*, which essentially says that if you do larger and larger sized random experiments with the same experimental setup, your estimate of the true population parameter (in this case the true chance of getting a head, or 0.5 for a fair coin) will become more and more precise. \n",
    "\n",
    "Now we see that for a fair coin, we should reasonably see between 47.8% and 52% of tosses should be heads. This is quite an improvement from the 27%-72% range we saw with 100 tosses. \n",
    "\n",
    "We can compute our p-value in the same way as before."
   ]
  },
  {
   "cell_type": "code",
   "execution_count": 20,
   "metadata": {
    "colab": {
     "base_uri": "https://localhost:8080/",
     "height": 165
    },
    "executionInfo": {
     "elapsed": 723,
     "status": "error",
     "timestamp": 1607189883845,
     "user": {
      "displayName": "Gaby Gerlach",
      "photoUrl": "",
      "userId": "11117434220237101401"
     },
     "user_tz": 300
    },
    "id": "0Fx82t6V-thj",
    "name": "04-python-stat-10",
    "outputId": "15fe6b3b-d6cd-43ab-8d6f-dfcfa1bca6f4"
   },
   "outputs": [
    {
     "data": {
      "text/plain": [
       "0.0"
      ]
     },
     "execution_count": 20,
     "metadata": {},
     "output_type": "execute_result"
    }
   ],
   "source": [
    "np.mean(x > 0.54)"
   ]
  },
  {
   "cell_type": "markdown",
   "metadata": {
    "id": "7Pb7Jhwh-thj"
   },
   "source": [
    "So we would never see 54% of our tosses be heads if we tossed a fair coin 10,000 times. Now, with a larger experiment, we would **reject** our null hypothesis H<sub>0</sub> that we have a fair coin. \n",
    "\n",
    "So same observation, but more data, changes our *inference* from not having sufficient evidence to say that the coin isn't fair to saying that it isn't fair quite definitively. This is directly due to the increased precision of our estimates and thus our ability to differentiate between much smaller differences in the truth. \n",
    "\n",
    "Let's see a bit more about what's going on here. Suppose we assume that the coin's true likelihood of getting a head is really 0.55, so a very small bias towards heads.\n",
    "\n",
    "> Food for thought: Is the difference between 0.50 and 0.54 worth worrying about? It probably depends. \n",
    "\n",
    "We're going to compare what we would reasonably see over many repeated experiments given the coin has a 0.50 (fair) and a 0.55 (slightly biased) chance of a head. First, we'll do experiments of 100 tosses of a coin."
   ]
  },
  {
   "cell_type": "code",
   "execution_count": 21,
   "metadata": {
    "colab": {
     "base_uri": "https://localhost:8080/",
     "height": 235
    },
    "executionInfo": {
     "elapsed": 430,
     "status": "error",
     "timestamp": 1607189884396,
     "user": {
      "displayName": "Gaby Gerlach",
      "photoUrl": "",
      "userId": "11117434220237101401"
     },
     "user_tz": 300
    },
    "id": "yERR1lBR-thj",
    "lines_to_next_cell": 2,
    "name": "04-python-stat-11",
    "outputId": "7d738e07-7da4-42f7-f91e-d94496078eb8"
   },
   "outputs": [
    {
     "data": {
      "image/png": "[encoded data removed]",
      "text/plain": [
       "<Figure size 432x288 with 1 Axes>"
      ]
     },
     "metadata": {},
     "output_type": "display_data"
    }
   ],
   "source": [
    "rng = np.random.RandomState(205)\n",
    "x11 = rng.binomial(100, 0.5, 100000)/100 # Getting proportion of heads\n",
    "x12 = rng.binomial(100, 0.55, 100000)/100 \n",
    "\n",
    "sns.distplot(x11, label = 'Fair')\n",
    "sns.distplot(x12, label = 'Biased')\n",
    "plt.xlabel('Proportion of heads')\n",
    "plt.legend();"
   ]
  },
  {
   "cell_type": "markdown",
   "metadata": {
    "id": "L3RsMEiC-thj"
   },
   "source": [
    "We see that there is a great deal of overlap in the potential outcomes over 100,000 repetitions of these experiments, so we have a lot of uncertainty about which model (fair or biased) is the truth. \n",
    "\n",
    "Now, if we up our experiment to 10,000 tosses of each coin, and again repeat the experiment 100,000 times, "
   ]
  },
  {
   "cell_type": "code",
   "execution_count": 22,
   "metadata": {
    "id": "dqa07hHk-thj",
    "name": "04-python-stat-12",
    "outputId": "24774ebb-5978-4e08-a0fe-9093739d183b"
   },
   "outputs": [
    {
     "data": {
      "image/png": "[encoded data removed]",
      "text/plain": [
       "<Figure size 432x288 with 1 Axes>"
      ]
     },
     "metadata": {},
     "output_type": "display_data"
    }
   ],
   "source": [
    "rng = np.random.RandomState(205)\n",
    "x21 = rng.binomial(10000, 0.5, 100000)/10000\n",
    "x22 = rng.binomial(10000, 0.55, 100000)/10000\n",
    "\n",
    "sns.distplot(x21, label = 'Fair')\n",
    "sns.distplot(x22, label = 'Biased')\n",
    "plt.xlabel('Proportion of heads')\n",
    "plt.legend();"
   ]
  },
  {
   "cell_type": "markdown",
   "metadata": {
    "id": "HArWYFBv-thj"
   },
   "source": [
    "We now find almost no overlap between the potential outcomes, so we can very easily distinguish the two models. This is part of what gathering more data (number of tosses) buys you. \n",
    "\n",
    "We typically measure this ability to distinguish between two models using concepts of *statistical power*, which is the likelihood that we would find an observation at least as extreme as what we observed, under the **alternative** model (in this case, the biased coin model). We can calculate the statistical power quite easily for the two sets of simulated experiments. Remember, we observed 54% heads in our one instance of each experiment that we actually observed. By doing simulations, we're \"playing God\" and seeing what could have happened, but in practice we only do the experiment once (how many clinical trials of an expensive drug would you really want to do?). "
   ]
  },
  {
   "cell_type": "code",
   "execution_count": 23,
   "metadata": {
    "id": "BTdEAIpN-thj",
    "name": "04-python-stat-13",
    "outputId": "da1836b4-157a-49bb-fc2e-982a78fa55a2"
   },
   "outputs": [
    {
     "name": "stdout",
     "output_type": "stream",
     "text": [
      "The p-value when n=100 is  0.18\n",
      "The p-value when n=10,000 is  0.0\n",
      "Statistical power when n=100 is  0.54\n",
      "Statistical power when n=10,000 is  0.98\n"
     ]
    }
   ],
   "source": [
    "pval1 = np.mean(x11 > 0.54)\n",
    "pval2 = np.mean(x21 > 0.54)\n",
    "\n",
    "power1 = np.mean(x12 > 0.54)\n",
    "power2 = np.mean(x22 > 0.54)\n",
    "\n",
    "print('The p-value when n=100 is ', np.round(pval1, 2))\n",
    "print('The p-value when n=10,000 is ', np.round(pval2, 2))\n",
    "print('Statistical power when n=100 is ', np.round(power1, 2))\n",
    "print('Statistical power when n=10,000 is ', np.round(power2, 2))"
   ]
  },
  {
   "cell_type": "markdown",
   "metadata": {
    "id": "gqgec59C-thj"
   },
   "source": [
    "So as *n* goes up, the p-value for the same experimental outcome goes down and the statistical power goes up. This is a general rule with increasing sample size. \n",
    "\n",
    "This idea can be used to design a two-armed experiment. Suppose we are looking at the difference in proportion of mice who gained weight between a wild-type mouse and a knockout variant. Since mice are expensive, let's limit the number of mice we'll use in each arm to 10. We expect 30% of the wild-type mice to gain weight, and expect a higher proportion of the knockouts will gain weight. This is again the setup for a binomial experiment, with the number of \"coin tosses\" being 10 for each of the arms. We're going to do two sets of experiments, one for the WT and one for the KO, and see the difference in proportions of weight gain ('heads') between them, and repeat it 100,000 times. "
   ]
  },
  {
   "cell_type": "code",
   "execution_count": 24,
   "metadata": {
    "id": "Q8vw9fmX-thj",
    "name": "04-python-stat-14",
    "outputId": "8535f3a3-226a-4168-e213-6e2532397868"
   },
   "outputs": [
    {
     "data": {
      "image/png": "[encoded data removed]",
      "text/plain": [
       "<Figure size 432x288 with 1 Axes>"
      ]
     },
     "metadata": {},
     "output_type": "display_data"
    }
   ],
   "source": [
    "rng = np.random.RandomState(304)\n",
    "N = 10\n",
    "weight_gain_wt0 = rng.binomial(N, 0.3, 100000)/N # Get proportion\n",
    "weight_gain_ko0 = rng.binomial(N, 0.3, 100000)/N # Assume first (null hypothesis) that there is no difference\n",
    "\n",
    "diff_weight_gain0 = weight_gain_ko0 - weight_gain_wt0\n",
    "sns.distplot(diff_weight_gain0, kde=False); # Since we only have 10 mice each, this histogram is not very smooth. \n",
    "                                           # No matter!"
   ]
  },
  {
   "cell_type": "markdown",
   "metadata": {
    "id": "B8udHFPT-thj"
   },
   "source": [
    "We usually design the actual test by choosing a cutoff in the difference in proportions and stating that we will reject the null hypothesis if our observed difference exceeds this cutoff. We choose the cutoff so that the p-value of the cutoff is some pre-determined error rate, typically 0.05 or 5% (This is not golden or set in stone. We'll discuss this later). Let's find that cutoff from this simulation. This will correspond to the 95th percentile of this simulated distribution."
   ]
  },
  {
   "cell_type": "code",
   "execution_count": 25,
   "metadata": {
    "id": "tpKvT1Ft-thj",
    "name": "04-python-stat-15",
    "outputId": "226630ef-979b-4400-bf57-6a357bce3f1b"
   },
   "outputs": [
    {
     "data": {
      "text/plain": [
       "0.3"
      ]
     },
     "execution_count": 25,
     "metadata": {},
     "output_type": "execute_result"
    }
   ],
   "source": [
    "np.round(np.quantile(diff_weight_gain0, 0.95), 2)"
   ]
  },
  {
   "cell_type": "markdown",
   "metadata": {
    "id": "W-Csl9dD-thk"
   },
   "source": [
    "This means that at least 5% of the values will be 0.3 or bigger. In fact, this proportion is "
   ]
  },
  {
   "cell_type": "code",
   "execution_count": 26,
   "metadata": {
    "id": "GL-IL7kz-thk",
    "name": "04-python-stat-16",
    "outputId": "44553b9f-452b-4872-8e66-94e32a95ab2f"
   },
   "outputs": [
    {
     "data": {
      "text/plain": [
       "0.06673"
      ]
     },
     "execution_count": 26,
     "metadata": {},
     "output_type": "execute_result"
    }
   ],
   "source": [
    "np.mean(diff_weight_gain0 > 0.3)"
   ]
  },
  {
   "cell_type": "markdown",
   "metadata": {
    "id": "8wH1tf-U-thk"
   },
   "source": [
    "So we'll take 0.3 as the cutoff for our test (It's fine if the Type 1 error is more than 0.05. If we take the next largest value in the simulation, we dip below 0.05). We're basically done specifying the testing rule. \n",
    "\n",
    "What we (and reviewers) like to know at this point is, what is the difference level for which you might get 80% power. The thinking is that if the true difference was, say, *p > 0* rather than 0 (under the null hypothesis), we would reject the null hypothesis, i.e., get our observed difference to be more than 0.3, at least 80% of the time. We want to find out how big that value of *p* is. In other words, what is the level of difference in proportions at which we can be reasonably certain that our test will REJECT H<sub>0</sub>, given our sample size, when the true difference in proportions is *p*. Another way of saying this is how big does the difference in true proportions have to be before we would be fairly confident statistically of distinguishing that we have a difference between the two groups given our chosen sample size, i.e., fairly small overlaps in the two competing distributions.    \n",
    "\n",
    "We can also do this using simulation, by keeping the WT group at 0.3, increasing the KO group gradually, simulating the distribution of the difference in proportion and seeing at what point we get to a statistical power of about 80%. Recall, we've already determined that our test will reject H<sub>0</sub> when the observed difference is greater than 0.3"
   ]
  },
  {
   "cell_type": "code",
   "execution_count": 27,
   "metadata": {
    "id": "isBfwkog-thk",
    "lines_to_next_cell": 2,
    "name": "04-python-stat-17"
   },
   "outputs": [],
   "source": [
    "p1 = np.linspace(0.3, 0.9, 100)\n",
    "power = np.zeros(len(p1))\n",
    "for i, p in enumerate(p1):\n",
    "    weight_gain_wt1 = rng.binomial(N, 0.3, 100000)/N\n",
    "    weight_gain_ko1 = rng.binomial(N, p, 100000)/N\n",
    "    diff_weight_gain1 = weight_gain_ko1 - weight_gain_wt1\n",
    "    power[i] = np.mean(diff_weight_gain1 > 0.3)"
   ]
  },
  {
   "cell_type": "code",
   "execution_count": 28,
   "metadata": {
    "id": "VHPwv34q-thk",
    "name": "04-python-stat-18",
    "outputId": "71a4c302-71af-4b2a-b60e-c1481b4434b5"
   },
   "outputs": [
    {
     "data": {
      "image/png": "[encoded data removed]",
      "text/plain": [
       "<Figure size 432x288 with 1 Axes>"
      ]
     },
     "metadata": {},
     "output_type": "display_data"
    }
   ],
   "source": [
    "sns.lineplot(p1, power)\n",
    "plt.axhline(0.8, color = 'black', linestyle = '--');\n",
    "plt.ylabel('Statistical power')\n",
    "plt.xlabel('Proportion in KO mice');"
   ]
  },
  {
   "cell_type": "code",
   "execution_count": 29,
   "metadata": {
    "id": "1AJqNi7S-thl",
    "name": "04-python-stat-19",
    "outputId": "c0c71069-494d-4128-af9a-9d92e54e1adb"
   },
   "outputs": [
    {
     "data": {
      "text/plain": [
       "0.48"
      ]
     },
     "execution_count": 29,
     "metadata": {},
     "output_type": "execute_result"
    }
   ],
   "source": [
    "np.round(p1[np.argmin(np.abs(power - 0.8))] - 0.3, 2) # Find the location in the p1 array where power is closest to 0.8"
   ]
  },
  {
   "cell_type": "markdown",
   "metadata": {
    "id": "zCyWqzO_-thl"
   },
   "source": [
    "So to get to 80% power, we would need the true difference in proportion to be 0.48, or that at least 78% of KO mice should gain weight on average. This is quite a big difference, and its probably not very interesting scientifically to look for such a big difference, since it's quite unlikely. \n",
    "\n",
    "If we could afford 100 mice per arm, what would this look like?"
   ]
  },
  {
   "cell_type": "code",
   "execution_count": 30,
   "metadata": {
    "id": "c8C6BbRg-thl",
    "name": "04-python-stat-20",
    "outputId": "be6cf4fd-6d50-44d1-cc65-17148fa08cd4"
   },
   "outputs": [
    {
     "data": {
      "image/png": "[encoded data removed]",
      "text/plain": [
       "<Figure size 432x288 with 1 Axes>"
      ]
     },
     "metadata": {},
     "output_type": "display_data"
    }
   ],
   "source": [
    "rng = np.random.RandomState(304)\n",
    "N = 100\n",
    "weight_gain_wt0 = rng.binomial(N, 0.3, 100000)/N # Get proportion\n",
    "weight_gain_ko0 = rng.binomial(N, 0.3, 100000)/N # Assume first (null hypothesis) that there is no difference\n",
    "\n",
    "diff_weight_gain0 = weight_gain_ko0 - weight_gain_wt0\n",
    "cutoff = np.quantile(diff_weight_gain0, 0.95)\n",
    "\n",
    "p1 = np.linspace(0.3, 0.9, 100)\n",
    "power = np.zeros(len(p1))\n",
    "for i, p in enumerate(p1):\n",
    "    weight_gain_wt1 = rng.binomial(N, 0.3, 100000)/N\n",
    "    weight_gain_ko1 = rng.binomial(N, p, 100000)/N\n",
    "    diff_weight_gain1 = weight_gain_ko1 - weight_gain_wt1\n",
    "    power[i] = np.mean(diff_weight_gain1 > cutoff)\n",
    "\n",
    "sns.lineplot(p1, power)\n",
    "plt.axhline(0.8, color = 'black', linestyle = '--');\n",
    "plt.ylabel('Statistical power')\n",
    "plt.xlabel('Proportion in KO mice');"
   ]
  },
  {
   "cell_type": "code",
   "execution_count": 31,
   "metadata": {
    "id": "1cS_eUxv-thl",
    "name": "04-python-stat-21",
    "outputId": "4b1ec8ec-2319-4761-8d54-4c664c189ec8"
   },
   "outputs": [
    {
     "data": {
      "text/plain": [
       "0.17"
      ]
     },
     "execution_count": 31,
     "metadata": {},
     "output_type": "execute_result"
    }
   ],
   "source": [
    "np.round(p1[np.argmin(np.abs(power - 0.8))] - 0.3, 2)"
   ]
  },
  {
   "cell_type": "markdown",
   "metadata": {
    "id": "JqdB7Ikc-thl"
   },
   "source": [
    "The minimum detectable difference for 80% power is now down to 0.17, so we'd need the KO mice in truth to show weight gain 47% of the time, compared to 30% in WT mice. This is more reasonable scientifically as a query."
   ]
  },
  {
   "cell_type": "markdown",
   "metadata": {
    "id": "CpV1nHAV-thl"
   },
   "source": [
    "### A permutation test"
   ]
  },
  {
   "cell_type": "markdown",
   "metadata": {
    "id": "_CNbDPQa-thl"
   },
   "source": [
    "A permutation test is a 2-group test that asks whether two groups are different with respect to some metric. We'll use the same proteomic data set as before. "
   ]
  },
  {
   "cell_type": "markdown",
   "metadata": {
    "id": "Qa25xslM-thl"
   },
   "source": [
    "The idea about a permutation test is that, if there is truly no difference then it shouldn't make a difference if we shuffled the labels of ER status over the study individuals. That's literally what we will do. We will do this several times, and look at the average difference in expression each time. This will form the null distribution under our assumption of no differences by ER status. We'll then see where our observed data falls, and then be able to compute a p-value.\n",
    "\n",
    "The difference between the simulations we just did and a permutation test is that the permutation test is based only on the observed data. No particular models are assumed and no new data is simulated. All we're doing is shuffling the labels among the subjects, but keeping their actual data intact. "
   ]
  },
  {
   "cell_type": "code",
   "execution_count": 32,
   "metadata": {
    "id": "zsxw9Ei_-thl",
    "lines_to_next_cell": 2,
    "name": "04-python-stat-24"
   },
   "outputs": [],
   "source": [
    "nsim = 10000\n",
    "\n",
    "rng = np.random.RandomState(294)\n",
    "x = np.where(brca['ER Status']=='Positive', -1, 1)\n",
    "y = brca[test_probe].to_numpy()\n",
    "\n",
    "obs_diff = np.nanmean(y[x==1]) - np.nanmean(y[x==-1])\n",
    "\n",
    "diffs = np.zeros(nsim)\n",
    "for i in range(nsim):\n",
    "    x1 = rng.permutation(x)\n",
    "    diffs[i] = np.nanmean(y[x1==1]) - np.nanmean(y[x1 == -1])"
   ]
  },
  {
   "cell_type": "code",
   "execution_count": 33,
   "metadata": {
    "id": "jRqWacjl-thl",
    "name": "04-python-stat-25",
    "outputId": "8e3125b5-4cf7-43b1-89f8-15a9e2b288da"
   },
   "outputs": [
    {
     "data": {
      "image/png": "[encoded data removed]",
      "text/plain": [
       "<Figure size 432x288 with 1 Axes>"
      ]
     },
     "metadata": {},
     "output_type": "display_data"
    }
   ],
   "source": [
    "sns.distplot(diffs)\n",
    "plt.axvline(x = obs_diff, color ='r');\n",
    "plt.axvline(x = -obs_diff, color = 'r');"
   ]
  },
  {
   "cell_type": "code",
   "execution_count": 34,
   "metadata": {
    "id": "rXhyy8tO-thl",
    "name": "04-python-stat-26",
    "outputId": "4f15a413-2ab1-488e-c838-e3e54e0a9d4d"
   },
   "outputs": [
    {
     "data": {
      "text/plain": [
       "'P-value from permutation test is 0.2606'"
      ]
     },
     "execution_count": 34,
     "metadata": {},
     "output_type": "execute_result"
    }
   ],
   "source": [
    "pval = np.mean(np.abs(diffs) > np.abs(obs_diff))\n",
    "f\"P-value from permutation test is {pval}\""
   ]
  },
  {
   "cell_type": "markdown",
   "metadata": {
    "id": "X_lQ5bgH-thl"
   },
   "source": [
    "This is pretty close to what we got from the t-test. \n",
    "\n",
    "Note that what we've done here is the two-sided test to see how extreme our observation would be in either direction. That is why we've taken the absolute values above, and drawn both the \n",
    "observed value and it's negative on the graph. "
   ]
  },
  {
   "cell_type": "markdown",
   "metadata": {
    "id": "iXjnbcuI-thl"
   },
   "source": [
    "### Testing many proteins \n",
    "\n",
    "We could do the permutation test all the proteins using the array operations in `numpy`"
   ]
  },
  {
   "cell_type": "code",
   "execution_count": 35,
   "metadata": {
    "id": "rKL6PAoF-thl",
    "name": "04-python-stat-27"
   },
   "outputs": [],
   "source": [
    "expr_names = [u for u in list(brca.columns) if u.find('NP') > -1] \n",
    "            # Find all column names with NP\n",
    "\n",
    "exprs = brca[expr_names] # Extract the protein data"
   ]
  },
  {
   "cell_type": "code",
   "execution_count": 36,
   "metadata": {
    "id": "R_jngQg1-thl",
    "name": "04-python-stat-28"
   },
   "outputs": [],
   "source": [
    "x = np.where(brca['ER Status']=='Positive', -1, 1)\n",
    "obs_diffs = exprs[x==1].mean(axis=0)-exprs[x==-1].mean(axis=0)"
   ]
  },
  {
   "cell_type": "code",
   "execution_count": 37,
   "metadata": {
    "id": "2AJ_uZjL-thl",
    "lines_to_next_cell": 2,
    "name": "04-python-stat-29"
   },
   "outputs": [],
   "source": [
    "nsim = 1000\n",
    "diffs = np.zeros((nsim, exprs.shape[1]))\n",
    "for i in range(nsim):\n",
    "    x1 = rng.permutation(x)\n",
    "    diffs[i,:] =exprs[x1==1].mean(axis=0) - exprs[x1==-1].mean(axis=0)"
   ]
  },
  {
   "cell_type": "code",
   "execution_count": 38,
   "metadata": {
    "id": "ueF9VC9M-thl",
    "name": "04-python-stat-30",
    "outputId": "2334eedf-6cee-4112-b8d8-ba9205180fe7"
   },
   "outputs": [
    {
     "data": {
      "text/plain": [
       "12395"
      ]
     },
     "execution_count": 38,
     "metadata": {},
     "output_type": "execute_result"
    }
   ],
   "source": [
    "pvals = np.zeros(exprs.shape[1])\n",
    "len(pvals)"
   ]
  },
  {
   "cell_type": "code",
   "execution_count": 39,
   "metadata": {
    "id": "aeIlEvM--thl",
    "name": "04-python-stat-31",
    "outputId": "fbac4088-0234-4b51-884a-a9868d2080f1"
   },
   "outputs": [
    {
     "name": "stderr",
     "output_type": "stream",
     "text": [
      "/opt/anaconda3/lib/python3.7/site-packages/ipykernel_launcher.py:2: RuntimeWarning: invalid value encountered in greater\n",
      "  \n"
     ]
    },
    {
     "data": {
      "text/plain": [
       "Text(0.5, 1.0, 'Results of permutation test')"
      ]
     },
     "execution_count": 39,
     "metadata": {},
     "output_type": "execute_result"
    },
    {
     "data": {
      "image/png": "[encoded data removed]",
      "text/plain": [
       "<Figure size 432x288 with 1 Axes>"
      ]
     },
     "metadata": {},
     "output_type": "display_data"
    }
   ],
   "source": [
    "for i in range(len(pvals)):\n",
    "    pvals[i] = np.mean(np.abs(diffs[:,i]) > np.abs(obs_diffs.iloc[i]))\n",
    "\n",
    "sns.distplot(pvals);\n",
    "plt.title('Results of permutation test')"
   ]
  },
  {
   "cell_type": "markdown",
   "metadata": {
    "id": "rhAPgzJd-thl"
   },
   "source": [
    "This plot shows that there is probably some proteins which are differentially expressed between ER+ and ER- patients. (If no proteins had any difference, this histogram would be flat, since the p-values would be uniformly distributed). The ideas around Gene Set Enrichment Analysis (GSEA) can also be applied here. "
   ]
  },
  {
   "cell_type": "code",
   "execution_count": 40,
   "metadata": {
    "id": "A3-YsIEY-thl",
    "name": "04-python-stat-32",
    "outputId": "37651485-ba1c-4955-fcbe-58478edf1442"
   },
   "outputs": [
    {
     "data": {
      "text/plain": [
       "896"
      ]
     },
     "execution_count": 40,
     "metadata": {},
     "output_type": "execute_result"
    }
   ],
   "source": [
    "exprs_shortlist = [u for i, u in enumerate(list(exprs.columns)) \n",
    "                   if pvals[i] < 0.0001 ]\n",
    "\n",
    "len(exprs_shortlist)"
   ]
  },
  {
   "cell_type": "markdown",
   "metadata": {
    "id": "8m31UBW8-thl"
   },
   "source": [
    "This means that, if we considered a p-value cutoff for screening at 0.0001, we would select 896 of the 12395 proteins for further study. Note that if none of the proteins had any effect, we'd expect 0.0001 x 12395 or 13 proteins to have a p-value smaller than 0.0001. "
   ]
  },
  {
   "cell_type": "markdown",
   "metadata": {
    "id": "cubHijqJ-thl"
   },
   "source": [
    "We could also do the same thing using both the t-test and the Mann-Whitney test. "
   ]
  },
  {
   "cell_type": "code",
   "execution_count": 41,
   "metadata": {
    "id": "T89c4tbO-thl",
    "outputId": "d8efeae2-2af2-495f-84d1-c35735e4d92b"
   },
   "outputs": [
    {
     "data": {
      "image/png": "[encoded data removed]",
      "text/plain": [
       "<Figure size 432x288 with 1 Axes>"
      ]
     },
     "metadata": {},
     "output_type": "display_data"
    }
   ],
   "source": [
    "groups = np.where(brca['ER Status']=='Positive', 1, 0)\n",
    "pvals_t = np.zeros(exprs.shape[1])\n",
    "for i in range(exprs.shape[1]):\n",
    "    stat, pvals_t[i] = sc.stats.ttest_ind(exprs.iloc[groups==1, i],\n",
    "                              exprs.iloc[groups==0, i],\n",
    "                              nan_policy = 'omit')\n",
    "sns.distplot(pvals_t);\n",
    "plt.title('Results of t-test');"
   ]
  },
  {
   "cell_type": "code",
   "execution_count": 42,
   "metadata": {
    "id": "zI1RnuyE-thl",
    "outputId": "dde0429b-40c1-42cd-e652-ffbbfca67aec"
   },
   "outputs": [
    {
     "data": {
      "image/png": "[encoded data removed]",
      "text/plain": [
       "<Figure size 432x288 with 1 Axes>"
      ]
     },
     "metadata": {},
     "output_type": "display_data"
    }
   ],
   "source": [
    "pvals_w = np.zeros(exprs.shape[1])\n",
    "for i in range(exprs.shape[1]):\n",
    "    stats, pvals_w[i] = sc.stats.mannwhitneyu(exprs.iloc[groups==1,i], \n",
    "                                            exprs.iloc[groups==0, i],\n",
    "                                             alternative='two-sided')\n",
    "sns.distplot(pvals_w);\n",
    "plt.title('Results of Wilcoxon test');"
   ]
  },
  {
   "cell_type": "markdown",
   "metadata": {
    "id": "9SXmXVAY-thl"
   },
   "source": [
    "We can directly compare the graphs, which appear quite similar."
   ]
  },
  {
   "cell_type": "code",
   "execution_count": 43,
   "metadata": {
    "id": "ZUvQMF4B-thl",
    "outputId": "d0f39024-893e-4f8c-f2d5-06b5f6ead3ab"
   },
   "outputs": [
    {
     "data": {
      "image/png": "[encoded data removed]",
      "text/plain": [
       "<Figure size 432x288 with 3 Axes>"
      ]
     },
     "metadata": {},
     "output_type": "display_data"
    }
   ],
   "source": [
    "fig, ax = plt.subplots(3,1, sharex = True)\n",
    "\n",
    "sns.distplot(pvals, ax = ax[0]); ax[0].set_ylabel('Permutation');\n",
    "sns.distplot(pvals_t, ax = ax[1]); ax[1].set_ylabel('t-test');\n",
    "sns.distplot(pvals_w, ax = ax[2]); ax[2].set_ylabel('Wilcoxon');"
   ]
  },
  {
   "cell_type": "markdown",
   "metadata": {
    "id": "QN-7mY8k-thl"
   },
   "source": [
    "We can also compare how many proteins will be chosen if we employ a p-value cutoff of 0.0001"
   ]
  },
  {
   "cell_type": "code",
   "execution_count": 44,
   "metadata": {
    "id": "hQglC1WF-thl",
    "outputId": "32dcbc68-432f-482f-e0ac-38149a5c12bd"
   },
   "outputs": [
    {
     "data": {
      "text/plain": [
       "permutation    896\n",
       "ttest          499\n",
       "wilcoxon       396\n",
       "dtype: int64"
      ]
     },
     "execution_count": 44,
     "metadata": {},
     "output_type": "execute_result"
    }
   ],
   "source": [
    "pvalues = pd.DataFrame({'permutation' : pvals, 'ttest' : pvals_t,\n",
    "                           'wilcoxon' : pvals_w})\n",
    "pvalues.apply(lambda x: np.sum(x < 0.0001))"
   ]
  },
  {
   "cell_type": "markdown",
   "metadata": {
    "id": "WNMzKPB9-thl"
   },
   "source": [
    "> The **lambda function** employed above is an anonymous (un-named) function that\n",
    "can be used on-the-fly. In the above statement, this function takes one (vector) argument *x* and computes the number of *x* values less than 0.0001. This function is then applied to each column of the `pvalues` dataset using the `apply` function.\n"
   ]
  },
  {
   "cell_type": "markdown",
   "metadata": {
    "id": "Brqaru2E-thl"
   },
   "source": [
    "### Getting a confidence interval using the bootstrap\n",
    "\n",
    "We can use simulations to obtain a model-free confidence interval for particular parameters of interest based on our observed data. The technique we will demonstrate is called the bootstrap. The idea is that if we sample with replacement from our observed data to get another data set of the same size as the observed data, and compute our statistic of interest, and then repeat this process many times, then the distribution of our statistic that we will obtain this way will be very similar to the true sampling distribution of the statistic if we could \"play God\". This has strong theoretical foundations from work done by several researchers in the 80s and 90s. \n",
    "\n",
    "1. Choose the number of simulations `nsim`\n",
    "1. for each iteration (1,...,nsim)\n",
    "    - Simulate a dataset with replacement from the original data. \n",
    "    - compute and store the statistic\n",
    "1. Compute the 2.5th and 97.5th percential of the distribution of the statistic. This is your confidence interval.\n",
    "\n",
    "Let's see this in action. Suppose we tossed a coin 100 times. We're going to find a confidence interval for the proportion of heads from this coin."
   ]
  },
  {
   "cell_type": "code",
   "execution_count": 45,
   "metadata": {
    "id": "02cFfDZi-thl",
    "name": "04-python-stat-33",
    "outputId": "7ef30abe-fa9d-458a-a915-f8ae33c7e25a"
   },
   "outputs": [
    {
     "data": {
      "text/plain": [
       "array([1, 0, 0, 1, 1, 1, 1, 0, 0, 1, 1, 1, 1, 0, 1, 1, 1, 1, 1, 1, 0, 0,\n",
       "       1, 0, 1, 1, 1, 1, 1, 1, 1, 1, 1, 1, 0, 1, 1, 1, 0, 1, 0, 1, 1, 0,\n",
       "       1, 1, 0, 0, 1, 1, 1, 1, 1, 1, 1, 1, 1, 1, 1, 1, 0, 1, 0, 1, 1, 1,\n",
       "       1, 1, 0, 1, 0, 1, 1, 1, 1, 1, 0, 1, 0, 1, 0, 1, 1, 0, 1, 1, 0, 1,\n",
       "       1, 1, 1, 0, 1, 1, 1, 0, 1, 1, 1, 1])"
      ]
     },
     "execution_count": 45,
     "metadata": {},
     "output_type": "execute_result"
    }
   ],
   "source": [
    "rng = np.random.RandomState(304)\n",
    "x = rng.binomial(1, 0.7, 100)\n",
    "x"
   ]
  },
  {
   "cell_type": "markdown",
   "metadata": {
    "id": "TUr8UV9r-thl"
   },
   "source": [
    "This gives the sequence of heads (1) and tails (0), assuming the true probability of heads is 0.7. \n",
    "\n",
    "We now create 100000 bootstrap samples from here. "
   ]
  },
  {
   "cell_type": "code",
   "execution_count": 46,
   "metadata": {
    "id": "N0kqx7Z--thl",
    "name": "04-python-stat-34",
    "outputId": "a63e971a-f243-43f2-bb2e-7ddd83ce527a"
   },
   "outputs": [
    {
     "data": {
      "image/png": "[encoded data removed]",
      "text/plain": [
       "<Figure size 432x288 with 1 Axes>"
      ]
     },
     "metadata": {},
     "output_type": "display_data"
    }
   ],
   "source": [
    "nsim = 100000\n",
    "\n",
    "boots = np.random.choice(x, (len(x), nsim), replace = True) # sample from the data\n",
    "boot_estimates = boots.mean(axis = 0) # compute mean of each sample, i.e proportion of heads\n",
    "\n",
    "sns.distplot(boot_estimates);"
   ]
  },
  {
   "cell_type": "code",
   "execution_count": 47,
   "metadata": {
    "id": "hScWsbNj-thl",
    "name": "04-python-stat-35",
    "outputId": "cfac77d9-8ce5-4676-e923-bd64100e5ed0"
   },
   "outputs": [
    {
     "data": {
      "text/plain": [
       "array([0.66, 0.83])"
      ]
     },
     "execution_count": 47,
     "metadata": {},
     "output_type": "execute_result"
    }
   ],
   "source": [
    "np.quantile(boot_estimates, (0.025, 0.975)) # Find 2.5 and 97.5-th percentiles"
   ]
  },
  {
   "cell_type": "markdown",
   "metadata": {
    "id": "e6ma4G13-thl"
   },
   "source": [
    "So our 95% bootstrap confidence interval is (0.66, 0.83). Our true value of 0.7 certainly falls in it. "
   ]
  },
  {
   "cell_type": "markdown",
   "metadata": {
    "id": "s07mfdxI-thl"
   },
   "source": [
    "## Regression analysis\n",
    "\n",
    "### Ordinary least squares (linear) regression\n",
    "\n",
    "The regression modeling frameworks in Python are mainly in `statsmodels`, though some of it can be found in `scikit-learn` which we will see tomorrow. We will use the diamonds dataset for demonstration purposes. We will attempt to model the diamond price against several of the other diamond characteristics."
   ]
  },
  {
   "cell_type": "code",
   "execution_count": 48,
   "metadata": {
    "id": "Hy-bC8YZ-thl",
    "name": "04-python-stat-36"
   },
   "outputs": [],
   "source": [
    "import numpy as np\n",
    "import pandas as pd\n",
    "import matplotlib.pyplot as plt\n",
    "import statsmodels.api as sm\n",
    "import statsmodels.formula.api as smf # Use the formula interface to statsmodels"
   ]
  },
  {
   "cell_type": "code",
   "execution_count": 49,
   "metadata": {
    "id": "fK4MadfT-thl",
    "name": "04-python-stat-361"
   },
   "outputs": [],
   "source": [
    "diamonds = sm.datasets.get_rdataset('diamonds','ggplot2').data\n",
    "mod1 = smf.ols('price ~ np.log(carat) + clarity + depth + cut * color', data = diamonds).fit()\n"
   ]
  },
  {
   "cell_type": "code",
   "execution_count": 50,
   "metadata": {
    "id": "1csHx7Mq-thm",
    "name": "04-python-stat-37",
    "outputId": "a8fac408-6cc2-45f4-b533-017cc01ed374"
   },
   "outputs": [
    {
     "data": {
      "text/html": [
       "<table class=\"simpletable\">\n",
       "<caption>OLS Regression Results</caption>\n",
       "<tr>\n",
       "  <th>Dep. Variable:</th>          <td>price</td>      <th>  R-squared:         </th>  <td>   0.786</td>  \n",
       "</tr>\n",
       "<tr>\n",
       "  <th>Model:</th>                   <td>OLS</td>       <th>  Adj. R-squared:    </th>  <td>   0.786</td>  \n",
       "</tr>\n",
       "<tr>\n",
       "  <th>Method:</th>             <td>Least Squares</td>  <th>  F-statistic:       </th>  <td>   4598.</td>  \n",
       "</tr>\n",
       "<tr>\n",
       "  <th>Date:</th>             <td>Wed, 09 Dec 2020</td> <th>  Prob (F-statistic):</th>   <td>  0.00</td>   \n",
       "</tr>\n",
       "<tr>\n",
       "  <th>Time:</th>                 <td>12:38:55</td>     <th>  Log-Likelihood:    </th> <td>-4.8222e+05</td>\n",
       "</tr>\n",
       "<tr>\n",
       "  <th>No. Observations:</th>      <td> 53940</td>      <th>  AIC:               </th>  <td>9.645e+05</td> \n",
       "</tr>\n",
       "<tr>\n",
       "  <th>Df Residuals:</th>          <td> 53896</td>      <th>  BIC:               </th>  <td>9.649e+05</td> \n",
       "</tr>\n",
       "<tr>\n",
       "  <th>Df Model:</th>              <td>    43</td>      <th>                     </th>      <td> </td>     \n",
       "</tr>\n",
       "<tr>\n",
       "  <th>Covariance Type:</th>      <td>nonrobust</td>    <th>                     </th>      <td> </td>     \n",
       "</tr>\n",
       "</table>\n",
       "<table class=\"simpletable\">\n",
       "<tr>\n",
       "               <td></td>                  <th>coef</th>     <th>std err</th>      <th>t</th>      <th>P>|t|</th>  <th>[0.025</th>    <th>0.975]</th>  \n",
       "</tr>\n",
       "<tr>\n",
       "  <th>Intercept</th>                   <td> 2745.0643</td> <td>  415.804</td> <td>    6.602</td> <td> 0.000</td> <td> 1930.085</td> <td> 3560.043</td>\n",
       "</tr>\n",
       "<tr>\n",
       "  <th>clarity[T.IF]</th>               <td> 4916.7221</td> <td>   83.694</td> <td>   58.746</td> <td> 0.000</td> <td> 4752.681</td> <td> 5080.763</td>\n",
       "</tr>\n",
       "<tr>\n",
       "  <th>clarity[T.SI1]</th>              <td> 2686.1493</td> <td>   71.397</td> <td>   37.623</td> <td> 0.000</td> <td> 2546.210</td> <td> 2826.088</td>\n",
       "</tr>\n",
       "<tr>\n",
       "  <th>clarity[T.SI2]</th>              <td> 2060.8180</td> <td>   71.809</td> <td>   28.699</td> <td> 0.000</td> <td> 1920.072</td> <td> 2201.564</td>\n",
       "</tr>\n",
       "<tr>\n",
       "  <th>clarity[T.VS1]</th>              <td> 3710.1759</td> <td>   72.891</td> <td>   50.900</td> <td> 0.000</td> <td> 3567.309</td> <td> 3853.043</td>\n",
       "</tr>\n",
       "<tr>\n",
       "  <th>clarity[T.VS2]</th>              <td> 3438.3999</td> <td>   71.792</td> <td>   47.894</td> <td> 0.000</td> <td> 3297.687</td> <td> 3579.112</td>\n",
       "</tr>\n",
       "<tr>\n",
       "  <th>clarity[T.VVS1]</th>             <td> 4540.1420</td> <td>   77.314</td> <td>   58.724</td> <td> 0.000</td> <td> 4388.606</td> <td> 4691.678</td>\n",
       "</tr>\n",
       "<tr>\n",
       "  <th>clarity[T.VVS2]</th>             <td> 4343.0545</td> <td>   75.136</td> <td>   57.803</td> <td> 0.000</td> <td> 4195.788</td> <td> 4490.321</td>\n",
       "</tr>\n",
       "<tr>\n",
       "  <th>cut[T.Good]</th>                 <td>  708.5981</td> <td>  161.869</td> <td>    4.378</td> <td> 0.000</td> <td>  391.334</td> <td> 1025.862</td>\n",
       "</tr>\n",
       "<tr>\n",
       "  <th>cut[T.Ideal]</th>                <td> 1198.2067</td> <td>  149.690</td> <td>    8.005</td> <td> 0.000</td> <td>  904.812</td> <td> 1491.601</td>\n",
       "</tr>\n",
       "<tr>\n",
       "  <th>cut[T.Premium]</th>              <td> 1147.1417</td> <td>  152.896</td> <td>    7.503</td> <td> 0.000</td> <td>  847.464</td> <td> 1446.820</td>\n",
       "</tr>\n",
       "<tr>\n",
       "  <th>cut[T.Very Good]</th>            <td> 1011.3463</td> <td>  152.977</td> <td>    6.611</td> <td> 0.000</td> <td>  711.510</td> <td> 1311.183</td>\n",
       "</tr>\n",
       "<tr>\n",
       "  <th>color[T.E]</th>                  <td>  -59.4094</td> <td>  190.227</td> <td>   -0.312</td> <td> 0.755</td> <td> -432.256</td> <td>  313.437</td>\n",
       "</tr>\n",
       "<tr>\n",
       "  <th>color[T.F]</th>                  <td>  -86.0097</td> <td>  178.663</td> <td>   -0.481</td> <td> 0.630</td> <td> -436.191</td> <td>  264.172</td>\n",
       "</tr>\n",
       "<tr>\n",
       "  <th>color[T.G]</th>                  <td> -370.6455</td> <td>  178.642</td> <td>   -2.075</td> <td> 0.038</td> <td> -720.784</td> <td>  -20.507</td>\n",
       "</tr>\n",
       "<tr>\n",
       "  <th>color[T.H]</th>                  <td> -591.0922</td> <td>  179.786</td> <td>   -3.288</td> <td> 0.001</td> <td> -943.474</td> <td> -238.710</td>\n",
       "</tr>\n",
       "<tr>\n",
       "  <th>color[T.I]</th>                  <td>-1030.7417</td> <td>  201.485</td> <td>   -5.116</td> <td> 0.000</td> <td>-1425.655</td> <td> -635.829</td>\n",
       "</tr>\n",
       "<tr>\n",
       "  <th>color[T.J]</th>                  <td>-1210.6501</td> <td>  223.111</td> <td>   -5.426</td> <td> 0.000</td> <td>-1647.949</td> <td> -773.351</td>\n",
       "</tr>\n",
       "<tr>\n",
       "  <th>cut[T.Good]:color[T.E]</th>      <td>  -30.3553</td> <td>  212.126</td> <td>   -0.143</td> <td> 0.886</td> <td> -446.123</td> <td>  385.413</td>\n",
       "</tr>\n",
       "<tr>\n",
       "  <th>cut[T.Ideal]:color[T.E]</th>     <td> -211.3711</td> <td>  195.630</td> <td>   -1.080</td> <td> 0.280</td> <td> -594.807</td> <td>  172.065</td>\n",
       "</tr>\n",
       "<tr>\n",
       "  <th>cut[T.Premium]:color[T.E]</th>   <td>  -91.3261</td> <td>  199.440</td> <td>   -0.458</td> <td> 0.647</td> <td> -482.230</td> <td>  299.578</td>\n",
       "</tr>\n",
       "<tr>\n",
       "  <th>cut[T.Very Good]:color[T.E]</th> <td>  -45.2968</td> <td>  199.656</td> <td>   -0.227</td> <td> 0.821</td> <td> -436.625</td> <td>  346.031</td>\n",
       "</tr>\n",
       "<tr>\n",
       "  <th>cut[T.Good]:color[T.F]</th>      <td> -365.4060</td> <td>  202.035</td> <td>   -1.809</td> <td> 0.071</td> <td> -761.397</td> <td>   30.585</td>\n",
       "</tr>\n",
       "<tr>\n",
       "  <th>cut[T.Ideal]:color[T.F]</th>     <td> -198.0428</td> <td>  184.498</td> <td>   -1.073</td> <td> 0.283</td> <td> -559.661</td> <td>  163.575</td>\n",
       "</tr>\n",
       "<tr>\n",
       "  <th>cut[T.Premium]:color[T.F]</th>   <td> -322.8527</td> <td>  188.465</td> <td>   -1.713</td> <td> 0.087</td> <td> -692.246</td> <td>   46.540</td>\n",
       "</tr>\n",
       "<tr>\n",
       "  <th>cut[T.Very Good]:color[T.F]</th> <td> -186.0519</td> <td>  189.090</td> <td>   -0.984</td> <td> 0.325</td> <td> -556.670</td> <td>  184.566</td>\n",
       "</tr>\n",
       "<tr>\n",
       "  <th>cut[T.Good]:color[T.G]</th>      <td>  -93.0430</td> <td>  202.404</td> <td>   -0.460</td> <td> 0.646</td> <td> -489.757</td> <td>  303.671</td>\n",
       "</tr>\n",
       "<tr>\n",
       "  <th>cut[T.Ideal]:color[T.G]</th>     <td>  -65.8579</td> <td>  183.980</td> <td>   -0.358</td> <td> 0.720</td> <td> -426.461</td> <td>  294.745</td>\n",
       "</tr>\n",
       "<tr>\n",
       "  <th>cut[T.Premium]:color[T.G]</th>   <td>   35.4302</td> <td>  187.596</td> <td>    0.189</td> <td> 0.850</td> <td> -332.260</td> <td>  403.121</td>\n",
       "</tr>\n",
       "<tr>\n",
       "  <th>cut[T.Very Good]:color[T.G]</th> <td>  -81.2595</td> <td>  188.786</td> <td>   -0.430</td> <td> 0.667</td> <td> -451.282</td> <td>  288.764</td>\n",
       "</tr>\n",
       "<tr>\n",
       "  <th>cut[T.Good]:color[T.H]</th>      <td>  137.0235</td> <td>  205.696</td> <td>    0.666</td> <td> 0.505</td> <td> -266.142</td> <td>  540.189</td>\n",
       "</tr>\n",
       "<tr>\n",
       "  <th>cut[T.Ideal]:color[T.H]</th>     <td>  -83.4763</td> <td>  186.060</td> <td>   -0.449</td> <td> 0.654</td> <td> -448.155</td> <td>  281.202</td>\n",
       "</tr>\n",
       "<tr>\n",
       "  <th>cut[T.Premium]:color[T.H]</th>   <td>  -44.4372</td> <td>  189.378</td> <td>   -0.235</td> <td> 0.814</td> <td> -415.620</td> <td>  326.745</td>\n",
       "</tr>\n",
       "<tr>\n",
       "  <th>cut[T.Very Good]:color[T.H]</th> <td>  -43.2485</td> <td>  190.851</td> <td>   -0.227</td> <td> 0.821</td> <td> -417.318</td> <td>  330.821</td>\n",
       "</tr>\n",
       "<tr>\n",
       "  <th>cut[T.Good]:color[T.I]</th>      <td>  331.4048</td> <td>  228.614</td> <td>    1.450</td> <td> 0.147</td> <td> -116.681</td> <td>  779.490</td>\n",
       "</tr>\n",
       "<tr>\n",
       "  <th>cut[T.Ideal]:color[T.I]</th>     <td>  106.2368</td> <td>  208.391</td> <td>    0.510</td> <td> 0.610</td> <td> -302.210</td> <td>  514.684</td>\n",
       "</tr>\n",
       "<tr>\n",
       "  <th>cut[T.Premium]:color[T.I]</th>   <td>  357.1453</td> <td>  212.341</td> <td>    1.682</td> <td> 0.093</td> <td>  -59.045</td> <td>  773.335</td>\n",
       "</tr>\n",
       "<tr>\n",
       "  <th>cut[T.Very Good]:color[T.I]</th> <td>  149.1555</td> <td>  213.697</td> <td>    0.698</td> <td> 0.485</td> <td> -269.693</td> <td>  568.004</td>\n",
       "</tr>\n",
       "<tr>\n",
       "  <th>cut[T.Good]:color[T.J]</th>      <td> -406.8484</td> <td>  256.938</td> <td>   -1.583</td> <td> 0.113</td> <td> -910.448</td> <td>   96.752</td>\n",
       "</tr>\n",
       "<tr>\n",
       "  <th>cut[T.Ideal]:color[T.J]</th>     <td> -330.0602</td> <td>  234.063</td> <td>   -1.410</td> <td> 0.159</td> <td> -788.826</td> <td>  128.706</td>\n",
       "</tr>\n",
       "<tr>\n",
       "  <th>cut[T.Premium]:color[T.J]</th>   <td> -156.8065</td> <td>  236.860</td> <td>   -0.662</td> <td> 0.508</td> <td> -621.055</td> <td>  307.442</td>\n",
       "</tr>\n",
       "<tr>\n",
       "  <th>cut[T.Very Good]:color[T.J]</th> <td> -381.5722</td> <td>  238.799</td> <td>   -1.598</td> <td> 0.110</td> <td> -849.620</td> <td>   86.475</td>\n",
       "</tr>\n",
       "<tr>\n",
       "  <th>np.log(carat)</th>               <td> 6630.7799</td> <td>   15.605</td> <td>  424.923</td> <td> 0.000</td> <td> 6600.195</td> <td> 6661.365</td>\n",
       "</tr>\n",
       "<tr>\n",
       "  <th>depth</th>                       <td>   -0.7353</td> <td>    5.961</td> <td>   -0.123</td> <td> 0.902</td> <td>  -12.418</td> <td>   10.948</td>\n",
       "</tr>\n",
       "</table>\n",
       "<table class=\"simpletable\">\n",
       "<tr>\n",
       "  <th>Omnibus:</th>       <td>13993.592</td> <th>  Durbin-Watson:     </th> <td>   0.134</td> \n",
       "</tr>\n",
       "<tr>\n",
       "  <th>Prob(Omnibus):</th>  <td> 0.000</td>   <th>  Jarque-Bera (JB):  </th> <td>34739.732</td>\n",
       "</tr>\n",
       "<tr>\n",
       "  <th>Skew:</th>           <td> 1.432</td>   <th>  Prob(JB):          </th> <td>    0.00</td> \n",
       "</tr>\n",
       "<tr>\n",
       "  <th>Kurtosis:</th>       <td> 5.693</td>   <th>  Cond. No.          </th> <td>7.08e+03</td> \n",
       "</tr>\n",
       "</table><br/><br/>Warnings:<br/>[1] Standard Errors assume that the covariance matrix of the errors is correctly specified.<br/>[2] The condition number is large, 7.08e+03. This might indicate that there are<br/>strong multicollinearity or other numerical problems."
      ],
      "text/plain": [
       "<class 'statsmodels.iolib.summary.Summary'>\n",
       "\"\"\"\n",
       "                            OLS Regression Results                            \n",
       "==============================================================================\n",
       "Dep. Variable:                  price   R-squared:                       0.786\n",
       "Model:                            OLS   Adj. R-squared:                  0.786\n",
       "Method:                 Least Squares   F-statistic:                     4598.\n",
       "Date:                Wed, 09 Dec 2020   Prob (F-statistic):               0.00\n",
       "Time:                        12:38:55   Log-Likelihood:            -4.8222e+05\n",
       "No. Observations:               53940   AIC:                         9.645e+05\n",
       "Df Residuals:                   53896   BIC:                         9.649e+05\n",
       "Df Model:                          43                                         \n",
       "Covariance Type:            nonrobust                                         \n",
       "===============================================================================================\n",
       "                                  coef    std err          t      P>|t|      [0.025      0.975]\n",
       "-----------------------------------------------------------------------------------------------\n",
       "Intercept                    2745.0643    415.804      6.602      0.000    1930.085    3560.043\n",
       "clarity[T.IF]                4916.7221     83.694     58.746      0.000    4752.681    5080.763\n",
       "clarity[T.SI1]               2686.1493     71.397     37.623      0.000    2546.210    2826.088\n",
       "clarity[T.SI2]               2060.8180     71.809     28.699      0.000    1920.072    2201.564\n",
       "clarity[T.VS1]               3710.1759     72.891     50.900      0.000    3567.309    3853.043\n",
       "clarity[T.VS2]               3438.3999     71.792     47.894      0.000    3297.687    3579.112\n",
       "clarity[T.VVS1]              4540.1420     77.314     58.724      0.000    4388.606    4691.678\n",
       "clarity[T.VVS2]              4343.0545     75.136     57.803      0.000    4195.788    4490.321\n",
       "cut[T.Good]                   708.5981    161.869      4.378      0.000     391.334    1025.862\n",
       "cut[T.Ideal]                 1198.2067    149.690      8.005      0.000     904.812    1491.601\n",
       "cut[T.Premium]               1147.1417    152.896      7.503      0.000     847.464    1446.820\n",
       "cut[T.Very Good]             1011.3463    152.977      6.611      0.000     711.510    1311.183\n",
       "color[T.E]                    -59.4094    190.227     -0.312      0.755    -432.256     313.437\n",
       "color[T.F]                    -86.0097    178.663     -0.481      0.630    -436.191     264.172\n",
       "color[T.G]                   -370.6455    178.642     -2.075      0.038    -720.784     -20.507\n",
       "color[T.H]                   -591.0922    179.786     -3.288      0.001    -943.474    -238.710\n",
       "color[T.I]                  -1030.7417    201.485     -5.116      0.000   -1425.655    -635.829\n",
       "color[T.J]                  -1210.6501    223.111     -5.426      0.000   -1647.949    -773.351\n",
       "cut[T.Good]:color[T.E]        -30.3553    212.126     -0.143      0.886    -446.123     385.413\n",
       "cut[T.Ideal]:color[T.E]      -211.3711    195.630     -1.080      0.280    -594.807     172.065\n",
       "cut[T.Premium]:color[T.E]     -91.3261    199.440     -0.458      0.647    -482.230     299.578\n",
       "cut[T.Very Good]:color[T.E]   -45.2968    199.656     -0.227      0.821    -436.625     346.031\n",
       "cut[T.Good]:color[T.F]       -365.4060    202.035     -1.809      0.071    -761.397      30.585\n",
       "cut[T.Ideal]:color[T.F]      -198.0428    184.498     -1.073      0.283    -559.661     163.575\n",
       "cut[T.Premium]:color[T.F]    -322.8527    188.465     -1.713      0.087    -692.246      46.540\n",
       "cut[T.Very Good]:color[T.F]  -186.0519    189.090     -0.984      0.325    -556.670     184.566\n",
       "cut[T.Good]:color[T.G]        -93.0430    202.404     -0.460      0.646    -489.757     303.671\n",
       "cut[T.Ideal]:color[T.G]       -65.8579    183.980     -0.358      0.720    -426.461     294.745\n",
       "cut[T.Premium]:color[T.G]      35.4302    187.596      0.189      0.850    -332.260     403.121\n",
       "cut[T.Very Good]:color[T.G]   -81.2595    188.786     -0.430      0.667    -451.282     288.764\n",
       "cut[T.Good]:color[T.H]        137.0235    205.696      0.666      0.505    -266.142     540.189\n",
       "cut[T.Ideal]:color[T.H]       -83.4763    186.060     -0.449      0.654    -448.155     281.202\n",
       "cut[T.Premium]:color[T.H]     -44.4372    189.378     -0.235      0.814    -415.620     326.745\n",
       "cut[T.Very Good]:color[T.H]   -43.2485    190.851     -0.227      0.821    -417.318     330.821\n",
       "cut[T.Good]:color[T.I]        331.4048    228.614      1.450      0.147    -116.681     779.490\n",
       "cut[T.Ideal]:color[T.I]       106.2368    208.391      0.510      0.610    -302.210     514.684\n",
       "cut[T.Premium]:color[T.I]     357.1453    212.341      1.682      0.093     -59.045     773.335\n",
       "cut[T.Very Good]:color[T.I]   149.1555    213.697      0.698      0.485    -269.693     568.004\n",
       "cut[T.Good]:color[T.J]       -406.8484    256.938     -1.583      0.113    -910.448      96.752\n",
       "cut[T.Ideal]:color[T.J]      -330.0602    234.063     -1.410      0.159    -788.826     128.706\n",
       "cut[T.Premium]:color[T.J]    -156.8065    236.860     -0.662      0.508    -621.055     307.442\n",
       "cut[T.Very Good]:color[T.J]  -381.5722    238.799     -1.598      0.110    -849.620      86.475\n",
       "np.log(carat)                6630.7799     15.605    424.923      0.000    6600.195    6661.365\n",
       "depth                          -0.7353      5.961     -0.123      0.902     -12.418      10.948\n",
       "==============================================================================\n",
       "Omnibus:                    13993.592   Durbin-Watson:                   0.134\n",
       "Prob(Omnibus):                  0.000   Jarque-Bera (JB):            34739.732\n",
       "Skew:                           1.432   Prob(JB):                         0.00\n",
       "Kurtosis:                       5.693   Cond. No.                     7.08e+03\n",
       "==============================================================================\n",
       "\n",
       "Warnings:\n",
       "[1] Standard Errors assume that the covariance matrix of the errors is correctly specified.\n",
       "[2] The condition number is large, 7.08e+03. This might indicate that there are\n",
       "strong multicollinearity or other numerical problems.\n",
       "\"\"\""
      ]
     },
     "execution_count": 50,
     "metadata": {},
     "output_type": "execute_result"
    }
   ],
   "source": [
    "mod1.summary()"
   ]
  },
  {
   "cell_type": "markdown",
   "metadata": {
    "id": "gyZU5LcC-thm"
   },
   "source": [
    "This is the basic syntax for modeling in statsmodels using the *formula* interface. This formula interface mimics the way regression formula are written in R. We will use this formula interface here since it allows for a more concise expression of the regression formula, and handles several things, as we will see. \n",
    "\n",
    "> `statsmodels` provides a traditional input syntax as well, where you \n",
    "specify the dependent or _endogenous_ variable _y_ as a vector array, and the \n",
    "independent or _exogenous_ variables _X_ as a numerical matrix. The typical syntax would be `mod2 = sm.OLS(y, X).fit()`. The formula interface,\n",
    "which uses the Python package __patsy__, takes care of the conversions, as\n",
    "well as modifying the design matrix to accommodate interactions and \n",
    "transformations."
   ]
  },
  {
   "cell_type": "markdown",
   "metadata": {
    "id": "LBuyslYz-thm"
   },
   "source": [
    "Let's go through and parse it. \n",
    "\n",
    "One thing you notice is that we've written a formula inside the model\n",
    "\n",
    "```\n",
    "mod1 = smf.glm('price ~ np.log(carat) + clarity + depth + cut * color', \n",
    "    data = diamonds).fit()\n",
    "```\n",
    "\n",
    "This formula will read as \n",
    "\"price depends on log(carat), clarity, depth, cut and color, and the interaction of cut and color\". Underneath a lot is going on.\n",
    "\n",
    "1. color, clarity, and cut are all categorical variables. They actually need to be expanded into dummy variables, so we will have one column for each category level, which is 1 when the diamond is of that category and 0 otherwise. We typically use the **treatment** contrast formulation, which deems one category (usually the first) to be the reference category, and so creates one less dummy variable than the number of category levels, corresponding to the reference level. \n",
    "1. An intercept term is added\n",
    "1. The variable `carat` is transformed using `np.log`, i.e. the natural logarithm available in the `numpy` package. Generally, any valid Python function can be used here, even ones you create. \n",
    "1. Interactions are computed. The syntax `cut * color` is a shortcut for `cut + color + cut:color`, where the `:` denotes interaction. \n",
    "1. The dummy variables are concatenated to the continuous variables\n",
    "1. The model is run"
   ]
  },
  {
   "cell_type": "markdown",
   "metadata": {
    "id": "ZXq6cMxF-thm"
   },
   "source": [
    "To see the full design matrix we can drop down and use **patsy** functions:"
   ]
  },
  {
   "cell_type": "code",
   "execution_count": 51,
   "metadata": {
    "id": "mz-JjMUf-thm",
    "lines_to_next_cell": 0
   },
   "outputs": [],
   "source": [
    "import patsy\n",
    "f = mod1.model.formula\n",
    "y,X = patsy.dmatrices(f, data = diamonds, return_type = 'dataframe')"
   ]
  },
  {
   "cell_type": "markdown",
   "metadata": {
    "id": "aXoNpWX9-thm"
   },
   "source": [
    "_X_ is the full design matrix with all the transformations and dummy variables and interactions computed, as specified by the formula."
   ]
  },
  {
   "cell_type": "markdown",
   "metadata": {
    "id": "WO6NjJw3-thm"
   },
   "source": [
    "Suppose we wanted the Ideal cut of diamond to be the reference level for the `cut` variable. We could specify this within the formula quite simply as:"
   ]
  },
  {
   "cell_type": "code",
   "execution_count": 52,
   "metadata": {
    "id": "jc8ezCCw-thm"
   },
   "outputs": [],
   "source": [
    "mod2 = smf.ols('price ~ np.log(carat) + clarity + depth + C(cut, Treatment(\"Ideal\")) * color', data = diamonds).fit()"
   ]
  },
  {
   "cell_type": "markdown",
   "metadata": {
    "id": "zQA-b-3h-thm"
   },
   "source": [
    "This syntax says that we consider `cut` to be a categorical variable, \n",
    "from which we will create dummy variables using _treatment_ contrasts, \n",
    "using Ideal as the reference level. \n",
    "\n",
    "### Logistic regression\n",
    "\n",
    "Logistic regression is the usual regression method used when you have\n",
    "binary outcomes, e.g., Yes/No, Negative/Positive, etc. "
   ]
  },
  {
   "cell_type": "markdown",
   "metadata": {
    "id": "jNB3gPYe-thm"
   },
   "source": [
    "Logistic regression does exist as an individual method in **scikit-learn**, whic we will see in the Machine Learning module. However, it resides in its more traditional form within the _generalized linear model_ framework in __statsmodels__\n",
    "\n",
    "We will use a dataset based on deaths from the Titanic disaster in 1912. "
   ]
  },
  {
   "cell_type": "code",
   "execution_count": 53,
   "metadata": {
    "id": "s7cfLwc7-thm",
    "outputId": "38fd1ea0-ef93-40cc-a621-9fa8544dae82"
   },
   "outputs": [
    {
     "name": "stdout",
     "output_type": "stream",
     "text": [
      "<class 'pandas.core.frame.DataFrame'>\n",
      "RangeIndex: 1313 entries, 0 to 1312\n",
      "Data columns (total 6 columns):\n",
      " #   Column    Non-Null Count  Dtype  \n",
      "---  ------    --------------  -----  \n",
      " 0   Name      1313 non-null   object \n",
      " 1   PClass    1313 non-null   object \n",
      " 2   Age       756 non-null    float64\n",
      " 3   Sex       1313 non-null   object \n",
      " 4   Survived  1313 non-null   int64  \n",
      " 5   SexCode   1313 non-null   int64  \n",
      "dtypes: float64(1), int64(2), object(3)\n",
      "memory usage: 61.7+ KB\n"
     ]
    }
   ],
   "source": [
    "titanic = sm.datasets.get_rdataset('Titanic','Stat2Data').data\n",
    "titanic.info()"
   ]
  },
  {
   "cell_type": "markdown",
   "metadata": {
    "id": "fp6w4iFS-thm"
   },
   "source": [
    "We will model `Survived` on the age, sex and passenger class of passengers. "
   ]
  },
  {
   "cell_type": "code",
   "execution_count": 54,
   "metadata": {
    "id": "W-7xTM8G-thm",
    "outputId": "aba99ba2-bb5e-4211-da04-677aba4e008f"
   },
   "outputs": [
    {
     "data": {
      "text/html": [
       "<table class=\"simpletable\">\n",
       "<caption>Generalized Linear Model Regression Results</caption>\n",
       "<tr>\n",
       "  <th>Dep. Variable:</th>       <td>Survived</td>     <th>  No. Observations:  </th>  <td>   756</td> \n",
       "</tr>\n",
       "<tr>\n",
       "  <th>Model:</th>                  <td>GLM</td>       <th>  Df Residuals:      </th>  <td>   751</td> \n",
       "</tr>\n",
       "<tr>\n",
       "  <th>Model Family:</th>        <td>Binomial</td>     <th>  Df Model:          </th>  <td>     4</td> \n",
       "</tr>\n",
       "<tr>\n",
       "  <th>Link Function:</th>         <td>logit</td>      <th>  Scale:             </th> <td>  1.0000</td>\n",
       "</tr>\n",
       "<tr>\n",
       "  <th>Method:</th>                <td>IRLS</td>       <th>  Log-Likelihood:    </th> <td> -347.57</td>\n",
       "</tr>\n",
       "<tr>\n",
       "  <th>Date:</th>            <td>Wed, 09 Dec 2020</td> <th>  Deviance:          </th> <td>  695.14</td>\n",
       "</tr>\n",
       "<tr>\n",
       "  <th>Time:</th>                <td>12:38:57</td>     <th>  Pearson chi2:      </th>  <td>  813.</td> \n",
       "</tr>\n",
       "<tr>\n",
       "  <th>No. Iterations:</th>          <td>5</td>        <th>                     </th>     <td> </td>   \n",
       "</tr>\n",
       "<tr>\n",
       "  <th>Covariance Type:</th>     <td>nonrobust</td>    <th>                     </th>     <td> </td>   \n",
       "</tr>\n",
       "</table>\n",
       "<table class=\"simpletable\">\n",
       "<tr>\n",
       "        <td></td>           <th>coef</th>     <th>std err</th>      <th>z</th>      <th>P>|z|</th>  <th>[0.025</th>    <th>0.975]</th>  \n",
       "</tr>\n",
       "<tr>\n",
       "  <th>Intercept</th>     <td>    1.8664</td> <td>    0.217</td> <td>    8.587</td> <td> 0.000</td> <td>    1.440</td> <td>    2.292</td>\n",
       "</tr>\n",
       "<tr>\n",
       "  <th>Sex[T.male]</th>   <td>   -2.6314</td> <td>    0.202</td> <td>  -13.058</td> <td> 0.000</td> <td>   -3.026</td> <td>   -2.236</td>\n",
       "</tr>\n",
       "<tr>\n",
       "  <th>PClass[T.1st]</th> <td>    1.8933</td> <td>    0.208</td> <td>    9.119</td> <td> 0.000</td> <td>    1.486</td> <td>    2.300</td>\n",
       "</tr>\n",
       "<tr>\n",
       "  <th>PClass[T.2nd]</th> <td>    0.6013</td> <td>    0.148</td> <td>    4.052</td> <td> 0.000</td> <td>    0.310</td> <td>    0.892</td>\n",
       "</tr>\n",
       "<tr>\n",
       "  <th>PClass[T.3rd]</th> <td>   -0.6282</td> <td>    0.132</td> <td>   -4.754</td> <td> 0.000</td> <td>   -0.887</td> <td>   -0.369</td>\n",
       "</tr>\n",
       "<tr>\n",
       "  <th>Age</th>           <td>   -0.0392</td> <td>    0.008</td> <td>   -5.144</td> <td> 0.000</td> <td>   -0.054</td> <td>   -0.024</td>\n",
       "</tr>\n",
       "</table>"
      ],
      "text/plain": [
       "<class 'statsmodels.iolib.summary.Summary'>\n",
       "\"\"\"\n",
       "                 Generalized Linear Model Regression Results                  \n",
       "==============================================================================\n",
       "Dep. Variable:               Survived   No. Observations:                  756\n",
       "Model:                            GLM   Df Residuals:                      751\n",
       "Model Family:                Binomial   Df Model:                            4\n",
       "Link Function:                  logit   Scale:                          1.0000\n",
       "Method:                          IRLS   Log-Likelihood:                -347.57\n",
       "Date:                Wed, 09 Dec 2020   Deviance:                       695.14\n",
       "Time:                        12:38:57   Pearson chi2:                     813.\n",
       "No. Iterations:                     5                                         \n",
       "Covariance Type:            nonrobust                                         \n",
       "=================================================================================\n",
       "                    coef    std err          z      P>|z|      [0.025      0.975]\n",
       "---------------------------------------------------------------------------------\n",
       "Intercept         1.8664      0.217      8.587      0.000       1.440       2.292\n",
       "Sex[T.male]      -2.6314      0.202    -13.058      0.000      -3.026      -2.236\n",
       "PClass[T.1st]     1.8933      0.208      9.119      0.000       1.486       2.300\n",
       "PClass[T.2nd]     0.6013      0.148      4.052      0.000       0.310       0.892\n",
       "PClass[T.3rd]    -0.6282      0.132     -4.754      0.000      -0.887      -0.369\n",
       "Age              -0.0392      0.008     -5.144      0.000      -0.054      -0.024\n",
       "=================================================================================\n",
       "\"\"\""
      ]
     },
     "execution_count": 54,
     "metadata": {},
     "output_type": "execute_result"
    }
   ],
   "source": [
    "mod_logistic = smf.glm('Survived ~ Age + Sex + PClass', data=titanic,\n",
    "  family = sm.families.Binomial()).fit()\n",
    "mod_logistic.summary()"
   ]
  },
  {
   "cell_type": "markdown",
   "metadata": {
    "id": "Um6gBspT-thm"
   },
   "source": [
    "The `family = sm.families.Binomial()` tells us that we're fitting a logistic\n",
    "regression, since we are stating that the outcomes are from a Binomial distribution. (See the [API documentation](https://www.statsmodels.org/stable/glm.html#families) for a list of available distributions for GLMs). "
   ]
  },
  {
   "cell_type": "markdown",
   "metadata": {
    "id": "qRxib1Yr-thn"
   },
   "source": [
    "The coefficients in a logistic regression are the _log-odds ratios_. To get the odds ratios, we would need to exponentiate them. \n"
   ]
  },
  {
   "cell_type": "code",
   "execution_count": 55,
   "metadata": {
    "id": "PcNRhmXU-thn",
    "outputId": "bd4b4bcf-a0eb-4b86-ca91-5f62073dd2da"
   },
   "outputs": [
    {
     "data": {
      "text/plain": [
       "Sex[T.male]      0.071981\n",
       "PClass[T.1st]    6.640989\n",
       "PClass[T.2nd]    1.824486\n",
       "PClass[T.3rd]    0.533574\n",
       "Age              0.961581\n",
       "dtype: float64"
      ]
     },
     "execution_count": 55,
     "metadata": {},
     "output_type": "execute_result"
    }
   ],
   "source": [
    "np.exp(mod_logistic.params.drop('Intercept'))"
   ]
  },
  {
   "cell_type": "markdown",
   "metadata": {
    "id": "VHDpKeUg-thn"
   },
   "source": [
    "> The intercept term in a logistic regression is **not** a log-odds ratio, so we omit it by using the `drop` function. \n",
    "\n",
    "### Survival analysis\n",
    "\n",
    "Survival analysis or reliability analysis deals typically with data on \n",
    "time to an event, where this time can be _censored_ at the end of observation. Examples include time to death for cancer patients, time to failure of a car transmission, etc. Censoring would mean that the subject is still alive/working when we last observed. \n",
    "\n",
    "A common regression method for survival data is Cox proportional hazards regression. As an example, we will use a data set from a VA lung cancer study. "
   ]
  },
  {
   "cell_type": "code",
   "execution_count": 56,
   "metadata": {
    "id": "PJ75oUxP-thn",
    "outputId": "30530145-0dc0-4725-ac1f-096b3dc6c9f1"
   },
   "outputs": [
    {
     "data": {
      "text/html": [
       "<table class=\"simpletable\">\n",
       "<tr>\n",
       "        <td>Model:</td>        <td>PH Reg</td>  <td>Sample size:</td> <td>137</td>\n",
       "</tr>\n",
       "<tr>\n",
       "  <td>Dependent variable:</td>  <td>time</td>   <td>Num. events:</td> <td>128</td>\n",
       "</tr>\n",
       "<tr>\n",
       "         <td>Ties:</td>        <td>Breslow</td>       <td></td>        <td></td>  \n",
       "</tr>\n",
       "</table>\n",
       "<table class=\"simpletable\">\n",
       "<tr>\n",
       "            <td></td>            <th>log HR</th>  <th>log HR SE</th>   <th>HR</th>      <th>t</th>     <th>P>|t|</th> <th>[0.025</th> <th>0.975]</th>\n",
       "</tr>\n",
       "<tr>\n",
       "  <th>C(trt)[T.2]</th>           <td>0.1734</td>   <td>0.2016</td>   <td>1.1893</td> <td>0.8600</td>  <td>0.3898</td> <td>0.8011</td> <td>1.7655</td>\n",
       "</tr>\n",
       "<tr>\n",
       "  <th>celltype[T.large]</th>     <td>-0.8817</td>  <td>0.2962</td>   <td>0.4141</td> <td>-2.9761</td> <td>0.0029</td> <td>0.2317</td> <td>0.7400</td>\n",
       "</tr>\n",
       "<tr>\n",
       "  <th>celltype[T.smallcell]</th> <td>-0.0956</td>  <td>0.2649</td>   <td>0.9088</td> <td>-0.3609</td> <td>0.7182</td> <td>0.5407</td> <td>1.5275</td>\n",
       "</tr>\n",
       "<tr>\n",
       "  <th>celltype[T.squamous]</th>  <td>-1.1738</td>  <td>0.2997</td>   <td>0.3092</td> <td>-3.9173</td> <td>0.0001</td> <td>0.1718</td> <td>0.5563</td>\n",
       "</tr>\n",
       "<tr>\n",
       "  <th>C(prior)[T.10]</th>        <td>0.0378</td>   <td>0.2064</td>   <td>1.0385</td> <td>0.1833</td>  <td>0.8546</td> <td>0.6930</td> <td>1.5563</td>\n",
       "</tr>\n",
       "<tr>\n",
       "  <th>age</th>                   <td>0.0042</td>   <td>0.0096</td>   <td>1.0042</td> <td>0.4401</td>  <td>0.6598</td> <td>0.9855</td> <td>1.0233</td>\n",
       "</tr>\n",
       "</table>"
      ],
      "text/plain": [
       "<class 'statsmodels.iolib.summary2.Summary'>\n",
       "\"\"\"\n",
       "                              Results: PHReg\n",
       "===========================================================================\n",
       "Model:                         PH Reg            Sample size:           137\n",
       "Dependent variable:            time              Num. events:           128\n",
       "Ties:                          Breslow                                     \n",
       "---------------------------------------------------------------------------\n",
       "                       log HR log HR SE   HR      t    P>|t|  [0.025 0.975]\n",
       "---------------------------------------------------------------------------\n",
       "C(trt)[T.2]            0.1734    0.2016 1.1893  0.8600 0.3898 0.8011 1.7655\n",
       "celltype[T.large]     -0.8817    0.2962 0.4141 -2.9761 0.0029 0.2317 0.7400\n",
       "celltype[T.smallcell] -0.0956    0.2649 0.9088 -0.3609 0.7182 0.5407 1.5275\n",
       "celltype[T.squamous]  -1.1738    0.2997 0.3092 -3.9173 0.0001 0.1718 0.5563\n",
       "C(prior)[T.10]         0.0378    0.2064 1.0385  0.1833 0.8546 0.6930 1.5563\n",
       "age                    0.0042    0.0096 1.0042  0.4401 0.6598 0.9855 1.0233\n",
       "===========================================================================\n",
       "Confidence intervals are for the hazard ratios\n",
       "\"\"\""
      ]
     },
     "execution_count": 56,
     "metadata": {},
     "output_type": "execute_result"
    }
   ],
   "source": [
    "veteran = sm.datasets.get_rdataset('veteran', 'survival').data\n",
    "\n",
    "mod_cph = smf.phreg('time ~ C(trt) + celltype + age + C(prior)',\n",
    "  data = veteran, status = veteran.status).fit()\n",
    "mod_cph.summary()"
   ]
  },
  {
   "cell_type": "markdown",
   "metadata": {
    "id": "8ujNc-zT-thn"
   },
   "source": [
    "> For survival regression, we need to input the status of the subject \n",
    "at time of last follow-up, coded as 1 for failure/death, 0 for censored."
   ]
  },
  {
   "cell_type": "markdown",
   "metadata": {
    "id": "J_2EnV-7-thn"
   },
   "source": [
    "**Question:** Why did I use `C(trt)` instead of `trt` in the formula?\n",
    "\n",
    "We can do a few more basic things for this data. First, let's draw the \n",
    "survival curve, which plots the proportion of subjects still alive against time, using the Kaplan-Meier method."
   ]
  },
  {
   "cell_type": "code",
   "execution_count": 57,
   "metadata": {
    "id": "icQG7Z4d-thn",
    "outputId": "a077e8de-a05a-4013-c88f-f99e2ccae2ac"
   },
   "outputs": [
    {
     "data": {
      "image/png": "[encoded data removed]",
      "text/plain": [
       "<Figure size 432x288 with 1 Axes>"
      ]
     },
     "metadata": {},
     "output_type": "display_data"
    }
   ],
   "source": [
    "sf = sm.duration.SurvfuncRight(veteran.time, veteran.status)\n",
    "sf.plot();\n",
    "plt.grid(True);\n",
    "plt.xlabel('Time');\n",
    "plt.ylabel('Proportion alive');\n",
    "plt.show()"
   ]
  },
  {
   "cell_type": "markdown",
   "metadata": {
    "id": "8Y12Qb13-thn"
   },
   "source": [
    "Suppose we now want to see if there is any difference between treatment groups."
   ]
  },
  {
   "cell_type": "code",
   "execution_count": 58,
   "metadata": {
    "id": "z_3H0Xin-thn",
    "outputId": "edb2bb84-d772-40e1-bda1-5c69a4c282a5"
   },
   "outputs": [
    {
     "data": {
      "image/png": "[encoded data removed]",
      "text/plain": [
       "<Figure size 432x288 with 1 Axes>"
      ]
     },
     "metadata": {},
     "output_type": "display_data"
    }
   ],
   "source": [
    "sf1 = sm.duration.SurvfuncRight(veteran.time[veteran.trt==1], veteran.status[veteran.trt==1], title='Treatment 1')\n",
    "sf2 = sm.duration.SurvfuncRight(veteran.time[veteran.trt==2], veteran.status[veteran.trt==2], title='Treatment 2')\n",
    "\n",
    "fig, ax = plt.subplots()\n",
    "\n",
    "plt.grid(True)\n",
    "sf1.plot(ax); # Draw on previously defined axis\n",
    "sf2.plot(ax);\n",
    "\n",
    "plt.xlabel('Time');\n",
    "plt.ylabel('Proportion alive');\n",
    "plt.legend(loc='upper right');\n",
    "plt.show()"
   ]
  },
  {
   "cell_type": "markdown",
   "metadata": {
    "id": "b-Q3U8Nz-thn"
   },
   "source": [
    "We could also perform a statistical test (the _log-rank test_) to see\n",
    "if there is a statistical difference between these two curves.\n"
   ]
  },
  {
   "cell_type": "code",
   "execution_count": 59,
   "metadata": {
    "id": "vonsgLDh-thn",
    "outputId": "e037ed47-9f6e-474a-ba7d-979d3168b25f"
   },
   "outputs": [
    {
     "data": {
      "text/plain": [
       "0.928"
      ]
     },
     "execution_count": 59,
     "metadata": {},
     "output_type": "execute_result"
    }
   ],
   "source": [
    "chisq, pval = sm.duration.survdiff(veteran.time, veteran.status, veteran.trt)\n",
    "np.round(pval,3)"
   ]
  },
  {
   "cell_type": "code",
   "execution_count": null,
   "metadata": {
    "id": "7SqPq-aD-tho"
   },
   "outputs": [],
   "source": []
  },
  {
   "cell_type": "code",
   "execution_count": null,
   "metadata": {
    "id": "um1mP6dF-tho"
   },
   "outputs": [],
   "source": []
  }
 ],
 "metadata": {
  "colab": {
   "name": "04_python_stat.ipynb",
   "provenance": []
  },
  "jupytext": {
   "formats": "ipynb,Rmd"
  },
  "kernelspec": {
   "display_name": "Python 3",
   "language": "python",
   "name": "python3"
  },
  "language_info": {
   "codemirror_mode": {
    "name": "ipython",
    "version": 3
   },
   "file_extension": ".py",
   "mimetype": "text/x-python",
   "name": "python",
   "nbconvert_exporter": "python",
   "pygments_lexer": "ipython3",
   "version": "3.7.6"
  }
 },
 "nbformat": 4,
 "nbformat_minor": 1
}
